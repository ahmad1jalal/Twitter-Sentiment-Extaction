{
 "cells": [
  {
   "cell_type": "markdown",
   "id": "8c3fa27a",
   "metadata": {},
   "source": [
    "# importing libraries...."
   ]
  },
  {
   "cell_type": "code",
   "execution_count": 66,
   "id": "bc55e243",
   "metadata": {},
   "outputs": [],
   "source": [
    "import pandas  as pd\n",
    "import numpy as np\n",
    "import matplotlib.pyplot as plt\n",
    "import seaborn as sns\n",
    "from nltk.corpus import stopwords\n",
    "from collections import Counter\n",
    "import re\n",
    "import tensorflow as tf\n",
    "from tensorflow.keras.layers import TextVectorization, Embedding\n",
    "import warnings\n",
    "import random\n",
    "import os\n",
    "from sklearn.naive_bayes import MultinomialNB\n",
    "from sklearn.feature_extraction.text import TfidfVectorizer\n",
    "from sklearn.pipeline import Pipeline\n",
    "from sklearn.metrics import accuracy_score,precision_recall_fscore_support\n",
    "from tensorflow.keras import layers\n",
    "from keras.utils import to_categorical"
   ]
  },
  {
   "cell_type": "code",
   "execution_count": 2,
   "id": "7e7c9276",
   "metadata": {},
   "outputs": [],
   "source": [
    "# filter warnings...\n",
    "warnings.filterwarnings(\"ignore\")"
   ]
  },
  {
   "cell_type": "markdown",
   "id": "be875eee",
   "metadata": {},
   "source": [
    "# EDA"
   ]
  },
  {
   "cell_type": "code",
   "execution_count": 3,
   "id": "5047c17e",
   "metadata": {},
   "outputs": [
    {
     "data": {
      "text/html": [
       "<div>\n",
       "<style scoped>\n",
       "    .dataframe tbody tr th:only-of-type {\n",
       "        vertical-align: middle;\n",
       "    }\n",
       "\n",
       "    .dataframe tbody tr th {\n",
       "        vertical-align: top;\n",
       "    }\n",
       "\n",
       "    .dataframe thead th {\n",
       "        text-align: right;\n",
       "    }\n",
       "</style>\n",
       "<table border=\"1\" class=\"dataframe\">\n",
       "  <thead>\n",
       "    <tr style=\"text-align: right;\">\n",
       "      <th></th>\n",
       "      <th>textID</th>\n",
       "      <th>text</th>\n",
       "      <th>selected_text</th>\n",
       "      <th>sentiment</th>\n",
       "    </tr>\n",
       "  </thead>\n",
       "  <tbody>\n",
       "    <tr>\n",
       "      <th>0</th>\n",
       "      <td>cb774db0d1</td>\n",
       "      <td>I`d have responded, if I were going</td>\n",
       "      <td>I`d have responded, if I were going</td>\n",
       "      <td>neutral</td>\n",
       "    </tr>\n",
       "    <tr>\n",
       "      <th>1</th>\n",
       "      <td>549e992a42</td>\n",
       "      <td>Sooo SAD I will miss you here in San Diego!!!</td>\n",
       "      <td>Sooo SAD</td>\n",
       "      <td>negative</td>\n",
       "    </tr>\n",
       "    <tr>\n",
       "      <th>2</th>\n",
       "      <td>088c60f138</td>\n",
       "      <td>my boss is bullying me...</td>\n",
       "      <td>bullying me</td>\n",
       "      <td>negative</td>\n",
       "    </tr>\n",
       "    <tr>\n",
       "      <th>3</th>\n",
       "      <td>9642c003ef</td>\n",
       "      <td>what interview! leave me alone</td>\n",
       "      <td>leave me alone</td>\n",
       "      <td>negative</td>\n",
       "    </tr>\n",
       "    <tr>\n",
       "      <th>4</th>\n",
       "      <td>358bd9e861</td>\n",
       "      <td>Sons of ****, why couldn`t they put them on t...</td>\n",
       "      <td>Sons of ****,</td>\n",
       "      <td>negative</td>\n",
       "    </tr>\n",
       "  </tbody>\n",
       "</table>\n",
       "</div>"
      ],
      "text/plain": [
       "       textID                                               text  \\\n",
       "0  cb774db0d1                I`d have responded, if I were going   \n",
       "1  549e992a42      Sooo SAD I will miss you here in San Diego!!!   \n",
       "2  088c60f138                          my boss is bullying me...   \n",
       "3  9642c003ef                     what interview! leave me alone   \n",
       "4  358bd9e861   Sons of ****, why couldn`t they put them on t...   \n",
       "\n",
       "                         selected_text sentiment  \n",
       "0  I`d have responded, if I were going   neutral  \n",
       "1                             Sooo SAD  negative  \n",
       "2                          bullying me  negative  \n",
       "3                       leave me alone  negative  \n",
       "4                        Sons of ****,  negative  "
      ]
     },
     "execution_count": 3,
     "metadata": {},
     "output_type": "execute_result"
    }
   ],
   "source": [
    "# getting the data\n",
    "train = pd.read_csv(\"tweet-sentiment-extraction/train.csv\")\n",
    "test = pd.read_csv(\"tweet-sentiment-extraction/test.csv\")\n",
    "sub = pd.read_csv(\"tweet-sentiment-extraction/sample_submission.csv\")\n",
    "# train data head....\n",
    "train.head()"
   ]
  },
  {
   "cell_type": "code",
   "execution_count": 4,
   "id": "32a0b224",
   "metadata": {},
   "outputs": [
    {
     "data": {
      "text/html": [
       "<div>\n",
       "<style scoped>\n",
       "    .dataframe tbody tr th:only-of-type {\n",
       "        vertical-align: middle;\n",
       "    }\n",
       "\n",
       "    .dataframe tbody tr th {\n",
       "        vertical-align: top;\n",
       "    }\n",
       "\n",
       "    .dataframe thead th {\n",
       "        text-align: right;\n",
       "    }\n",
       "</style>\n",
       "<table border=\"1\" class=\"dataframe\">\n",
       "  <thead>\n",
       "    <tr style=\"text-align: right;\">\n",
       "      <th></th>\n",
       "      <th>textID</th>\n",
       "      <th>text</th>\n",
       "      <th>sentiment</th>\n",
       "    </tr>\n",
       "  </thead>\n",
       "  <tbody>\n",
       "    <tr>\n",
       "      <th>0</th>\n",
       "      <td>f87dea47db</td>\n",
       "      <td>Last session of the day  http://twitpic.com/67ezh</td>\n",
       "      <td>neutral</td>\n",
       "    </tr>\n",
       "    <tr>\n",
       "      <th>1</th>\n",
       "      <td>96d74cb729</td>\n",
       "      <td>Shanghai is also really exciting (precisely -...</td>\n",
       "      <td>positive</td>\n",
       "    </tr>\n",
       "    <tr>\n",
       "      <th>2</th>\n",
       "      <td>eee518ae67</td>\n",
       "      <td>Recession hit Veronique Branquinho, she has to...</td>\n",
       "      <td>negative</td>\n",
       "    </tr>\n",
       "    <tr>\n",
       "      <th>3</th>\n",
       "      <td>01082688c6</td>\n",
       "      <td>happy bday!</td>\n",
       "      <td>positive</td>\n",
       "    </tr>\n",
       "    <tr>\n",
       "      <th>4</th>\n",
       "      <td>33987a8ee5</td>\n",
       "      <td>http://twitpic.com/4w75p - I like it!!</td>\n",
       "      <td>positive</td>\n",
       "    </tr>\n",
       "  </tbody>\n",
       "</table>\n",
       "</div>"
      ],
      "text/plain": [
       "       textID                                               text sentiment\n",
       "0  f87dea47db  Last session of the day  http://twitpic.com/67ezh   neutral\n",
       "1  96d74cb729   Shanghai is also really exciting (precisely -...  positive\n",
       "2  eee518ae67  Recession hit Veronique Branquinho, she has to...  negative\n",
       "3  01082688c6                                        happy bday!  positive\n",
       "4  33987a8ee5             http://twitpic.com/4w75p - I like it!!  positive"
      ]
     },
     "execution_count": 4,
     "metadata": {},
     "output_type": "execute_result"
    }
   ],
   "source": [
    "# test data head....\n",
    "test.head()"
   ]
  },
  {
   "cell_type": "code",
   "execution_count": 5,
   "id": "987c62c2",
   "metadata": {},
   "outputs": [
    {
     "data": {
      "text/html": [
       "<div>\n",
       "<style scoped>\n",
       "    .dataframe tbody tr th:only-of-type {\n",
       "        vertical-align: middle;\n",
       "    }\n",
       "\n",
       "    .dataframe tbody tr th {\n",
       "        vertical-align: top;\n",
       "    }\n",
       "\n",
       "    .dataframe thead th {\n",
       "        text-align: right;\n",
       "    }\n",
       "</style>\n",
       "<table border=\"1\" class=\"dataframe\">\n",
       "  <thead>\n",
       "    <tr style=\"text-align: right;\">\n",
       "      <th></th>\n",
       "      <th>textID</th>\n",
       "      <th>selected_text</th>\n",
       "    </tr>\n",
       "  </thead>\n",
       "  <tbody>\n",
       "    <tr>\n",
       "      <th>0</th>\n",
       "      <td>f87dea47db</td>\n",
       "      <td>NaN</td>\n",
       "    </tr>\n",
       "    <tr>\n",
       "      <th>1</th>\n",
       "      <td>96d74cb729</td>\n",
       "      <td>NaN</td>\n",
       "    </tr>\n",
       "    <tr>\n",
       "      <th>2</th>\n",
       "      <td>eee518ae67</td>\n",
       "      <td>NaN</td>\n",
       "    </tr>\n",
       "    <tr>\n",
       "      <th>3</th>\n",
       "      <td>01082688c6</td>\n",
       "      <td>NaN</td>\n",
       "    </tr>\n",
       "    <tr>\n",
       "      <th>4</th>\n",
       "      <td>33987a8ee5</td>\n",
       "      <td>NaN</td>\n",
       "    </tr>\n",
       "  </tbody>\n",
       "</table>\n",
       "</div>"
      ],
      "text/plain": [
       "       textID  selected_text\n",
       "0  f87dea47db            NaN\n",
       "1  96d74cb729            NaN\n",
       "2  eee518ae67            NaN\n",
       "3  01082688c6            NaN\n",
       "4  33987a8ee5            NaN"
      ]
     },
     "execution_count": 5,
     "metadata": {},
     "output_type": "execute_result"
    }
   ],
   "source": [
    "# submissive data...\n",
    "sub.head()"
   ]
  },
  {
   "cell_type": "code",
   "execution_count": 6,
   "id": "8b922c64",
   "metadata": {},
   "outputs": [
    {
     "data": {
      "text/plain": [
       "(27481, 4)"
      ]
     },
     "execution_count": 6,
     "metadata": {},
     "output_type": "execute_result"
    }
   ],
   "source": [
    "# train data shape\n",
    "train.shape"
   ]
  },
  {
   "cell_type": "code",
   "execution_count": 7,
   "id": "8c613c34",
   "metadata": {},
   "outputs": [
    {
     "name": "stdout",
     "output_type": "stream",
     "text": [
      "<class 'pandas.core.frame.DataFrame'>\n",
      "RangeIndex: 27481 entries, 0 to 27480\n",
      "Data columns (total 4 columns):\n",
      " #   Column         Non-Null Count  Dtype \n",
      "---  ------         --------------  ----- \n",
      " 0   textID         27481 non-null  object\n",
      " 1   text           27480 non-null  object\n",
      " 2   selected_text  27480 non-null  object\n",
      " 3   sentiment      27481 non-null  object\n",
      "dtypes: object(4)\n",
      "memory usage: 858.9+ KB\n"
     ]
    }
   ],
   "source": [
    "# data info....\n",
    "train.info()"
   ]
  },
  {
   "cell_type": "code",
   "execution_count": 8,
   "id": "04463151",
   "metadata": {},
   "outputs": [
    {
     "data": {
      "text/plain": [
       "textID           0\n",
       "text             1\n",
       "selected_text    1\n",
       "sentiment        0\n",
       "dtype: int64"
      ]
     },
     "execution_count": 8,
     "metadata": {},
     "output_type": "execute_result"
    }
   ],
   "source": [
    "# looking for null values...\n",
    "train.isna().sum()"
   ]
  },
  {
   "cell_type": "code",
   "execution_count": 9,
   "id": "f0e4ce44",
   "metadata": {},
   "outputs": [],
   "source": [
    "# as there is onyl single null value in training set, so it's better to drop it...\n",
    "train.dropna(inplace=True)"
   ]
  },
  {
   "cell_type": "code",
   "execution_count": 10,
   "id": "0b406f63",
   "metadata": {},
   "outputs": [
    {
     "data": {
      "text/plain": [
       "textID       0\n",
       "text         0\n",
       "sentiment    0\n",
       "dtype: int64"
      ]
     },
     "execution_count": 10,
     "metadata": {},
     "output_type": "execute_result"
    }
   ],
   "source": [
    "# looking for null value in test set..\n",
    "test.isna().sum()"
   ]
  },
  {
   "cell_type": "code",
   "execution_count": 11,
   "id": "11d5297a",
   "metadata": {},
   "outputs": [
    {
     "data": {
      "text/plain": [
       "neutral     11117\n",
       "positive     8582\n",
       "negative     7781\n",
       "Name: sentiment, dtype: int64"
      ]
     },
     "execution_count": 11,
     "metadata": {},
     "output_type": "execute_result"
    }
   ],
   "source": [
    "# target label distribution....\n",
    "sentiment = train[\"sentiment\"].value_counts()\n",
    "sentiment"
   ]
  },
  {
   "cell_type": "code",
   "execution_count": 12,
   "id": "6c7336d3",
   "metadata": {},
   "outputs": [],
   "source": [
    "# setting the plot style...\n",
    "plt.style.use(\"ggplot\")"
   ]
  },
  {
   "cell_type": "code",
   "execution_count": 13,
   "id": "f24f9b8f",
   "metadata": {},
   "outputs": [
    {
     "data": {
      "image/png": "[encoded data removed]",
      "text/plain": [
       "<Figure size 720x576 with 1 Axes>"
      ]
     },
     "metadata": {},
     "output_type": "display_data"
    }
   ],
   "source": [
    "# plot the sentiment distribution...\n",
    "plt.figure(figsize=(10,8))\n",
    "labels = sentiment.index\n",
    "colors = sns.color_palette(\"Set2\")\n",
    "explode = [0.1,0,0.3]\n",
    "plt.pie(sentiment,labels = labels, colors = colors, explode = explode,\n",
    "       autopct = \"%.2f%%\", startangle = 90, shadow = True)\n",
    "plt.legend(title = \"Sentiment : \")\n",
    "plt.show()"
   ]
  },
  {
   "cell_type": "code",
   "execution_count": 14,
   "id": "1fc83533",
   "metadata": {},
   "outputs": [
    {
     "data": {
      "text/plain": [
       "neutral     1430\n",
       "positive    1103\n",
       "negative    1001\n",
       "Name: sentiment, dtype: int64"
      ]
     },
     "execution_count": 14,
     "metadata": {},
     "output_type": "execute_result"
    }
   ],
   "source": [
    "# test data target label distribution\n",
    "test_sentiment = test.sentiment.value_counts()\n",
    "test_sentiment"
   ]
  },
  {
   "cell_type": "code",
   "execution_count": 15,
   "id": "3f573e12",
   "metadata": {},
   "outputs": [
    {
     "data": {
      "image/png": "[encoded data removed]",
      "text/plain": [
       "<Figure size 720x576 with 1 Axes>"
      ]
     },
     "metadata": {},
     "output_type": "display_data"
    }
   ],
   "source": [
    "# plot the sentiment distribution...\n",
    "plt.figure(figsize=(10,8))\n",
    "labels = test_sentiment.index\n",
    "colors = sns.color_palette(\"Set2\")\n",
    "explode = [0.1,0,0.3]\n",
    "plt.pie(test_sentiment,labels = labels, colors = colors, explode = explode,\n",
    "       autopct = \"%.2f%%\", startangle = 90, shadow = True)\n",
    "plt.legend(title = \"Test_Sentiment : \")\n",
    "plt.show()"
   ]
  },
  {
   "cell_type": "code",
   "execution_count": 16,
   "id": "c363ff91",
   "metadata": {},
   "outputs": [],
   "source": [
    "# changing the data-type...\n",
    "train[\"text\"] =  train[\"text\"].astype(\"string\")"
   ]
  },
  {
   "cell_type": "code",
   "execution_count": 17,
   "id": "3d6d7cfd",
   "metadata": {},
   "outputs": [
    {
     "data": {
      "text/html": [
       "<div>\n",
       "<style scoped>\n",
       "    .dataframe tbody tr th:only-of-type {\n",
       "        vertical-align: middle;\n",
       "    }\n",
       "\n",
       "    .dataframe tbody tr th {\n",
       "        vertical-align: top;\n",
       "    }\n",
       "\n",
       "    .dataframe thead th {\n",
       "        text-align: right;\n",
       "    }\n",
       "</style>\n",
       "<table border=\"1\" class=\"dataframe\">\n",
       "  <thead>\n",
       "    <tr style=\"text-align: right;\">\n",
       "      <th></th>\n",
       "      <th>textID</th>\n",
       "      <th>text</th>\n",
       "      <th>selected_text</th>\n",
       "      <th>sentiment</th>\n",
       "      <th>length</th>\n",
       "    </tr>\n",
       "  </thead>\n",
       "  <tbody>\n",
       "    <tr>\n",
       "      <th>0</th>\n",
       "      <td>cb774db0d1</td>\n",
       "      <td>I`d have responded, if I were going</td>\n",
       "      <td>I`d have responded, if I were going</td>\n",
       "      <td>neutral</td>\n",
       "      <td>7</td>\n",
       "    </tr>\n",
       "    <tr>\n",
       "      <th>1</th>\n",
       "      <td>549e992a42</td>\n",
       "      <td>Sooo SAD I will miss you here in San Diego!!!</td>\n",
       "      <td>Sooo SAD</td>\n",
       "      <td>negative</td>\n",
       "      <td>10</td>\n",
       "    </tr>\n",
       "    <tr>\n",
       "      <th>2</th>\n",
       "      <td>088c60f138</td>\n",
       "      <td>my boss is bullying me...</td>\n",
       "      <td>bullying me</td>\n",
       "      <td>negative</td>\n",
       "      <td>5</td>\n",
       "    </tr>\n",
       "    <tr>\n",
       "      <th>3</th>\n",
       "      <td>9642c003ef</td>\n",
       "      <td>what interview! leave me alone</td>\n",
       "      <td>leave me alone</td>\n",
       "      <td>negative</td>\n",
       "      <td>5</td>\n",
       "    </tr>\n",
       "    <tr>\n",
       "      <th>4</th>\n",
       "      <td>358bd9e861</td>\n",
       "      <td>Sons of ****, why couldn`t they put them on t...</td>\n",
       "      <td>Sons of ****,</td>\n",
       "      <td>negative</td>\n",
       "      <td>14</td>\n",
       "    </tr>\n",
       "  </tbody>\n",
       "</table>\n",
       "</div>"
      ],
      "text/plain": [
       "       textID                                               text  \\\n",
       "0  cb774db0d1                I`d have responded, if I were going   \n",
       "1  549e992a42      Sooo SAD I will miss you here in San Diego!!!   \n",
       "2  088c60f138                          my boss is bullying me...   \n",
       "3  9642c003ef                     what interview! leave me alone   \n",
       "4  358bd9e861   Sons of ****, why couldn`t they put them on t...   \n",
       "\n",
       "                         selected_text sentiment  length  \n",
       "0  I`d have responded, if I were going   neutral       7  \n",
       "1                             Sooo SAD  negative      10  \n",
       "2                          bullying me  negative       5  \n",
       "3                       leave me alone  negative       5  \n",
       "4                        Sons of ****,  negative      14  "
      ]
     },
     "execution_count": 17,
     "metadata": {},
     "output_type": "execute_result"
    }
   ],
   "source": [
    "# checking the length of the selected text...\n",
    "train[\"length\"] = train[\"text\"].apply(lambda x: len(x.split()))\n",
    "train.head()"
   ]
  },
  {
   "cell_type": "code",
   "execution_count": 18,
   "id": "8386c316",
   "metadata": {},
   "outputs": [
    {
     "data": {
      "text/html": [
       "<div>\n",
       "<style scoped>\n",
       "    .dataframe tbody tr th:only-of-type {\n",
       "        vertical-align: middle;\n",
       "    }\n",
       "\n",
       "    .dataframe tbody tr th {\n",
       "        vertical-align: top;\n",
       "    }\n",
       "\n",
       "    .dataframe thead th {\n",
       "        text-align: right;\n",
       "    }\n",
       "</style>\n",
       "<table border=\"1\" class=\"dataframe\">\n",
       "  <thead>\n",
       "    <tr style=\"text-align: right;\">\n",
       "      <th></th>\n",
       "      <th>textID</th>\n",
       "      <th>text</th>\n",
       "      <th>sentiment</th>\n",
       "      <th>length</th>\n",
       "    </tr>\n",
       "  </thead>\n",
       "  <tbody>\n",
       "    <tr>\n",
       "      <th>0</th>\n",
       "      <td>f87dea47db</td>\n",
       "      <td>Last session of the day  http://twitpic.com/67ezh</td>\n",
       "      <td>neutral</td>\n",
       "      <td>6</td>\n",
       "    </tr>\n",
       "    <tr>\n",
       "      <th>1</th>\n",
       "      <td>96d74cb729</td>\n",
       "      <td>Shanghai is also really exciting (precisely -...</td>\n",
       "      <td>positive</td>\n",
       "      <td>15</td>\n",
       "    </tr>\n",
       "    <tr>\n",
       "      <th>2</th>\n",
       "      <td>eee518ae67</td>\n",
       "      <td>Recession hit Veronique Branquinho, she has to...</td>\n",
       "      <td>negative</td>\n",
       "      <td>13</td>\n",
       "    </tr>\n",
       "    <tr>\n",
       "      <th>3</th>\n",
       "      <td>01082688c6</td>\n",
       "      <td>happy bday!</td>\n",
       "      <td>positive</td>\n",
       "      <td>2</td>\n",
       "    </tr>\n",
       "    <tr>\n",
       "      <th>4</th>\n",
       "      <td>33987a8ee5</td>\n",
       "      <td>http://twitpic.com/4w75p - I like it!!</td>\n",
       "      <td>positive</td>\n",
       "      <td>5</td>\n",
       "    </tr>\n",
       "    <tr>\n",
       "      <th>...</th>\n",
       "      <td>...</td>\n",
       "      <td>...</td>\n",
       "      <td>...</td>\n",
       "      <td>...</td>\n",
       "    </tr>\n",
       "    <tr>\n",
       "      <th>3529</th>\n",
       "      <td>e5f0e6ef4b</td>\n",
       "      <td>its at 3 am, im very tired but i can`t sleep  ...</td>\n",
       "      <td>negative</td>\n",
       "      <td>15</td>\n",
       "    </tr>\n",
       "    <tr>\n",
       "      <th>3530</th>\n",
       "      <td>416863ce47</td>\n",
       "      <td>All alone in this old house again.  Thanks for...</td>\n",
       "      <td>positive</td>\n",
       "      <td>26</td>\n",
       "    </tr>\n",
       "    <tr>\n",
       "      <th>3531</th>\n",
       "      <td>6332da480c</td>\n",
       "      <td>I know what you mean. My little dog is sinkin...</td>\n",
       "      <td>negative</td>\n",
       "      <td>18</td>\n",
       "    </tr>\n",
       "    <tr>\n",
       "      <th>3532</th>\n",
       "      <td>df1baec676</td>\n",
       "      <td>_sutra what is your next youtube video gonna b...</td>\n",
       "      <td>positive</td>\n",
       "      <td>14</td>\n",
       "    </tr>\n",
       "    <tr>\n",
       "      <th>3533</th>\n",
       "      <td>469e15c5a8</td>\n",
       "      <td>http://twitpic.com/4woj2 - omgssh  ang cute n...</td>\n",
       "      <td>positive</td>\n",
       "      <td>7</td>\n",
       "    </tr>\n",
       "  </tbody>\n",
       "</table>\n",
       "<p>3534 rows × 4 columns</p>\n",
       "</div>"
      ],
      "text/plain": [
       "          textID                                               text sentiment  \\\n",
       "0     f87dea47db  Last session of the day  http://twitpic.com/67ezh   neutral   \n",
       "1     96d74cb729   Shanghai is also really exciting (precisely -...  positive   \n",
       "2     eee518ae67  Recession hit Veronique Branquinho, she has to...  negative   \n",
       "3     01082688c6                                        happy bday!  positive   \n",
       "4     33987a8ee5             http://twitpic.com/4w75p - I like it!!  positive   \n",
       "...          ...                                                ...       ...   \n",
       "3529  e5f0e6ef4b  its at 3 am, im very tired but i can`t sleep  ...  negative   \n",
       "3530  416863ce47  All alone in this old house again.  Thanks for...  positive   \n",
       "3531  6332da480c   I know what you mean. My little dog is sinkin...  negative   \n",
       "3532  df1baec676  _sutra what is your next youtube video gonna b...  positive   \n",
       "3533  469e15c5a8   http://twitpic.com/4woj2 - omgssh  ang cute n...  positive   \n",
       "\n",
       "      length  \n",
       "0          6  \n",
       "1         15  \n",
       "2         13  \n",
       "3          2  \n",
       "4          5  \n",
       "...      ...  \n",
       "3529      15  \n",
       "3530      26  \n",
       "3531      18  \n",
       "3532      14  \n",
       "3533       7  \n",
       "\n",
       "[3534 rows x 4 columns]"
      ]
     },
     "execution_count": 18,
     "metadata": {},
     "output_type": "execute_result"
    }
   ],
   "source": [
    "# checking the length of test text data\n",
    "test[\"length\"] = test[\"text\"].apply(lambda x: len(x.split()))\n",
    "test"
   ]
  },
  {
   "cell_type": "code",
   "execution_count": 19,
   "id": "716b59cd",
   "metadata": {},
   "outputs": [
    {
     "name": "stdout",
     "output_type": "stream",
     "text": [
      "Max length of tweet text in training set : 33\n",
      "Min lenght of tweet text in training set. : 1\n",
      "Max length of tweet text in test set : 32\n",
      "Min lenght of tweet text in test set. : 1\n"
     ]
    }
   ],
   "source": [
    "print(f\"Max length of tweet text in training set : {train['length'].max()}\")\n",
    "print(f\"Min lenght of tweet text in training set. : {train['length'].min()}\")\n",
    "print(f\"Max length of tweet text in test set : {test['length'].max()}\")\n",
    "print(f\"Min lenght of tweet text in test set. : {test['length'].min()}\")"
   ]
  },
  {
   "cell_type": "code",
   "execution_count": 20,
   "id": "1c28b0b1",
   "metadata": {},
   "outputs": [
    {
     "name": "stdout",
     "output_type": "stream",
     "text": [
      "Shortest tweets in training set : \n",
      "           textID           text selected_text sentiment  length\n",
      "42     2e7082d1c8       MAYDAY?!      MAYDAY?!   neutral       1\n",
      "68     fa2654e730       Chilliin      Chilliin  positive       1\n",
      "127    8e1583cb08     Absolutely    Absolutely   neutral       1\n",
      "224    f3a77c2b5e       _nesmith      _nesmith   neutral       1\n",
      "238    e98226e842            Thx           Thx   neutral       1\n",
      "...           ...            ...           ...       ...     ...\n",
      "26690  e80c242d6a     Goodnight;    Goodnight;  positive       1\n",
      "26693  7dc13f50d8   yessssssir!!  yessssssir!!   neutral       1\n",
      "26726  aad244f37d          *hug*         *hug*  positive       1\n",
      "26754  b6f6bd82c0       careless      careless  negative       1\n",
      "26843  a46571fe12      congrats!     congrats!  positive       1\n",
      "\n",
      "[199 rows x 5 columns]\n"
     ]
    }
   ],
   "source": [
    "print(f\"Shortest tweets in training set : \\n{train[train['length']==min(train['length'])]}\")"
   ]
  },
  {
   "cell_type": "code",
   "execution_count": 21,
   "id": "5369276d",
   "metadata": {},
   "outputs": [
    {
     "name": "stdout",
     "output_type": "stream",
     "text": [
      "longest tweets in training set : \n",
      "           textID                                               text  \\\n",
      "19887  ede80b9f63  AK, flop comes 2K6 I bet 15 get raised to 25 I...   \n",
      "25359  be445111e7  : Lol it went okay! As far as I can tell . But...   \n",
      "\n",
      "                                           selected_text sentiment  length  \n",
      "19887  AK, flop comes 2K6 I bet 15 get raised to 25 I...   neutral      33  \n",
      "25359                               Lol it went okay! As  positive      33  \n"
     ]
    }
   ],
   "source": [
    "print(f\"longest tweets in training set : \\n{train[train['length']==max(train['length'])]}\")"
   ]
  },
  {
   "cell_type": "code",
   "execution_count": 22,
   "id": "c6b44f70",
   "metadata": {},
   "outputs": [
    {
     "data": {
      "text/plain": [
       "<Figure size 720x576 with 0 Axes>"
      ]
     },
     "metadata": {},
     "output_type": "display_data"
    },
    {
     "data": {
      "image/png": "[encoded data removed]",
      "text/plain": [
       "<Figure size 1879.75x360 with 1 Axes>"
      ]
     },
     "metadata": {
      "needs_background": "light"
     },
     "output_type": "display_data"
    }
   ],
   "source": [
    "# plot the length of tweet text across the sentiment....\n",
    "plt.figure(figsize=(10,8))\n",
    "sns.displot(data = train, x = \"length\", hue = \"sentiment\",\n",
    "           kind = \"kde\", fill = True, aspect = 5, palette = \"viridis\");"
   ]
  },
  {
   "cell_type": "code",
   "execution_count": 23,
   "id": "f18e2154",
   "metadata": {},
   "outputs": [
    {
     "data": {
      "text/plain": [
       "<Figure size 720x576 with 0 Axes>"
      ]
     },
     "metadata": {},
     "output_type": "display_data"
    },
    {
     "data": {
      "image/png": "[encoded data removed]",
      "text/plain": [
       "<Figure size 1879.75x360 with 1 Axes>"
      ]
     },
     "metadata": {
      "needs_background": "light"
     },
     "output_type": "display_data"
    }
   ],
   "source": [
    "# plot the length of test tweet text across the sentiment....\n",
    "plt.figure(figsize=(10,8))\n",
    "sns.displot(data = test, x = \"length\", hue = \"sentiment\",\n",
    "           kind = \"kde\", fill = True, aspect = 5, palette = \"viridis\");"
   ]
  },
  {
   "cell_type": "code",
   "execution_count": 24,
   "id": "29d42307",
   "metadata": {},
   "outputs": [],
   "source": [
    "# let's drop the selected_text column \n",
    "train.drop(\"selected_text\",axis=1,inplace=True)"
   ]
  },
  {
   "cell_type": "code",
   "execution_count": 25,
   "id": "eab24e17",
   "metadata": {},
   "outputs": [
    {
     "data": {
      "text/html": [
       "<div>\n",
       "<style scoped>\n",
       "    .dataframe tbody tr th:only-of-type {\n",
       "        vertical-align: middle;\n",
       "    }\n",
       "\n",
       "    .dataframe tbody tr th {\n",
       "        vertical-align: top;\n",
       "    }\n",
       "\n",
       "    .dataframe thead th {\n",
       "        text-align: right;\n",
       "    }\n",
       "</style>\n",
       "<table border=\"1\" class=\"dataframe\">\n",
       "  <thead>\n",
       "    <tr style=\"text-align: right;\">\n",
       "      <th></th>\n",
       "      <th>textID</th>\n",
       "      <th>text</th>\n",
       "      <th>sentiment</th>\n",
       "      <th>length</th>\n",
       "    </tr>\n",
       "  </thead>\n",
       "  <tbody>\n",
       "    <tr>\n",
       "      <th>0</th>\n",
       "      <td>cb774db0d1</td>\n",
       "      <td>I`d have responded, if I were going</td>\n",
       "      <td>neutral</td>\n",
       "      <td>7</td>\n",
       "    </tr>\n",
       "    <tr>\n",
       "      <th>1</th>\n",
       "      <td>549e992a42</td>\n",
       "      <td>Sooo SAD I will miss you here in San Diego!!!</td>\n",
       "      <td>negative</td>\n",
       "      <td>10</td>\n",
       "    </tr>\n",
       "    <tr>\n",
       "      <th>2</th>\n",
       "      <td>088c60f138</td>\n",
       "      <td>my boss is bullying me...</td>\n",
       "      <td>negative</td>\n",
       "      <td>5</td>\n",
       "    </tr>\n",
       "    <tr>\n",
       "      <th>3</th>\n",
       "      <td>9642c003ef</td>\n",
       "      <td>what interview! leave me alone</td>\n",
       "      <td>negative</td>\n",
       "      <td>5</td>\n",
       "    </tr>\n",
       "    <tr>\n",
       "      <th>4</th>\n",
       "      <td>358bd9e861</td>\n",
       "      <td>Sons of ****, why couldn`t they put them on t...</td>\n",
       "      <td>negative</td>\n",
       "      <td>14</td>\n",
       "    </tr>\n",
       "    <tr>\n",
       "      <th>5</th>\n",
       "      <td>28b57f3990</td>\n",
       "      <td>http://www.dothebouncy.com/smf - some shameles...</td>\n",
       "      <td>neutral</td>\n",
       "      <td>12</td>\n",
       "    </tr>\n",
       "    <tr>\n",
       "      <th>6</th>\n",
       "      <td>6e0c6d75b1</td>\n",
       "      <td>2am feedings for the baby are fun when he is a...</td>\n",
       "      <td>positive</td>\n",
       "      <td>14</td>\n",
       "    </tr>\n",
       "    <tr>\n",
       "      <th>7</th>\n",
       "      <td>50e14c0bb8</td>\n",
       "      <td>Soooo high</td>\n",
       "      <td>neutral</td>\n",
       "      <td>2</td>\n",
       "    </tr>\n",
       "    <tr>\n",
       "      <th>8</th>\n",
       "      <td>e050245fbd</td>\n",
       "      <td>Both of you</td>\n",
       "      <td>neutral</td>\n",
       "      <td>3</td>\n",
       "    </tr>\n",
       "    <tr>\n",
       "      <th>9</th>\n",
       "      <td>fc2cbefa9d</td>\n",
       "      <td>Journey!? Wow... u just became cooler.  hehe....</td>\n",
       "      <td>positive</td>\n",
       "      <td>10</td>\n",
       "    </tr>\n",
       "  </tbody>\n",
       "</table>\n",
       "</div>"
      ],
      "text/plain": [
       "       textID                                               text sentiment  \\\n",
       "0  cb774db0d1                I`d have responded, if I were going   neutral   \n",
       "1  549e992a42      Sooo SAD I will miss you here in San Diego!!!  negative   \n",
       "2  088c60f138                          my boss is bullying me...  negative   \n",
       "3  9642c003ef                     what interview! leave me alone  negative   \n",
       "4  358bd9e861   Sons of ****, why couldn`t they put them on t...  negative   \n",
       "5  28b57f3990  http://www.dothebouncy.com/smf - some shameles...   neutral   \n",
       "6  6e0c6d75b1  2am feedings for the baby are fun when he is a...  positive   \n",
       "7  50e14c0bb8                                         Soooo high   neutral   \n",
       "8  e050245fbd                                        Both of you   neutral   \n",
       "9  fc2cbefa9d   Journey!? Wow... u just became cooler.  hehe....  positive   \n",
       "\n",
       "   length  \n",
       "0       7  \n",
       "1      10  \n",
       "2       5  \n",
       "3       5  \n",
       "4      14  \n",
       "5      12  \n",
       "6      14  \n",
       "7       2  \n",
       "8       3  \n",
       "9      10  "
      ]
     },
     "execution_count": 25,
     "metadata": {},
     "output_type": "execute_result"
    }
   ],
   "source": [
    "train.head(10)"
   ]
  },
  {
   "cell_type": "code",
   "execution_count": 26,
   "id": "b07fb2d0",
   "metadata": {},
   "outputs": [
    {
     "data": {
      "image/png": "[encoded data removed]",
      "text/plain": [
       "<Figure size 720x1008 with 4 Axes>"
      ]
     },
     "metadata": {
      "needs_background": "light"
     },
     "output_type": "display_data"
    }
   ],
   "source": [
    "# plotting the number of characters in tweet per sentiment...\n",
    "\n",
    "# positive tweet lenth\n",
    "len_positive = train[train['sentiment']==\"positive\"]['text'].str.len()\n",
    "\n",
    "# negative tweet length\n",
    "len_negative = train[train[\"sentiment\"]==\"negative\"][\"text\"].str.len()\n",
    "\n",
    "# neutral tweet length\n",
    "len_neutral = train[train[\"sentiment\"]==\"neutral\"][\"text\"].str.len()\n",
    "\n",
    "fig,ax = plt.subplots(2,2,figsize=(10,14))\n",
    "\n",
    "# plotting positive tweet\n",
    "ax[0,0].hist(len_positive)\n",
    "ax[0,0].set_title(\"Positive_Tweets\")\n",
    "\n",
    "# plotting negative tweet\n",
    "ax[0,1].hist(len_negative)\n",
    "ax[0,1].set_title(\"Negative_Tweets\")\n",
    "\n",
    "# plotting positive tweet\n",
    "ax[1,0].hist(len_neutral)\n",
    "ax[1,0].set_title(\"Neutral_Tweets\")\n",
    "\n",
    "# plotting the overall length of tweets...\n",
    "ax[1,1].hist(train[\"length\"])\n",
    "ax[1,1].set_title(\"Legnth_Tweet\");"
   ]
  },
  {
   "cell_type": "code",
   "execution_count": 27,
   "id": "788f2382",
   "metadata": {},
   "outputs": [],
   "source": [
    "# now it's time to clean text, so let's make a function for it...\n",
    "def clean_text(text):\n",
    "    \n",
    "    # convert text into lower\n",
    "    text = str(text).lower()\n",
    "    \n",
    "    #     remove urls\n",
    "    text = re.sub(r\"https:\\S+\",\" \",text)\n",
    "    \n",
    "    #     remove punctuation\n",
    "    text = re.sub(r\"[^\\w\\s]\",\"\",text)\n",
    "    \n",
    "    #     remove mentions\n",
    "    text = re.sub(r'@\\w+', \" \", text)\n",
    "    \n",
    "    #     remove hashtags\n",
    "    text = re.sub(\"#\\w+\",\" \", text)\n",
    "    \n",
    "    #     remove digits\n",
    "    text = re.sub(r\"\\d+\",\" \", text)\n",
    "    \n",
    "    #     remove HTML tags\n",
    "    text = re.sub(r\"<.*?>\", \" \", text)\n",
    "        \n",
    "    return text \n"
   ]
  },
  {
   "cell_type": "code",
   "execution_count": 28,
   "id": "a8cf5889",
   "metadata": {},
   "outputs": [
    {
     "data": {
      "text/html": [
       "<div>\n",
       "<style scoped>\n",
       "    .dataframe tbody tr th:only-of-type {\n",
       "        vertical-align: middle;\n",
       "    }\n",
       "\n",
       "    .dataframe tbody tr th {\n",
       "        vertical-align: top;\n",
       "    }\n",
       "\n",
       "    .dataframe thead th {\n",
       "        text-align: right;\n",
       "    }\n",
       "</style>\n",
       "<table border=\"1\" class=\"dataframe\">\n",
       "  <thead>\n",
       "    <tr style=\"text-align: right;\">\n",
       "      <th></th>\n",
       "      <th>textID</th>\n",
       "      <th>text</th>\n",
       "      <th>sentiment</th>\n",
       "      <th>length</th>\n",
       "      <th>clean_text</th>\n",
       "    </tr>\n",
       "  </thead>\n",
       "  <tbody>\n",
       "    <tr>\n",
       "      <th>2970</th>\n",
       "      <td>37051dddd9</td>\n",
       "      <td>awwwwww i wish her to be safe while shes gone...</td>\n",
       "      <td>negative</td>\n",
       "      <td>21</td>\n",
       "      <td>awwwwww i wish her to be safe while shes gone...</td>\n",
       "    </tr>\n",
       "    <tr>\n",
       "      <th>20029</th>\n",
       "      <td>80666ae17f</td>\n",
       "      <td>In a Drill Sergeant`s voice: everybody wake th...</td>\n",
       "      <td>negative</td>\n",
       "      <td>23</td>\n",
       "      <td>in a drill sergeants voice everybody wake the ...</td>\n",
       "    </tr>\n",
       "    <tr>\n",
       "      <th>25019</th>\n",
       "      <td>de47ece87c</td>\n",
       "      <td>No twitpic?  lol</td>\n",
       "      <td>neutral</td>\n",
       "      <td>3</td>\n",
       "      <td>no twitpic  lol</td>\n",
       "    </tr>\n",
       "    <tr>\n",
       "      <th>4348</th>\n",
       "      <td>ddbc804570</td>\n",
       "      <td>i KNOW! AHH!  so fun!</td>\n",
       "      <td>positive</td>\n",
       "      <td>5</td>\n",
       "      <td>i know ahh  so fun</td>\n",
       "    </tr>\n",
       "    <tr>\n",
       "      <th>13763</th>\n",
       "      <td>c5480ac431</td>\n",
       "      <td>u said u was gonna follow  its nita from ur l...</td>\n",
       "      <td>neutral</td>\n",
       "      <td>12</td>\n",
       "      <td>u said u was gonna follow  its nita from ur l...</td>\n",
       "    </tr>\n",
       "    <tr>\n",
       "      <th>5289</th>\n",
       "      <td>412296c6c4</td>\n",
       "      <td>I`m in the Starbucks with a cup of coffee   ht...</td>\n",
       "      <td>neutral</td>\n",
       "      <td>10</td>\n",
       "      <td>im in the starbucks with a cup of coffee   htt...</td>\n",
       "    </tr>\n",
       "    <tr>\n",
       "      <th>24062</th>\n",
       "      <td>49cd042b83</td>\n",
       "      <td>Iï¿½m really desappointed...</td>\n",
       "      <td>negative</td>\n",
       "      <td>3</td>\n",
       "      <td>iï½m really desappointed</td>\n",
       "    </tr>\n",
       "    <tr>\n",
       "      <th>1337</th>\n",
       "      <td>74e9f8da6b</td>\n",
       "      <td>I think I should hire one of those tranlsators...</td>\n",
       "      <td>negative</td>\n",
       "      <td>15</td>\n",
       "      <td>i think i should hire one of those tranlsators...</td>\n",
       "    </tr>\n",
       "    <tr>\n",
       "      <th>488</th>\n",
       "      <td>e6c988afb8</td>\n",
       "      <td>Home until tomorrow. Did my running and spinni...</td>\n",
       "      <td>negative</td>\n",
       "      <td>19</td>\n",
       "      <td>home until tomorrow did my running and spinnin...</td>\n",
       "    </tr>\n",
       "    <tr>\n",
       "      <th>2505</th>\n",
       "      <td>68f79be259</td>\n",
       "      <td>Right here! Army Wife in Germany! I can`t STA...</td>\n",
       "      <td>negative</td>\n",
       "      <td>16</td>\n",
       "      <td>right here army wife in germany i cant stand ...</td>\n",
       "    </tr>\n",
       "  </tbody>\n",
       "</table>\n",
       "</div>"
      ],
      "text/plain": [
       "           textID                                               text  \\\n",
       "2970   37051dddd9   awwwwww i wish her to be safe while shes gone...   \n",
       "20029  80666ae17f  In a Drill Sergeant`s voice: everybody wake th...   \n",
       "25019  de47ece87c                                   No twitpic?  lol   \n",
       "4348   ddbc804570                              i KNOW! AHH!  so fun!   \n",
       "13763  c5480ac431   u said u was gonna follow  its nita from ur l...   \n",
       "5289   412296c6c4  I`m in the Starbucks with a cup of coffee   ht...   \n",
       "24062  49cd042b83                       Iï¿½m really desappointed...   \n",
       "1337   74e9f8da6b  I think I should hire one of those tranlsators...   \n",
       "488    e6c988afb8  Home until tomorrow. Did my running and spinni...   \n",
       "2505   68f79be259   Right here! Army Wife in Germany! I can`t STA...   \n",
       "\n",
       "      sentiment  length                                         clean_text  \n",
       "2970   negative      21   awwwwww i wish her to be safe while shes gone...  \n",
       "20029  negative      23  in a drill sergeants voice everybody wake the ...  \n",
       "25019   neutral       3                                    no twitpic  lol  \n",
       "4348   positive       5                                 i know ahh  so fun  \n",
       "13763   neutral      12   u said u was gonna follow  its nita from ur l...  \n",
       "5289    neutral      10  im in the starbucks with a cup of coffee   htt...  \n",
       "24062  negative       3                           iï½m really desappointed  \n",
       "1337   negative      15  i think i should hire one of those tranlsators...  \n",
       "488    negative      19  home until tomorrow did my running and spinnin...  \n",
       "2505   negative      16   right here army wife in germany i cant stand ...  "
      ]
     },
     "execution_count": 28,
     "metadata": {},
     "output_type": "execute_result"
    }
   ],
   "source": [
    "# apply the function to train df\n",
    "train[\"clean_text\"] = train[\"text\"].apply(lambda x : clean_text(x))\n",
    "\n",
    "train.sample(10)"
   ]
  },
  {
   "cell_type": "code",
   "execution_count": 29,
   "id": "404f5a2d",
   "metadata": {},
   "outputs": [
    {
     "data": {
      "text/html": [
       "<div>\n",
       "<style scoped>\n",
       "    .dataframe tbody tr th:only-of-type {\n",
       "        vertical-align: middle;\n",
       "    }\n",
       "\n",
       "    .dataframe tbody tr th {\n",
       "        vertical-align: top;\n",
       "    }\n",
       "\n",
       "    .dataframe thead th {\n",
       "        text-align: right;\n",
       "    }\n",
       "</style>\n",
       "<table border=\"1\" class=\"dataframe\">\n",
       "  <thead>\n",
       "    <tr style=\"text-align: right;\">\n",
       "      <th></th>\n",
       "      <th>textID</th>\n",
       "      <th>text</th>\n",
       "      <th>sentiment</th>\n",
       "      <th>length</th>\n",
       "      <th>clean_text</th>\n",
       "    </tr>\n",
       "  </thead>\n",
       "  <tbody>\n",
       "    <tr>\n",
       "      <th>666</th>\n",
       "      <td>c860b3f840</td>\n",
       "      <td>i hope that everyone has been having a great w...</td>\n",
       "      <td>neutral</td>\n",
       "      <td>22</td>\n",
       "      <td>i hope that everyone has been having a great w...</td>\n",
       "    </tr>\n",
       "    <tr>\n",
       "      <th>2022</th>\n",
       "      <td>f6e3a6dd55</td>\n",
       "      <td>_Claire LOL  I will buy u some big star wars p...</td>\n",
       "      <td>neutral</td>\n",
       "      <td>14</td>\n",
       "      <td>_claire lol  i will buy u some big star wars p...</td>\n",
       "    </tr>\n",
       "    <tr>\n",
       "      <th>320</th>\n",
       "      <td>99fcc18a8d</td>\n",
       "      <td>Download movie  'A Good Day to Be Black &amp;#38 S...</td>\n",
       "      <td>positive</td>\n",
       "      <td>13</td>\n",
       "      <td>download movie  a good day to be black   sexy ...</td>\n",
       "    </tr>\n",
       "    <tr>\n",
       "      <th>2054</th>\n",
       "      <td>1d428212cb</td>\n",
       "      <td>texting my friends and being bored...   gosh i...</td>\n",
       "      <td>negative</td>\n",
       "      <td>10</td>\n",
       "      <td>texting my friends and being bored   gosh i ha...</td>\n",
       "    </tr>\n",
       "    <tr>\n",
       "      <th>1412</th>\n",
       "      <td>92866f7b8c</td>\n",
       "      <td>Thank you!</td>\n",
       "      <td>positive</td>\n",
       "      <td>2</td>\n",
       "      <td>thank you</td>\n",
       "    </tr>\n",
       "    <tr>\n",
       "      <th>1374</th>\n",
       "      <td>8c03f75944</td>\n",
       "      <td>- ****. LOL ON FRIDAY.? ITS NOW SATURDAY HERE...</td>\n",
       "      <td>neutral</td>\n",
       "      <td>13</td>\n",
       "      <td>lol on friday its now saturday here lol im ...</td>\n",
       "    </tr>\n",
       "    <tr>\n",
       "      <th>3277</th>\n",
       "      <td>e976f2769d</td>\n",
       "      <td>If it`s any consolation I`ve had to abandon t...</td>\n",
       "      <td>positive</td>\n",
       "      <td>17</td>\n",
       "      <td>if its any consolation ive had to abandon the...</td>\n",
       "    </tr>\n",
       "    <tr>\n",
       "      <th>3447</th>\n",
       "      <td>a5912f5b7b</td>\n",
       "      <td>Gday... Do you know if NHibernate has issues w...</td>\n",
       "      <td>neutral</td>\n",
       "      <td>21</td>\n",
       "      <td>gday do you know if nhibernate has issues with...</td>\n",
       "    </tr>\n",
       "    <tr>\n",
       "      <th>955</th>\n",
       "      <td>458f7b2493</td>\n",
       "      <td>finally feel back into swing of things here at...</td>\n",
       "      <td>positive</td>\n",
       "      <td>23</td>\n",
       "      <td>finally feel back into swing of things here at...</td>\n",
       "    </tr>\n",
       "    <tr>\n",
       "      <th>2963</th>\n",
       "      <td>08ad89c6b0</td>\n",
       "      <td>Hi .. I have the net YAYY.. Im here for a shor...</td>\n",
       "      <td>positive</td>\n",
       "      <td>14</td>\n",
       "      <td>hi  i have the net yayy im here for a short ti...</td>\n",
       "    </tr>\n",
       "  </tbody>\n",
       "</table>\n",
       "</div>"
      ],
      "text/plain": [
       "          textID                                               text sentiment  \\\n",
       "666   c860b3f840  i hope that everyone has been having a great w...   neutral   \n",
       "2022  f6e3a6dd55  _Claire LOL  I will buy u some big star wars p...   neutral   \n",
       "320   99fcc18a8d  Download movie  'A Good Day to Be Black &#38 S...  positive   \n",
       "2054  1d428212cb  texting my friends and being bored...   gosh i...  negative   \n",
       "1412  92866f7b8c                                         Thank you!  positive   \n",
       "1374  8c03f75944   - ****. LOL ON FRIDAY.? ITS NOW SATURDAY HERE...   neutral   \n",
       "3277  e976f2769d   If it`s any consolation I`ve had to abandon t...  positive   \n",
       "3447  a5912f5b7b  Gday... Do you know if NHibernate has issues w...   neutral   \n",
       "955   458f7b2493  finally feel back into swing of things here at...  positive   \n",
       "2963  08ad89c6b0  Hi .. I have the net YAYY.. Im here for a shor...  positive   \n",
       "\n",
       "      length                                         clean_text  \n",
       "666       22  i hope that everyone has been having a great w...  \n",
       "2022      14  _claire lol  i will buy u some big star wars p...  \n",
       "320       13  download movie  a good day to be black   sexy ...  \n",
       "2054      10  texting my friends and being bored   gosh i ha...  \n",
       "1412       2                                          thank you  \n",
       "1374      13     lol on friday its now saturday here lol im ...  \n",
       "3277      17   if its any consolation ive had to abandon the...  \n",
       "3447      21  gday do you know if nhibernate has issues with...  \n",
       "955       23  finally feel back into swing of things here at...  \n",
       "2963      14  hi  i have the net yayy im here for a short ti...  "
      ]
     },
     "execution_count": 29,
     "metadata": {},
     "output_type": "execute_result"
    }
   ],
   "source": [
    "# apply it to test data as well\n",
    "test[\"clean_text\"] = test[\"text\"].apply(lambda x : clean_text(x))\n",
    "\n",
    "test.sample(10)"
   ]
  },
  {
   "cell_type": "code",
   "execution_count": 30,
   "id": "06762720",
   "metadata": {},
   "outputs": [],
   "source": [
    "# setting stopwords\n",
    "stop=set(stopwords.words('english'))"
   ]
  },
  {
   "cell_type": "code",
   "execution_count": 31,
   "id": "042afdc6",
   "metadata": {},
   "outputs": [
    {
     "data": {
      "text/plain": [
       "Text(0.5, 0.98, 'Common words in tweet text')"
      ]
     },
     "execution_count": 31,
     "metadata": {},
     "output_type": "execute_result"
    },
    {
     "data": {
      "image/png": "[encoded data removed]",
      "text/plain": [
       "<Figure size 1800x1080 with 3 Axes>"
      ]
     },
     "metadata": {
      "needs_background": "light"
     },
     "output_type": "display_data"
    }
   ],
   "source": [
    "# let's find out the most common words in the text.....\n",
    "sentiments = train[\"sentiment\"].unique()\n",
    "\n",
    "# setup the figure\n",
    "fig,ax = plt.subplots(1,3, figsize=(25,15))\n",
    "colors = [\"lightblue\",\"red\",\"green\",]\n",
    "for i in range(3):\n",
    "    new = train[train[\"sentiment\"]==sentiments[i]][\"clean_text\"]\n",
    "    counter = Counter(new)\n",
    "    most_common = counter.most_common()\n",
    "    x = []\n",
    "    y = []\n",
    "    \n",
    "    for word,count in most_common[:15]:\n",
    "        x.append(word)\n",
    "        y.append(count)\n",
    "        \n",
    "    sns.barplot(x=y,y=x,ax=ax[i], color = colors[i])\n",
    "    ax[i].set_title(sentiments[i])\n",
    "fig.suptitle(\"Common words in tweet text\")"
   ]
  },
  {
   "cell_type": "code",
   "execution_count": 32,
   "id": "5c3984d1",
   "metadata": {},
   "outputs": [],
   "source": [
    "# pick the main columns....\n",
    "train_text = train[\"clean_text\"]\n",
    "train_labels = train[\"sentiment\"]\n",
    "\n",
    "test_text = test[\"clean_text\"]\n",
    "test_labels = test[\"sentiment\"]"
   ]
  },
  {
   "cell_type": "code",
   "execution_count": 33,
   "id": "b3d5fe6d",
   "metadata": {},
   "outputs": [],
   "source": [
    "# as our label is in text so map it\n",
    "\n",
    "l = {\"neutral\" : 0, \"positive\" : 1,\"negative\" : 2}\n",
    "\n",
    "# apply it to the data....\n",
    "\n",
    "train_labels = train_labels.map(l)\n",
    "test_labels = test_labels.map(l)"
   ]
  },
  {
   "cell_type": "code",
   "execution_count": 34,
   "id": "6f2fe51d",
   "metadata": {},
   "outputs": [
    {
     "data": {
      "text/plain": [
       "0                        id have responded if i were going\n",
       "1               sooo sad i will miss you here in san diego\n",
       "2                                   my boss is bullying me\n",
       "3                            what interview leave me alone\n",
       "4         sons of  why couldnt they put them on the rel...\n",
       "                               ...                        \n",
       "27476     wish we could come see u on denver  husband l...\n",
       "27477     ive wondered about rake to  the client has ma...\n",
       "27478     yay good for both of you enjoy the break  you...\n",
       "27479                                but it was worth it  \n",
       "27480       all this flirting going on  the atg smiles ...\n",
       "Name: clean_text, Length: 27480, dtype: object"
      ]
     },
     "execution_count": 34,
     "metadata": {},
     "output_type": "execute_result"
    }
   ],
   "source": [
    "train_text"
   ]
  },
  {
   "cell_type": "markdown",
   "id": "a2216710",
   "metadata": {},
   "source": [
    "# Tokenization : \n",
    "    As we clean our text let's split the data and convert each split into integer through tokenization because our deep learning models works only with the numbers....\n",
    "\n"
   ]
  },
  {
   "cell_type": "code",
   "execution_count": 35,
   "id": "99bc761a",
   "metadata": {},
   "outputs": [
    {
     "data": {
      "text/plain": [
       "13"
      ]
     },
     "execution_count": 35,
     "metadata": {},
     "output_type": "execute_result"
    }
   ],
   "source": [
    "# find the average length of sentence...\n",
    "round(np.mean(train[\"length\"]))"
   ]
  },
  {
   "cell_type": "code",
   "execution_count": 36,
   "id": "4cee2cd1",
   "metadata": {},
   "outputs": [
    {
     "name": "stdout",
     "output_type": "stream",
     "text": [
      "Metal device set to: Apple M1\n"
     ]
    },
    {
     "name": "stderr",
     "output_type": "stream",
     "text": [
      "2022-10-15 21:17:32.906409: I tensorflow/core/common_runtime/pluggable_device/pluggable_device_factory.cc:305] Could not identify NUMA node of platform GPU ID 0, defaulting to 0. Your kernel may not have been built with NUMA support.\n",
      "2022-10-15 21:17:32.906851: I tensorflow/core/common_runtime/pluggable_device/pluggable_device_factory.cc:271] Created TensorFlow device (/job:localhost/replica:0/task:0/device:GPU:0 with 0 MB memory) -> physical PluggableDevice (device: 0, name: METAL, pci bus id: <undefined>)\n",
      "2022-10-15 21:17:32.945645: W tensorflow/core/platform/profile_utils/cpu_utils.cc:128] Failed to get CPU frequency: 0 Hz\n",
      "2022-10-15 21:17:32.994843: I tensorflow/core/grappler/optimizers/custom_graph_optimizer_registry.cc:113] Plugin optimizer for device_type GPU is enabled.\n"
     ]
    }
   ],
   "source": [
    "# setup the vocabulary length...\n",
    "max_token = 15000\n",
    "max_len = 15\n",
    "\n",
    "\n",
    "token = TextVectorization(max_tokens = max_token,\n",
    "                         standardize = \"lower_and_strip_punctuation\",\n",
    "                         output_mode = \"int\",\n",
    "                         output_sequence_length = max_len,\n",
    "                         split = \"whitespace\")\n",
    "\n",
    "# adapt to text\n",
    "token.adapt(train_text)"
   ]
  },
  {
   "cell_type": "code",
   "execution_count": 37,
   "id": "f27e5229",
   "metadata": {},
   "outputs": [
    {
     "name": "stdout",
     "output_type": "stream",
     "text": [
      "Total words in the Vocabulary : 15000\n",
      "Top five words in the Vocabulary : ['', '[UNK]', 'i', 'to', 'the']\n",
      "Bottom five words in the Vocabulary : ['rightards', 'rigby', 'rig', 'rieger', 'ridin']\n"
     ]
    }
   ],
   "source": [
    "# get some text information....\n",
    "vocab = token.get_vocabulary()\n",
    "print(f\"Total words in the Vocabulary : {len(vocab)}\")\n",
    "print(f\"Top five words in the Vocabulary : {vocab[:5]}\")\n",
    "print(f\"Bottom five words in the Vocabulary : {vocab[-5:]}\")"
   ]
  },
  {
   "cell_type": "code",
   "execution_count": 38,
   "id": "fc5ea6df",
   "metadata": {},
   "outputs": [
    {
     "name": "stdout",
     "output_type": "stream",
     "text": [
      "Original Text :  have fun tonight\n",
      "\n",
      "Tokenize Sentence : [[ 17 101 117   0   0   0   0   0   0   0   0   0   0   0   0]]\n"
     ]
    }
   ],
   "source": [
    "# let's tokenize some sentence....\n",
    "random_index = np.random.randint(0,len(train_text))\n",
    "random_sentence = train_text[random_index]\n",
    "\n",
    "print(f\"Original Text : {random_sentence}\\n\")\n",
    "print(f\"Tokenize Sentence : {token([random_sentence])}\")"
   ]
  },
  {
   "cell_type": "markdown",
   "id": "8b8f7a6e",
   "metadata": {},
   "source": [
    "# Embedding\n",
    "   \n",
    "  A word embedding is a class of approaches for representing words and documents using a dense vector representation. Word embeddings give us a way to use an efficient, dense representation in which similar words have a similar encoding. Importantly, you do not have to specify this encoding by hand. An embedding is a dense vector of floating point values (the length of the vector is a parameter you specify). Instead of specifying the values for the embedding manually, they are trainable parameters (weights learned by the model during training, in the same way a model learns weights for a dense layer). It is common to see word embeddings that are 8-dimensional (for small datasets), up to 1024-dimensions when working with large datasets. A higher dimensional embedding can capture fine-grained relationships between words, but takes more data to learn"
   ]
  },
  {
   "cell_type": "code",
   "execution_count": 39,
   "id": "dc3fdb93",
   "metadata": {},
   "outputs": [],
   "source": [
    "embedd = Embedding(input_dim = max_token,\n",
    "                  output_dim = 256,\n",
    "                   input_length = max_len,\n",
    "                   embeddings_initializer = \"uniform\",\n",
    "                  )"
   ]
  },
  {
   "cell_type": "code",
   "execution_count": 40,
   "id": "aa1e9dbf",
   "metadata": {},
   "outputs": [
    {
     "name": "stdout",
     "output_type": "stream",
     "text": [
      "Original Text :  thanks for the tip its our company laptops so was aiming for another solution actually\n",
      "\n",
      "Tokenize Sentence : [[  84   12    4 1758   25  191  869 4859   18   28 6890   12  192 3914\n",
      "   261]]\n",
      "\n",
      "Tokenize Sentence : [[[-0.00269823  0.02061    -0.04971485 ...  0.04537146  0.00913843\n",
      "   -0.03243618]\n",
      "  [-0.02687665 -0.04616083  0.01390092 ...  0.00190409  0.04501334\n",
      "   -0.02660265]\n",
      "  [-0.00469453 -0.0024895   0.00419755 ... -0.0227523  -0.03274585\n",
      "    0.04473131]\n",
      "  ...\n",
      "  [ 0.02096147  0.03109289 -0.02387471 ...  0.04523328 -0.01082517\n",
      "    0.01217182]\n",
      "  [-0.00417464 -0.00531899  0.03473271 ...  0.00633035  0.02855365\n",
      "   -0.02695122]\n",
      "  [ 0.0100122  -0.02674328 -0.02620647 ...  0.01371297  0.01530559\n",
      "    0.0431041 ]]]\n"
     ]
    }
   ],
   "source": [
    "# let's tokenize and embedd some sentence....\n",
    "random_index = np.random.randint(0,len(train_text))\n",
    "random_sentence = train_text[random_index]\n",
    "\n",
    "print(f\"Original Text : {random_sentence}\\n\")\n",
    "print(f\"Tokenize Sentence : {token([random_sentence])}\\n\")\n",
    "print(f\"Tokenize Sentence : {embedd(token([random_sentence]))}\")"
   ]
  },
  {
   "cell_type": "code",
   "execution_count": 41,
   "id": "344eac97",
   "metadata": {},
   "outputs": [],
   "source": [
    "# let's make a function to evaluate our model performance....\n",
    "def calculate_results(y_true,y_pred):\n",
    "    \"\"\"\n",
    "    This function will evaluate our model performace by measuring certain metrics....\n",
    "    Accuracy : it tells us that how accurately our model predict the label\n",
    "    Precision : this is the ability of classifier not to label a negative label as positive.\n",
    "    Recall : this is the ability of classifier to find all positive labels.\n",
    "    Fscore : this is the average of preicision and recall.\n",
    "    \"\"\"\n",
    "    accuracy = accuracy_score(y_true,y_pred)\n",
    "    precision_score,recall_score,f_score,_ = precision_recall_fscore_support(y_true,y_pred,average=\"weighted\")\n",
    "    \n",
    "    results = {\n",
    "        \"Accuracy\" : accuracy ,\n",
    "        \"Precision\" : precision_score,\n",
    "        \"Recall\" : recall_score,\n",
    "        \"F_Score\" : f_score\n",
    "    }\n",
    "    return results"
   ]
  },
  {
   "cell_type": "markdown",
   "id": "ad046551",
   "metadata": {},
   "source": [
    "# Modelling : \n",
    "     \n",
    "     We'll build a series of model and pick the one that performs better.\n",
    "    ~Naive Model\n",
    "    ~Dense Model\n",
    "    ~LSTM Model\n",
    "    ~GRU Model"
   ]
  },
  {
   "cell_type": "code",
   "execution_count": 42,
   "id": "d86f87a6",
   "metadata": {},
   "outputs": [],
   "source": [
    "# Model_0 : Naive Model"
   ]
  },
  {
   "cell_type": "code",
   "execution_count": 43,
   "id": "715e6ad4",
   "metadata": {},
   "outputs": [
    {
     "data": {
      "text/html": [
       "<style>#sk-container-id-1 {color: black;background-color: white;}#sk-container-id-1 pre{padding: 0;}#sk-container-id-1 div.sk-toggleable {background-color: white;}#sk-container-id-1 label.sk-toggleable__label {cursor: pointer;display: block;width: 100%;margin-bottom: 0;padding: 0.3em;box-sizing: border-box;text-align: center;}#sk-container-id-1 label.sk-toggleable__label-arrow:before {content: \"▸\";float: left;margin-right: 0.25em;color: #696969;}#sk-container-id-1 label.sk-toggleable__label-arrow:hover:before {color: black;}#sk-container-id-1 div.sk-estimator:hover label.sk-toggleable__label-arrow:before {color: black;}#sk-container-id-1 div.sk-toggleable__content {max-height: 0;max-width: 0;overflow: hidden;text-align: left;background-color: #f0f8ff;}#sk-container-id-1 div.sk-toggleable__content pre {margin: 0.2em;color: black;border-radius: 0.25em;background-color: #f0f8ff;}#sk-container-id-1 input.sk-toggleable__control:checked~div.sk-toggleable__content {max-height: 200px;max-width: 100%;overflow: auto;}#sk-container-id-1 input.sk-toggleable__control:checked~label.sk-toggleable__label-arrow:before {content: \"▾\";}#sk-container-id-1 div.sk-estimator input.sk-toggleable__control:checked~label.sk-toggleable__label {background-color: #d4ebff;}#sk-container-id-1 div.sk-label input.sk-toggleable__control:checked~label.sk-toggleable__label {background-color: #d4ebff;}#sk-container-id-1 input.sk-hidden--visually {border: 0;clip: rect(1px 1px 1px 1px);clip: rect(1px, 1px, 1px, 1px);height: 1px;margin: -1px;overflow: hidden;padding: 0;position: absolute;width: 1px;}#sk-container-id-1 div.sk-estimator {font-family: monospace;background-color: #f0f8ff;border: 1px dotted black;border-radius: 0.25em;box-sizing: border-box;margin-bottom: 0.5em;}#sk-container-id-1 div.sk-estimator:hover {background-color: #d4ebff;}#sk-container-id-1 div.sk-parallel-item::after {content: \"\";width: 100%;border-bottom: 1px solid gray;flex-grow: 1;}#sk-container-id-1 div.sk-label:hover label.sk-toggleable__label {background-color: #d4ebff;}#sk-container-id-1 div.sk-serial::before {content: \"\";position: absolute;border-left: 1px solid gray;box-sizing: border-box;top: 0;bottom: 0;left: 50%;z-index: 0;}#sk-container-id-1 div.sk-serial {display: flex;flex-direction: column;align-items: center;background-color: white;padding-right: 0.2em;padding-left: 0.2em;position: relative;}#sk-container-id-1 div.sk-item {position: relative;z-index: 1;}#sk-container-id-1 div.sk-parallel {display: flex;align-items: stretch;justify-content: center;background-color: white;position: relative;}#sk-container-id-1 div.sk-item::before, #sk-container-id-1 div.sk-parallel-item::before {content: \"\";position: absolute;border-left: 1px solid gray;box-sizing: border-box;top: 0;bottom: 0;left: 50%;z-index: -1;}#sk-container-id-1 div.sk-parallel-item {display: flex;flex-direction: column;z-index: 1;position: relative;background-color: white;}#sk-container-id-1 div.sk-parallel-item:first-child::after {align-self: flex-end;width: 50%;}#sk-container-id-1 div.sk-parallel-item:last-child::after {align-self: flex-start;width: 50%;}#sk-container-id-1 div.sk-parallel-item:only-child::after {width: 0;}#sk-container-id-1 div.sk-dashed-wrapped {border: 1px dashed gray;margin: 0 0.4em 0.5em 0.4em;box-sizing: border-box;padding-bottom: 0.4em;background-color: white;}#sk-container-id-1 div.sk-label label {font-family: monospace;font-weight: bold;display: inline-block;line-height: 1.2em;}#sk-container-id-1 div.sk-label-container {text-align: center;}#sk-container-id-1 div.sk-container {/* jupyter's `normalize.less` sets `[hidden] { display: none; }` but bootstrap.min.css set `[hidden] { display: none !important; }` so we also need the `!important` here to be able to override the default hidden behavior on the sphinx rendered scikit-learn.org. See: https://github.com/scikit-learn/scikit-learn/issues/21755 */display: inline-block !important;position: relative;}#sk-container-id-1 div.sk-text-repr-fallback {display: none;}</style><div id=\"sk-container-id-1\" class=\"sk-top-container\"><div class=\"sk-text-repr-fallback\"><pre>Pipeline(steps=[(&#x27;tfidf&#x27;, TfidfVectorizer()), (&#x27;naive&#x27;, MultinomialNB())])</pre><b>In a Jupyter environment, please rerun this cell to show the HTML representation or trust the notebook. <br />On GitHub, the HTML representation is unable to render, please try loading this page with nbviewer.org.</b></div><div class=\"sk-container\" hidden><div class=\"sk-item sk-dashed-wrapped\"><div class=\"sk-label-container\"><div class=\"sk-label sk-toggleable\"><input class=\"sk-toggleable__control sk-hidden--visually\" id=\"sk-estimator-id-1\" type=\"checkbox\" ><label for=\"sk-estimator-id-1\" class=\"sk-toggleable__label sk-toggleable__label-arrow\">Pipeline</label><div class=\"sk-toggleable__content\"><pre>Pipeline(steps=[(&#x27;tfidf&#x27;, TfidfVectorizer()), (&#x27;naive&#x27;, MultinomialNB())])</pre></div></div></div><div class=\"sk-serial\"><div class=\"sk-item\"><div class=\"sk-estimator sk-toggleable\"><input class=\"sk-toggleable__control sk-hidden--visually\" id=\"sk-estimator-id-2\" type=\"checkbox\" ><label for=\"sk-estimator-id-2\" class=\"sk-toggleable__label sk-toggleable__label-arrow\">TfidfVectorizer</label><div class=\"sk-toggleable__content\"><pre>TfidfVectorizer()</pre></div></div></div><div class=\"sk-item\"><div class=\"sk-estimator sk-toggleable\"><input class=\"sk-toggleable__control sk-hidden--visually\" id=\"sk-estimator-id-3\" type=\"checkbox\" ><label for=\"sk-estimator-id-3\" class=\"sk-toggleable__label sk-toggleable__label-arrow\">MultinomialNB</label><div class=\"sk-toggleable__content\"><pre>MultinomialNB()</pre></div></div></div></div></div></div></div>"
      ],
      "text/plain": [
       "Pipeline(steps=[('tfidf', TfidfVectorizer()), ('naive', MultinomialNB())])"
      ]
     },
     "execution_count": 43,
     "metadata": {},
     "output_type": "execute_result"
    }
   ],
   "source": [
    "# let's build our first sklearn naive model...\n",
    "model_0 = Pipeline([\n",
    "    ('tfidf',TfidfVectorizer()),\n",
    "    (\"naive\",MultinomialNB())\n",
    "])\n",
    "\n",
    "# fitting model to data....\n",
    "model_0.fit(train_text,train_labels)"
   ]
  },
  {
   "cell_type": "code",
   "execution_count": 44,
   "id": "25d5c3dc",
   "metadata": {},
   "outputs": [
    {
     "data": {
      "text/plain": [
       "{'Accuracy': 0.620826259196378,\n",
       " 'Precision': 0.6920038667463424,\n",
       " 'Recall': 0.620826259196378,\n",
       " 'F_Score': 0.6084458841291476}"
      ]
     },
     "execution_count": 44,
     "metadata": {},
     "output_type": "execute_result"
    }
   ],
   "source": [
    "# calculate model results....\n",
    "model_0_results = calculate_results(test_labels,model_0.predict(test_text))\n",
    "model_0_results"
   ]
  },
  {
   "cell_type": "code",
   "execution_count": 60,
   "id": "773ec3eb",
   "metadata": {},
   "outputs": [],
   "source": [
    "train_labels = to_categorical(train_labels, 3)\n",
    "test_labels = to_categorical(test_labels,3)\n"
   ]
  },
  {
   "cell_type": "markdown",
   "id": "67865aec",
   "metadata": {},
   "source": [
    "# Model 2 : Simple Dense Model"
   ]
  },
  {
   "cell_type": "code",
   "execution_count": 61,
   "id": "2f69273e",
   "metadata": {},
   "outputs": [],
   "source": [
    "# let's build our first dense model.....\n",
    "\n",
    "# set up the random seed....\n",
    "tf.random.set_seed(42)\n",
    "\n",
    "# define the inputs....\n",
    "inputs = layers.Input(shape=(),dtype=\"string\")\n",
    "\n",
    "# pass inputs to tokenization layer....\n",
    "x = token(inputs)\n",
    "\n",
    "# pass the token to embeddings....\n",
    "x = embedd(x)\n",
    "\n",
    "# hidden layers...\n",
    "x = layers.Dense(64,activation=\"relu\")(x)\n",
    "\n",
    "# adding the 2nd layers....\n",
    "x = layers.Dense(32,activation=\"relu\")(x)\n",
    "# adding the globalaverage layer...\n",
    "x = layers.GlobalAveragePooling1D()(x)\n",
    "output = layers.Dense(3,activation=\"softmax\")(x)\n",
    "\n",
    "# model building....\n",
    "model_1 = tf.keras.Model(inputs,output,name=\"Dense_Model\")\n",
    "\n",
    "# compiling the model...\n",
    "model_1.compile(loss=\"categorical_crossentropy\",\n",
    "               optimizer=\"rmsprop\",\n",
    "               metrics=[\"accuracy\"])"
   ]
  },
  {
   "cell_type": "code",
   "execution_count": 62,
   "id": "ca08c5c6",
   "metadata": {},
   "outputs": [
    {
     "name": "stdout",
     "output_type": "stream",
     "text": [
      "Model: \"Dense_Model\"\n",
      "_________________________________________________________________\n",
      " Layer (type)                Output Shape              Param #   \n",
      "=================================================================\n",
      " input_5 (InputLayer)        [(None,)]                 0         \n",
      "                                                                 \n",
      " text_vectorization (TextVec  (None, 15)               0         \n",
      " torization)                                                     \n",
      "                                                                 \n",
      " embedding (Embedding)       (None, 15, 256)           3840000   \n",
      "                                                                 \n",
      " dense_12 (Dense)            (None, 15, 64)            16448     \n",
      "                                                                 \n",
      " dense_13 (Dense)            (None, 15, 32)            2080      \n",
      "                                                                 \n",
      " global_average_pooling1d_4   (None, 32)               0         \n",
      " (GlobalAveragePooling1D)                                        \n",
      "                                                                 \n",
      " dense_14 (Dense)            (None, 3)                 99        \n",
      "                                                                 \n",
      "=================================================================\n",
      "Total params: 3,858,627\n",
      "Trainable params: 3,858,627\n",
      "Non-trainable params: 0\n",
      "_________________________________________________________________\n"
     ]
    }
   ],
   "source": [
    "# model summary.....\n",
    "model_1.summary()"
   ]
  },
  {
   "cell_type": "code",
   "execution_count": 64,
   "id": "f583969b",
   "metadata": {},
   "outputs": [
    {
     "name": "stdout",
     "output_type": "stream",
     "text": [
      "Epoch 1/10\n",
      "857/859 [============================>.] - ETA: 0s - loss: 0.6851 - accuracy: 0.7264INFO:tensorflow:Assets written to: Dense_1.tf/assets\n",
      "859/859 [==============================] - 19s 22ms/step - loss: 0.6850 - accuracy: 0.7265 - val_loss: 0.7464 - val_accuracy: 0.6975\n",
      "Epoch 2/10\n",
      "859/859 [==============================] - 18s 20ms/step - loss: 0.6269 - accuracy: 0.7547 - val_loss: 0.7635 - val_accuracy: 0.6760\n",
      "Epoch 3/10\n",
      "859/859 [==============================] - 18s 20ms/step - loss: 0.5857 - accuracy: 0.7764 - val_loss: 0.7766 - val_accuracy: 0.6805\n",
      "Epoch 4/10\n",
      "859/859 [==============================] - 18s 20ms/step - loss: 0.5555 - accuracy: 0.7879 - val_loss: 0.7948 - val_accuracy: 0.6780\n",
      "Epoch 5/10\n",
      "859/859 [==============================] - 18s 20ms/step - loss: 0.5318 - accuracy: 0.7992 - val_loss: 0.8254 - val_accuracy: 0.6689\n",
      "Epoch 6/10\n",
      "859/859 [==============================] - 18s 20ms/step - loss: 0.5181 - accuracy: 0.8082 - val_loss: 0.8390 - val_accuracy: 0.6681\n",
      "Epoch 7/10\n",
      "859/859 [==============================] - 18s 21ms/step - loss: 0.5026 - accuracy: 0.8127 - val_loss: 0.8565 - val_accuracy: 0.6641\n",
      "Epoch 8/10\n",
      "859/859 [==============================] - 18s 21ms/step - loss: 0.4940 - accuracy: 0.8163 - val_loss: 0.8506 - val_accuracy: 0.6570\n",
      "Epoch 9/10\n",
      "859/859 [==============================] - 18s 21ms/step - loss: 0.4853 - accuracy: 0.8214 - val_loss: 0.8773 - val_accuracy: 0.6596\n",
      "Epoch 10/10\n",
      "859/859 [==============================] - 18s 21ms/step - loss: 0.4781 - accuracy: 0.8242 - val_loss: 0.8822 - val_accuracy: 0.6607\n"
     ]
    }
   ],
   "source": [
    "# fitting the model to data....\n",
    "history_1 = model_1.fit(train_text,train_labels,\n",
    "                       epochs=10,\n",
    "                       validation_data=(test_text,test_labels),\n",
    "                        validation_split = int(len(test_text) * 0.25),\n",
    "                        callbacks = [tf.keras.callbacks.ModelCheckpoint(\"Dense_1.tf\",\n",
    "                                                                               save_best_only=True)])"
   ]
  },
  {
   "cell_type": "code",
   "execution_count": 67,
   "id": "90222e89",
   "metadata": {},
   "outputs": [
    {
     "data": {
      "text/plain": [
       "['keras_metadata.pb', 'variables', 'saved_model.pb', 'assets']"
      ]
     },
     "execution_count": 67,
     "metadata": {},
     "output_type": "execute_result"
    }
   ],
   "source": [
    "os.listdir(\"Dense_1.tf\")"
   ]
  },
  {
   "cell_type": "code",
   "execution_count": 68,
   "id": "13c25ce0",
   "metadata": {},
   "outputs": [
    {
     "name": "stderr",
     "output_type": "stream",
     "text": [
      "2022-10-15 21:43:29.711748: I tensorflow/core/grappler/optimizers/custom_graph_optimizer_registry.cc:113] Plugin optimizer for device_type GPU is enabled.\n",
      "2022-10-15 21:43:29.716933: I tensorflow/core/grappler/optimizers/custom_graph_optimizer_registry.cc:113] Plugin optimizer for device_type GPU is enabled.\n"
     ]
    }
   ],
   "source": [
    "# let's load the best model...\n",
    "model_2 = tf.keras.models.load_model(\"Dense_1.tf\")"
   ]
  },
  {
   "cell_type": "code",
   "execution_count": 72,
   "id": "83bda5bb",
   "metadata": {},
   "outputs": [
    {
     "name": "stdout",
     "output_type": "stream",
     "text": [
      "111/111 [==============================] - 0s 4ms/step\n"
     ]
    },
    {
     "data": {
      "text/plain": [
       "{'Accuracy': 0.6301641199773628,\n",
       " 'Precision': 0.7261887709362999,\n",
       " 'Recall': 0.6301641199773628,\n",
       " 'F_Score': 0.674466392261605}"
      ]
     },
     "execution_count": 72,
     "metadata": {},
     "output_type": "execute_result"
    }
   ],
   "source": [
    "# make predictions and calculate the results...\n",
    "model_2_results = calculate_results(test_labels,tf.squeeze(tf.round(model_2.predict(test_text))))\n",
    "model_2_results"
   ]
  },
  {
   "cell_type": "code",
   "execution_count": 81,
   "id": "2b3da76c",
   "metadata": {},
   "outputs": [],
   "source": [
    "# let's make a function that will plot the model performance......\n",
    "def plot_model_performance(history):\n",
    "    \n",
    "    loss = history.history[\"loss\"]\n",
    "    \n",
    "    val_loss = history.history[\"val_loss\"]\n",
    "    \n",
    "    acc = history.history[\"accuracy\"]\n",
    "    \n",
    "    val_acc = history.history[\"val_accuracy\"]\n",
    "    \n",
    "    epochs = range(len(loss))\n",
    "    \n",
    "    \n",
    "#     plottint the model accuracy vs validation accuracy\n",
    "    plt.plot(epochs,acc,label=\"Training Accuracy\",marker = \"*\",linestyle = \"dotted\")\n",
    "    plt.plot(epochs,val_acc,label=\"Validation Accuracy\",marker = \"P\", linestyle = \"dashed\")\n",
    "    plt.title(\"Training vs Validation Accuracy\")\n",
    "    plt.xlabel(\"Epochs\")\n",
    "    plt.legend(title=\"Accuracy\")\n",
    "    \n",
    "    \n",
    "#     plotting the training vs validation loss\n",
    "    plt.figure()\n",
    "    plt.plot(epochs,loss,label=\"Training Loss\",marker=\"1\", linestyle = \"dotted\")\n",
    "    plt.plot(epochs,val_loss,label=\"Validation Loss\",marker = \"2\", linestyle = \"dashed\")\n",
    "    plt.title(\"Training vs Validation Loss\")\n",
    "    plt.xlabel(\"Epochs\")\n",
    "    plt.legend(title=\"Loss\")\n",
    "    plt.show()"
   ]
  },
  {
   "cell_type": "code",
   "execution_count": 82,
   "id": "a1cae2d2",
   "metadata": {},
   "outputs": [
    {
     "data": {
      "image/png": "[encoded data removed]",
      "text/plain": [
       "<Figure size 432x288 with 1 Axes>"
      ]
     },
     "metadata": {
      "needs_background": "light"
     },
     "output_type": "display_data"
    },
    {
     "data": {
      "image/png": "[encoded data removed]",
      "text/plain": [
       "<Figure size 432x288 with 1 Axes>"
      ]
     },
     "metadata": {
      "needs_background": "light"
     },
     "output_type": "display_data"
    }
   ],
   "source": [
    "# plot the model performance...\n",
    "plot_model_performance(history_1)"
   ]
  },
  {
   "cell_type": "markdown",
   "id": "d8d6ef3f",
   "metadata": {},
   "source": [
    "# Model 3 : LSTM"
   ]
  },
  {
   "cell_type": "code",
   "execution_count": 86,
   "id": "eaedaf8c",
   "metadata": {},
   "outputs": [],
   "source": [
    "# let's build the 3rd Model LSTM (Long-Short-Term-Memory)\n",
    "\n",
    "# set the random seed\n",
    "tf.random.set_seed(42)\n",
    "\n",
    "# define the input layer.....\n",
    "inputs = layers.Input(shape=(),dtype=\"string\")\n",
    "# pass the input layer to tokenization....\n",
    "x = token(inputs)\n",
    "# pass the token into embedd layer.....\n",
    "x = embedd(x)\n",
    "\n",
    "# hidden layer.....\n",
    "x = layers.Dense(64,activation=\"relu\")(x)\n",
    "# adding the 2nd layers....\n",
    "x = layers.Dense(32,activation=\"relu\")(x)\n",
    "# adding the lstm layer\n",
    "x = layers.LSTM(64,return_sequences=True)(x)\n",
    "\n",
    "# adding the drop-out layer...\n",
    "x = layers.Dropout(0.1)(x)\n",
    "\n",
    "# LSTM layer\n",
    "x = layers.LSTM(32,)(x)\n",
    "\n",
    "# output layer....\n",
    "output = layers.Dense(3,activation=\"softmax\")(x)\n",
    "\n",
    "# model building....\n",
    "model_3 = tf.keras.Model(inputs,output,name=\"LSTM_Model\")\n",
    "\n",
    "# compiling the model...\n",
    "model_3.compile(loss=\"categorical_crossentropy\",\n",
    "               optimizer=\"rmsprop\",\n",
    "               metrics=[\"accuracy\"])"
   ]
  },
  {
   "cell_type": "code",
   "execution_count": 87,
   "id": "6a9af1e8",
   "metadata": {},
   "outputs": [
    {
     "name": "stdout",
     "output_type": "stream",
     "text": [
      "Model: \"LSTM_Model\"\n",
      "_________________________________________________________________\n",
      " Layer (type)                Output Shape              Param #   \n",
      "=================================================================\n",
      " input_7 (InputLayer)        [(None,)]                 0         \n",
      "                                                                 \n",
      " text_vectorization (TextVec  (None, 15)               0         \n",
      " torization)                                                     \n",
      "                                                                 \n",
      " embedding (Embedding)       (None, 15, 256)           3840000   \n",
      "                                                                 \n",
      " dense_18 (Dense)            (None, 15, 64)            16448     \n",
      "                                                                 \n",
      " dense_19 (Dense)            (None, 15, 32)            2080      \n",
      "                                                                 \n",
      " lstm_2 (LSTM)               (None, 15, 64)            24832     \n",
      "                                                                 \n",
      " dropout_1 (Dropout)         (None, 15, 64)            0         \n",
      "                                                                 \n",
      " lstm_3 (LSTM)               (None, 32)                12416     \n",
      "                                                                 \n",
      " dense_20 (Dense)            (None, 3)                 99        \n",
      "                                                                 \n",
      "=================================================================\n",
      "Total params: 3,895,875\n",
      "Trainable params: 3,895,875\n",
      "Non-trainable params: 0\n",
      "_________________________________________________________________\n"
     ]
    }
   ],
   "source": [
    "# model summary....\n",
    "model_3.summary()"
   ]
  },
  {
   "cell_type": "code",
   "execution_count": 88,
   "id": "cf429cf6",
   "metadata": {},
   "outputs": [
    {
     "name": "stdout",
     "output_type": "stream",
     "text": [
      "Epoch 1/10\n"
     ]
    },
    {
     "name": "stderr",
     "output_type": "stream",
     "text": [
      "2022-10-15 22:35:42.189366: I tensorflow/core/grappler/optimizers/custom_graph_optimizer_registry.cc:113] Plugin optimizer for device_type GPU is enabled.\n",
      "2022-10-15 22:35:42.447285: I tensorflow/core/grappler/optimizers/custom_graph_optimizer_registry.cc:113] Plugin optimizer for device_type GPU is enabled.\n",
      "2022-10-15 22:35:43.469964: I tensorflow/core/grappler/optimizers/custom_graph_optimizer_registry.cc:113] Plugin optimizer for device_type GPU is enabled.\n",
      "2022-10-15 22:35:43.652966: I tensorflow/core/grappler/optimizers/custom_graph_optimizer_registry.cc:113] Plugin optimizer for device_type GPU is enabled.\n"
     ]
    },
    {
     "name": "stdout",
     "output_type": "stream",
     "text": [
      "\r",
      "  1/859 [..............................] - ETA: 48:33 - loss: 1.1173 - accuracy: 0.2812"
     ]
    },
    {
     "name": "stderr",
     "output_type": "stream",
     "text": [
      "2022-10-15 22:35:44.157840: I tensorflow/core/grappler/optimizers/custom_graph_optimizer_registry.cc:113] Plugin optimizer for device_type GPU is enabled.\n"
     ]
    },
    {
     "name": "stdout",
     "output_type": "stream",
     "text": [
      "859/859 [==============================] - ETA: 0s - loss: 0.5752 - accuracy: 0.7694"
     ]
    },
    {
     "name": "stderr",
     "output_type": "stream",
     "text": [
      "2022-10-15 22:36:13.733698: I tensorflow/core/grappler/optimizers/custom_graph_optimizer_registry.cc:113] Plugin optimizer for device_type GPU is enabled.\n",
      "2022-10-15 22:36:13.838635: I tensorflow/core/grappler/optimizers/custom_graph_optimizer_registry.cc:113] Plugin optimizer for device_type GPU is enabled.\n",
      "2022-10-15 22:36:13.885725: I tensorflow/core/grappler/optimizers/custom_graph_optimizer_registry.cc:113] Plugin optimizer for device_type GPU is enabled.\n",
      "WARNING:absl:Found untraced functions such as lstm_cell_2_layer_call_fn, lstm_cell_2_layer_call_and_return_conditional_losses, lstm_cell_3_layer_call_fn, lstm_cell_3_layer_call_and_return_conditional_losses while saving (showing 4 of 4). These functions will not be directly callable after loading.\n"
     ]
    },
    {
     "name": "stdout",
     "output_type": "stream",
     "text": [
      "INFO:tensorflow:Assets written to: LSTM.tf/assets\n"
     ]
    },
    {
     "name": "stderr",
     "output_type": "stream",
     "text": [
      "INFO:tensorflow:Assets written to: LSTM.tf/assets\n"
     ]
    },
    {
     "name": "stdout",
     "output_type": "stream",
     "text": [
      "859/859 [==============================] - 41s 44ms/step - loss: 0.5752 - accuracy: 0.7694 - val_loss: 0.8205 - val_accuracy: 0.6573\n",
      "Epoch 2/10\n",
      "859/859 [==============================] - 30s 35ms/step - loss: 0.4795 - accuracy: 0.8158 - val_loss: 0.8366 - val_accuracy: 0.6559\n",
      "Epoch 3/10\n",
      "859/859 [==============================] - 29s 34ms/step - loss: 0.4472 - accuracy: 0.8312 - val_loss: 0.8615 - val_accuracy: 0.6565\n",
      "Epoch 4/10\n",
      "859/859 [==============================] - 29s 33ms/step - loss: 0.4276 - accuracy: 0.8392 - val_loss: 0.8580 - val_accuracy: 0.6650\n",
      "Epoch 5/10\n",
      "859/859 [==============================] - 29s 34ms/step - loss: 0.4141 - accuracy: 0.8448 - val_loss: 0.8521 - val_accuracy: 0.6644\n",
      "Epoch 6/10\n",
      "859/859 [==============================] - 29s 34ms/step - loss: 0.4045 - accuracy: 0.8483 - val_loss: 0.8650 - val_accuracy: 0.6590\n",
      "Epoch 7/10\n",
      "859/859 [==============================] - 29s 34ms/step - loss: 0.3929 - accuracy: 0.8527 - val_loss: 0.9648 - val_accuracy: 0.6528\n",
      "Epoch 8/10\n",
      "859/859 [==============================] - 29s 34ms/step - loss: 0.3861 - accuracy: 0.8549 - val_loss: 0.9040 - val_accuracy: 0.6616\n",
      "Epoch 9/10\n",
      "859/859 [==============================] - 29s 34ms/step - loss: 0.3748 - accuracy: 0.8596 - val_loss: 0.8530 - val_accuracy: 0.6718\n",
      "Epoch 10/10\n",
      "859/859 [==============================] - 29s 34ms/step - loss: 0.3643 - accuracy: 0.8642 - val_loss: 0.9048 - val_accuracy: 0.6593\n"
     ]
    }
   ],
   "source": [
    "# fitting the model to data....\n",
    "history_3 = model_3.fit(train_text, train_labels,\n",
    "                       epochs = 10,\n",
    "                       validation_data = (test_text,test_labels),\n",
    "                       validation_split = int(len(test_text) * 0.25),\n",
    "                        callbacks = [tf.keras.callbacks.ModelCheckpoint(\"LSTM.tf\",\n",
    "                                                                               save_best_only=True)])"
   ]
  },
  {
   "cell_type": "code",
   "execution_count": 90,
   "id": "43110af0",
   "metadata": {},
   "outputs": [
    {
     "name": "stdout",
     "output_type": "stream",
     "text": [
      "111/111 [==============================] - 1s 9ms/step\n"
     ]
    },
    {
     "data": {
      "text/plain": [
       "{'Accuracy': 0.6329937747594794,\n",
       " 'Precision': 0.6751993131125321,\n",
       " 'Recall': 0.6329937747594794,\n",
       " 'F_Score': 0.6527064136475653}"
      ]
     },
     "execution_count": 90,
     "metadata": {},
     "output_type": "execute_result"
    }
   ],
   "source": [
    "# make prediction and calculate results....\n",
    "model_3_results = calculate_results(test_labels, tf.squeeze(tf.round(model_3.predict(test_text))))\n",
    "model_3_results"
   ]
  },
  {
   "cell_type": "code",
   "execution_count": 91,
   "id": "d4fe0216",
   "metadata": {},
   "outputs": [
    {
     "data": {
      "image/png": "[encoded data removed]",
      "text/plain": [
       "<Figure size 432x288 with 1 Axes>"
      ]
     },
     "metadata": {
      "needs_background": "light"
     },
     "output_type": "display_data"
    },
    {
     "data": {
      "image/png": "[encoded data removed]",
      "text/plain": [
       "<Figure size 432x288 with 1 Axes>"
      ]
     },
     "metadata": {
      "needs_background": "light"
     },
     "output_type": "display_data"
    }
   ],
   "source": [
    "# plot model performance...\n",
    "plot_model_performance(history_3)"
   ]
  },
  {
   "cell_type": "markdown",
   "id": "b8a2d369",
   "metadata": {},
   "source": [
    "# Model 4 : GRU"
   ]
  },
  {
   "cell_type": "code",
   "execution_count": 92,
   "id": "b3c8291b",
   "metadata": {},
   "outputs": [],
   "source": [
    "# let's build the Model GRU(Gated Recurrent Units)\n",
    "\n",
    "# set the random seed\n",
    "tf.random.set_seed(42)\n",
    "\n",
    "# define the input layer.....\n",
    "inputs = layers.Input(shape=(),dtype=\"string\")\n",
    "# pass the input layer to tokenization....\n",
    "x = token(inputs)\n",
    "# pass the token into embedd layer.....\n",
    "x = embedd(x)\n",
    "\n",
    "# hidden layer.....\n",
    "x = layers.Dense(64,activation=\"relu\")(x)\n",
    "\n",
    "# adding drop-out layer....\n",
    "x = layers.Dropout(0.1)(x)\n",
    "\n",
    "# adding the 2nd layers....\n",
    "x = layers.Dense(32,activation=\"relu\")(x)\n",
    "\n",
    "# adding the lstm layer\n",
    "x = layers.GRU(64,return_sequences=True)(x)\n",
    "\n",
    "# adding the drop-out layer...\n",
    "x = layers.Dropout(0.1)(x)\n",
    "\n",
    "# LSTM layer\n",
    "x = layers.GRU(32,)(x)\n",
    "\n",
    "# output layer....\n",
    "output = layers.Dense(3,activation=\"sigmoid\")(x)\n",
    "\n",
    "# model building....\n",
    "model_4 = tf.keras.Model(inputs,output,name=\"LSTM_Model\")\n",
    "\n",
    "# compiling the model...\n",
    "model_4.compile(loss=\"categorical_crossentropy\",\n",
    "               optimizer=tf.keras.optimizers.Adam(),\n",
    "               metrics=[\"accuracy\"])"
   ]
  },
  {
   "cell_type": "code",
   "execution_count": 93,
   "id": "a6df4ebc",
   "metadata": {},
   "outputs": [
    {
     "name": "stdout",
     "output_type": "stream",
     "text": [
      "Model: \"LSTM_Model\"\n",
      "_________________________________________________________________\n",
      " Layer (type)                Output Shape              Param #   \n",
      "=================================================================\n",
      " input_8 (InputLayer)        [(None,)]                 0         \n",
      "                                                                 \n",
      " text_vectorization (TextVec  (None, 15)               0         \n",
      " torization)                                                     \n",
      "                                                                 \n",
      " embedding (Embedding)       (None, 15, 256)           3840000   \n",
      "                                                                 \n",
      " dense_21 (Dense)            (None, 15, 64)            16448     \n",
      "                                                                 \n",
      " dropout_2 (Dropout)         (None, 15, 64)            0         \n",
      "                                                                 \n",
      " dense_22 (Dense)            (None, 15, 32)            2080      \n",
      "                                                                 \n",
      " gru (GRU)                   (None, 15, 64)            18816     \n",
      "                                                                 \n",
      " dropout_3 (Dropout)         (None, 15, 64)            0         \n",
      "                                                                 \n",
      " gru_1 (GRU)                 (None, 32)                9408      \n",
      "                                                                 \n",
      " dense_23 (Dense)            (None, 3)                 99        \n",
      "                                                                 \n",
      "=================================================================\n",
      "Total params: 3,886,851\n",
      "Trainable params: 3,886,851\n",
      "Non-trainable params: 0\n",
      "_________________________________________________________________\n"
     ]
    }
   ],
   "source": [
    "# model summary...\n",
    "model_4.summary()"
   ]
  },
  {
   "cell_type": "code",
   "execution_count": 97,
   "id": "3dc0ad29",
   "metadata": {},
   "outputs": [
    {
     "name": "stdout",
     "output_type": "stream",
     "text": [
      "Epoch 1/10\n",
      "859/859 [==============================] - 32s 37ms/step - loss: 0.6247 - accuracy: 0.7392 - val_loss: 0.8643 - val_accuracy: 0.6171\n",
      "Epoch 2/10\n",
      "859/859 [==============================] - 33s 38ms/step - loss: 0.6228 - accuracy: 0.7389 - val_loss: 0.9045 - val_accuracy: 0.6112\n",
      "Epoch 3/10\n",
      "859/859 [==============================] - 32s 38ms/step - loss: 0.5975 - accuracy: 0.7551 - val_loss: 0.8832 - val_accuracy: 0.6285\n",
      "Epoch 4/10\n",
      "859/859 [==============================] - 32s 37ms/step - loss: 0.5713 - accuracy: 0.7685 - val_loss: 0.9082 - val_accuracy: 0.6242\n",
      "Epoch 5/10\n",
      "859/859 [==============================] - 33s 38ms/step - loss: 0.5730 - accuracy: 0.7676 - val_loss: 0.9048 - val_accuracy: 0.6203\n",
      "Epoch 6/10\n",
      "859/859 [==============================] - 32s 38ms/step - loss: 0.5762 - accuracy: 0.7686 - val_loss: 0.9076 - val_accuracy: 0.6222\n",
      "Epoch 7/10\n",
      "859/859 [==============================] - 32s 37ms/step - loss: 0.5730 - accuracy: 0.7721 - val_loss: 0.9381 - val_accuracy: 0.6177\n",
      "Epoch 8/10\n",
      "859/859 [==============================] - 32s 38ms/step - loss: 0.5859 - accuracy: 0.7652 - val_loss: 0.9243 - val_accuracy: 0.6197\n",
      "Epoch 9/10\n",
      "859/859 [==============================] - 32s 37ms/step - loss: 0.5869 - accuracy: 0.7648 - val_loss: 0.9058 - val_accuracy: 0.6248\n",
      "Epoch 10/10\n",
      "859/859 [==============================] - 31s 36ms/step - loss: 0.5939 - accuracy: 0.7607 - val_loss: 0.9220 - val_accuracy: 0.6169\n"
     ]
    }
   ],
   "source": [
    "# fitting the model to data....\n",
    "history_4 = model_4.fit(train_text, train_labels,\n",
    "                       epochs = 10,\n",
    "                       validation_data = (test_text,test_labels),\n",
    "                       validation_split = int(len(test_text) * 0.30))"
   ]
  },
  {
   "cell_type": "code",
   "execution_count": 98,
   "id": "af87f06b",
   "metadata": {},
   "outputs": [
    {
     "name": "stdout",
     "output_type": "stream",
     "text": [
      "111/111 [==============================] - 1s 9ms/step\n"
     ]
    },
    {
     "data": {
      "text/plain": [
       "{'Accuracy': 0.2416525183927561,\n",
       " 'Precision': 0.49978775434414197,\n",
       " 'Recall': 0.8217317487266553,\n",
       " 'F_Score': 0.6172838223710903}"
      ]
     },
     "execution_count": 98,
     "metadata": {},
     "output_type": "execute_result"
    }
   ],
   "source": [
    "# make prediction and calculate results....\n",
    "model_4_results = calculate_results(test_labels, tf.squeeze(tf.round(model_4.predict(test_text))))\n",
    "model_4_results"
   ]
  },
  {
   "cell_type": "code",
   "execution_count": 99,
   "id": "abc99400",
   "metadata": {},
   "outputs": [
    {
     "data": {
      "image/png": "[encoded data removed]",
      "text/plain": [
       "<Figure size 432x288 with 1 Axes>"
      ]
     },
     "metadata": {
      "needs_background": "light"
     },
     "output_type": "display_data"
    },
    {
     "data": {
      "image/png": "[encoded data removed]",
      "text/plain": [
       "<Figure size 432x288 with 1 Axes>"
      ]
     },
     "metadata": {
      "needs_background": "light"
     },
     "output_type": "display_data"
    }
   ],
   "source": [
    "# plot model performance....\n",
    "plot_model_performance(history_4)"
   ]
  },
  {
   "cell_type": "markdown",
   "id": "da9f8578",
   "metadata": {},
   "source": [
    "# Model 5 : BiDirectional "
   ]
  },
  {
   "cell_type": "code",
   "execution_count": 105,
   "id": "c9da50dd",
   "metadata": {},
   "outputs": [],
   "source": [
    "# let's build the BiDirectional Model....\n",
    "\n",
    "# set the random seed\n",
    "tf.random.set_seed(42)\n",
    "\n",
    "# define the input layer.....\n",
    "inputs = layers.Input(shape=(),dtype=\"string\")\n",
    "# pass the input layer to tokenization....\n",
    "x = token(inputs)\n",
    "# pass the token into embedd layer.....\n",
    "x = embedd(x)\n",
    "\n",
    "# adding the Bidirectional layer\n",
    "x = layers.Bidirectional(layers.LSTM(64,return_sequences=True))(x)\n",
    "\n",
    "# Bidirectional layer\n",
    "x = layers.Bidirectional(layers.LSTM(32,))(x)\n",
    "\n",
    "# output layer....\n",
    "output = layers.Dense(3,activation=\"sigmoid\")(x)\n",
    "\n",
    "# model building....\n",
    "model_5 = tf.keras.Model(inputs,output,name=\"LSTM_Model\")\n",
    "\n",
    "# compiling the model...\n",
    "model_5.compile(loss=\"categorical_crossentropy\",\n",
    "               optimizer=\"rmsprop\",\n",
    "               metrics=[\"accuracy\"])"
   ]
  },
  {
   "cell_type": "code",
   "execution_count": 106,
   "id": "4f650cc6",
   "metadata": {},
   "outputs": [
    {
     "name": "stdout",
     "output_type": "stream",
     "text": [
      "Model: \"LSTM_Model\"\n",
      "_________________________________________________________________\n",
      " Layer (type)                Output Shape              Param #   \n",
      "=================================================================\n",
      " input_10 (InputLayer)       [(None,)]                 0         \n",
      "                                                                 \n",
      " text_vectorization (TextVec  (None, 15)               0         \n",
      " torization)                                                     \n",
      "                                                                 \n",
      " embedding (Embedding)       (None, 15, 256)           3840000   \n",
      "                                                                 \n",
      " bidirectional_2 (Bidirectio  (None, 15, 128)          164352    \n",
      " nal)                                                            \n",
      "                                                                 \n",
      " bidirectional_3 (Bidirectio  (None, 64)               41216     \n",
      " nal)                                                            \n",
      "                                                                 \n",
      " dense_27 (Dense)            (None, 3)                 195       \n",
      "                                                                 \n",
      "=================================================================\n",
      "Total params: 4,045,763\n",
      "Trainable params: 4,045,763\n",
      "Non-trainable params: 0\n",
      "_________________________________________________________________\n"
     ]
    }
   ],
   "source": [
    "# model summary....\n",
    "model_5.summary()"
   ]
  },
  {
   "cell_type": "code",
   "execution_count": 107,
   "id": "6775630b",
   "metadata": {},
   "outputs": [
    {
     "name": "stdout",
     "output_type": "stream",
     "text": [
      "Epoch 1/10\n"
     ]
    },
    {
     "name": "stderr",
     "output_type": "stream",
     "text": [
      "2022-10-15 23:41:43.803648: I tensorflow/core/grappler/optimizers/custom_graph_optimizer_registry.cc:113] Plugin optimizer for device_type GPU is enabled.\n",
      "2022-10-15 23:41:44.241770: I tensorflow/core/grappler/optimizers/custom_graph_optimizer_registry.cc:113] Plugin optimizer for device_type GPU is enabled.\n",
      "2022-10-15 23:41:44.253277: I tensorflow/core/grappler/optimizers/custom_graph_optimizer_registry.cc:113] Plugin optimizer for device_type GPU is enabled.\n",
      "2022-10-15 23:41:44.389229: I tensorflow/core/grappler/optimizers/custom_graph_optimizer_registry.cc:113] Plugin optimizer for device_type GPU is enabled.\n",
      "2022-10-15 23:41:44.399331: I tensorflow/core/grappler/optimizers/custom_graph_optimizer_registry.cc:113] Plugin optimizer for device_type GPU is enabled.\n",
      "2022-10-15 23:41:44.592483: I tensorflow/core/grappler/optimizers/custom_graph_optimizer_registry.cc:113] Plugin optimizer for device_type GPU is enabled.\n",
      "2022-10-15 23:41:44.608263: I tensorflow/core/grappler/optimizers/custom_graph_optimizer_registry.cc:113] Plugin optimizer for device_type GPU is enabled.\n",
      "2022-10-15 23:41:44.874549: I tensorflow/core/grappler/optimizers/custom_graph_optimizer_registry.cc:113] Plugin optimizer for device_type GPU is enabled.\n",
      "2022-10-15 23:41:44.907552: I tensorflow/core/grappler/optimizers/custom_graph_optimizer_registry.cc:113] Plugin optimizer for device_type GPU is enabled.\n"
     ]
    },
    {
     "name": "stdout",
     "output_type": "stream",
     "text": [
      "859/859 [==============================] - ETA: 0s - loss: 0.4941 - accuracy: 0.8111"
     ]
    },
    {
     "name": "stderr",
     "output_type": "stream",
     "text": [
      "2022-10-15 23:42:26.531842: I tensorflow/core/grappler/optimizers/custom_graph_optimizer_registry.cc:113] Plugin optimizer for device_type GPU is enabled.\n",
      "2022-10-15 23:42:26.663548: I tensorflow/core/grappler/optimizers/custom_graph_optimizer_registry.cc:113] Plugin optimizer for device_type GPU is enabled.\n",
      "2022-10-15 23:42:26.670779: I tensorflow/core/grappler/optimizers/custom_graph_optimizer_registry.cc:113] Plugin optimizer for device_type GPU is enabled.\n",
      "2022-10-15 23:42:26.763808: I tensorflow/core/grappler/optimizers/custom_graph_optimizer_registry.cc:113] Plugin optimizer for device_type GPU is enabled.\n",
      "2022-10-15 23:42:26.771083: I tensorflow/core/grappler/optimizers/custom_graph_optimizer_registry.cc:113] Plugin optimizer for device_type GPU is enabled.\n"
     ]
    },
    {
     "name": "stdout",
     "output_type": "stream",
     "text": [
      "859/859 [==============================] - 47s 51ms/step - loss: 0.4941 - accuracy: 0.8111 - val_loss: 0.8505 - val_accuracy: 0.6621\n",
      "Epoch 2/10\n",
      "859/859 [==============================] - 40s 47ms/step - loss: 0.4019 - accuracy: 0.8517 - val_loss: 0.8841 - val_accuracy: 0.6587\n",
      "Epoch 3/10\n",
      "859/859 [==============================] - 42s 49ms/step - loss: 0.3612 - accuracy: 0.8675 - val_loss: 0.9013 - val_accuracy: 0.6630\n",
      "Epoch 4/10\n",
      "859/859 [==============================] - 42s 49ms/step - loss: 0.3280 - accuracy: 0.8809 - val_loss: 0.9662 - val_accuracy: 0.6636\n",
      "Epoch 5/10\n",
      "859/859 [==============================] - 41s 48ms/step - loss: 0.2967 - accuracy: 0.8914 - val_loss: 0.9582 - val_accuracy: 0.6621\n",
      "Epoch 6/10\n",
      "859/859 [==============================] - 42s 49ms/step - loss: 0.2646 - accuracy: 0.9044 - val_loss: 1.0424 - val_accuracy: 0.6573\n",
      "Epoch 7/10\n",
      "859/859 [==============================] - 41s 48ms/step - loss: 0.2312 - accuracy: 0.9190 - val_loss: 1.0997 - val_accuracy: 0.6553\n",
      "Epoch 8/10\n",
      "859/859 [==============================] - 41s 48ms/step - loss: 0.2019 - accuracy: 0.9283 - val_loss: 1.1994 - val_accuracy: 0.6522\n",
      "Epoch 9/10\n",
      "859/859 [==============================] - 41s 47ms/step - loss: 0.1677 - accuracy: 0.9421 - val_loss: 1.3303 - val_accuracy: 0.6548\n",
      "Epoch 10/10\n",
      "859/859 [==============================] - 41s 47ms/step - loss: 0.1401 - accuracy: 0.9517 - val_loss: 1.5105 - val_accuracy: 0.6429\n"
     ]
    }
   ],
   "source": [
    "# fitting model to data...\n",
    "history_5 = model_5.fit(train_text, train_labels,\n",
    "                       epochs = 10,\n",
    "                       validation_data = (test_text,test_labels),\n",
    "                       validation_split = int(len(test_text) * 0.30))"
   ]
  },
  {
   "cell_type": "code",
   "execution_count": 108,
   "id": "8c6458fd",
   "metadata": {},
   "outputs": [
    {
     "name": "stderr",
     "output_type": "stream",
     "text": [
      "2022-10-15 23:50:26.963805: I tensorflow/core/grappler/optimizers/custom_graph_optimizer_registry.cc:113] Plugin optimizer for device_type GPU is enabled.\n",
      "2022-10-15 23:50:27.112119: I tensorflow/core/grappler/optimizers/custom_graph_optimizer_registry.cc:113] Plugin optimizer for device_type GPU is enabled.\n",
      "2022-10-15 23:50:27.132859: I tensorflow/core/grappler/optimizers/custom_graph_optimizer_registry.cc:113] Plugin optimizer for device_type GPU is enabled.\n"
     ]
    },
    {
     "name": "stdout",
     "output_type": "stream",
     "text": [
      "  3/111 [..............................] - ETA: 3s  "
     ]
    },
    {
     "name": "stderr",
     "output_type": "stream",
     "text": [
      "2022-10-15 23:50:27.254185: I tensorflow/core/grappler/optimizers/custom_graph_optimizer_registry.cc:113] Plugin optimizer for device_type GPU is enabled.\n",
      "2022-10-15 23:50:27.261888: I tensorflow/core/grappler/optimizers/custom_graph_optimizer_registry.cc:113] Plugin optimizer for device_type GPU is enabled.\n"
     ]
    },
    {
     "name": "stdout",
     "output_type": "stream",
     "text": [
      "111/111 [==============================] - 3s 16ms/step\n"
     ]
    },
    {
     "data": {
      "text/plain": [
       "{'Accuracy': 0.5684776457272213,\n",
       " 'Precision': 0.6135321407244625,\n",
       " 'Recall': 0.7068477645727221,\n",
       " 'F_Score': 0.6562491513993478}"
      ]
     },
     "execution_count": 108,
     "metadata": {},
     "output_type": "execute_result"
    }
   ],
   "source": [
    "# make predictions and calculate results....\n",
    "model_5_results = calculate_results(test_labels,tf.squeeze(tf.round(model_5.predict(test_text))))\n",
    "model_5_results"
   ]
  },
  {
   "cell_type": "code",
   "execution_count": 109,
   "id": "0314b5b1",
   "metadata": {},
   "outputs": [
    {
     "data": {
      "image/png": "[encoded data removed]",
      "text/plain": [
       "<Figure size 432x288 with 1 Axes>"
      ]
     },
     "metadata": {
      "needs_background": "light"
     },
     "output_type": "display_data"
    },
    {
     "data": {
      "image/png": "[encoded data removed]",
      "text/plain": [
       "<Figure size 432x288 with 1 Axes>"
      ]
     },
     "metadata": {
      "needs_background": "light"
     },
     "output_type": "display_data"
    }
   ],
   "source": [
    "# plot model performance....\n",
    "plot_model_performance(history_5)"
   ]
  },
  {
   "cell_type": "code",
   "execution_count": null,
   "id": "89d94a5b",
   "metadata": {},
   "outputs": [],
   "source": []
  }
 ],
 "metadata": {
  "kernelspec": {
   "display_name": "Python 3 (ipykernel)",
   "language": "python",
   "name": "python3"
  },
  "language_info": {
   "codemirror_mode": {
    "name": "ipython",
    "version": 3
   },
   "file_extension": ".py",
   "mimetype": "text/x-python",
   "name": "python",
   "nbconvert_exporter": "python",
   "pygments_lexer": "ipython3",
   "version": "3.8.13"
  }
 },
 "nbformat": 4,
 "nbformat_minor": 5
}
