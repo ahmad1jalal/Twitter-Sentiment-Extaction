{
 "cells": [
  {
   "cell_type": "markdown",
   "id": "8c3fa27a",
   "metadata": {},
   "source": [
    "# importing libraries...."
   ]
  },
  {
   "cell_type": "code",
   "execution_count": 1,
   "id": "bc55e243",
   "metadata": {},
   "outputs": [],
   "source": [
    "import pandas  as pd\n",
    "import numpy as np\n",
    "import matplotlib.pyplot as plt\n",
    "import seaborn as sns\n",
    "from nltk.corpus import stopwords\n",
    "from collections import Counter\n",
    "import re\n",
    "import tensorflow as tf\n",
    "from tensorflow.keras.layers import TextVectorization, Embedding\n",
    "import warnings\n",
    "import random\n",
    "import tensorflow_hub as hub\n",
    "import os\n",
    "from sklearn.naive_bayes import MultinomialNB\n",
    "from sklearn.feature_extraction.text import TfidfVectorizer\n",
    "from sklearn.pipeline import Pipeline\n",
    "from sklearn.metrics import accuracy_score,precision_recall_fscore_support\n",
    "from tensorflow.keras import layers\n",
    "from keras.utils import to_categorical"
   ]
  },
  {
   "cell_type": "code",
   "execution_count": 2,
   "id": "c7cdd4ad",
   "metadata": {},
   "outputs": [
    {
     "name": "stdout",
     "output_type": "stream",
     "text": [
      "TensorFlow has access to following devices : \n",
      ". PhysicalDevice(name='/physical_device:CPU:0', device_type='CPU')\n",
      ". PhysicalDevice(name='/physical_device:GPU:0', device_type='GPU')\n"
     ]
    }
   ],
   "source": [
    "# check for GPU...\n",
    "print(f\"TensorFlow has access to following devices : \")\n",
    "for device in tf.config.list_physical_devices():\n",
    "    print(f\". {device}\")"
   ]
  },
  {
   "cell_type": "code",
   "execution_count": 3,
   "id": "7e7c9276",
   "metadata": {},
   "outputs": [],
   "source": [
    "# filter warnings...\n",
    "warnings.filterwarnings(\"ignore\")"
   ]
  },
  {
   "cell_type": "markdown",
   "id": "be875eee",
   "metadata": {},
   "source": [
    "# EDA"
   ]
  },
  {
   "cell_type": "code",
   "execution_count": 4,
   "id": "5047c17e",
   "metadata": {},
   "outputs": [
    {
     "data": {
      "text/html": [
       "<div>\n",
       "<style scoped>\n",
       "    .dataframe tbody tr th:only-of-type {\n",
       "        vertical-align: middle;\n",
       "    }\n",
       "\n",
       "    .dataframe tbody tr th {\n",
       "        vertical-align: top;\n",
       "    }\n",
       "\n",
       "    .dataframe thead th {\n",
       "        text-align: right;\n",
       "    }\n",
       "</style>\n",
       "<table border=\"1\" class=\"dataframe\">\n",
       "  <thead>\n",
       "    <tr style=\"text-align: right;\">\n",
       "      <th></th>\n",
       "      <th>textID</th>\n",
       "      <th>text</th>\n",
       "      <th>selected_text</th>\n",
       "      <th>sentiment</th>\n",
       "    </tr>\n",
       "  </thead>\n",
       "  <tbody>\n",
       "    <tr>\n",
       "      <th>0</th>\n",
       "      <td>cb774db0d1</td>\n",
       "      <td>I`d have responded, if I were going</td>\n",
       "      <td>I`d have responded, if I were going</td>\n",
       "      <td>neutral</td>\n",
       "    </tr>\n",
       "    <tr>\n",
       "      <th>1</th>\n",
       "      <td>549e992a42</td>\n",
       "      <td>Sooo SAD I will miss you here in San Diego!!!</td>\n",
       "      <td>Sooo SAD</td>\n",
       "      <td>negative</td>\n",
       "    </tr>\n",
       "    <tr>\n",
       "      <th>2</th>\n",
       "      <td>088c60f138</td>\n",
       "      <td>my boss is bullying me...</td>\n",
       "      <td>bullying me</td>\n",
       "      <td>negative</td>\n",
       "    </tr>\n",
       "    <tr>\n",
       "      <th>3</th>\n",
       "      <td>9642c003ef</td>\n",
       "      <td>what interview! leave me alone</td>\n",
       "      <td>leave me alone</td>\n",
       "      <td>negative</td>\n",
       "    </tr>\n",
       "    <tr>\n",
       "      <th>4</th>\n",
       "      <td>358bd9e861</td>\n",
       "      <td>Sons of ****, why couldn`t they put them on t...</td>\n",
       "      <td>Sons of ****,</td>\n",
       "      <td>negative</td>\n",
       "    </tr>\n",
       "  </tbody>\n",
       "</table>\n",
       "</div>"
      ],
      "text/plain": [
       "       textID                                               text  \\\n",
       "0  cb774db0d1                I`d have responded, if I were going   \n",
       "1  549e992a42      Sooo SAD I will miss you here in San Diego!!!   \n",
       "2  088c60f138                          my boss is bullying me...   \n",
       "3  9642c003ef                     what interview! leave me alone   \n",
       "4  358bd9e861   Sons of ****, why couldn`t they put them on t...   \n",
       "\n",
       "                         selected_text sentiment  \n",
       "0  I`d have responded, if I were going   neutral  \n",
       "1                             Sooo SAD  negative  \n",
       "2                          bullying me  negative  \n",
       "3                       leave me alone  negative  \n",
       "4                        Sons of ****,  negative  "
      ]
     },
     "execution_count": 4,
     "metadata": {},
     "output_type": "execute_result"
    }
   ],
   "source": [
    "# getting the data\n",
    "train = pd.read_csv(\"tweet-sentiment-extraction/train.csv\")\n",
    "test = pd.read_csv(\"tweet-sentiment-extraction/test.csv\")\n",
    "sub = pd.read_csv(\"tweet-sentiment-extraction/sample_submission.csv\")\n",
    "# train data head....\n",
    "train.head()"
   ]
  },
  {
   "cell_type": "code",
   "execution_count": 5,
   "id": "32a0b224",
   "metadata": {},
   "outputs": [
    {
     "data": {
      "text/html": [
       "<div>\n",
       "<style scoped>\n",
       "    .dataframe tbody tr th:only-of-type {\n",
       "        vertical-align: middle;\n",
       "    }\n",
       "\n",
       "    .dataframe tbody tr th {\n",
       "        vertical-align: top;\n",
       "    }\n",
       "\n",
       "    .dataframe thead th {\n",
       "        text-align: right;\n",
       "    }\n",
       "</style>\n",
       "<table border=\"1\" class=\"dataframe\">\n",
       "  <thead>\n",
       "    <tr style=\"text-align: right;\">\n",
       "      <th></th>\n",
       "      <th>textID</th>\n",
       "      <th>text</th>\n",
       "      <th>sentiment</th>\n",
       "    </tr>\n",
       "  </thead>\n",
       "  <tbody>\n",
       "    <tr>\n",
       "      <th>0</th>\n",
       "      <td>f87dea47db</td>\n",
       "      <td>Last session of the day  http://twitpic.com/67ezh</td>\n",
       "      <td>neutral</td>\n",
       "    </tr>\n",
       "    <tr>\n",
       "      <th>1</th>\n",
       "      <td>96d74cb729</td>\n",
       "      <td>Shanghai is also really exciting (precisely -...</td>\n",
       "      <td>positive</td>\n",
       "    </tr>\n",
       "    <tr>\n",
       "      <th>2</th>\n",
       "      <td>eee518ae67</td>\n",
       "      <td>Recession hit Veronique Branquinho, she has to...</td>\n",
       "      <td>negative</td>\n",
       "    </tr>\n",
       "    <tr>\n",
       "      <th>3</th>\n",
       "      <td>01082688c6</td>\n",
       "      <td>happy bday!</td>\n",
       "      <td>positive</td>\n",
       "    </tr>\n",
       "    <tr>\n",
       "      <th>4</th>\n",
       "      <td>33987a8ee5</td>\n",
       "      <td>http://twitpic.com/4w75p - I like it!!</td>\n",
       "      <td>positive</td>\n",
       "    </tr>\n",
       "  </tbody>\n",
       "</table>\n",
       "</div>"
      ],
      "text/plain": [
       "       textID                                               text sentiment\n",
       "0  f87dea47db  Last session of the day  http://twitpic.com/67ezh   neutral\n",
       "1  96d74cb729   Shanghai is also really exciting (precisely -...  positive\n",
       "2  eee518ae67  Recession hit Veronique Branquinho, she has to...  negative\n",
       "3  01082688c6                                        happy bday!  positive\n",
       "4  33987a8ee5             http://twitpic.com/4w75p - I like it!!  positive"
      ]
     },
     "execution_count": 5,
     "metadata": {},
     "output_type": "execute_result"
    }
   ],
   "source": [
    "# test data head....\n",
    "test.head()"
   ]
  },
  {
   "cell_type": "code",
   "execution_count": 6,
   "id": "987c62c2",
   "metadata": {},
   "outputs": [
    {
     "data": {
      "text/html": [
       "<div>\n",
       "<style scoped>\n",
       "    .dataframe tbody tr th:only-of-type {\n",
       "        vertical-align: middle;\n",
       "    }\n",
       "\n",
       "    .dataframe tbody tr th {\n",
       "        vertical-align: top;\n",
       "    }\n",
       "\n",
       "    .dataframe thead th {\n",
       "        text-align: right;\n",
       "    }\n",
       "</style>\n",
       "<table border=\"1\" class=\"dataframe\">\n",
       "  <thead>\n",
       "    <tr style=\"text-align: right;\">\n",
       "      <th></th>\n",
       "      <th>textID</th>\n",
       "      <th>selected_text</th>\n",
       "    </tr>\n",
       "  </thead>\n",
       "  <tbody>\n",
       "    <tr>\n",
       "      <th>0</th>\n",
       "      <td>f87dea47db</td>\n",
       "      <td>NaN</td>\n",
       "    </tr>\n",
       "    <tr>\n",
       "      <th>1</th>\n",
       "      <td>96d74cb729</td>\n",
       "      <td>NaN</td>\n",
       "    </tr>\n",
       "    <tr>\n",
       "      <th>2</th>\n",
       "      <td>eee518ae67</td>\n",
       "      <td>NaN</td>\n",
       "    </tr>\n",
       "    <tr>\n",
       "      <th>3</th>\n",
       "      <td>01082688c6</td>\n",
       "      <td>NaN</td>\n",
       "    </tr>\n",
       "    <tr>\n",
       "      <th>4</th>\n",
       "      <td>33987a8ee5</td>\n",
       "      <td>NaN</td>\n",
       "    </tr>\n",
       "  </tbody>\n",
       "</table>\n",
       "</div>"
      ],
      "text/plain": [
       "       textID  selected_text\n",
       "0  f87dea47db            NaN\n",
       "1  96d74cb729            NaN\n",
       "2  eee518ae67            NaN\n",
       "3  01082688c6            NaN\n",
       "4  33987a8ee5            NaN"
      ]
     },
     "execution_count": 6,
     "metadata": {},
     "output_type": "execute_result"
    }
   ],
   "source": [
    "# submissive data...\n",
    "sub.head()"
   ]
  },
  {
   "cell_type": "code",
   "execution_count": 7,
   "id": "8b922c64",
   "metadata": {},
   "outputs": [
    {
     "data": {
      "text/plain": [
       "(27481, 4)"
      ]
     },
     "execution_count": 7,
     "metadata": {},
     "output_type": "execute_result"
    }
   ],
   "source": [
    "# train data shape\n",
    "train.shape"
   ]
  },
  {
   "cell_type": "code",
   "execution_count": 8,
   "id": "8c613c34",
   "metadata": {},
   "outputs": [
    {
     "name": "stdout",
     "output_type": "stream",
     "text": [
      "<class 'pandas.core.frame.DataFrame'>\n",
      "RangeIndex: 27481 entries, 0 to 27480\n",
      "Data columns (total 4 columns):\n",
      " #   Column         Non-Null Count  Dtype \n",
      "---  ------         --------------  ----- \n",
      " 0   textID         27481 non-null  object\n",
      " 1   text           27480 non-null  object\n",
      " 2   selected_text  27480 non-null  object\n",
      " 3   sentiment      27481 non-null  object\n",
      "dtypes: object(4)\n",
      "memory usage: 858.9+ KB\n"
     ]
    }
   ],
   "source": [
    "# data info....\n",
    "train.info()"
   ]
  },
  {
   "cell_type": "code",
   "execution_count": 9,
   "id": "04463151",
   "metadata": {},
   "outputs": [
    {
     "data": {
      "text/plain": [
       "textID           0\n",
       "text             1\n",
       "selected_text    1\n",
       "sentiment        0\n",
       "dtype: int64"
      ]
     },
     "execution_count": 9,
     "metadata": {},
     "output_type": "execute_result"
    }
   ],
   "source": [
    "# looking for null values...\n",
    "train.isna().sum()"
   ]
  },
  {
   "cell_type": "code",
   "execution_count": 10,
   "id": "f0e4ce44",
   "metadata": {},
   "outputs": [],
   "source": [
    "# as there is onyl single null value in training set, so it's better to drop it...\n",
    "train.dropna(inplace=True)"
   ]
  },
  {
   "cell_type": "code",
   "execution_count": 11,
   "id": "0b406f63",
   "metadata": {},
   "outputs": [
    {
     "data": {
      "text/plain": [
       "textID       0\n",
       "text         0\n",
       "sentiment    0\n",
       "dtype: int64"
      ]
     },
     "execution_count": 11,
     "metadata": {},
     "output_type": "execute_result"
    }
   ],
   "source": [
    "# looking for null value in test set..\n",
    "test.isna().sum()"
   ]
  },
  {
   "cell_type": "code",
   "execution_count": 12,
   "id": "11d5297a",
   "metadata": {},
   "outputs": [
    {
     "data": {
      "text/plain": [
       "neutral     11117\n",
       "positive     8582\n",
       "negative     7781\n",
       "Name: sentiment, dtype: int64"
      ]
     },
     "execution_count": 12,
     "metadata": {},
     "output_type": "execute_result"
    }
   ],
   "source": [
    "# target label distribution....\n",
    "sentiment = train[\"sentiment\"].value_counts()\n",
    "sentiment"
   ]
  },
  {
   "cell_type": "code",
   "execution_count": 13,
   "id": "6c7336d3",
   "metadata": {},
   "outputs": [],
   "source": [
    "# setting the plot style...\n",
    "plt.style.use(\"ggplot\")"
   ]
  },
  {
   "cell_type": "code",
   "execution_count": 14,
   "id": "f24f9b8f",
   "metadata": {},
   "outputs": [
    {
     "data": {
      "image/png": "[encoded data removed]",
      "text/plain": [
       "<Figure size 720x576 with 1 Axes>"
      ]
     },
     "metadata": {},
     "output_type": "display_data"
    }
   ],
   "source": [
    "# plot the sentiment distribution...\n",
    "plt.figure(figsize=(10,8))\n",
    "labels = sentiment.index\n",
    "colors = sns.color_palette(\"Set2\")\n",
    "explode = [0.1,0,0.3]\n",
    "plt.pie(sentiment,labels = labels, colors = colors, explode = explode,\n",
    "       autopct = \"%.2f%%\", startangle = 90, shadow = True)\n",
    "plt.legend(title = \"Sentiment : \")\n",
    "plt.show()"
   ]
  },
  {
   "cell_type": "code",
   "execution_count": 15,
   "id": "1fc83533",
   "metadata": {},
   "outputs": [
    {
     "data": {
      "text/plain": [
       "neutral     1430\n",
       "positive    1103\n",
       "negative    1001\n",
       "Name: sentiment, dtype: int64"
      ]
     },
     "execution_count": 15,
     "metadata": {},
     "output_type": "execute_result"
    }
   ],
   "source": [
    "# test data target label distribution\n",
    "test_sentiment = test.sentiment.value_counts()\n",
    "test_sentiment"
   ]
  },
  {
   "cell_type": "code",
   "execution_count": 16,
   "id": "3f573e12",
   "metadata": {},
   "outputs": [
    {
     "data": {
      "image/png": "[encoded data removed]",
      "text/plain": [
       "<Figure size 720x576 with 1 Axes>"
      ]
     },
     "metadata": {},
     "output_type": "display_data"
    }
   ],
   "source": [
    "# plot the sentiment distribution...\n",
    "plt.figure(figsize=(10,8))\n",
    "labels = test_sentiment.index\n",
    "colors = sns.color_palette(\"Set2\")\n",
    "explode = [0.1,0,0.3]\n",
    "plt.pie(test_sentiment,labels = labels, colors = colors, explode = explode,\n",
    "       autopct = \"%.2f%%\", startangle = 90, shadow = True)\n",
    "plt.legend(title = \"Test_Sentiment : \")\n",
    "plt.show()"
   ]
  },
  {
   "cell_type": "code",
   "execution_count": 17,
   "id": "c363ff91",
   "metadata": {},
   "outputs": [],
   "source": [
    "# changing the data-type...\n",
    "train[\"text\"] =  train[\"text\"].astype(\"string\")"
   ]
  },
  {
   "cell_type": "code",
   "execution_count": 18,
   "id": "3d6d7cfd",
   "metadata": {},
   "outputs": [
    {
     "data": {
      "text/html": [
       "<div>\n",
       "<style scoped>\n",
       "    .dataframe tbody tr th:only-of-type {\n",
       "        vertical-align: middle;\n",
       "    }\n",
       "\n",
       "    .dataframe tbody tr th {\n",
       "        vertical-align: top;\n",
       "    }\n",
       "\n",
       "    .dataframe thead th {\n",
       "        text-align: right;\n",
       "    }\n",
       "</style>\n",
       "<table border=\"1\" class=\"dataframe\">\n",
       "  <thead>\n",
       "    <tr style=\"text-align: right;\">\n",
       "      <th></th>\n",
       "      <th>textID</th>\n",
       "      <th>text</th>\n",
       "      <th>selected_text</th>\n",
       "      <th>sentiment</th>\n",
       "      <th>length</th>\n",
       "    </tr>\n",
       "  </thead>\n",
       "  <tbody>\n",
       "    <tr>\n",
       "      <th>0</th>\n",
       "      <td>cb774db0d1</td>\n",
       "      <td>I`d have responded, if I were going</td>\n",
       "      <td>I`d have responded, if I were going</td>\n",
       "      <td>neutral</td>\n",
       "      <td>7</td>\n",
       "    </tr>\n",
       "    <tr>\n",
       "      <th>1</th>\n",
       "      <td>549e992a42</td>\n",
       "      <td>Sooo SAD I will miss you here in San Diego!!!</td>\n",
       "      <td>Sooo SAD</td>\n",
       "      <td>negative</td>\n",
       "      <td>10</td>\n",
       "    </tr>\n",
       "    <tr>\n",
       "      <th>2</th>\n",
       "      <td>088c60f138</td>\n",
       "      <td>my boss is bullying me...</td>\n",
       "      <td>bullying me</td>\n",
       "      <td>negative</td>\n",
       "      <td>5</td>\n",
       "    </tr>\n",
       "    <tr>\n",
       "      <th>3</th>\n",
       "      <td>9642c003ef</td>\n",
       "      <td>what interview! leave me alone</td>\n",
       "      <td>leave me alone</td>\n",
       "      <td>negative</td>\n",
       "      <td>5</td>\n",
       "    </tr>\n",
       "    <tr>\n",
       "      <th>4</th>\n",
       "      <td>358bd9e861</td>\n",
       "      <td>Sons of ****, why couldn`t they put them on t...</td>\n",
       "      <td>Sons of ****,</td>\n",
       "      <td>negative</td>\n",
       "      <td>14</td>\n",
       "    </tr>\n",
       "  </tbody>\n",
       "</table>\n",
       "</div>"
      ],
      "text/plain": [
       "       textID                                               text  \\\n",
       "0  cb774db0d1                I`d have responded, if I were going   \n",
       "1  549e992a42      Sooo SAD I will miss you here in San Diego!!!   \n",
       "2  088c60f138                          my boss is bullying me...   \n",
       "3  9642c003ef                     what interview! leave me alone   \n",
       "4  358bd9e861   Sons of ****, why couldn`t they put them on t...   \n",
       "\n",
       "                         selected_text sentiment  length  \n",
       "0  I`d have responded, if I were going   neutral       7  \n",
       "1                             Sooo SAD  negative      10  \n",
       "2                          bullying me  negative       5  \n",
       "3                       leave me alone  negative       5  \n",
       "4                        Sons of ****,  negative      14  "
      ]
     },
     "execution_count": 18,
     "metadata": {},
     "output_type": "execute_result"
    }
   ],
   "source": [
    "# checking the length of the selected text...\n",
    "train[\"length\"] = train[\"text\"].apply(lambda x: len(x.split()))\n",
    "train.head()"
   ]
  },
  {
   "cell_type": "code",
   "execution_count": 19,
   "id": "8386c316",
   "metadata": {},
   "outputs": [
    {
     "data": {
      "text/html": [
       "<div>\n",
       "<style scoped>\n",
       "    .dataframe tbody tr th:only-of-type {\n",
       "        vertical-align: middle;\n",
       "    }\n",
       "\n",
       "    .dataframe tbody tr th {\n",
       "        vertical-align: top;\n",
       "    }\n",
       "\n",
       "    .dataframe thead th {\n",
       "        text-align: right;\n",
       "    }\n",
       "</style>\n",
       "<table border=\"1\" class=\"dataframe\">\n",
       "  <thead>\n",
       "    <tr style=\"text-align: right;\">\n",
       "      <th></th>\n",
       "      <th>textID</th>\n",
       "      <th>text</th>\n",
       "      <th>sentiment</th>\n",
       "      <th>length</th>\n",
       "    </tr>\n",
       "  </thead>\n",
       "  <tbody>\n",
       "    <tr>\n",
       "      <th>0</th>\n",
       "      <td>f87dea47db</td>\n",
       "      <td>Last session of the day  http://twitpic.com/67ezh</td>\n",
       "      <td>neutral</td>\n",
       "      <td>6</td>\n",
       "    </tr>\n",
       "    <tr>\n",
       "      <th>1</th>\n",
       "      <td>96d74cb729</td>\n",
       "      <td>Shanghai is also really exciting (precisely -...</td>\n",
       "      <td>positive</td>\n",
       "      <td>15</td>\n",
       "    </tr>\n",
       "    <tr>\n",
       "      <th>2</th>\n",
       "      <td>eee518ae67</td>\n",
       "      <td>Recession hit Veronique Branquinho, she has to...</td>\n",
       "      <td>negative</td>\n",
       "      <td>13</td>\n",
       "    </tr>\n",
       "    <tr>\n",
       "      <th>3</th>\n",
       "      <td>01082688c6</td>\n",
       "      <td>happy bday!</td>\n",
       "      <td>positive</td>\n",
       "      <td>2</td>\n",
       "    </tr>\n",
       "    <tr>\n",
       "      <th>4</th>\n",
       "      <td>33987a8ee5</td>\n",
       "      <td>http://twitpic.com/4w75p - I like it!!</td>\n",
       "      <td>positive</td>\n",
       "      <td>5</td>\n",
       "    </tr>\n",
       "    <tr>\n",
       "      <th>...</th>\n",
       "      <td>...</td>\n",
       "      <td>...</td>\n",
       "      <td>...</td>\n",
       "      <td>...</td>\n",
       "    </tr>\n",
       "    <tr>\n",
       "      <th>3529</th>\n",
       "      <td>e5f0e6ef4b</td>\n",
       "      <td>its at 3 am, im very tired but i can`t sleep  ...</td>\n",
       "      <td>negative</td>\n",
       "      <td>15</td>\n",
       "    </tr>\n",
       "    <tr>\n",
       "      <th>3530</th>\n",
       "      <td>416863ce47</td>\n",
       "      <td>All alone in this old house again.  Thanks for...</td>\n",
       "      <td>positive</td>\n",
       "      <td>26</td>\n",
       "    </tr>\n",
       "    <tr>\n",
       "      <th>3531</th>\n",
       "      <td>6332da480c</td>\n",
       "      <td>I know what you mean. My little dog is sinkin...</td>\n",
       "      <td>negative</td>\n",
       "      <td>18</td>\n",
       "    </tr>\n",
       "    <tr>\n",
       "      <th>3532</th>\n",
       "      <td>df1baec676</td>\n",
       "      <td>_sutra what is your next youtube video gonna b...</td>\n",
       "      <td>positive</td>\n",
       "      <td>14</td>\n",
       "    </tr>\n",
       "    <tr>\n",
       "      <th>3533</th>\n",
       "      <td>469e15c5a8</td>\n",
       "      <td>http://twitpic.com/4woj2 - omgssh  ang cute n...</td>\n",
       "      <td>positive</td>\n",
       "      <td>7</td>\n",
       "    </tr>\n",
       "  </tbody>\n",
       "</table>\n",
       "<p>3534 rows × 4 columns</p>\n",
       "</div>"
      ],
      "text/plain": [
       "          textID                                               text sentiment  \\\n",
       "0     f87dea47db  Last session of the day  http://twitpic.com/67ezh   neutral   \n",
       "1     96d74cb729   Shanghai is also really exciting (precisely -...  positive   \n",
       "2     eee518ae67  Recession hit Veronique Branquinho, she has to...  negative   \n",
       "3     01082688c6                                        happy bday!  positive   \n",
       "4     33987a8ee5             http://twitpic.com/4w75p - I like it!!  positive   \n",
       "...          ...                                                ...       ...   \n",
       "3529  e5f0e6ef4b  its at 3 am, im very tired but i can`t sleep  ...  negative   \n",
       "3530  416863ce47  All alone in this old house again.  Thanks for...  positive   \n",
       "3531  6332da480c   I know what you mean. My little dog is sinkin...  negative   \n",
       "3532  df1baec676  _sutra what is your next youtube video gonna b...  positive   \n",
       "3533  469e15c5a8   http://twitpic.com/4woj2 - omgssh  ang cute n...  positive   \n",
       "\n",
       "      length  \n",
       "0          6  \n",
       "1         15  \n",
       "2         13  \n",
       "3          2  \n",
       "4          5  \n",
       "...      ...  \n",
       "3529      15  \n",
       "3530      26  \n",
       "3531      18  \n",
       "3532      14  \n",
       "3533       7  \n",
       "\n",
       "[3534 rows x 4 columns]"
      ]
     },
     "execution_count": 19,
     "metadata": {},
     "output_type": "execute_result"
    }
   ],
   "source": [
    "# checking the length of test text data\n",
    "test[\"length\"] = test[\"text\"].apply(lambda x: len(x.split()))\n",
    "test"
   ]
  },
  {
   "cell_type": "code",
   "execution_count": 20,
   "id": "716b59cd",
   "metadata": {},
   "outputs": [
    {
     "name": "stdout",
     "output_type": "stream",
     "text": [
      "Max length of tweet text in training set : 33\n",
      "Min lenght of tweet text in training set. : 1\n",
      "Max length of tweet text in test set : 32\n",
      "Min lenght of tweet text in test set. : 1\n"
     ]
    }
   ],
   "source": [
    "print(f\"Max length of tweet text in training set : {train['length'].max()}\")\n",
    "print(f\"Min lenght of tweet text in training set. : {train['length'].min()}\")\n",
    "print(f\"Max length of tweet text in test set : {test['length'].max()}\")\n",
    "print(f\"Min lenght of tweet text in test set. : {test['length'].min()}\")"
   ]
  },
  {
   "cell_type": "code",
   "execution_count": 21,
   "id": "1c28b0b1",
   "metadata": {},
   "outputs": [
    {
     "name": "stdout",
     "output_type": "stream",
     "text": [
      "Shortest tweets in training set : \n",
      "           textID           text selected_text sentiment  length\n",
      "42     2e7082d1c8       MAYDAY?!      MAYDAY?!   neutral       1\n",
      "68     fa2654e730       Chilliin      Chilliin  positive       1\n",
      "127    8e1583cb08     Absolutely    Absolutely   neutral       1\n",
      "224    f3a77c2b5e       _nesmith      _nesmith   neutral       1\n",
      "238    e98226e842            Thx           Thx   neutral       1\n",
      "...           ...            ...           ...       ...     ...\n",
      "26690  e80c242d6a     Goodnight;    Goodnight;  positive       1\n",
      "26693  7dc13f50d8   yessssssir!!  yessssssir!!   neutral       1\n",
      "26726  aad244f37d          *hug*         *hug*  positive       1\n",
      "26754  b6f6bd82c0       careless      careless  negative       1\n",
      "26843  a46571fe12      congrats!     congrats!  positive       1\n",
      "\n",
      "[199 rows x 5 columns]\n"
     ]
    }
   ],
   "source": [
    "print(f\"Shortest tweets in training set : \\n{train[train['length']==min(train['length'])]}\")"
   ]
  },
  {
   "cell_type": "code",
   "execution_count": 22,
   "id": "5369276d",
   "metadata": {},
   "outputs": [
    {
     "name": "stdout",
     "output_type": "stream",
     "text": [
      "longest tweets in training set : \n",
      "           textID                                               text  \\\n",
      "19887  ede80b9f63  AK, flop comes 2K6 I bet 15 get raised to 25 I...   \n",
      "25359  be445111e7  : Lol it went okay! As far as I can tell . But...   \n",
      "\n",
      "                                           selected_text sentiment  length  \n",
      "19887  AK, flop comes 2K6 I bet 15 get raised to 25 I...   neutral      33  \n",
      "25359                               Lol it went okay! As  positive      33  \n"
     ]
    }
   ],
   "source": [
    "print(f\"longest tweets in training set : \\n{train[train['length']==max(train['length'])]}\")"
   ]
  },
  {
   "cell_type": "code",
   "execution_count": 23,
   "id": "c6b44f70",
   "metadata": {},
   "outputs": [
    {
     "data": {
      "text/plain": [
       "<Figure size 720x576 with 0 Axes>"
      ]
     },
     "metadata": {},
     "output_type": "display_data"
    },
    {
     "data": {
      "image/png": "[encoded data removed]",
      "text/plain": [
       "<Figure size 1879.75x360 with 1 Axes>"
      ]
     },
     "metadata": {
      "needs_background": "light"
     },
     "output_type": "display_data"
    }
   ],
   "source": [
    "# plot the length of tweet text across the sentiment....\n",
    "plt.figure(figsize=(10,8))\n",
    "sns.displot(data = train, x = \"length\", hue = \"sentiment\",\n",
    "           kind = \"kde\", fill = True, aspect = 5, palette = \"viridis\");"
   ]
  },
  {
   "cell_type": "code",
   "execution_count": 24,
   "id": "f18e2154",
   "metadata": {},
   "outputs": [
    {
     "data": {
      "text/plain": [
       "<Figure size 720x576 with 0 Axes>"
      ]
     },
     "metadata": {},
     "output_type": "display_data"
    },
    {
     "data": {
      "image/png": "[encoded data removed]",
      "text/plain": [
       "<Figure size 1879.75x360 with 1 Axes>"
      ]
     },
     "metadata": {
      "needs_background": "light"
     },
     "output_type": "display_data"
    }
   ],
   "source": [
    "# plot the length of test tweet text across the sentiment....\n",
    "plt.figure(figsize=(10,8))\n",
    "sns.displot(data = test, x = \"length\", hue = \"sentiment\",\n",
    "           kind = \"kde\", fill = True, aspect = 5, palette = \"viridis\");"
   ]
  },
  {
   "cell_type": "code",
   "execution_count": 25,
   "id": "29d42307",
   "metadata": {},
   "outputs": [],
   "source": [
    "# let's drop the selected_text column \n",
    "train.drop(\"selected_text\",axis=1,inplace=True)"
   ]
  },
  {
   "cell_type": "code",
   "execution_count": 26,
   "id": "eab24e17",
   "metadata": {},
   "outputs": [
    {
     "data": {
      "text/html": [
       "<div>\n",
       "<style scoped>\n",
       "    .dataframe tbody tr th:only-of-type {\n",
       "        vertical-align: middle;\n",
       "    }\n",
       "\n",
       "    .dataframe tbody tr th {\n",
       "        vertical-align: top;\n",
       "    }\n",
       "\n",
       "    .dataframe thead th {\n",
       "        text-align: right;\n",
       "    }\n",
       "</style>\n",
       "<table border=\"1\" class=\"dataframe\">\n",
       "  <thead>\n",
       "    <tr style=\"text-align: right;\">\n",
       "      <th></th>\n",
       "      <th>textID</th>\n",
       "      <th>text</th>\n",
       "      <th>sentiment</th>\n",
       "      <th>length</th>\n",
       "    </tr>\n",
       "  </thead>\n",
       "  <tbody>\n",
       "    <tr>\n",
       "      <th>0</th>\n",
       "      <td>cb774db0d1</td>\n",
       "      <td>I`d have responded, if I were going</td>\n",
       "      <td>neutral</td>\n",
       "      <td>7</td>\n",
       "    </tr>\n",
       "    <tr>\n",
       "      <th>1</th>\n",
       "      <td>549e992a42</td>\n",
       "      <td>Sooo SAD I will miss you here in San Diego!!!</td>\n",
       "      <td>negative</td>\n",
       "      <td>10</td>\n",
       "    </tr>\n",
       "    <tr>\n",
       "      <th>2</th>\n",
       "      <td>088c60f138</td>\n",
       "      <td>my boss is bullying me...</td>\n",
       "      <td>negative</td>\n",
       "      <td>5</td>\n",
       "    </tr>\n",
       "    <tr>\n",
       "      <th>3</th>\n",
       "      <td>9642c003ef</td>\n",
       "      <td>what interview! leave me alone</td>\n",
       "      <td>negative</td>\n",
       "      <td>5</td>\n",
       "    </tr>\n",
       "    <tr>\n",
       "      <th>4</th>\n",
       "      <td>358bd9e861</td>\n",
       "      <td>Sons of ****, why couldn`t they put them on t...</td>\n",
       "      <td>negative</td>\n",
       "      <td>14</td>\n",
       "    </tr>\n",
       "    <tr>\n",
       "      <th>5</th>\n",
       "      <td>28b57f3990</td>\n",
       "      <td>http://www.dothebouncy.com/smf - some shameles...</td>\n",
       "      <td>neutral</td>\n",
       "      <td>12</td>\n",
       "    </tr>\n",
       "    <tr>\n",
       "      <th>6</th>\n",
       "      <td>6e0c6d75b1</td>\n",
       "      <td>2am feedings for the baby are fun when he is a...</td>\n",
       "      <td>positive</td>\n",
       "      <td>14</td>\n",
       "    </tr>\n",
       "    <tr>\n",
       "      <th>7</th>\n",
       "      <td>50e14c0bb8</td>\n",
       "      <td>Soooo high</td>\n",
       "      <td>neutral</td>\n",
       "      <td>2</td>\n",
       "    </tr>\n",
       "    <tr>\n",
       "      <th>8</th>\n",
       "      <td>e050245fbd</td>\n",
       "      <td>Both of you</td>\n",
       "      <td>neutral</td>\n",
       "      <td>3</td>\n",
       "    </tr>\n",
       "    <tr>\n",
       "      <th>9</th>\n",
       "      <td>fc2cbefa9d</td>\n",
       "      <td>Journey!? Wow... u just became cooler.  hehe....</td>\n",
       "      <td>positive</td>\n",
       "      <td>10</td>\n",
       "    </tr>\n",
       "  </tbody>\n",
       "</table>\n",
       "</div>"
      ],
      "text/plain": [
       "       textID                                               text sentiment  \\\n",
       "0  cb774db0d1                I`d have responded, if I were going   neutral   \n",
       "1  549e992a42      Sooo SAD I will miss you here in San Diego!!!  negative   \n",
       "2  088c60f138                          my boss is bullying me...  negative   \n",
       "3  9642c003ef                     what interview! leave me alone  negative   \n",
       "4  358bd9e861   Sons of ****, why couldn`t they put them on t...  negative   \n",
       "5  28b57f3990  http://www.dothebouncy.com/smf - some shameles...   neutral   \n",
       "6  6e0c6d75b1  2am feedings for the baby are fun when he is a...  positive   \n",
       "7  50e14c0bb8                                         Soooo high   neutral   \n",
       "8  e050245fbd                                        Both of you   neutral   \n",
       "9  fc2cbefa9d   Journey!? Wow... u just became cooler.  hehe....  positive   \n",
       "\n",
       "   length  \n",
       "0       7  \n",
       "1      10  \n",
       "2       5  \n",
       "3       5  \n",
       "4      14  \n",
       "5      12  \n",
       "6      14  \n",
       "7       2  \n",
       "8       3  \n",
       "9      10  "
      ]
     },
     "execution_count": 26,
     "metadata": {},
     "output_type": "execute_result"
    }
   ],
   "source": [
    "train.head(10)"
   ]
  },
  {
   "cell_type": "code",
   "execution_count": 27,
   "id": "b07fb2d0",
   "metadata": {},
   "outputs": [
    {
     "data": {
      "image/png": "[encoded data removed]",
      "text/plain": [
       "<Figure size 720x1008 with 4 Axes>"
      ]
     },
     "metadata": {
      "needs_background": "light"
     },
     "output_type": "display_data"
    }
   ],
   "source": [
    "# plotting the number of characters in tweet per sentiment...\n",
    "\n",
    "# positive tweet lenth\n",
    "len_positive = train[train['sentiment']==\"positive\"]['text'].str.len()\n",
    "\n",
    "# negative tweet length\n",
    "len_negative = train[train[\"sentiment\"]==\"negative\"][\"text\"].str.len()\n",
    "\n",
    "# neutral tweet length\n",
    "len_neutral = train[train[\"sentiment\"]==\"neutral\"][\"text\"].str.len()\n",
    "\n",
    "fig,ax = plt.subplots(2,2,figsize=(10,14))\n",
    "\n",
    "# plotting positive tweet\n",
    "ax[0,0].hist(len_positive)\n",
    "ax[0,0].set_title(\"Positive_Tweets\")\n",
    "\n",
    "# plotting negative tweet\n",
    "ax[0,1].hist(len_negative)\n",
    "ax[0,1].set_title(\"Negative_Tweets\")\n",
    "\n",
    "# plotting positive tweet\n",
    "ax[1,0].hist(len_neutral)\n",
    "ax[1,0].set_title(\"Neutral_Tweets\")\n",
    "\n",
    "# plotting the overall length of tweets...\n",
    "ax[1,1].hist(train[\"length\"])\n",
    "ax[1,1].set_title(\"Legnth_Tweet\");"
   ]
  },
  {
   "cell_type": "code",
   "execution_count": 28,
   "id": "788f2382",
   "metadata": {},
   "outputs": [],
   "source": [
    "# now it's time to clean text, so let's make a function for it...\n",
    "def clean_text(text):\n",
    "    \n",
    "    # convert text into lower\n",
    "    text = str(text).lower()\n",
    "    \n",
    "    #     remove urls\n",
    "    text = re.sub(r\"https:\\S+\",\" \",text)\n",
    "    \n",
    "    #     remove punctuation\n",
    "    text = re.sub(r\"[^\\w\\s]\",\"\",text)\n",
    "    \n",
    "    #     remove mentions\n",
    "    text = re.sub(r'@\\w+', \" \", text)\n",
    "    \n",
    "    #     remove hashtags\n",
    "    text = re.sub(\"#\\w+\",\" \", text)\n",
    "    \n",
    "    #     remove digits\n",
    "    text = re.sub(r\"\\d+\",\" \", text)\n",
    "    \n",
    "    #     remove HTML tags\n",
    "    text = re.sub(r\"<.*?>\", \" \", text)\n",
    "        \n",
    "    return text \n"
   ]
  },
  {
   "cell_type": "code",
   "execution_count": 29,
   "id": "a8cf5889",
   "metadata": {},
   "outputs": [
    {
     "data": {
      "text/html": [
       "<div>\n",
       "<style scoped>\n",
       "    .dataframe tbody tr th:only-of-type {\n",
       "        vertical-align: middle;\n",
       "    }\n",
       "\n",
       "    .dataframe tbody tr th {\n",
       "        vertical-align: top;\n",
       "    }\n",
       "\n",
       "    .dataframe thead th {\n",
       "        text-align: right;\n",
       "    }\n",
       "</style>\n",
       "<table border=\"1\" class=\"dataframe\">\n",
       "  <thead>\n",
       "    <tr style=\"text-align: right;\">\n",
       "      <th></th>\n",
       "      <th>textID</th>\n",
       "      <th>text</th>\n",
       "      <th>sentiment</th>\n",
       "      <th>length</th>\n",
       "      <th>clean_text</th>\n",
       "    </tr>\n",
       "  </thead>\n",
       "  <tbody>\n",
       "    <tr>\n",
       "      <th>18471</th>\n",
       "      <td>9fe798ecfe</td>\n",
       "      <td>is not liking the online livebox right now. In...</td>\n",
       "      <td>negative</td>\n",
       "      <td>11</td>\n",
       "      <td>is not liking the online livebox right now int...</td>\n",
       "    </tr>\n",
       "    <tr>\n",
       "      <th>9096</th>\n",
       "      <td>38edf28778</td>\n",
       "      <td>You mustv`e read my mind. I WAS going, but no...</td>\n",
       "      <td>neutral</td>\n",
       "      <td>24</td>\n",
       "      <td>you mustve read my mind i was going but now i...</td>\n",
       "    </tr>\n",
       "    <tr>\n",
       "      <th>12605</th>\n",
       "      <td>e1bdb0cdb6</td>\n",
       "      <td>Love the idea of giving each year a theme. Thi...</td>\n",
       "      <td>positive</td>\n",
       "      <td>16</td>\n",
       "      <td>love the idea of giving each year a theme this...</td>\n",
       "    </tr>\n",
       "    <tr>\n",
       "      <th>3225</th>\n",
       "      <td>7926ebc33b</td>\n",
       "      <td>she is that`s why she never speaks to me in c...</td>\n",
       "      <td>negative</td>\n",
       "      <td>23</td>\n",
       "      <td>she is thats why she never speaks to me in co...</td>\n",
       "    </tr>\n",
       "    <tr>\n",
       "      <th>15501</th>\n",
       "      <td>75481d1412</td>\n",
       "      <td>Any others jobs like this available? Sounds l...</td>\n",
       "      <td>positive</td>\n",
       "      <td>19</td>\n",
       "      <td>any others jobs like this available sounds li...</td>\n",
       "    </tr>\n",
       "    <tr>\n",
       "      <th>1832</th>\n",
       "      <td>1fcd6fd06a</td>\n",
       "      <td>Family...friend... It`s good for the industry...</td>\n",
       "      <td>neutral</td>\n",
       "      <td>19</td>\n",
       "      <td>familyfriend its good for the industry i plan...</td>\n",
       "    </tr>\n",
       "    <tr>\n",
       "      <th>1912</th>\n",
       "      <td>87580d31b9</td>\n",
       "      <td>is getting her hair did shortly! and hoping ev...</td>\n",
       "      <td>positive</td>\n",
       "      <td>18</td>\n",
       "      <td>is getting her hair did shortly and hoping eve...</td>\n",
       "    </tr>\n",
       "    <tr>\n",
       "      <th>4744</th>\n",
       "      <td>92ca79a285</td>\n",
       "      <td>the apartment is starting to feel like mine.</td>\n",
       "      <td>neutral</td>\n",
       "      <td>8</td>\n",
       "      <td>the apartment is starting to feel like mine</td>\n",
       "    </tr>\n",
       "    <tr>\n",
       "      <th>21829</th>\n",
       "      <td>77a409775e</td>\n",
       "      <td>wooo am recovering from running race for life ...</td>\n",
       "      <td>positive</td>\n",
       "      <td>20</td>\n",
       "      <td>wooo am recovering from running race for life ...</td>\n",
       "    </tr>\n",
       "    <tr>\n",
       "      <th>1811</th>\n",
       "      <td>15ec12dff3</td>\n",
       "      <td>had a great time talkin with Mike tonight for ...</td>\n",
       "      <td>positive</td>\n",
       "      <td>11</td>\n",
       "      <td>had a great time talkin with mike tonight for ...</td>\n",
       "    </tr>\n",
       "  </tbody>\n",
       "</table>\n",
       "</div>"
      ],
      "text/plain": [
       "           textID                                               text  \\\n",
       "18471  9fe798ecfe  is not liking the online livebox right now. In...   \n",
       "9096   38edf28778   You mustv`e read my mind. I WAS going, but no...   \n",
       "12605  e1bdb0cdb6  Love the idea of giving each year a theme. Thi...   \n",
       "3225   7926ebc33b   she is that`s why she never speaks to me in c...   \n",
       "15501  75481d1412   Any others jobs like this available? Sounds l...   \n",
       "1832   1fcd6fd06a   Family...friend... It`s good for the industry...   \n",
       "1912   87580d31b9  is getting her hair did shortly! and hoping ev...   \n",
       "4744   92ca79a285       the apartment is starting to feel like mine.   \n",
       "21829  77a409775e  wooo am recovering from running race for life ...   \n",
       "1811   15ec12dff3  had a great time talkin with Mike tonight for ...   \n",
       "\n",
       "      sentiment  length                                         clean_text  \n",
       "18471  negative      11  is not liking the online livebox right now int...  \n",
       "9096    neutral      24   you mustve read my mind i was going but now i...  \n",
       "12605  positive      16  love the idea of giving each year a theme this...  \n",
       "3225   negative      23   she is thats why she never speaks to me in co...  \n",
       "15501  positive      19   any others jobs like this available sounds li...  \n",
       "1832    neutral      19   familyfriend its good for the industry i plan...  \n",
       "1912   positive      18  is getting her hair did shortly and hoping eve...  \n",
       "4744    neutral       8        the apartment is starting to feel like mine  \n",
       "21829  positive      20  wooo am recovering from running race for life ...  \n",
       "1811   positive      11  had a great time talkin with mike tonight for ...  "
      ]
     },
     "execution_count": 29,
     "metadata": {},
     "output_type": "execute_result"
    }
   ],
   "source": [
    "# apply the function to train df\n",
    "train[\"clean_text\"] = train[\"text\"].apply(lambda x : clean_text(x))\n",
    "\n",
    "train.sample(10)"
   ]
  },
  {
   "cell_type": "code",
   "execution_count": 30,
   "id": "404f5a2d",
   "metadata": {},
   "outputs": [
    {
     "data": {
      "text/html": [
       "<div>\n",
       "<style scoped>\n",
       "    .dataframe tbody tr th:only-of-type {\n",
       "        vertical-align: middle;\n",
       "    }\n",
       "\n",
       "    .dataframe tbody tr th {\n",
       "        vertical-align: top;\n",
       "    }\n",
       "\n",
       "    .dataframe thead th {\n",
       "        text-align: right;\n",
       "    }\n",
       "</style>\n",
       "<table border=\"1\" class=\"dataframe\">\n",
       "  <thead>\n",
       "    <tr style=\"text-align: right;\">\n",
       "      <th></th>\n",
       "      <th>textID</th>\n",
       "      <th>text</th>\n",
       "      <th>sentiment</th>\n",
       "      <th>length</th>\n",
       "      <th>clean_text</th>\n",
       "    </tr>\n",
       "  </thead>\n",
       "  <tbody>\n",
       "    <tr>\n",
       "      <th>3222</th>\n",
       "      <td>979153b838</td>\n",
       "      <td>Eat it, it`s good for you</td>\n",
       "      <td>positive</td>\n",
       "      <td>6</td>\n",
       "      <td>eat it its good for you</td>\n",
       "    </tr>\n",
       "    <tr>\n",
       "      <th>849</th>\n",
       "      <td>a61d4c6048</td>\n",
       "      <td>hot cuppa coffee made with milk &amp; fortified w...</td>\n",
       "      <td>positive</td>\n",
       "      <td>14</td>\n",
       "      <td>hot cuppa coffee made with milk  fortified wi...</td>\n",
       "    </tr>\n",
       "    <tr>\n",
       "      <th>486</th>\n",
       "      <td>dad1d09bfb</td>\n",
       "      <td>no other reason? I wonder if she loves you</td>\n",
       "      <td>positive</td>\n",
       "      <td>9</td>\n",
       "      <td>no other reason i wonder if she loves you</td>\n",
       "    </tr>\n",
       "    <tr>\n",
       "      <th>878</th>\n",
       "      <td>98c02118e6</td>\n",
       "      <td>TODAY FRIDAY: I really hope you will read my m...</td>\n",
       "      <td>positive</td>\n",
       "      <td>28</td>\n",
       "      <td>today friday i really hope you will read my me...</td>\n",
       "    </tr>\n",
       "    <tr>\n",
       "      <th>732</th>\n",
       "      <td>9b172f1737</td>\n",
       "      <td>gawd. People still remember the preggers comm...</td>\n",
       "      <td>negative</td>\n",
       "      <td>9</td>\n",
       "      <td>gawd people still remember the preggers comme...</td>\n",
       "    </tr>\n",
       "    <tr>\n",
       "      <th>215</th>\n",
       "      <td>3ef85c201c</td>\n",
       "      <td>that is a bummer</td>\n",
       "      <td>negative</td>\n",
       "      <td>4</td>\n",
       "      <td>that is a bummer</td>\n",
       "    </tr>\n",
       "    <tr>\n",
       "      <th>3164</th>\n",
       "      <td>3ff2b333c3</td>\n",
       "      <td>I can only imagine, but I know I love hearing...</td>\n",
       "      <td>positive</td>\n",
       "      <td>23</td>\n",
       "      <td>i can only imagine but i know i love hearing ...</td>\n",
       "    </tr>\n",
       "    <tr>\n",
       "      <th>424</th>\n",
       "      <td>0693a85163</td>\n",
       "      <td>Allergies  sun is out, wearing shorts.  Stuck ...</td>\n",
       "      <td>negative</td>\n",
       "      <td>24</td>\n",
       "      <td>allergies  sun is out wearing shorts  stuck wi...</td>\n",
       "    </tr>\n",
       "    <tr>\n",
       "      <th>547</th>\n",
       "      <td>600c58d8b3</td>\n",
       "      <td>- ummmm. no comment. LOL. I actually have not...</td>\n",
       "      <td>positive</td>\n",
       "      <td>15</td>\n",
       "      <td>ummmm no comment lol i actually have not wat...</td>\n",
       "    </tr>\n",
       "    <tr>\n",
       "      <th>1924</th>\n",
       "      <td>4c1733246f</td>\n",
       "      <td>hah i`ma knock on wood but my PC has never cr...</td>\n",
       "      <td>positive</td>\n",
       "      <td>24</td>\n",
       "      <td>hah ima knock on wood but my pc has never cra...</td>\n",
       "    </tr>\n",
       "  </tbody>\n",
       "</table>\n",
       "</div>"
      ],
      "text/plain": [
       "          textID                                               text sentiment  \\\n",
       "3222  979153b838                          Eat it, it`s good for you  positive   \n",
       "849   a61d4c6048   hot cuppa coffee made with milk & fortified w...  positive   \n",
       "486   dad1d09bfb         no other reason? I wonder if she loves you  positive   \n",
       "878   98c02118e6  TODAY FRIDAY: I really hope you will read my m...  positive   \n",
       "732   9b172f1737   gawd. People still remember the preggers comm...  negative   \n",
       "215   3ef85c201c                                   that is a bummer  negative   \n",
       "3164  3ff2b333c3   I can only imagine, but I know I love hearing...  positive   \n",
       "424   0693a85163  Allergies  sun is out, wearing shorts.  Stuck ...  negative   \n",
       "547   600c58d8b3   - ummmm. no comment. LOL. I actually have not...  positive   \n",
       "1924  4c1733246f   hah i`ma knock on wood but my PC has never cr...  positive   \n",
       "\n",
       "      length                                         clean_text  \n",
       "3222       6                            eat it its good for you  \n",
       "849       14   hot cuppa coffee made with milk  fortified wi...  \n",
       "486        9          no other reason i wonder if she loves you  \n",
       "878       28  today friday i really hope you will read my me...  \n",
       "732        9   gawd people still remember the preggers comme...  \n",
       "215        4                                   that is a bummer  \n",
       "3164      23   i can only imagine but i know i love hearing ...  \n",
       "424       24  allergies  sun is out wearing shorts  stuck wi...  \n",
       "547       15    ummmm no comment lol i actually have not wat...  \n",
       "1924      24   hah ima knock on wood but my pc has never cra...  "
      ]
     },
     "execution_count": 30,
     "metadata": {},
     "output_type": "execute_result"
    }
   ],
   "source": [
    "# apply it to test data as well\n",
    "test[\"clean_text\"] = test[\"text\"].apply(lambda x : clean_text(x))\n",
    "\n",
    "test.sample(10)"
   ]
  },
  {
   "cell_type": "code",
   "execution_count": 31,
   "id": "06762720",
   "metadata": {},
   "outputs": [],
   "source": [
    "# setting stopwords\n",
    "stop=set(stopwords.words('english'))"
   ]
  },
  {
   "cell_type": "code",
   "execution_count": 32,
   "id": "042afdc6",
   "metadata": {},
   "outputs": [
    {
     "data": {
      "text/plain": [
       "Text(0.5, 0.98, 'Common words in tweet text')"
      ]
     },
     "execution_count": 32,
     "metadata": {},
     "output_type": "execute_result"
    },
    {
     "data": {
      "image/png": "[encoded data removed]",
      "text/plain": [
       "<Figure size 1800x1080 with 3 Axes>"
      ]
     },
     "metadata": {
      "needs_background": "light"
     },
     "output_type": "display_data"
    }
   ],
   "source": [
    "# let's find out the most common words in the text.....\n",
    "sentiments = train[\"sentiment\"].unique()\n",
    "\n",
    "# setup the figure\n",
    "fig,ax = plt.subplots(1,3, figsize=(25,15))\n",
    "colors = [\"lightblue\",\"red\",\"green\",]\n",
    "for i in range(3):\n",
    "    new = train[train[\"sentiment\"]==sentiments[i]][\"clean_text\"]\n",
    "    counter = Counter(new)\n",
    "    most_common = counter.most_common()\n",
    "    x = []\n",
    "    y = []\n",
    "    \n",
    "    for word,count in most_common[:15]:\n",
    "        x.append(word)\n",
    "        y.append(count)\n",
    "        \n",
    "    sns.barplot(x=y,y=x,ax=ax[i], color = colors[i])\n",
    "    ax[i].set_title(sentiments[i])\n",
    "fig.suptitle(\"Common words in tweet text\")"
   ]
  },
  {
   "cell_type": "code",
   "execution_count": 33,
   "id": "5c3984d1",
   "metadata": {},
   "outputs": [],
   "source": [
    "# pick the main columns....\n",
    "train_text = train[\"clean_text\"]\n",
    "train_labels = train[\"sentiment\"]\n",
    "\n",
    "test_text = test[\"clean_text\"]\n",
    "test_labels = test[\"sentiment\"]"
   ]
  },
  {
   "cell_type": "code",
   "execution_count": 34,
   "id": "b3d5fe6d",
   "metadata": {},
   "outputs": [],
   "source": [
    "# as our label is in text so map it\n",
    "\n",
    "l = {\"neutral\" : 0, \"positive\" : 1,\"negative\" : 2}\n",
    "\n",
    "# apply it to the data....\n",
    "\n",
    "train_labels = train_labels.map(l)\n",
    "test_labels = test_labels.map(l)"
   ]
  },
  {
   "cell_type": "code",
   "execution_count": 35,
   "id": "6f2fe51d",
   "metadata": {},
   "outputs": [
    {
     "data": {
      "text/plain": [
       "0                        id have responded if i were going\n",
       "1               sooo sad i will miss you here in san diego\n",
       "2                                   my boss is bullying me\n",
       "3                            what interview leave me alone\n",
       "4         sons of  why couldnt they put them on the rel...\n",
       "                               ...                        \n",
       "27476     wish we could come see u on denver  husband l...\n",
       "27477     ive wondered about rake to  the client has ma...\n",
       "27478     yay good for both of you enjoy the break  you...\n",
       "27479                                but it was worth it  \n",
       "27480       all this flirting going on  the atg smiles ...\n",
       "Name: clean_text, Length: 27480, dtype: object"
      ]
     },
     "execution_count": 35,
     "metadata": {},
     "output_type": "execute_result"
    }
   ],
   "source": [
    "train_text"
   ]
  },
  {
   "cell_type": "markdown",
   "id": "a2216710",
   "metadata": {},
   "source": [
    "# Tokenization : \n",
    "    As we clean our text let's split the data and convert each split into integer through tokenization because our deep learning models works only with the numbers....\n",
    "\n"
   ]
  },
  {
   "cell_type": "code",
   "execution_count": 36,
   "id": "99bc761a",
   "metadata": {},
   "outputs": [
    {
     "data": {
      "text/plain": [
       "13"
      ]
     },
     "execution_count": 36,
     "metadata": {},
     "output_type": "execute_result"
    }
   ],
   "source": [
    "# find the average length of sentence...\n",
    "round(np.mean(train[\"length\"]))"
   ]
  },
  {
   "cell_type": "code",
   "execution_count": 37,
   "id": "4cee2cd1",
   "metadata": {},
   "outputs": [
    {
     "name": "stdout",
     "output_type": "stream",
     "text": [
      "Metal device set to: Apple M1\n"
     ]
    },
    {
     "name": "stderr",
     "output_type": "stream",
     "text": [
      "2022-10-16 23:03:32.059470: I tensorflow/core/common_runtime/pluggable_device/pluggable_device_factory.cc:305] Could not identify NUMA node of platform GPU ID 0, defaulting to 0. Your kernel may not have been built with NUMA support.\n",
      "2022-10-16 23:03:32.059582: I tensorflow/core/common_runtime/pluggable_device/pluggable_device_factory.cc:271] Created TensorFlow device (/job:localhost/replica:0/task:0/device:GPU:0 with 0 MB memory) -> physical PluggableDevice (device: 0, name: METAL, pci bus id: <undefined>)\n",
      "2022-10-16 23:03:32.094703: W tensorflow/core/platform/profile_utils/cpu_utils.cc:128] Failed to get CPU frequency: 0 Hz\n",
      "2022-10-16 23:03:32.131962: I tensorflow/core/grappler/optimizers/custom_graph_optimizer_registry.cc:113] Plugin optimizer for device_type GPU is enabled.\n"
     ]
    }
   ],
   "source": [
    "# setup the vocabulary length...\n",
    "max_token = 15000\n",
    "max_len = 15\n",
    "\n",
    "\n",
    "token = TextVectorization(max_tokens = max_token,\n",
    "                         standardize = \"lower_and_strip_punctuation\",\n",
    "                         output_mode = \"int\",\n",
    "                         output_sequence_length = max_len,\n",
    "                         split = \"whitespace\")\n",
    "\n",
    "# adapt to text\n",
    "token.adapt(train_text)"
   ]
  },
  {
   "cell_type": "code",
   "execution_count": 38,
   "id": "f27e5229",
   "metadata": {},
   "outputs": [
    {
     "name": "stdout",
     "output_type": "stream",
     "text": [
      "Total words in the Vocabulary : 15000\n",
      "Top five words in the Vocabulary : ['', '[UNK]', 'i', 'to', 'the']\n",
      "Bottom five words in the Vocabulary : ['rightards', 'rigby', 'rig', 'rieger', 'ridin']\n"
     ]
    }
   ],
   "source": [
    "# get some text information....\n",
    "vocab = token.get_vocabulary()\n",
    "print(f\"Total words in the Vocabulary : {len(vocab)}\")\n",
    "print(f\"Top five words in the Vocabulary : {vocab[:5]}\")\n",
    "print(f\"Bottom five words in the Vocabulary : {vocab[-5:]}\")"
   ]
  },
  {
   "cell_type": "code",
   "execution_count": 39,
   "id": "fc5ea6df",
   "metadata": {},
   "outputs": [
    {
     "name": "stdout",
     "output_type": "stream",
     "text": [
      "Original Text :  really  least u wont hav   put up wiv him\n",
      "\n",
      "Tokenize Sentence : [[  59  343   56  165 1427  316   34 4442  154    0    0    0    0    0\n",
      "     0]]\n"
     ]
    }
   ],
   "source": [
    "# let's tokenize some sentence....\n",
    "random_index = np.random.randint(0,len(train_text))\n",
    "random_sentence = train_text[random_index]\n",
    "\n",
    "print(f\"Original Text : {random_sentence}\\n\")\n",
    "print(f\"Tokenize Sentence : {token([random_sentence])}\")"
   ]
  },
  {
   "cell_type": "markdown",
   "id": "8b8f7a6e",
   "metadata": {},
   "source": [
    "# Embedding\n",
    "   \n",
    "  A word embedding is a class of approaches for representing words and documents using a dense vector representation. Word embeddings give us a way to use an efficient, dense representation in which similar words have a similar encoding. Importantly, you do not have to specify this encoding by hand. An embedding is a dense vector of floating point values (the length of the vector is a parameter you specify). Instead of specifying the values for the embedding manually, they are trainable parameters (weights learned by the model during training, in the same way a model learns weights for a dense layer). It is common to see word embeddings that are 8-dimensional (for small datasets), up to 1024-dimensions when working with large datasets. A higher dimensional embedding can capture fine-grained relationships between words, but takes more data to learn"
   ]
  },
  {
   "cell_type": "code",
   "execution_count": 40,
   "id": "dc3fdb93",
   "metadata": {},
   "outputs": [],
   "source": [
    "embedd = Embedding(input_dim = max_token,\n",
    "                  output_dim = 256,\n",
    "                   input_length = max_len,\n",
    "                   embeddings_initializer = \"uniform\",\n",
    "                  )"
   ]
  },
  {
   "cell_type": "code",
   "execution_count": 41,
   "id": "aa1e9dbf",
   "metadata": {},
   "outputs": [
    {
     "name": "stdout",
     "output_type": "stream",
     "text": [
      "Original Text :   we dont feel too comfortable using it its not awful but pretty icky  scurrying to find a deal\n",
      "\n",
      "Tokenize Sentence : [[   63    40   102    45  2501   659     9    25    27  1111    20   223\n",
      "   6258 14542     3]]\n",
      "\n",
      "Tokenize Sentence : [[[ 0.04859691 -0.04361717 -0.03634005 ...  0.03220848 -0.04406535\n",
      "    0.0229182 ]\n",
      "  [-0.01197164  0.04088407 -0.0230377  ... -0.04507817 -0.03272329\n",
      "   -0.00143392]\n",
      "  [ 0.04290268  0.00688086 -0.02521328 ... -0.04880662  0.03878945\n",
      "   -0.00365778]\n",
      "  ...\n",
      "  [ 0.04547909 -0.00936552 -0.01345998 ...  0.00099603  0.00179625\n",
      "   -0.00257934]\n",
      "  [-0.00903813  0.01874376 -0.00530387 ... -0.01635714 -0.0177518\n",
      "   -0.03053634]\n",
      "  [ 0.03197278  0.03287642 -0.00176569 ... -0.03244835  0.04838461\n",
      "    0.00138011]]]\n"
     ]
    }
   ],
   "source": [
    "# let's tokenize and embedd some sentence....\n",
    "random_index = np.random.randint(0,len(train_text))\n",
    "random_sentence = train_text[random_index]\n",
    "\n",
    "print(f\"Original Text : {random_sentence}\\n\")\n",
    "print(f\"Tokenize Sentence : {token([random_sentence])}\\n\")\n",
    "print(f\"Tokenize Sentence : {embedd(token([random_sentence]))}\")"
   ]
  },
  {
   "cell_type": "code",
   "execution_count": 42,
   "id": "344eac97",
   "metadata": {},
   "outputs": [],
   "source": [
    "# let's make a function to evaluate our model performance....\n",
    "def calculate_results(y_true,y_pred):\n",
    "    \"\"\"\n",
    "    This function will evaluate our model performace by measuring certain metrics....\n",
    "    Accuracy : it tells us that how accurately our model predict the label\n",
    "    Precision : this is the ability of classifier not to label a negative label as positive.\n",
    "    Recall : this is the ability of classifier to find all positive labels.\n",
    "    Fscore : this is the average of preicision and recall.\n",
    "    \"\"\"\n",
    "    accuracy = accuracy_score(y_true,y_pred)\n",
    "    precision_score,recall_score,f_score,_ = precision_recall_fscore_support(y_true,y_pred,average=\"weighted\")\n",
    "    \n",
    "    results = {\n",
    "        \"Accuracy\" : accuracy ,\n",
    "        \"Precision\" : precision_score,\n",
    "        \"Recall\" : recall_score,\n",
    "        \"F_Score\" : f_score\n",
    "    }\n",
    "    return results"
   ]
  },
  {
   "cell_type": "markdown",
   "id": "ad046551",
   "metadata": {},
   "source": [
    "# Modelling : \n",
    "     \n",
    "     We'll build a series of model and pick the one that performs better.\n",
    "    ~Naive Model\n",
    "    ~Dense Model\n",
    "    ~LSTM Model\n",
    "    ~GRU Model\n",
    "    ~Bidirectional Model\n",
    "    ~Conv1D Model\n",
    "    ~Transfer Learning Model"
   ]
  },
  {
   "cell_type": "markdown",
   "id": "da30799a",
   "metadata": {},
   "source": [
    "# Model_0 : Naive Model"
   ]
  },
  {
   "cell_type": "code",
   "execution_count": 43,
   "id": "715e6ad4",
   "metadata": {},
   "outputs": [
    {
     "data": {
      "text/html": [
       "<style>#sk-container-id-1 {color: black;background-color: white;}#sk-container-id-1 pre{padding: 0;}#sk-container-id-1 div.sk-toggleable {background-color: white;}#sk-container-id-1 label.sk-toggleable__label {cursor: pointer;display: block;width: 100%;margin-bottom: 0;padding: 0.3em;box-sizing: border-box;text-align: center;}#sk-container-id-1 label.sk-toggleable__label-arrow:before {content: \"▸\";float: left;margin-right: 0.25em;color: #696969;}#sk-container-id-1 label.sk-toggleable__label-arrow:hover:before {color: black;}#sk-container-id-1 div.sk-estimator:hover label.sk-toggleable__label-arrow:before {color: black;}#sk-container-id-1 div.sk-toggleable__content {max-height: 0;max-width: 0;overflow: hidden;text-align: left;background-color: #f0f8ff;}#sk-container-id-1 div.sk-toggleable__content pre {margin: 0.2em;color: black;border-radius: 0.25em;background-color: #f0f8ff;}#sk-container-id-1 input.sk-toggleable__control:checked~div.sk-toggleable__content {max-height: 200px;max-width: 100%;overflow: auto;}#sk-container-id-1 input.sk-toggleable__control:checked~label.sk-toggleable__label-arrow:before {content: \"▾\";}#sk-container-id-1 div.sk-estimator input.sk-toggleable__control:checked~label.sk-toggleable__label {background-color: #d4ebff;}#sk-container-id-1 div.sk-label input.sk-toggleable__control:checked~label.sk-toggleable__label {background-color: #d4ebff;}#sk-container-id-1 input.sk-hidden--visually {border: 0;clip: rect(1px 1px 1px 1px);clip: rect(1px, 1px, 1px, 1px);height: 1px;margin: -1px;overflow: hidden;padding: 0;position: absolute;width: 1px;}#sk-container-id-1 div.sk-estimator {font-family: monospace;background-color: #f0f8ff;border: 1px dotted black;border-radius: 0.25em;box-sizing: border-box;margin-bottom: 0.5em;}#sk-container-id-1 div.sk-estimator:hover {background-color: #d4ebff;}#sk-container-id-1 div.sk-parallel-item::after {content: \"\";width: 100%;border-bottom: 1px solid gray;flex-grow: 1;}#sk-container-id-1 div.sk-label:hover label.sk-toggleable__label {background-color: #d4ebff;}#sk-container-id-1 div.sk-serial::before {content: \"\";position: absolute;border-left: 1px solid gray;box-sizing: border-box;top: 0;bottom: 0;left: 50%;z-index: 0;}#sk-container-id-1 div.sk-serial {display: flex;flex-direction: column;align-items: center;background-color: white;padding-right: 0.2em;padding-left: 0.2em;position: relative;}#sk-container-id-1 div.sk-item {position: relative;z-index: 1;}#sk-container-id-1 div.sk-parallel {display: flex;align-items: stretch;justify-content: center;background-color: white;position: relative;}#sk-container-id-1 div.sk-item::before, #sk-container-id-1 div.sk-parallel-item::before {content: \"\";position: absolute;border-left: 1px solid gray;box-sizing: border-box;top: 0;bottom: 0;left: 50%;z-index: -1;}#sk-container-id-1 div.sk-parallel-item {display: flex;flex-direction: column;z-index: 1;position: relative;background-color: white;}#sk-container-id-1 div.sk-parallel-item:first-child::after {align-self: flex-end;width: 50%;}#sk-container-id-1 div.sk-parallel-item:last-child::after {align-self: flex-start;width: 50%;}#sk-container-id-1 div.sk-parallel-item:only-child::after {width: 0;}#sk-container-id-1 div.sk-dashed-wrapped {border: 1px dashed gray;margin: 0 0.4em 0.5em 0.4em;box-sizing: border-box;padding-bottom: 0.4em;background-color: white;}#sk-container-id-1 div.sk-label label {font-family: monospace;font-weight: bold;display: inline-block;line-height: 1.2em;}#sk-container-id-1 div.sk-label-container {text-align: center;}#sk-container-id-1 div.sk-container {/* jupyter's `normalize.less` sets `[hidden] { display: none; }` but bootstrap.min.css set `[hidden] { display: none !important; }` so we also need the `!important` here to be able to override the default hidden behavior on the sphinx rendered scikit-learn.org. See: https://github.com/scikit-learn/scikit-learn/issues/21755 */display: inline-block !important;position: relative;}#sk-container-id-1 div.sk-text-repr-fallback {display: none;}</style><div id=\"sk-container-id-1\" class=\"sk-top-container\"><div class=\"sk-text-repr-fallback\"><pre>Pipeline(steps=[(&#x27;tfidf&#x27;, TfidfVectorizer()), (&#x27;naive&#x27;, MultinomialNB())])</pre><b>In a Jupyter environment, please rerun this cell to show the HTML representation or trust the notebook. <br />On GitHub, the HTML representation is unable to render, please try loading this page with nbviewer.org.</b></div><div class=\"sk-container\" hidden><div class=\"sk-item sk-dashed-wrapped\"><div class=\"sk-label-container\"><div class=\"sk-label sk-toggleable\"><input class=\"sk-toggleable__control sk-hidden--visually\" id=\"sk-estimator-id-1\" type=\"checkbox\" ><label for=\"sk-estimator-id-1\" class=\"sk-toggleable__label sk-toggleable__label-arrow\">Pipeline</label><div class=\"sk-toggleable__content\"><pre>Pipeline(steps=[(&#x27;tfidf&#x27;, TfidfVectorizer()), (&#x27;naive&#x27;, MultinomialNB())])</pre></div></div></div><div class=\"sk-serial\"><div class=\"sk-item\"><div class=\"sk-estimator sk-toggleable\"><input class=\"sk-toggleable__control sk-hidden--visually\" id=\"sk-estimator-id-2\" type=\"checkbox\" ><label for=\"sk-estimator-id-2\" class=\"sk-toggleable__label sk-toggleable__label-arrow\">TfidfVectorizer</label><div class=\"sk-toggleable__content\"><pre>TfidfVectorizer()</pre></div></div></div><div class=\"sk-item\"><div class=\"sk-estimator sk-toggleable\"><input class=\"sk-toggleable__control sk-hidden--visually\" id=\"sk-estimator-id-3\" type=\"checkbox\" ><label for=\"sk-estimator-id-3\" class=\"sk-toggleable__label sk-toggleable__label-arrow\">MultinomialNB</label><div class=\"sk-toggleable__content\"><pre>MultinomialNB()</pre></div></div></div></div></div></div></div>"
      ],
      "text/plain": [
       "Pipeline(steps=[('tfidf', TfidfVectorizer()), ('naive', MultinomialNB())])"
      ]
     },
     "execution_count": 43,
     "metadata": {},
     "output_type": "execute_result"
    }
   ],
   "source": [
    "# let's build our first sklearn naive model...\n",
    "model_0 = Pipeline([\n",
    "    ('tfidf',TfidfVectorizer()),\n",
    "    (\"naive\",MultinomialNB())\n",
    "])\n",
    "\n",
    "# fitting model to data....\n",
    "model_0.fit(train_text,train_labels)"
   ]
  },
  {
   "cell_type": "code",
   "execution_count": 44,
   "id": "25d5c3dc",
   "metadata": {},
   "outputs": [
    {
     "data": {
      "text/plain": [
       "{'Accuracy': 0.620826259196378,\n",
       " 'Precision': 0.6920038667463424,\n",
       " 'Recall': 0.620826259196378,\n",
       " 'F_Score': 0.6084458841291476}"
      ]
     },
     "execution_count": 44,
     "metadata": {},
     "output_type": "execute_result"
    }
   ],
   "source": [
    "# calculate model results....\n",
    "model_0_results = calculate_results(test_labels,model_0.predict(test_text))\n",
    "model_0_results"
   ]
  },
  {
   "cell_type": "code",
   "execution_count": 45,
   "id": "773ec3eb",
   "metadata": {},
   "outputs": [],
   "source": [
    "train_labels = to_categorical(train_labels, 3)\n",
    "test_labels = to_categorical(test_labels,3)\n"
   ]
  },
  {
   "cell_type": "markdown",
   "id": "67865aec",
   "metadata": {},
   "source": [
    "# Model 2 : Simple Dense Model"
   ]
  },
  {
   "cell_type": "code",
   "execution_count": 46,
   "id": "2f69273e",
   "metadata": {},
   "outputs": [],
   "source": [
    "# let's build our first dense model.....\n",
    "\n",
    "# set up the random seed....\n",
    "tf.random.set_seed(42)\n",
    "\n",
    "# define the inputs....\n",
    "inputs = layers.Input(shape=(),dtype=\"string\")\n",
    "\n",
    "# pass inputs to tokenization layer....\n",
    "x = token(inputs)\n",
    "\n",
    "# pass the token to embeddings....\n",
    "x = embedd(x)\n",
    "\n",
    "# hidden layers...\n",
    "x = layers.Dense(64,activation=\"relu\")(x)\n",
    "\n",
    "# adding the 2nd layers....\n",
    "x = layers.Dense(32,activation=\"relu\")(x)\n",
    "# adding the globalaverage layer...\n",
    "x = layers.GlobalAveragePooling1D()(x)\n",
    "output = layers.Dense(3,activation=\"softmax\")(x)\n",
    "\n",
    "# model building....\n",
    "model_1 = tf.keras.Model(inputs,output,name=\"Dense_Model\")\n",
    "\n",
    "# compiling the model...\n",
    "model_1.compile(loss=\"categorical_crossentropy\",\n",
    "               optimizer=\"rmsprop\",\n",
    "               metrics=[\"accuracy\"])"
   ]
  },
  {
   "cell_type": "code",
   "execution_count": 47,
   "id": "ca08c5c6",
   "metadata": {},
   "outputs": [
    {
     "name": "stdout",
     "output_type": "stream",
     "text": [
      "Model: \"Dense_Model\"\n",
      "_________________________________________________________________\n",
      " Layer (type)                Output Shape              Param #   \n",
      "=================================================================\n",
      " input_1 (InputLayer)        [(None,)]                 0         \n",
      "                                                                 \n",
      " text_vectorization (TextVec  (None, 15)               0         \n",
      " torization)                                                     \n",
      "                                                                 \n",
      " embedding (Embedding)       (None, 15, 256)           3840000   \n",
      "                                                                 \n",
      " dense (Dense)               (None, 15, 64)            16448     \n",
      "                                                                 \n",
      " dense_1 (Dense)             (None, 15, 32)            2080      \n",
      "                                                                 \n",
      " global_average_pooling1d (G  (None, 32)               0         \n",
      " lobalAveragePooling1D)                                          \n",
      "                                                                 \n",
      " dense_2 (Dense)             (None, 3)                 99        \n",
      "                                                                 \n",
      "=================================================================\n",
      "Total params: 3,858,627\n",
      "Trainable params: 3,858,627\n",
      "Non-trainable params: 0\n",
      "_________________________________________________________________\n"
     ]
    }
   ],
   "source": [
    "# model summary.....\n",
    "model_1.summary()"
   ]
  },
  {
   "cell_type": "code",
   "execution_count": 48,
   "id": "f583969b",
   "metadata": {},
   "outputs": [
    {
     "name": "stdout",
     "output_type": "stream",
     "text": [
      "Epoch 1/10\n"
     ]
    },
    {
     "name": "stderr",
     "output_type": "stream",
     "text": [
      "2022-10-16 23:03:33.530493: I tensorflow/core/grappler/optimizers/custom_graph_optimizer_registry.cc:113] Plugin optimizer for device_type GPU is enabled.\n"
     ]
    },
    {
     "name": "stdout",
     "output_type": "stream",
     "text": [
      "859/859 [==============================] - ETA: 0s - loss: 0.8485 - accuracy: 0.6121"
     ]
    },
    {
     "name": "stderr",
     "output_type": "stream",
     "text": [
      "2022-10-16 23:03:51.023273: I tensorflow/core/grappler/optimizers/custom_graph_optimizer_registry.cc:113] Plugin optimizer for device_type GPU is enabled.\n"
     ]
    },
    {
     "name": "stdout",
     "output_type": "stream",
     "text": [
      "INFO:tensorflow:Assets written to: Dense_1.tf/assets\n",
      "859/859 [==============================] - 20s 22ms/step - loss: 0.8485 - accuracy: 0.6121 - val_loss: 0.7522 - val_accuracy: 0.6862\n",
      "Epoch 2/10\n",
      "857/859 [============================>.] - ETA: 0s - loss: 0.7028 - accuracy: 0.7134INFO:tensorflow:Assets written to: Dense_1.tf/assets\n",
      "859/859 [==============================] - 18s 21ms/step - loss: 0.7030 - accuracy: 0.7132 - val_loss: 0.7356 - val_accuracy: 0.6853\n",
      "Epoch 3/10\n",
      "857/859 [============================>.] - ETA: 0s - loss: 0.6462 - accuracy: 0.7454INFO:tensorflow:Assets written to: Dense_1.tf/assets\n",
      "859/859 [==============================] - 18s 21ms/step - loss: 0.6467 - accuracy: 0.7453 - val_loss: 0.7342 - val_accuracy: 0.6938\n",
      "Epoch 4/10\n",
      "859/859 [==============================] - 17s 20ms/step - loss: 0.6049 - accuracy: 0.7689 - val_loss: 0.7527 - val_accuracy: 0.6896\n",
      "Epoch 5/10\n",
      "859/859 [==============================] - 17s 20ms/step - loss: 0.5712 - accuracy: 0.7831 - val_loss: 0.7786 - val_accuracy: 0.6819\n",
      "Epoch 6/10\n",
      "859/859 [==============================] - 17s 20ms/step - loss: 0.5463 - accuracy: 0.7966 - val_loss: 0.7954 - val_accuracy: 0.6732\n",
      "Epoch 7/10\n",
      "859/859 [==============================] - 18s 20ms/step - loss: 0.5246 - accuracy: 0.8061 - val_loss: 0.8270 - val_accuracy: 0.6692\n",
      "Epoch 8/10\n",
      "859/859 [==============================] - 18s 20ms/step - loss: 0.5115 - accuracy: 0.8100 - val_loss: 0.8381 - val_accuracy: 0.6548\n",
      "Epoch 9/10\n",
      "859/859 [==============================] - 18s 21ms/step - loss: 0.5006 - accuracy: 0.8156 - val_loss: 0.8533 - val_accuracy: 0.6590\n",
      "Epoch 10/10\n",
      "859/859 [==============================] - 18s 20ms/step - loss: 0.4909 - accuracy: 0.8187 - val_loss: 0.8584 - val_accuracy: 0.6621\n"
     ]
    }
   ],
   "source": [
    "# fitting the model to data....\n",
    "history_1 = model_1.fit(train_text,train_labels,\n",
    "                       epochs=10,\n",
    "                       validation_data=(test_text,test_labels),\n",
    "                        validation_split = int(len(test_text) * 0.25),\n",
    "                        callbacks = [tf.keras.callbacks.ModelCheckpoint(\"Dense_1.tf\",\n",
    "                                                                               save_best_only=True)])"
   ]
  },
  {
   "cell_type": "code",
   "execution_count": 49,
   "id": "90222e89",
   "metadata": {},
   "outputs": [
    {
     "data": {
      "text/plain": [
       "['keras_metadata.pb', 'variables', 'saved_model.pb', 'assets']"
      ]
     },
     "execution_count": 49,
     "metadata": {},
     "output_type": "execute_result"
    }
   ],
   "source": [
    "os.listdir(\"Dense_1.tf\")"
   ]
  },
  {
   "cell_type": "code",
   "execution_count": 50,
   "id": "13c25ce0",
   "metadata": {},
   "outputs": [
    {
     "name": "stderr",
     "output_type": "stream",
     "text": [
      "2022-10-16 23:06:32.612544: I tensorflow/core/grappler/optimizers/custom_graph_optimizer_registry.cc:113] Plugin optimizer for device_type GPU is enabled.\n",
      "2022-10-16 23:06:32.617312: I tensorflow/core/grappler/optimizers/custom_graph_optimizer_registry.cc:113] Plugin optimizer for device_type GPU is enabled.\n"
     ]
    }
   ],
   "source": [
    "# let's load the best model...\n",
    "model_1 = tf.keras.models.load_model(\"Dense_1.tf\")"
   ]
  },
  {
   "cell_type": "code",
   "execution_count": 51,
   "id": "83bda5bb",
   "metadata": {},
   "outputs": [
    {
     "name": "stdout",
     "output_type": "stream",
     "text": [
      "\r",
      "  1/111 [..............................] - ETA: 9s"
     ]
    },
    {
     "name": "stderr",
     "output_type": "stream",
     "text": [
      "2022-10-16 23:06:32.726871: I tensorflow/core/grappler/optimizers/custom_graph_optimizer_registry.cc:113] Plugin optimizer for device_type GPU is enabled.\n"
     ]
    },
    {
     "name": "stdout",
     "output_type": "stream",
     "text": [
      "111/111 [==============================] - 1s 4ms/step\n"
     ]
    },
    {
     "data": {
      "text/plain": [
       "{'Accuracy': 0.6522354272778721,\n",
       " 'Precision': 0.7315551963561566,\n",
       " 'Recall': 0.6522354272778721,\n",
       " 'F_Score': 0.6864084486116906}"
      ]
     },
     "execution_count": 51,
     "metadata": {},
     "output_type": "execute_result"
    }
   ],
   "source": [
    "# make predictions and calculate the results...\n",
    "model_1_results = calculate_results(test_labels,tf.squeeze(tf.round(model_1.predict(test_text))))\n",
    "model_1_results"
   ]
  },
  {
   "cell_type": "code",
   "execution_count": 52,
   "id": "2b3da76c",
   "metadata": {},
   "outputs": [],
   "source": [
    "# let's make a function that will plot the model performance......\n",
    "def plot_model_performance(history):\n",
    "    \n",
    "    loss = history.history[\"loss\"]\n",
    "    \n",
    "    val_loss = history.history[\"val_loss\"]\n",
    "    \n",
    "    acc = history.history[\"accuracy\"]\n",
    "    \n",
    "    val_acc = history.history[\"val_accuracy\"]\n",
    "    \n",
    "    epochs = range(len(loss))\n",
    "    \n",
    "    \n",
    "#     plottint the model accuracy vs validation accuracy\n",
    "    plt.plot(epochs,acc,label=\"Training Accuracy\",marker = \"*\",linestyle = \"dotted\")\n",
    "    plt.plot(epochs,val_acc,label=\"Validation Accuracy\",marker = \"P\", linestyle = \"dashed\")\n",
    "    plt.title(\"Training vs Validation Accuracy\")\n",
    "    plt.xlabel(\"Epochs\")\n",
    "    plt.legend(title=\"Accuracy\")\n",
    "    \n",
    "    \n",
    "#     plotting the training vs validation loss\n",
    "    plt.figure()\n",
    "    plt.plot(epochs,loss,label=\"Training Loss\",marker=\"1\", linestyle = \"dotted\")\n",
    "    plt.plot(epochs,val_loss,label=\"Validation Loss\",marker = \"2\", linestyle = \"dashed\")\n",
    "    plt.title(\"Training vs Validation Loss\")\n",
    "    plt.xlabel(\"Epochs\")\n",
    "    plt.legend(title=\"Loss\")\n",
    "    plt.show()"
   ]
  },
  {
   "cell_type": "code",
   "execution_count": 53,
   "id": "a1cae2d2",
   "metadata": {},
   "outputs": [
    {
     "data": {
      "image/png": "[encoded data removed]",
      "text/plain": [
       "<Figure size 432x288 with 1 Axes>"
      ]
     },
     "metadata": {
      "needs_background": "light"
     },
     "output_type": "display_data"
    },
    {
     "data": {
      "image/png": "[encoded data removed]",
      "text/plain": [
       "<Figure size 432x288 with 1 Axes>"
      ]
     },
     "metadata": {
      "needs_background": "light"
     },
     "output_type": "display_data"
    }
   ],
   "source": [
    "# plot the model performance...\n",
    "plot_model_performance(history_1)"
   ]
  },
  {
   "cell_type": "markdown",
   "id": "d8d6ef3f",
   "metadata": {},
   "source": [
    "# Model 2 : LSTM"
   ]
  },
  {
   "cell_type": "code",
   "execution_count": 54,
   "id": "eaedaf8c",
   "metadata": {},
   "outputs": [],
   "source": [
    "# let's build the 3rd Model LSTM (Long-Short-Term-Memory)\n",
    "\n",
    "# set the random seed\n",
    "tf.random.set_seed(42)\n",
    "\n",
    "# define the input layer.....\n",
    "inputs = layers.Input(shape=(),dtype=\"string\")\n",
    "# pass the input layer to tokenization....\n",
    "x = token(inputs)\n",
    "# pass the token into embedd layer.....\n",
    "x = embedd(x)\n",
    "\n",
    "# hidden layer.....\n",
    "x = layers.Dense(64,activation=\"relu\")(x)\n",
    "# adding the 2nd layers....\n",
    "x = layers.Dense(32,activation=\"relu\")(x)\n",
    "# adding the lstm layer\n",
    "x = layers.LSTM(64,return_sequences=True)(x)\n",
    "\n",
    "# adding the drop-out layer...\n",
    "x = layers.Dropout(0.1)(x)\n",
    "\n",
    "# LSTM layer\n",
    "x = layers.LSTM(32,)(x)\n",
    "\n",
    "# output layer....\n",
    "output = layers.Dense(3,activation=\"softmax\")(x)\n",
    "\n",
    "# model building....\n",
    "model_2 = tf.keras.Model(inputs,output,name=\"LSTM_Model\")\n",
    "\n",
    "# compiling the model...\n",
    "model_2.compile(loss=\"categorical_crossentropy\",\n",
    "               optimizer=\"rmsprop\",\n",
    "               metrics=[\"accuracy\"])"
   ]
  },
  {
   "cell_type": "code",
   "execution_count": 55,
   "id": "6a9af1e8",
   "metadata": {},
   "outputs": [
    {
     "name": "stdout",
     "output_type": "stream",
     "text": [
      "Model: \"LSTM_Model\"\n",
      "_________________________________________________________________\n",
      " Layer (type)                Output Shape              Param #   \n",
      "=================================================================\n",
      " input_2 (InputLayer)        [(None,)]                 0         \n",
      "                                                                 \n",
      " text_vectorization (TextVec  (None, 15)               0         \n",
      " torization)                                                     \n",
      "                                                                 \n",
      " embedding (Embedding)       (None, 15, 256)           3840000   \n",
      "                                                                 \n",
      " dense_3 (Dense)             (None, 15, 64)            16448     \n",
      "                                                                 \n",
      " dense_4 (Dense)             (None, 15, 32)            2080      \n",
      "                                                                 \n",
      " lstm (LSTM)                 (None, 15, 64)            24832     \n",
      "                                                                 \n",
      " dropout (Dropout)           (None, 15, 64)            0         \n",
      "                                                                 \n",
      " lstm_1 (LSTM)               (None, 32)                12416     \n",
      "                                                                 \n",
      " dense_5 (Dense)             (None, 3)                 99        \n",
      "                                                                 \n",
      "=================================================================\n",
      "Total params: 3,895,875\n",
      "Trainable params: 3,895,875\n",
      "Non-trainable params: 0\n",
      "_________________________________________________________________\n"
     ]
    }
   ],
   "source": [
    "# model summary....\n",
    "model_2.summary()"
   ]
  },
  {
   "cell_type": "code",
   "execution_count": 58,
   "id": "cf429cf6",
   "metadata": {},
   "outputs": [
    {
     "name": "stdout",
     "output_type": "stream",
     "text": [
      "Epoch 1/10\n",
      "858/859 [============================>.] - ETA: 0s - loss: 0.3590 - accuracy: 0.8660"
     ]
    },
    {
     "name": "stderr",
     "output_type": "stream",
     "text": [
      "WARNING:absl:Found untraced functions such as lstm_cell_layer_call_fn, lstm_cell_layer_call_and_return_conditional_losses, lstm_cell_1_layer_call_fn, lstm_cell_1_layer_call_and_return_conditional_losses while saving (showing 4 of 4). These functions will not be directly callable after loading.\n"
     ]
    },
    {
     "name": "stdout",
     "output_type": "stream",
     "text": [
      "INFO:tensorflow:Assets written to: LSTM.tf/assets\n"
     ]
    },
    {
     "name": "stderr",
     "output_type": "stream",
     "text": [
      "INFO:tensorflow:Assets written to: LSTM.tf/assets\n"
     ]
    },
    {
     "name": "stdout",
     "output_type": "stream",
     "text": [
      "859/859 [==============================] - 38s 44ms/step - loss: 0.3590 - accuracy: 0.8660 - val_loss: 0.9442 - val_accuracy: 0.6514\n",
      "Epoch 2/10\n",
      "859/859 [==============================] - 30s 35ms/step - loss: 0.3478 - accuracy: 0.8717 - val_loss: 0.9488 - val_accuracy: 0.6556\n",
      "Epoch 3/10\n",
      "859/859 [==============================] - 29s 34ms/step - loss: 0.3348 - accuracy: 0.8771 - val_loss: 0.9659 - val_accuracy: 0.6630\n",
      "Epoch 4/10\n",
      "859/859 [==============================] - 29s 34ms/step - loss: 0.3218 - accuracy: 0.8811 - val_loss: 0.9662 - val_accuracy: 0.6667\n",
      "Epoch 5/10\n",
      "859/859 [==============================] - 29s 34ms/step - loss: 0.3114 - accuracy: 0.8862 - val_loss: 0.9769 - val_accuracy: 0.6539\n",
      "Epoch 6/10\n",
      "859/859 [==============================] - 29s 33ms/step - loss: 0.3032 - accuracy: 0.8894 - val_loss: 1.0322 - val_accuracy: 0.6585\n",
      "Epoch 7/10\n",
      "859/859 [==============================] - 30s 34ms/step - loss: 0.2897 - accuracy: 0.8950 - val_loss: 1.0715 - val_accuracy: 0.6423\n",
      "Epoch 8/10\n",
      "859/859 [==============================] - 30s 35ms/step - loss: 0.2830 - accuracy: 0.8959 - val_loss: 1.0697 - val_accuracy: 0.6553\n",
      "Epoch 9/10\n",
      "859/859 [==============================] - 30s 35ms/step - loss: 0.2687 - accuracy: 0.9030 - val_loss: 1.0357 - val_accuracy: 0.6653\n",
      "Epoch 10/10\n",
      "859/859 [==============================] - 30s 35ms/step - loss: 0.2626 - accuracy: 0.9052 - val_loss: 1.1016 - val_accuracy: 0.6435\n"
     ]
    }
   ],
   "source": [
    "# fitting the model to data....\n",
    "history_2 = model_2.fit(train_text, train_labels,\n",
    "                       epochs = 10,\n",
    "                       validation_data = (test_text,test_labels),\n",
    "                       validation_split = int(len(test_text) * 0.25),\n",
    "                        callbacks = [tf.keras.callbacks.ModelCheckpoint(\"LSTM.tf\",\n",
    "                                                                               save_best_only=True)])"
   ]
  },
  {
   "cell_type": "code",
   "execution_count": 59,
   "id": "9c9de7fb",
   "metadata": {},
   "outputs": [
    {
     "name": "stderr",
     "output_type": "stream",
     "text": [
      "2022-10-16 23:16:52.161201: I tensorflow/core/grappler/optimizers/custom_graph_optimizer_registry.cc:113] Plugin optimizer for device_type GPU is enabled.\n",
      "2022-10-16 23:16:52.166049: I tensorflow/core/grappler/optimizers/custom_graph_optimizer_registry.cc:113] Plugin optimizer for device_type GPU is enabled.\n"
     ]
    }
   ],
   "source": [
    "# let's load the best model...\n",
    "model_2 = tf.keras.models.load_model(\"LSTM.tf\")"
   ]
  },
  {
   "cell_type": "code",
   "execution_count": 60,
   "id": "43110af0",
   "metadata": {},
   "outputs": [
    {
     "name": "stdout",
     "output_type": "stream",
     "text": [
      "\r",
      "  1/111 [..............................] - ETA: 51s"
     ]
    },
    {
     "name": "stderr",
     "output_type": "stream",
     "text": [
      "2022-10-16 23:16:55.214315: I tensorflow/core/grappler/optimizers/custom_graph_optimizer_registry.cc:113] Plugin optimizer for device_type GPU is enabled.\n",
      "2022-10-16 23:16:55.308838: I tensorflow/core/grappler/optimizers/custom_graph_optimizer_registry.cc:113] Plugin optimizer for device_type GPU is enabled.\n",
      "2022-10-16 23:16:55.359761: I tensorflow/core/grappler/optimizers/custom_graph_optimizer_registry.cc:113] Plugin optimizer for device_type GPU is enabled.\n"
     ]
    },
    {
     "name": "stdout",
     "output_type": "stream",
     "text": [
      "111/111 [==============================] - 2s 10ms/step\n"
     ]
    },
    {
     "data": {
      "text/plain": [
       "{'Accuracy': 0.6259196378041879,\n",
       " 'Precision': 0.6678920121353338,\n",
       " 'Recall': 0.6259196378041879,\n",
       " 'F_Score': 0.6456358779991207}"
      ]
     },
     "execution_count": 60,
     "metadata": {},
     "output_type": "execute_result"
    }
   ],
   "source": [
    "# make prediction and calculate results....\n",
    "model_2_results = calculate_results(test_labels, tf.squeeze(tf.round(model_2.predict(test_text))))\n",
    "model_2_results"
   ]
  },
  {
   "cell_type": "code",
   "execution_count": 61,
   "id": "d4fe0216",
   "metadata": {},
   "outputs": [
    {
     "data": {
      "image/png": "[encoded data removed]",
      "text/plain": [
       "<Figure size 432x288 with 1 Axes>"
      ]
     },
     "metadata": {
      "needs_background": "light"
     },
     "output_type": "display_data"
    },
    {
     "data": {
      "image/png": "[encoded data removed]",
      "text/plain": [
       "<Figure size 432x288 with 1 Axes>"
      ]
     },
     "metadata": {
      "needs_background": "light"
     },
     "output_type": "display_data"
    }
   ],
   "source": [
    "# plot model performance...\n",
    "plot_model_performance(history_2)"
   ]
  },
  {
   "cell_type": "markdown",
   "id": "b8a2d369",
   "metadata": {},
   "source": [
    "# Model 3 : GRU"
   ]
  },
  {
   "cell_type": "code",
   "execution_count": 62,
   "id": "b3c8291b",
   "metadata": {},
   "outputs": [],
   "source": [
    "# let's build the Model GRU(Gated Recurrent Units)\n",
    "\n",
    "# set the random seed\n",
    "tf.random.set_seed(42)\n",
    "\n",
    "# define the input layer.....\n",
    "inputs = layers.Input(shape=(),dtype=\"string\")\n",
    "# pass the input layer to tokenization....\n",
    "x = token(inputs)\n",
    "# pass the token into embedd layer.....\n",
    "x = embedd(x)\n",
    "\n",
    "# hidden layer.....\n",
    "x = layers.Dense(64,activation=\"relu\")(x)\n",
    "\n",
    "# adding drop-out layer....\n",
    "x = layers.Dropout(0.1)(x)\n",
    "\n",
    "# adding the 2nd layers....\n",
    "x = layers.Dense(32,activation=\"relu\")(x)\n",
    "\n",
    "# adding the lstm layer\n",
    "x = layers.GRU(64,return_sequences=True)(x)\n",
    "\n",
    "# adding the drop-out layer...\n",
    "x = layers.Dropout(0.1)(x)\n",
    "\n",
    "# LSTM layer\n",
    "x = layers.GRU(32,)(x)\n",
    "\n",
    "# output layer....\n",
    "output = layers.Dense(3,activation=\"sigmoid\")(x)\n",
    "\n",
    "# model building....\n",
    "model_3 = tf.keras.Model(inputs,output,name=\"GRU_Model\")\n",
    "\n",
    "# compiling the model...\n",
    "model_3.compile(loss=\"categorical_crossentropy\",\n",
    "               optimizer=tf.keras.optimizers.Adam(),\n",
    "               metrics=[\"accuracy\"])"
   ]
  },
  {
   "cell_type": "code",
   "execution_count": 63,
   "id": "a6df4ebc",
   "metadata": {},
   "outputs": [
    {
     "name": "stdout",
     "output_type": "stream",
     "text": [
      "Model: \"GRU_Model\"\n",
      "_________________________________________________________________\n",
      " Layer (type)                Output Shape              Param #   \n",
      "=================================================================\n",
      " input_3 (InputLayer)        [(None,)]                 0         \n",
      "                                                                 \n",
      " text_vectorization (TextVec  (None, 15)               0         \n",
      " torization)                                                     \n",
      "                                                                 \n",
      " embedding (Embedding)       (None, 15, 256)           3840000   \n",
      "                                                                 \n",
      " dense_6 (Dense)             (None, 15, 64)            16448     \n",
      "                                                                 \n",
      " dropout_1 (Dropout)         (None, 15, 64)            0         \n",
      "                                                                 \n",
      " dense_7 (Dense)             (None, 15, 32)            2080      \n",
      "                                                                 \n",
      " gru (GRU)                   (None, 15, 64)            18816     \n",
      "                                                                 \n",
      " dropout_2 (Dropout)         (None, 15, 64)            0         \n",
      "                                                                 \n",
      " gru_1 (GRU)                 (None, 32)                9408      \n",
      "                                                                 \n",
      " dense_8 (Dense)             (None, 3)                 99        \n",
      "                                                                 \n",
      "=================================================================\n",
      "Total params: 3,886,851\n",
      "Trainable params: 3,886,851\n",
      "Non-trainable params: 0\n",
      "_________________________________________________________________\n"
     ]
    }
   ],
   "source": [
    "# model summary...\n",
    "model_3.summary()"
   ]
  },
  {
   "cell_type": "code",
   "execution_count": 64,
   "id": "3dc0ad29",
   "metadata": {},
   "outputs": [
    {
     "name": "stdout",
     "output_type": "stream",
     "text": [
      "Epoch 1/10\n"
     ]
    },
    {
     "name": "stderr",
     "output_type": "stream",
     "text": [
      "2022-10-16 23:18:28.023587: I tensorflow/core/grappler/optimizers/custom_graph_optimizer_registry.cc:113] Plugin optimizer for device_type GPU is enabled.\n",
      "2022-10-16 23:18:28.297702: I tensorflow/core/grappler/optimizers/custom_graph_optimizer_registry.cc:113] Plugin optimizer for device_type GPU is enabled.\n",
      "2022-10-16 23:18:28.369034: I tensorflow/core/grappler/optimizers/custom_graph_optimizer_registry.cc:113] Plugin optimizer for device_type GPU is enabled.\n",
      "2022-10-16 23:18:28.457282: I tensorflow/core/grappler/optimizers/custom_graph_optimizer_registry.cc:113] Plugin optimizer for device_type GPU is enabled.\n"
     ]
    },
    {
     "name": "stdout",
     "output_type": "stream",
     "text": [
      "\r",
      "  1/859 [..............................] - ETA: 27:17 - loss: 1.0832 - accuracy: 0.4375"
     ]
    },
    {
     "name": "stderr",
     "output_type": "stream",
     "text": [
      "2022-10-16 23:18:28.568477: I tensorflow/core/grappler/optimizers/custom_graph_optimizer_registry.cc:113] Plugin optimizer for device_type GPU is enabled.\n"
     ]
    },
    {
     "name": "stdout",
     "output_type": "stream",
     "text": [
      "859/859 [==============================] - ETA: 0s - loss: 0.6608 - accuracy: 0.7321"
     ]
    },
    {
     "name": "stderr",
     "output_type": "stream",
     "text": [
      "2022-10-16 23:18:59.628002: I tensorflow/core/grappler/optimizers/custom_graph_optimizer_registry.cc:113] Plugin optimizer for device_type GPU is enabled.\n",
      "2022-10-16 23:18:59.718240: I tensorflow/core/grappler/optimizers/custom_graph_optimizer_registry.cc:113] Plugin optimizer for device_type GPU is enabled.\n",
      "2022-10-16 23:18:59.761154: I tensorflow/core/grappler/optimizers/custom_graph_optimizer_registry.cc:113] Plugin optimizer for device_type GPU is enabled.\n",
      "WARNING:absl:Found untraced functions such as gru_cell_layer_call_fn, gru_cell_layer_call_and_return_conditional_losses, gru_cell_1_layer_call_fn, gru_cell_1_layer_call_and_return_conditional_losses while saving (showing 4 of 4). These functions will not be directly callable after loading.\n"
     ]
    },
    {
     "name": "stdout",
     "output_type": "stream",
     "text": [
      "INFO:tensorflow:Assets written to: GRU.tf/assets\n"
     ]
    },
    {
     "name": "stderr",
     "output_type": "stream",
     "text": [
      "INFO:tensorflow:Assets written to: GRU.tf/assets\n"
     ]
    },
    {
     "name": "stdout",
     "output_type": "stream",
     "text": [
      "859/859 [==============================] - 41s 46ms/step - loss: 0.6608 - accuracy: 0.7321 - val_loss: 0.8161 - val_accuracy: 0.6545\n",
      "Epoch 2/10\n",
      "858/859 [============================>.] - ETA: 0s - loss: 0.5626 - accuracy: 0.7790"
     ]
    },
    {
     "name": "stderr",
     "output_type": "stream",
     "text": [
      "WARNING:absl:Found untraced functions such as gru_cell_layer_call_fn, gru_cell_layer_call_and_return_conditional_losses, gru_cell_1_layer_call_fn, gru_cell_1_layer_call_and_return_conditional_losses while saving (showing 4 of 4). These functions will not be directly callable after loading.\n"
     ]
    },
    {
     "name": "stdout",
     "output_type": "stream",
     "text": [
      "INFO:tensorflow:Assets written to: GRU.tf/assets\n"
     ]
    },
    {
     "name": "stderr",
     "output_type": "stream",
     "text": [
      "INFO:tensorflow:Assets written to: GRU.tf/assets\n"
     ]
    },
    {
     "name": "stdout",
     "output_type": "stream",
     "text": [
      "859/859 [==============================] - 38s 44ms/step - loss: 0.5628 - accuracy: 0.7789 - val_loss: 0.8074 - val_accuracy: 0.6638\n",
      "Epoch 3/10\n",
      "859/859 [==============================] - 31s 36ms/step - loss: 0.5671 - accuracy: 0.7762 - val_loss: 0.8863 - val_accuracy: 0.6310\n",
      "Epoch 4/10\n",
      "859/859 [==============================] - 31s 36ms/step - loss: 0.6777 - accuracy: 0.7141 - val_loss: 0.8871 - val_accuracy: 0.6160\n",
      "Epoch 5/10\n",
      "859/859 [==============================] - 31s 36ms/step - loss: 0.6684 - accuracy: 0.7195 - val_loss: 0.8883 - val_accuracy: 0.6101\n",
      "Epoch 6/10\n",
      "859/859 [==============================] - 31s 36ms/step - loss: 0.6396 - accuracy: 0.7332 - val_loss: 0.8725 - val_accuracy: 0.6005\n",
      "Epoch 7/10\n",
      "859/859 [==============================] - 31s 36ms/step - loss: 0.6364 - accuracy: 0.7330 - val_loss: 0.8778 - val_accuracy: 0.6245\n",
      "Epoch 8/10\n",
      "859/859 [==============================] - 31s 36ms/step - loss: 0.6216 - accuracy: 0.7455 - val_loss: 0.8985 - val_accuracy: 0.6191\n",
      "Epoch 9/10\n",
      "859/859 [==============================] - 31s 36ms/step - loss: 0.6210 - accuracy: 0.7460 - val_loss: 0.9496 - val_accuracy: 0.6112\n",
      "Epoch 10/10\n",
      "859/859 [==============================] - 31s 36ms/step - loss: 0.6036 - accuracy: 0.7587 - val_loss: 0.9211 - val_accuracy: 0.6188\n"
     ]
    }
   ],
   "source": [
    "# fitting the model to data....\n",
    "history_3 = model_3.fit(train_text, train_labels,\n",
    "                       epochs = 10,\n",
    "                       validation_data = (test_text,test_labels),\n",
    "                       validation_split = int(len(test_text) * 0.30),\n",
    "                       callbacks = [tf.keras.callbacks.ModelCheckpoint(\"GRU.tf\",\n",
    "                                                                               save_best_only=True)])"
   ]
  },
  {
   "cell_type": "code",
   "execution_count": 65,
   "id": "1837277c",
   "metadata": {},
   "outputs": [
    {
     "name": "stderr",
     "output_type": "stream",
     "text": [
      "2022-10-16 23:23:59.251087: I tensorflow/core/grappler/optimizers/custom_graph_optimizer_registry.cc:113] Plugin optimizer for device_type GPU is enabled.\n",
      "2022-10-16 23:23:59.255962: I tensorflow/core/grappler/optimizers/custom_graph_optimizer_registry.cc:113] Plugin optimizer for device_type GPU is enabled.\n"
     ]
    }
   ],
   "source": [
    "# let's load the best model...\n",
    "model_3 = tf.keras.models.load_model(\"GRU.tf\")"
   ]
  },
  {
   "cell_type": "code",
   "execution_count": 66,
   "id": "af87f06b",
   "metadata": {},
   "outputs": [
    {
     "name": "stdout",
     "output_type": "stream",
     "text": [
      "\r",
      "  1/111 [..............................] - ETA: 47s"
     ]
    },
    {
     "name": "stderr",
     "output_type": "stream",
     "text": [
      "2022-10-16 23:23:59.752432: I tensorflow/core/grappler/optimizers/custom_graph_optimizer_registry.cc:113] Plugin optimizer for device_type GPU is enabled.\n",
      "2022-10-16 23:23:59.840152: I tensorflow/core/grappler/optimizers/custom_graph_optimizer_registry.cc:113] Plugin optimizer for device_type GPU is enabled.\n",
      "2022-10-16 23:23:59.888080: I tensorflow/core/grappler/optimizers/custom_graph_optimizer_registry.cc:113] Plugin optimizer for device_type GPU is enabled.\n"
     ]
    },
    {
     "name": "stdout",
     "output_type": "stream",
     "text": [
      "111/111 [==============================] - 1s 9ms/step\n"
     ]
    },
    {
     "data": {
      "text/plain": [
       "{'Accuracy': 0.3225806451612903,\n",
       " 'Precision': 0.5473510925747506,\n",
       " 'Recall': 0.8290888511601585,\n",
       " 'F_Score': 0.6523370094437636}"
      ]
     },
     "execution_count": 66,
     "metadata": {},
     "output_type": "execute_result"
    }
   ],
   "source": [
    "# make prediction and calculate results....\n",
    "model_3_results = calculate_results(test_labels, tf.squeeze(tf.round(model_3.predict(test_text))))\n",
    "model_3_results"
   ]
  },
  {
   "cell_type": "code",
   "execution_count": 67,
   "id": "abc99400",
   "metadata": {},
   "outputs": [
    {
     "data": {
      "image/png": "[encoded data removed]",
      "text/plain": [
       "<Figure size 432x288 with 1 Axes>"
      ]
     },
     "metadata": {
      "needs_background": "light"
     },
     "output_type": "display_data"
    },
    {
     "data": {
      "image/png": "[encoded data removed]",
      "text/plain": [
       "<Figure size 432x288 with 1 Axes>"
      ]
     },
     "metadata": {
      "needs_background": "light"
     },
     "output_type": "display_data"
    }
   ],
   "source": [
    "# plot model performance....\n",
    "plot_model_performance(history_3)"
   ]
  },
  {
   "cell_type": "markdown",
   "id": "da9f8578",
   "metadata": {},
   "source": [
    "# Model 4 : BiDirectional "
   ]
  },
  {
   "cell_type": "code",
   "execution_count": 68,
   "id": "c9da50dd",
   "metadata": {},
   "outputs": [],
   "source": [
    "# let's build the BiDirectional Model....\n",
    "\n",
    "# set the random seed\n",
    "tf.random.set_seed(42)\n",
    "\n",
    "# define the input layer.....\n",
    "inputs = layers.Input(shape=(),dtype=\"string\")\n",
    "# pass the input layer to tokenization....\n",
    "x = token(inputs)\n",
    "# pass the token into embedd layer.....\n",
    "x = embedd(x)\n",
    "\n",
    "# adding the Bidirectional layer\n",
    "x = layers.Bidirectional(layers.LSTM(64,return_sequences=True))(x)\n",
    "\n",
    "# Bidirectional layer\n",
    "x = layers.Bidirectional(layers.LSTM(32,))(x)\n",
    "\n",
    "# output layer....\n",
    "output = layers.Dense(3,activation=\"softmax\")(x)\n",
    "\n",
    "# model building....\n",
    "model_4 = tf.keras.Model(inputs,output,name=\"Bidirectional_Model\")\n",
    "\n",
    "# compiling the model...\n",
    "model_4.compile(loss=\"categorical_crossentropy\",\n",
    "               optimizer=\"rmsprop\",\n",
    "               metrics=[\"accuracy\"])"
   ]
  },
  {
   "cell_type": "code",
   "execution_count": 69,
   "id": "4f650cc6",
   "metadata": {},
   "outputs": [
    {
     "name": "stdout",
     "output_type": "stream",
     "text": [
      "Model: \"Bidirectional_Model\"\n",
      "_________________________________________________________________\n",
      " Layer (type)                Output Shape              Param #   \n",
      "=================================================================\n",
      " input_4 (InputLayer)        [(None,)]                 0         \n",
      "                                                                 \n",
      " text_vectorization (TextVec  (None, 15)               0         \n",
      " torization)                                                     \n",
      "                                                                 \n",
      " embedding (Embedding)       (None, 15, 256)           3840000   \n",
      "                                                                 \n",
      " bidirectional (Bidirectiona  (None, 15, 128)          164352    \n",
      " l)                                                              \n",
      "                                                                 \n",
      " bidirectional_1 (Bidirectio  (None, 64)               41216     \n",
      " nal)                                                            \n",
      "                                                                 \n",
      " dense_9 (Dense)             (None, 3)                 195       \n",
      "                                                                 \n",
      "=================================================================\n",
      "Total params: 4,045,763\n",
      "Trainable params: 4,045,763\n",
      "Non-trainable params: 0\n",
      "_________________________________________________________________\n"
     ]
    }
   ],
   "source": [
    "# model summary....\n",
    "model_4.summary()"
   ]
  },
  {
   "cell_type": "code",
   "execution_count": 70,
   "id": "6775630b",
   "metadata": {},
   "outputs": [
    {
     "name": "stdout",
     "output_type": "stream",
     "text": [
      "Epoch 1/10\n"
     ]
    },
    {
     "name": "stderr",
     "output_type": "stream",
     "text": [
      "2022-10-16 23:24:03.835995: I tensorflow/core/grappler/optimizers/custom_graph_optimizer_registry.cc:113] Plugin optimizer for device_type GPU is enabled.\n",
      "2022-10-16 23:24:04.220911: I tensorflow/core/grappler/optimizers/custom_graph_optimizer_registry.cc:113] Plugin optimizer for device_type GPU is enabled.\n",
      "2022-10-16 23:24:04.235442: I tensorflow/core/grappler/optimizers/custom_graph_optimizer_registry.cc:113] Plugin optimizer for device_type GPU is enabled.\n",
      "2022-10-16 23:24:04.326271: I tensorflow/core/grappler/optimizers/custom_graph_optimizer_registry.cc:113] Plugin optimizer for device_type GPU is enabled.\n",
      "2022-10-16 23:24:04.336401: I tensorflow/core/grappler/optimizers/custom_graph_optimizer_registry.cc:113] Plugin optimizer for device_type GPU is enabled.\n",
      "2022-10-16 23:24:04.448413: I tensorflow/core/grappler/optimizers/custom_graph_optimizer_registry.cc:113] Plugin optimizer for device_type GPU is enabled.\n",
      "2022-10-16 23:24:04.463845: I tensorflow/core/grappler/optimizers/custom_graph_optimizer_registry.cc:113] Plugin optimizer for device_type GPU is enabled.\n",
      "2022-10-16 23:24:04.658606: I tensorflow/core/grappler/optimizers/custom_graph_optimizer_registry.cc:113] Plugin optimizer for device_type GPU is enabled.\n",
      "2022-10-16 23:24:04.675749: I tensorflow/core/grappler/optimizers/custom_graph_optimizer_registry.cc:113] Plugin optimizer for device_type GPU is enabled.\n"
     ]
    },
    {
     "name": "stdout",
     "output_type": "stream",
     "text": [
      "859/859 [==============================] - ETA: 0s - loss: 0.5213 - accuracy: 0.7970"
     ]
    },
    {
     "name": "stderr",
     "output_type": "stream",
     "text": [
      "2022-10-16 23:24:45.019926: I tensorflow/core/grappler/optimizers/custom_graph_optimizer_registry.cc:113] Plugin optimizer for device_type GPU is enabled.\n",
      "2022-10-16 23:24:45.150753: I tensorflow/core/grappler/optimizers/custom_graph_optimizer_registry.cc:113] Plugin optimizer for device_type GPU is enabled.\n",
      "2022-10-16 23:24:45.157845: I tensorflow/core/grappler/optimizers/custom_graph_optimizer_registry.cc:113] Plugin optimizer for device_type GPU is enabled.\n",
      "2022-10-16 23:24:45.227767: I tensorflow/core/grappler/optimizers/custom_graph_optimizer_registry.cc:113] Plugin optimizer for device_type GPU is enabled.\n",
      "2022-10-16 23:24:45.235037: I tensorflow/core/grappler/optimizers/custom_graph_optimizer_registry.cc:113] Plugin optimizer for device_type GPU is enabled.\n",
      "WARNING:absl:Found untraced functions such as lstm_cell_7_layer_call_fn, lstm_cell_7_layer_call_and_return_conditional_losses, lstm_cell_8_layer_call_fn, lstm_cell_8_layer_call_and_return_conditional_losses, lstm_cell_10_layer_call_fn while saving (showing 5 of 8). These functions will not be directly callable after loading.\n"
     ]
    },
    {
     "name": "stdout",
     "output_type": "stream",
     "text": [
      "INFO:tensorflow:Assets written to: Bidirect.tf/assets\n"
     ]
    },
    {
     "name": "stderr",
     "output_type": "stream",
     "text": [
      "INFO:tensorflow:Assets written to: Bidirect.tf/assets\n"
     ]
    },
    {
     "name": "stdout",
     "output_type": "stream",
     "text": [
      "859/859 [==============================] - 67s 74ms/step - loss: 0.5213 - accuracy: 0.7970 - val_loss: 0.8568 - val_accuracy: 0.6604\n",
      "Epoch 2/10\n",
      "859/859 [==============================] - 40s 47ms/step - loss: 0.4348 - accuracy: 0.8362 - val_loss: 0.8593 - val_accuracy: 0.6570\n",
      "Epoch 3/10\n",
      "859/859 [==============================] - 40s 47ms/step - loss: 0.3913 - accuracy: 0.8542 - val_loss: 0.8955 - val_accuracy: 0.6658\n",
      "Epoch 4/10\n",
      "859/859 [==============================] - 41s 47ms/step - loss: 0.3546 - accuracy: 0.8697 - val_loss: 0.9144 - val_accuracy: 0.6729\n",
      "Epoch 5/10\n",
      "859/859 [==============================] - 42s 49ms/step - loss: 0.3204 - accuracy: 0.8825 - val_loss: 0.9408 - val_accuracy: 0.6593\n",
      "Epoch 6/10\n",
      "859/859 [==============================] - 42s 49ms/step - loss: 0.2855 - accuracy: 0.8975 - val_loss: 1.0155 - val_accuracy: 0.6542\n",
      "Epoch 7/10\n",
      "859/859 [==============================] - 42s 49ms/step - loss: 0.2504 - accuracy: 0.9111 - val_loss: 1.0716 - val_accuracy: 0.6587\n",
      "Epoch 8/10\n",
      "859/859 [==============================] - 41s 48ms/step - loss: 0.2203 - accuracy: 0.9218 - val_loss: 1.1413 - val_accuracy: 0.6647\n",
      "Epoch 9/10\n",
      "859/859 [==============================] - 40s 47ms/step - loss: 0.1884 - accuracy: 0.9336 - val_loss: 1.2216 - val_accuracy: 0.6573\n",
      "Epoch 10/10\n",
      "859/859 [==============================] - 42s 49ms/step - loss: 0.1583 - accuracy: 0.9449 - val_loss: 1.3563 - val_accuracy: 0.6505\n"
     ]
    }
   ],
   "source": [
    "# fitting model to data...\n",
    "history_4 = model_4.fit(train_text, train_labels,\n",
    "                       epochs = 10,\n",
    "                       validation_data = (test_text,test_labels),\n",
    "                       validation_split = int(len(test_text) * 0.30),\n",
    "                       callbacks = [tf.keras.callbacks.ModelCheckpoint(\"Bidirect.tf\",save_best_only=True)])"
   ]
  },
  {
   "cell_type": "code",
   "execution_count": 71,
   "id": "61cef941",
   "metadata": {},
   "outputs": [
    {
     "name": "stderr",
     "output_type": "stream",
     "text": [
      "2022-10-16 23:31:39.774799: I tensorflow/core/grappler/optimizers/custom_graph_optimizer_registry.cc:113] Plugin optimizer for device_type GPU is enabled.\n",
      "2022-10-16 23:31:39.780151: I tensorflow/core/grappler/optimizers/custom_graph_optimizer_registry.cc:113] Plugin optimizer for device_type GPU is enabled.\n"
     ]
    }
   ],
   "source": [
    "# let's load the best model... \n",
    "model_4 = tf.keras.models.load_model(\"Bidirect.tf\")"
   ]
  },
  {
   "cell_type": "code",
   "execution_count": 72,
   "id": "8c6458fd",
   "metadata": {},
   "outputs": [
    {
     "name": "stderr",
     "output_type": "stream",
     "text": [
      "2022-10-16 23:31:40.970526: I tensorflow/core/grappler/optimizers/custom_graph_optimizer_registry.cc:113] Plugin optimizer for device_type GPU is enabled.\n",
      "2022-10-16 23:31:41.107187: I tensorflow/core/grappler/optimizers/custom_graph_optimizer_registry.cc:113] Plugin optimizer for device_type GPU is enabled.\n",
      "2022-10-16 23:31:41.119079: I tensorflow/core/grappler/optimizers/custom_graph_optimizer_registry.cc:113] Plugin optimizer for device_type GPU is enabled.\n"
     ]
    },
    {
     "name": "stdout",
     "output_type": "stream",
     "text": [
      "  3/111 [..............................] - ETA: 3s  "
     ]
    },
    {
     "name": "stderr",
     "output_type": "stream",
     "text": [
      "2022-10-16 23:31:41.242205: I tensorflow/core/grappler/optimizers/custom_graph_optimizer_registry.cc:113] Plugin optimizer for device_type GPU is enabled.\n",
      "2022-10-16 23:31:41.249789: I tensorflow/core/grappler/optimizers/custom_graph_optimizer_registry.cc:113] Plugin optimizer for device_type GPU is enabled.\n"
     ]
    },
    {
     "name": "stdout",
     "output_type": "stream",
     "text": [
      "111/111 [==============================] - 3s 16ms/step\n"
     ]
    },
    {
     "data": {
      "text/plain": [
       "{'Accuracy': 0.6321448783248443,\n",
       " 'Precision': 0.6811553974082293,\n",
       " 'Recall': 0.6321448783248443,\n",
       " 'F_Score': 0.6545883137918077}"
      ]
     },
     "execution_count": 72,
     "metadata": {},
     "output_type": "execute_result"
    }
   ],
   "source": [
    "# make predictions and calculate results....\n",
    "model_4_results = calculate_results(test_labels,tf.squeeze(tf.round(model_4.predict(test_text))))\n",
    "model_4_results"
   ]
  },
  {
   "cell_type": "code",
   "execution_count": 73,
   "id": "0314b5b1",
   "metadata": {},
   "outputs": [
    {
     "data": {
      "image/png": "[encoded data removed]",
      "text/plain": [
       "<Figure size 432x288 with 1 Axes>"
      ]
     },
     "metadata": {
      "needs_background": "light"
     },
     "output_type": "display_data"
    },
    {
     "data": {
      "image/png": "[encoded data removed]",
      "text/plain": [
       "<Figure size 432x288 with 1 Axes>"
      ]
     },
     "metadata": {
      "needs_background": "light"
     },
     "output_type": "display_data"
    }
   ],
   "source": [
    "# plot model performance....\n",
    "plot_model_performance(history_4)"
   ]
  },
  {
   "cell_type": "markdown",
   "id": "24a42086",
   "metadata": {},
   "source": [
    "# Model 5 : Conv1D"
   ]
  },
  {
   "cell_type": "code",
   "execution_count": 74,
   "id": "8d67a88e",
   "metadata": {},
   "outputs": [],
   "source": [
    "# as our previous models are overfitting to data....\n",
    "# let's build another model Conv1D\n",
    "\n",
    "# set the random seed\n",
    "tf.random.set_seed(42)\n",
    "\n",
    "# define the input layer.....\n",
    "inputs = layers.Input(shape=(),dtype=\"string\")\n",
    "# pass the input layer to tokenization....\n",
    "x = token(inputs)\n",
    "# pass the token into embedd layer.....\n",
    "x = embedd(x)\n",
    "\n",
    "# adding the Conv1D layer...\n",
    "x = layers.Conv1D(filters = 32, kernel_size = 5, activation = \"relu\")(x)\n",
    "\n",
    "# adding the MaxPool1D layer....\n",
    "x = layers.GlobalMaxPool1D()(x)\n",
    "\n",
    "# output layer....\n",
    "output = layers.Dense(3,activation=\"softmax\")(x)\n",
    "\n",
    "# model building....\n",
    "model_5 = tf.keras.Model(inputs,output,name=\"Conv1D_Model\")\n",
    "\n",
    "# compiling the model...\n",
    "model_5.compile(loss=\"categorical_crossentropy\",\n",
    "               optimizer=\"rmsprop\",\n",
    "               metrics=[\"accuracy\"])"
   ]
  },
  {
   "cell_type": "code",
   "execution_count": 75,
   "id": "8e76fee5",
   "metadata": {},
   "outputs": [
    {
     "name": "stdout",
     "output_type": "stream",
     "text": [
      "Model: \"Conv1D_Model\"\n",
      "_________________________________________________________________\n",
      " Layer (type)                Output Shape              Param #   \n",
      "=================================================================\n",
      " input_5 (InputLayer)        [(None,)]                 0         \n",
      "                                                                 \n",
      " text_vectorization (TextVec  (None, 15)               0         \n",
      " torization)                                                     \n",
      "                                                                 \n",
      " embedding (Embedding)       (None, 15, 256)           3840000   \n",
      "                                                                 \n",
      " conv1d (Conv1D)             (None, 11, 32)            40992     \n",
      "                                                                 \n",
      " global_max_pooling1d (Globa  (None, 32)               0         \n",
      " lMaxPooling1D)                                                  \n",
      "                                                                 \n",
      " dense_10 (Dense)            (None, 3)                 99        \n",
      "                                                                 \n",
      "=================================================================\n",
      "Total params: 3,881,091\n",
      "Trainable params: 3,881,091\n",
      "Non-trainable params: 0\n",
      "_________________________________________________________________\n"
     ]
    }
   ],
   "source": [
    "# model summary...\n",
    "model_5.summary()"
   ]
  },
  {
   "cell_type": "code",
   "execution_count": 77,
   "id": "2f622819",
   "metadata": {},
   "outputs": [
    {
     "name": "stdout",
     "output_type": "stream",
     "text": [
      "Epoch 1/10\n"
     ]
    },
    {
     "name": "stderr",
     "output_type": "stream",
     "text": [
      "2022-10-16 23:33:08.514993: I tensorflow/core/grappler/optimizers/custom_graph_optimizer_registry.cc:113] Plugin optimizer for device_type GPU is enabled.\n"
     ]
    },
    {
     "name": "stdout",
     "output_type": "stream",
     "text": [
      "859/859 [==============================] - ETA: 0s - loss: 0.6294 - accuracy: 0.7702"
     ]
    },
    {
     "name": "stderr",
     "output_type": "stream",
     "text": [
      "2022-10-16 23:33:26.889365: I tensorflow/core/grappler/optimizers/custom_graph_optimizer_registry.cc:113] Plugin optimizer for device_type GPU is enabled.\n",
      "WARNING:absl:Found untraced functions such as _jit_compiled_convolution_op while saving (showing 1 of 1). These functions will not be directly callable after loading.\n"
     ]
    },
    {
     "name": "stdout",
     "output_type": "stream",
     "text": [
      "INFO:tensorflow:Assets written to: Conv.tf/assets\n"
     ]
    },
    {
     "name": "stderr",
     "output_type": "stream",
     "text": [
      "INFO:tensorflow:Assets written to: Conv.tf/assets\n"
     ]
    },
    {
     "name": "stdout",
     "output_type": "stream",
     "text": [
      "859/859 [==============================] - 22s 25ms/step - loss: 0.6294 - accuracy: 0.7702 - val_loss: 0.8219 - val_accuracy: 0.6610\n",
      "Epoch 2/10\n",
      "859/859 [==============================] - 17s 20ms/step - loss: 0.5041 - accuracy: 0.8234 - val_loss: 0.9220 - val_accuracy: 0.6333\n",
      "Epoch 3/10\n",
      "859/859 [==============================] - 16s 19ms/step - loss: 0.4445 - accuracy: 0.8439 - val_loss: 1.0963 - val_accuracy: 0.6205\n",
      "Epoch 4/10\n",
      "859/859 [==============================] - 16s 19ms/step - loss: 0.3934 - accuracy: 0.8623 - val_loss: 0.9959 - val_accuracy: 0.6686\n",
      "Epoch 5/10\n",
      "859/859 [==============================] - 16s 19ms/step - loss: 0.3487 - accuracy: 0.8811 - val_loss: 1.0498 - val_accuracy: 0.6531\n",
      "Epoch 6/10\n",
      "859/859 [==============================] - 16s 19ms/step - loss: 0.3030 - accuracy: 0.8981 - val_loss: 1.0382 - val_accuracy: 0.6488\n",
      "Epoch 7/10\n",
      "859/859 [==============================] - 16s 19ms/step - loss: 0.2618 - accuracy: 0.9133 - val_loss: 1.0888 - val_accuracy: 0.6681\n",
      "Epoch 8/10\n",
      "859/859 [==============================] - 16s 19ms/step - loss: 0.2251 - accuracy: 0.9271 - val_loss: 1.1273 - val_accuracy: 0.6644\n",
      "Epoch 9/10\n",
      "859/859 [==============================] - 16s 19ms/step - loss: 0.1925 - accuracy: 0.9382 - val_loss: 1.2130 - val_accuracy: 0.6545\n",
      "Epoch 10/10\n",
      "859/859 [==============================] - 16s 19ms/step - loss: 0.1611 - accuracy: 0.9493 - val_loss: 1.2993 - val_accuracy: 0.6539\n"
     ]
    }
   ],
   "source": [
    "# fitting the model to data....\n",
    "history_5 = model_5.fit(train_text,train_labels,\n",
    "                       epochs = 10,\n",
    "                       validation_data = (test_text,test_labels),\n",
    "                       validation_split = int(len(test_text) * 0.20),\n",
    "                       callbacks = [tf.keras.callbacks.ModelCheckpoint(\"Conv.tf\",save_best_only=True)])"
   ]
  },
  {
   "cell_type": "code",
   "execution_count": 78,
   "id": "f69b6aea",
   "metadata": {},
   "outputs": [
    {
     "name": "stderr",
     "output_type": "stream",
     "text": [
      "2022-10-16 23:35:57.721388: I tensorflow/core/grappler/optimizers/custom_graph_optimizer_registry.cc:113] Plugin optimizer for device_type GPU is enabled.\n",
      "2022-10-16 23:35:57.726268: I tensorflow/core/grappler/optimizers/custom_graph_optimizer_registry.cc:113] Plugin optimizer for device_type GPU is enabled.\n"
     ]
    }
   ],
   "source": [
    "# let's load the best model... \n",
    "model_5 = tf.keras.models.load_model(\"Conv.tf\")"
   ]
  },
  {
   "cell_type": "code",
   "execution_count": 79,
   "id": "9a6c786b",
   "metadata": {},
   "outputs": [
    {
     "name": "stdout",
     "output_type": "stream",
     "text": [
      " 23/111 [=====>........................] - ETA: 0s"
     ]
    },
    {
     "name": "stderr",
     "output_type": "stream",
     "text": [
      "2022-10-16 23:35:57.808271: I tensorflow/core/grappler/optimizers/custom_graph_optimizer_registry.cc:113] Plugin optimizer for device_type GPU is enabled.\n"
     ]
    },
    {
     "name": "stdout",
     "output_type": "stream",
     "text": [
      "111/111 [==============================] - 0s 2ms/step\n"
     ]
    },
    {
     "data": {
      "text/plain": [
       "{'Accuracy': 0.621675155631013,\n",
       " 'Precision': 0.6886523736610871,\n",
       " 'Recall': 0.621675155631013,\n",
       " 'F_Score': 0.6533341653172787}"
      ]
     },
     "execution_count": 79,
     "metadata": {},
     "output_type": "execute_result"
    }
   ],
   "source": [
    "# make predictions and calculate results....\n",
    "model_5_results = calculate_results(test_labels,tf.squeeze(tf.round(model_5.predict(test_text))))\n",
    "model_5_results"
   ]
  },
  {
   "cell_type": "code",
   "execution_count": 80,
   "id": "af547e81",
   "metadata": {},
   "outputs": [
    {
     "data": {
      "image/png": "[encoded data removed]",
      "text/plain": [
       "<Figure size 432x288 with 1 Axes>"
      ]
     },
     "metadata": {
      "needs_background": "light"
     },
     "output_type": "display_data"
    },
    {
     "data": {
      "image/png": "[encoded data removed]",
      "text/plain": [
       "<Figure size 432x288 with 1 Axes>"
      ]
     },
     "metadata": {
      "needs_background": "light"
     },
     "output_type": "display_data"
    }
   ],
   "source": [
    "# plot the model performance....\n",
    "plot_model_performance(history_5)"
   ]
  },
  {
   "cell_type": "code",
   "execution_count": 81,
   "id": "862339bd",
   "metadata": {},
   "outputs": [],
   "source": [
    "# Almost all our previous models overfitts the data. So let's try another approach."
   ]
  },
  {
   "cell_type": "markdown",
   "id": "1c3eaf08",
   "metadata": {},
   "source": [
    "# Model 6 : Pretrained Embeddings Transfer Learning"
   ]
  },
  {
   "cell_type": "code",
   "execution_count": 82,
   "id": "85e0aad0",
   "metadata": {},
   "outputs": [
    {
     "name": "stderr",
     "output_type": "stream",
     "text": [
      "2022-10-16 23:36:02.142744: I tensorflow/core/grappler/optimizers/custom_graph_optimizer_registry.cc:113] Plugin optimizer for device_type GPU is enabled.\n"
     ]
    }
   ],
   "source": [
    "# we'll build the transfer learning model by using Universal Sentence Encoder Embedding Layer...\n",
    "\n",
    "# setup the random seed\n",
    "tf.random.set_seed(42)\n",
    "\n",
    "hub_url = \"https://tfhub.dev/google/universal-sentence-encoder/4\"\n",
    "\n",
    "# defining sentence encoded layer....\n",
    "sentence_encod_layer = hub.KerasLayer(hub_url,\n",
    "                                     input_shape = (),\n",
    "                                     dtype = \"string\",\n",
    "                                     trainable = False,\n",
    "                                     name = \"Universal_Encoded\")\n",
    "\n",
    "# building the model\n",
    "model_6 = tf.keras.models.Sequential([\n",
    "    sentence_encod_layer,\n",
    "    layers.Dense(64, activation = \"relu\"),\n",
    "    layers.Dense(3, activation = \"softmax\")\n",
    "], name = \"Model_USE\")\n",
    "\n",
    "# compiling the model\n",
    "model_6.compile(loss=\"categorical_crossentropy\",\n",
    "               optimizer=\"rmsprop\",\n",
    "               metrics=[\"accuracy\"])"
   ]
  },
  {
   "cell_type": "code",
   "execution_count": 83,
   "id": "ec43c552",
   "metadata": {},
   "outputs": [
    {
     "name": "stdout",
     "output_type": "stream",
     "text": [
      "Model: \"Model_USE\"\n",
      "_________________________________________________________________\n",
      " Layer (type)                Output Shape              Param #   \n",
      "=================================================================\n",
      " Universal_Encoded (KerasLay  (None, 512)              256797824 \n",
      " er)                                                             \n",
      "                                                                 \n",
      " dense_11 (Dense)            (None, 64)                32832     \n",
      "                                                                 \n",
      " dense_12 (Dense)            (None, 3)                 195       \n",
      "                                                                 \n",
      "=================================================================\n",
      "Total params: 256,830,851\n",
      "Trainable params: 33,027\n",
      "Non-trainable params: 256,797,824\n",
      "_________________________________________________________________\n"
     ]
    }
   ],
   "source": [
    "# model summary...\n",
    "model_6.summary()"
   ]
  },
  {
   "cell_type": "code",
   "execution_count": 84,
   "id": "4f8a4ade",
   "metadata": {},
   "outputs": [
    {
     "name": "stdout",
     "output_type": "stream",
     "text": [
      "Epoch 1/10\n"
     ]
    },
    {
     "name": "stderr",
     "output_type": "stream",
     "text": [
      "2022-10-16 23:36:04.303183: I tensorflow/core/grappler/optimizers/custom_graph_optimizer_registry.cc:113] Plugin optimizer for device_type GPU is enabled.\n"
     ]
    },
    {
     "name": "stdout",
     "output_type": "stream",
     "text": [
      "859/859 [==============================] - ETA: 0s - loss: 0.7564 - accuracy: 0.6697"
     ]
    },
    {
     "name": "stderr",
     "output_type": "stream",
     "text": [
      "2022-10-16 23:36:37.554554: I tensorflow/core/grappler/optimizers/custom_graph_optimizer_registry.cc:113] Plugin optimizer for device_type GPU is enabled.\n"
     ]
    },
    {
     "name": "stdout",
     "output_type": "stream",
     "text": [
      "859/859 [==============================] - 42s 47ms/step - loss: 0.7564 - accuracy: 0.6697 - val_loss: 0.6987 - val_accuracy: 0.6910\n",
      "Epoch 2/10\n",
      "859/859 [==============================] - 41s 47ms/step - loss: 0.6923 - accuracy: 0.6953 - val_loss: 0.6882 - val_accuracy: 0.7006\n",
      "Epoch 3/10\n",
      "859/859 [==============================] - 41s 47ms/step - loss: 0.6788 - accuracy: 0.7002 - val_loss: 0.6832 - val_accuracy: 0.7063\n",
      "Epoch 4/10\n",
      "859/859 [==============================] - 40s 47ms/step - loss: 0.6671 - accuracy: 0.7085 - val_loss: 0.6798 - val_accuracy: 0.7102\n",
      "Epoch 5/10\n",
      "859/859 [==============================] - 39s 45ms/step - loss: 0.6565 - accuracy: 0.7127 - val_loss: 0.6791 - val_accuracy: 0.7074\n",
      "Epoch 6/10\n",
      "859/859 [==============================] - 38s 44ms/step - loss: 0.6455 - accuracy: 0.7185 - val_loss: 0.6749 - val_accuracy: 0.7071\n",
      "Epoch 7/10\n",
      "859/859 [==============================] - 38s 44ms/step - loss: 0.6344 - accuracy: 0.7258 - val_loss: 0.6762 - val_accuracy: 0.7128\n",
      "Epoch 8/10\n",
      "859/859 [==============================] - 39s 45ms/step - loss: 0.6228 - accuracy: 0.7340 - val_loss: 0.6773 - val_accuracy: 0.7148\n",
      "Epoch 9/10\n",
      "859/859 [==============================] - 40s 47ms/step - loss: 0.6109 - accuracy: 0.7397 - val_loss: 0.6835 - val_accuracy: 0.7102\n",
      "Epoch 10/10\n",
      "859/859 [==============================] - 42s 48ms/step - loss: 0.5984 - accuracy: 0.7466 - val_loss: 0.6796 - val_accuracy: 0.7063\n"
     ]
    }
   ],
   "source": [
    "# fit model to data....\n",
    "history_6 = model_6.fit(train_text,train_labels,\n",
    "                       epochs = 10,\n",
    "                       validation_data = (test_text,test_labels),\n",
    "                       validation_split = int(len(test_text) * 0.20))"
   ]
  },
  {
   "cell_type": "code",
   "execution_count": 85,
   "id": "77065a41",
   "metadata": {},
   "outputs": [
    {
     "name": "stderr",
     "output_type": "stream",
     "text": [
      "2022-10-16 23:42:43.290618: I tensorflow/core/grappler/optimizers/custom_graph_optimizer_registry.cc:113] Plugin optimizer for device_type GPU is enabled.\n"
     ]
    },
    {
     "name": "stdout",
     "output_type": "stream",
     "text": [
      "111/111 [==============================] - 12s 99ms/step\n"
     ]
    },
    {
     "data": {
      "text/plain": [
       "{'Accuracy': 0.6539332201471421,\n",
       " 'Precision': 0.7519024069744775,\n",
       " 'Recall': 0.6539332201471421,\n",
       " 'F_Score': 0.6982329529338487}"
      ]
     },
     "execution_count": 85,
     "metadata": {},
     "output_type": "execute_result"
    }
   ],
   "source": [
    "# model predictions and calculate results...\n",
    "model_6_results = calculate_results(test_labels,tf.squeeze(tf.round(model_6.predict(test_text))))\n",
    "model_6_results"
   ]
  },
  {
   "cell_type": "code",
   "execution_count": 86,
   "id": "be5fb118",
   "metadata": {},
   "outputs": [
    {
     "data": {
      "image/png": "[encoded data removed]",
      "text/plain": [
       "<Figure size 432x288 with 1 Axes>"
      ]
     },
     "metadata": {
      "needs_background": "light"
     },
     "output_type": "display_data"
    },
    {
     "data": {
      "image/png": "[encoded data removed]",
      "text/plain": [
       "<Figure size 432x288 with 1 Axes>"
      ]
     },
     "metadata": {
      "needs_background": "light"
     },
     "output_type": "display_data"
    }
   ],
   "source": [
    "# plot model performance....\n",
    "plot_model_performance(history_6)"
   ]
  },
  {
   "cell_type": "code",
   "execution_count": null,
   "id": "be06bdb6",
   "metadata": {},
   "outputs": [],
   "source": [
    "# combine all model results and pick the one that performs better....\n",
    "model_results = pd.DataFrame({\n",
    "    \"Naive\" : model_0_results,\n",
    "    \"Dense\" : model_1_results,\n",
    "    \"LSTM\" : model_2_results,\n",
    "    \"GRU\" : model_3_results,\n",
    "    \"Bidirectional\" : model_4_results,\n",
    "    \"Conv1D\" : model_5_results,\n",
    "    \"Transfer\" : model_6_results\n",
    "})\n",
    "\n",
    "model_results = model_results"
   ]
  }
 ],
 "metadata": {
  "kernelspec": {
   "display_name": "Python 3 (ipykernel)",
   "language": "python",
   "name": "python3"
  },
  "language_info": {
   "codemirror_mode": {
    "name": "ipython",
    "version": 3
   },
   "file_extension": ".py",
   "mimetype": "text/x-python",
   "name": "python",
   "nbconvert_exporter": "python",
   "pygments_lexer": "ipython3",
   "version": "3.8.13"
  }
 },
 "nbformat": 4,
 "nbformat_minor": 5
}
