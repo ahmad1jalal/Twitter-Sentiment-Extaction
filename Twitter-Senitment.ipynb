{
 "cells": [
  {
   "cell_type": "markdown",
   "id": "8c3fa27a",
   "metadata": {},
   "source": [
    "# importing libraries...."
   ]
  },
  {
   "cell_type": "code",
   "execution_count": 1,
   "id": "bc55e243",
   "metadata": {},
   "outputs": [],
   "source": [
    "import pandas  as pd\n",
    "import numpy as np\n",
    "import matplotlib.pyplot as plt\n",
    "import seaborn as sns\n",
    "from nltk.corpus import stopwords\n",
    "from collections import Counter\n",
    "import re\n",
    "import tensorflow as tf\n",
    "from tensorflow.keras.layers import TextVectorization, Embedding\n",
    "import warnings\n",
    "import random\n",
    "import os\n",
    "from sklearn.naive_bayes import MultinomialNB\n",
    "from sklearn.feature_extraction.text import TfidfVectorizer\n",
    "from sklearn.pipeline import Pipeline\n",
    "from sklearn.metrics import accuracy_score,precision_recall_fscore_support\n",
    "from tensorflow.keras import layers\n",
    "from keras.utils import to_categorical"
   ]
  },
  {
   "cell_type": "code",
   "execution_count": 2,
   "id": "58b6d089",
   "metadata": {},
   "outputs": [
    {
     "name": "stdout",
     "output_type": "stream",
     "text": [
      "TensorFlow has access to following devices : \n",
      ". PhysicalDevice(name='/physical_device:CPU:0', device_type='CPU')\n",
      ". PhysicalDevice(name='/physical_device:GPU:0', device_type='GPU')\n"
     ]
    }
   ],
   "source": [
    "# check for GPU...\n",
    "print(f\"TensorFlow has access to following devices : \")\n",
    "for device in tf.config.list_physical_devices():\n",
    "    print(f\". {device}\")"
   ]
  },
  {
   "cell_type": "code",
   "execution_count": 3,
   "id": "7e7c9276",
   "metadata": {},
   "outputs": [],
   "source": [
    "# filter warnings...\n",
    "warnings.filterwarnings(\"ignore\")"
   ]
  },
  {
   "cell_type": "markdown",
   "id": "be875eee",
   "metadata": {},
   "source": [
    "# EDA"
   ]
  },
  {
   "cell_type": "code",
   "execution_count": 4,
   "id": "5047c17e",
   "metadata": {},
   "outputs": [
    {
     "data": {
      "text/html": [
       "<div>\n",
       "<style scoped>\n",
       "    .dataframe tbody tr th:only-of-type {\n",
       "        vertical-align: middle;\n",
       "    }\n",
       "\n",
       "    .dataframe tbody tr th {\n",
       "        vertical-align: top;\n",
       "    }\n",
       "\n",
       "    .dataframe thead th {\n",
       "        text-align: right;\n",
       "    }\n",
       "</style>\n",
       "<table border=\"1\" class=\"dataframe\">\n",
       "  <thead>\n",
       "    <tr style=\"text-align: right;\">\n",
       "      <th></th>\n",
       "      <th>textID</th>\n",
       "      <th>text</th>\n",
       "      <th>selected_text</th>\n",
       "      <th>sentiment</th>\n",
       "    </tr>\n",
       "  </thead>\n",
       "  <tbody>\n",
       "    <tr>\n",
       "      <th>0</th>\n",
       "      <td>cb774db0d1</td>\n",
       "      <td>I`d have responded, if I were going</td>\n",
       "      <td>I`d have responded, if I were going</td>\n",
       "      <td>neutral</td>\n",
       "    </tr>\n",
       "    <tr>\n",
       "      <th>1</th>\n",
       "      <td>549e992a42</td>\n",
       "      <td>Sooo SAD I will miss you here in San Diego!!!</td>\n",
       "      <td>Sooo SAD</td>\n",
       "      <td>negative</td>\n",
       "    </tr>\n",
       "    <tr>\n",
       "      <th>2</th>\n",
       "      <td>088c60f138</td>\n",
       "      <td>my boss is bullying me...</td>\n",
       "      <td>bullying me</td>\n",
       "      <td>negative</td>\n",
       "    </tr>\n",
       "    <tr>\n",
       "      <th>3</th>\n",
       "      <td>9642c003ef</td>\n",
       "      <td>what interview! leave me alone</td>\n",
       "      <td>leave me alone</td>\n",
       "      <td>negative</td>\n",
       "    </tr>\n",
       "    <tr>\n",
       "      <th>4</th>\n",
       "      <td>358bd9e861</td>\n",
       "      <td>Sons of ****, why couldn`t they put them on t...</td>\n",
       "      <td>Sons of ****,</td>\n",
       "      <td>negative</td>\n",
       "    </tr>\n",
       "  </tbody>\n",
       "</table>\n",
       "</div>"
      ],
      "text/plain": [
       "       textID                                               text  \\\n",
       "0  cb774db0d1                I`d have responded, if I were going   \n",
       "1  549e992a42      Sooo SAD I will miss you here in San Diego!!!   \n",
       "2  088c60f138                          my boss is bullying me...   \n",
       "3  9642c003ef                     what interview! leave me alone   \n",
       "4  358bd9e861   Sons of ****, why couldn`t they put them on t...   \n",
       "\n",
       "                         selected_text sentiment  \n",
       "0  I`d have responded, if I were going   neutral  \n",
       "1                             Sooo SAD  negative  \n",
       "2                          bullying me  negative  \n",
       "3                       leave me alone  negative  \n",
       "4                        Sons of ****,  negative  "
      ]
     },
     "execution_count": 4,
     "metadata": {},
     "output_type": "execute_result"
    }
   ],
   "source": [
    "# getting the data\n",
    "train = pd.read_csv(\"tweet-sentiment-extraction/train.csv\")\n",
    "test = pd.read_csv(\"tweet-sentiment-extraction/test.csv\")\n",
    "sub = pd.read_csv(\"tweet-sentiment-extraction/sample_submission.csv\")\n",
    "# train data head....\n",
    "train.head()"
   ]
  },
  {
   "cell_type": "code",
   "execution_count": 5,
   "id": "32a0b224",
   "metadata": {},
   "outputs": [
    {
     "data": {
      "text/html": [
       "<div>\n",
       "<style scoped>\n",
       "    .dataframe tbody tr th:only-of-type {\n",
       "        vertical-align: middle;\n",
       "    }\n",
       "\n",
       "    .dataframe tbody tr th {\n",
       "        vertical-align: top;\n",
       "    }\n",
       "\n",
       "    .dataframe thead th {\n",
       "        text-align: right;\n",
       "    }\n",
       "</style>\n",
       "<table border=\"1\" class=\"dataframe\">\n",
       "  <thead>\n",
       "    <tr style=\"text-align: right;\">\n",
       "      <th></th>\n",
       "      <th>textID</th>\n",
       "      <th>text</th>\n",
       "      <th>sentiment</th>\n",
       "    </tr>\n",
       "  </thead>\n",
       "  <tbody>\n",
       "    <tr>\n",
       "      <th>0</th>\n",
       "      <td>f87dea47db</td>\n",
       "      <td>Last session of the day  http://twitpic.com/67ezh</td>\n",
       "      <td>neutral</td>\n",
       "    </tr>\n",
       "    <tr>\n",
       "      <th>1</th>\n",
       "      <td>96d74cb729</td>\n",
       "      <td>Shanghai is also really exciting (precisely -...</td>\n",
       "      <td>positive</td>\n",
       "    </tr>\n",
       "    <tr>\n",
       "      <th>2</th>\n",
       "      <td>eee518ae67</td>\n",
       "      <td>Recession hit Veronique Branquinho, she has to...</td>\n",
       "      <td>negative</td>\n",
       "    </tr>\n",
       "    <tr>\n",
       "      <th>3</th>\n",
       "      <td>01082688c6</td>\n",
       "      <td>happy bday!</td>\n",
       "      <td>positive</td>\n",
       "    </tr>\n",
       "    <tr>\n",
       "      <th>4</th>\n",
       "      <td>33987a8ee5</td>\n",
       "      <td>http://twitpic.com/4w75p - I like it!!</td>\n",
       "      <td>positive</td>\n",
       "    </tr>\n",
       "  </tbody>\n",
       "</table>\n",
       "</div>"
      ],
      "text/plain": [
       "       textID                                               text sentiment\n",
       "0  f87dea47db  Last session of the day  http://twitpic.com/67ezh   neutral\n",
       "1  96d74cb729   Shanghai is also really exciting (precisely -...  positive\n",
       "2  eee518ae67  Recession hit Veronique Branquinho, she has to...  negative\n",
       "3  01082688c6                                        happy bday!  positive\n",
       "4  33987a8ee5             http://twitpic.com/4w75p - I like it!!  positive"
      ]
     },
     "execution_count": 5,
     "metadata": {},
     "output_type": "execute_result"
    }
   ],
   "source": [
    "# test data head....\n",
    "test.head()"
   ]
  },
  {
   "cell_type": "code",
   "execution_count": 6,
   "id": "987c62c2",
   "metadata": {},
   "outputs": [
    {
     "data": {
      "text/html": [
       "<div>\n",
       "<style scoped>\n",
       "    .dataframe tbody tr th:only-of-type {\n",
       "        vertical-align: middle;\n",
       "    }\n",
       "\n",
       "    .dataframe tbody tr th {\n",
       "        vertical-align: top;\n",
       "    }\n",
       "\n",
       "    .dataframe thead th {\n",
       "        text-align: right;\n",
       "    }\n",
       "</style>\n",
       "<table border=\"1\" class=\"dataframe\">\n",
       "  <thead>\n",
       "    <tr style=\"text-align: right;\">\n",
       "      <th></th>\n",
       "      <th>textID</th>\n",
       "      <th>selected_text</th>\n",
       "    </tr>\n",
       "  </thead>\n",
       "  <tbody>\n",
       "    <tr>\n",
       "      <th>0</th>\n",
       "      <td>f87dea47db</td>\n",
       "      <td>NaN</td>\n",
       "    </tr>\n",
       "    <tr>\n",
       "      <th>1</th>\n",
       "      <td>96d74cb729</td>\n",
       "      <td>NaN</td>\n",
       "    </tr>\n",
       "    <tr>\n",
       "      <th>2</th>\n",
       "      <td>eee518ae67</td>\n",
       "      <td>NaN</td>\n",
       "    </tr>\n",
       "    <tr>\n",
       "      <th>3</th>\n",
       "      <td>01082688c6</td>\n",
       "      <td>NaN</td>\n",
       "    </tr>\n",
       "    <tr>\n",
       "      <th>4</th>\n",
       "      <td>33987a8ee5</td>\n",
       "      <td>NaN</td>\n",
       "    </tr>\n",
       "  </tbody>\n",
       "</table>\n",
       "</div>"
      ],
      "text/plain": [
       "       textID  selected_text\n",
       "0  f87dea47db            NaN\n",
       "1  96d74cb729            NaN\n",
       "2  eee518ae67            NaN\n",
       "3  01082688c6            NaN\n",
       "4  33987a8ee5            NaN"
      ]
     },
     "execution_count": 6,
     "metadata": {},
     "output_type": "execute_result"
    }
   ],
   "source": [
    "# submissive data...\n",
    "sub.head()"
   ]
  },
  {
   "cell_type": "code",
   "execution_count": 7,
   "id": "8b922c64",
   "metadata": {},
   "outputs": [
    {
     "data": {
      "text/plain": [
       "(27481, 4)"
      ]
     },
     "execution_count": 7,
     "metadata": {},
     "output_type": "execute_result"
    }
   ],
   "source": [
    "# train data shape\n",
    "train.shape"
   ]
  },
  {
   "cell_type": "code",
   "execution_count": 8,
   "id": "8c613c34",
   "metadata": {},
   "outputs": [
    {
     "name": "stdout",
     "output_type": "stream",
     "text": [
      "<class 'pandas.core.frame.DataFrame'>\n",
      "RangeIndex: 27481 entries, 0 to 27480\n",
      "Data columns (total 4 columns):\n",
      " #   Column         Non-Null Count  Dtype \n",
      "---  ------         --------------  ----- \n",
      " 0   textID         27481 non-null  object\n",
      " 1   text           27480 non-null  object\n",
      " 2   selected_text  27480 non-null  object\n",
      " 3   sentiment      27481 non-null  object\n",
      "dtypes: object(4)\n",
      "memory usage: 858.9+ KB\n"
     ]
    }
   ],
   "source": [
    "# data info....\n",
    "train.info()"
   ]
  },
  {
   "cell_type": "code",
   "execution_count": 9,
   "id": "04463151",
   "metadata": {},
   "outputs": [
    {
     "data": {
      "text/plain": [
       "textID           0\n",
       "text             1\n",
       "selected_text    1\n",
       "sentiment        0\n",
       "dtype: int64"
      ]
     },
     "execution_count": 9,
     "metadata": {},
     "output_type": "execute_result"
    }
   ],
   "source": [
    "# looking for null values...\n",
    "train.isna().sum()"
   ]
  },
  {
   "cell_type": "code",
   "execution_count": 10,
   "id": "f0e4ce44",
   "metadata": {},
   "outputs": [],
   "source": [
    "# as there is onyl single null value in training set, so it's better to drop it...\n",
    "train.dropna(inplace=True)"
   ]
  },
  {
   "cell_type": "code",
   "execution_count": 11,
   "id": "0b406f63",
   "metadata": {},
   "outputs": [
    {
     "data": {
      "text/plain": [
       "textID       0\n",
       "text         0\n",
       "sentiment    0\n",
       "dtype: int64"
      ]
     },
     "execution_count": 11,
     "metadata": {},
     "output_type": "execute_result"
    }
   ],
   "source": [
    "# looking for null value in test set..\n",
    "test.isna().sum()"
   ]
  },
  {
   "cell_type": "code",
   "execution_count": 12,
   "id": "11d5297a",
   "metadata": {},
   "outputs": [
    {
     "data": {
      "text/plain": [
       "neutral     11117\n",
       "positive     8582\n",
       "negative     7781\n",
       "Name: sentiment, dtype: int64"
      ]
     },
     "execution_count": 12,
     "metadata": {},
     "output_type": "execute_result"
    }
   ],
   "source": [
    "# target label distribution....\n",
    "sentiment = train[\"sentiment\"].value_counts()\n",
    "sentiment"
   ]
  },
  {
   "cell_type": "code",
   "execution_count": 13,
   "id": "6c7336d3",
   "metadata": {},
   "outputs": [],
   "source": [
    "# setting the plot style...\n",
    "plt.style.use(\"ggplot\")"
   ]
  },
  {
   "cell_type": "code",
   "execution_count": 14,
   "id": "f24f9b8f",
   "metadata": {},
   "outputs": [
    {
     "data": {
      "image/png": "[encoded data removed]",
      "text/plain": [
       "<Figure size 720x576 with 1 Axes>"
      ]
     },
     "metadata": {},
     "output_type": "display_data"
    }
   ],
   "source": [
    "# plot the sentiment distribution...\n",
    "plt.figure(figsize=(10,8))\n",
    "labels = sentiment.index\n",
    "colors = sns.color_palette(\"Set2\")\n",
    "explode = [0.1,0,0.3]\n",
    "plt.pie(sentiment,labels = labels, colors = colors, explode = explode,\n",
    "       autopct = \"%.2f%%\", startangle = 90, shadow = True)\n",
    "plt.legend(title = \"Sentiment : \")\n",
    "plt.show()"
   ]
  },
  {
   "cell_type": "code",
   "execution_count": 15,
   "id": "1fc83533",
   "metadata": {},
   "outputs": [
    {
     "data": {
      "text/plain": [
       "neutral     1430\n",
       "positive    1103\n",
       "negative    1001\n",
       "Name: sentiment, dtype: int64"
      ]
     },
     "execution_count": 15,
     "metadata": {},
     "output_type": "execute_result"
    }
   ],
   "source": [
    "# test data target label distribution\n",
    "test_sentiment = test.sentiment.value_counts()\n",
    "test_sentiment"
   ]
  },
  {
   "cell_type": "code",
   "execution_count": 16,
   "id": "3f573e12",
   "metadata": {},
   "outputs": [
    {
     "data": {
      "image/png": "[encoded data removed]",
      "text/plain": [
       "<Figure size 720x576 with 1 Axes>"
      ]
     },
     "metadata": {},
     "output_type": "display_data"
    }
   ],
   "source": [
    "# plot the sentiment distribution...\n",
    "plt.figure(figsize=(10,8))\n",
    "labels = test_sentiment.index\n",
    "colors = sns.color_palette(\"Set2\")\n",
    "explode = [0.1,0,0.3]\n",
    "plt.pie(test_sentiment,labels = labels, colors = colors, explode = explode,\n",
    "       autopct = \"%.2f%%\", startangle = 90, shadow = True)\n",
    "plt.legend(title = \"Test_Sentiment : \")\n",
    "plt.show()"
   ]
  },
  {
   "cell_type": "code",
   "execution_count": 17,
   "id": "c363ff91",
   "metadata": {},
   "outputs": [],
   "source": [
    "# changing the data-type...\n",
    "train[\"text\"] =  train[\"text\"].astype(\"string\")"
   ]
  },
  {
   "cell_type": "code",
   "execution_count": 18,
   "id": "3d6d7cfd",
   "metadata": {},
   "outputs": [
    {
     "data": {
      "text/html": [
       "<div>\n",
       "<style scoped>\n",
       "    .dataframe tbody tr th:only-of-type {\n",
       "        vertical-align: middle;\n",
       "    }\n",
       "\n",
       "    .dataframe tbody tr th {\n",
       "        vertical-align: top;\n",
       "    }\n",
       "\n",
       "    .dataframe thead th {\n",
       "        text-align: right;\n",
       "    }\n",
       "</style>\n",
       "<table border=\"1\" class=\"dataframe\">\n",
       "  <thead>\n",
       "    <tr style=\"text-align: right;\">\n",
       "      <th></th>\n",
       "      <th>textID</th>\n",
       "      <th>text</th>\n",
       "      <th>selected_text</th>\n",
       "      <th>sentiment</th>\n",
       "      <th>length</th>\n",
       "    </tr>\n",
       "  </thead>\n",
       "  <tbody>\n",
       "    <tr>\n",
       "      <th>0</th>\n",
       "      <td>cb774db0d1</td>\n",
       "      <td>I`d have responded, if I were going</td>\n",
       "      <td>I`d have responded, if I were going</td>\n",
       "      <td>neutral</td>\n",
       "      <td>7</td>\n",
       "    </tr>\n",
       "    <tr>\n",
       "      <th>1</th>\n",
       "      <td>549e992a42</td>\n",
       "      <td>Sooo SAD I will miss you here in San Diego!!!</td>\n",
       "      <td>Sooo SAD</td>\n",
       "      <td>negative</td>\n",
       "      <td>10</td>\n",
       "    </tr>\n",
       "    <tr>\n",
       "      <th>2</th>\n",
       "      <td>088c60f138</td>\n",
       "      <td>my boss is bullying me...</td>\n",
       "      <td>bullying me</td>\n",
       "      <td>negative</td>\n",
       "      <td>5</td>\n",
       "    </tr>\n",
       "    <tr>\n",
       "      <th>3</th>\n",
       "      <td>9642c003ef</td>\n",
       "      <td>what interview! leave me alone</td>\n",
       "      <td>leave me alone</td>\n",
       "      <td>negative</td>\n",
       "      <td>5</td>\n",
       "    </tr>\n",
       "    <tr>\n",
       "      <th>4</th>\n",
       "      <td>358bd9e861</td>\n",
       "      <td>Sons of ****, why couldn`t they put them on t...</td>\n",
       "      <td>Sons of ****,</td>\n",
       "      <td>negative</td>\n",
       "      <td>14</td>\n",
       "    </tr>\n",
       "  </tbody>\n",
       "</table>\n",
       "</div>"
      ],
      "text/plain": [
       "       textID                                               text  \\\n",
       "0  cb774db0d1                I`d have responded, if I were going   \n",
       "1  549e992a42      Sooo SAD I will miss you here in San Diego!!!   \n",
       "2  088c60f138                          my boss is bullying me...   \n",
       "3  9642c003ef                     what interview! leave me alone   \n",
       "4  358bd9e861   Sons of ****, why couldn`t they put them on t...   \n",
       "\n",
       "                         selected_text sentiment  length  \n",
       "0  I`d have responded, if I were going   neutral       7  \n",
       "1                             Sooo SAD  negative      10  \n",
       "2                          bullying me  negative       5  \n",
       "3                       leave me alone  negative       5  \n",
       "4                        Sons of ****,  negative      14  "
      ]
     },
     "execution_count": 18,
     "metadata": {},
     "output_type": "execute_result"
    }
   ],
   "source": [
    "# checking the length of the selected text...\n",
    "train[\"length\"] = train[\"text\"].apply(lambda x: len(x.split()))\n",
    "train.head()"
   ]
  },
  {
   "cell_type": "code",
   "execution_count": 19,
   "id": "8386c316",
   "metadata": {},
   "outputs": [
    {
     "data": {
      "text/html": [
       "<div>\n",
       "<style scoped>\n",
       "    .dataframe tbody tr th:only-of-type {\n",
       "        vertical-align: middle;\n",
       "    }\n",
       "\n",
       "    .dataframe tbody tr th {\n",
       "        vertical-align: top;\n",
       "    }\n",
       "\n",
       "    .dataframe thead th {\n",
       "        text-align: right;\n",
       "    }\n",
       "</style>\n",
       "<table border=\"1\" class=\"dataframe\">\n",
       "  <thead>\n",
       "    <tr style=\"text-align: right;\">\n",
       "      <th></th>\n",
       "      <th>textID</th>\n",
       "      <th>text</th>\n",
       "      <th>sentiment</th>\n",
       "      <th>length</th>\n",
       "    </tr>\n",
       "  </thead>\n",
       "  <tbody>\n",
       "    <tr>\n",
       "      <th>0</th>\n",
       "      <td>f87dea47db</td>\n",
       "      <td>Last session of the day  http://twitpic.com/67ezh</td>\n",
       "      <td>neutral</td>\n",
       "      <td>6</td>\n",
       "    </tr>\n",
       "    <tr>\n",
       "      <th>1</th>\n",
       "      <td>96d74cb729</td>\n",
       "      <td>Shanghai is also really exciting (precisely -...</td>\n",
       "      <td>positive</td>\n",
       "      <td>15</td>\n",
       "    </tr>\n",
       "    <tr>\n",
       "      <th>2</th>\n",
       "      <td>eee518ae67</td>\n",
       "      <td>Recession hit Veronique Branquinho, she has to...</td>\n",
       "      <td>negative</td>\n",
       "      <td>13</td>\n",
       "    </tr>\n",
       "    <tr>\n",
       "      <th>3</th>\n",
       "      <td>01082688c6</td>\n",
       "      <td>happy bday!</td>\n",
       "      <td>positive</td>\n",
       "      <td>2</td>\n",
       "    </tr>\n",
       "    <tr>\n",
       "      <th>4</th>\n",
       "      <td>33987a8ee5</td>\n",
       "      <td>http://twitpic.com/4w75p - I like it!!</td>\n",
       "      <td>positive</td>\n",
       "      <td>5</td>\n",
       "    </tr>\n",
       "    <tr>\n",
       "      <th>...</th>\n",
       "      <td>...</td>\n",
       "      <td>...</td>\n",
       "      <td>...</td>\n",
       "      <td>...</td>\n",
       "    </tr>\n",
       "    <tr>\n",
       "      <th>3529</th>\n",
       "      <td>e5f0e6ef4b</td>\n",
       "      <td>its at 3 am, im very tired but i can`t sleep  ...</td>\n",
       "      <td>negative</td>\n",
       "      <td>15</td>\n",
       "    </tr>\n",
       "    <tr>\n",
       "      <th>3530</th>\n",
       "      <td>416863ce47</td>\n",
       "      <td>All alone in this old house again.  Thanks for...</td>\n",
       "      <td>positive</td>\n",
       "      <td>26</td>\n",
       "    </tr>\n",
       "    <tr>\n",
       "      <th>3531</th>\n",
       "      <td>6332da480c</td>\n",
       "      <td>I know what you mean. My little dog is sinkin...</td>\n",
       "      <td>negative</td>\n",
       "      <td>18</td>\n",
       "    </tr>\n",
       "    <tr>\n",
       "      <th>3532</th>\n",
       "      <td>df1baec676</td>\n",
       "      <td>_sutra what is your next youtube video gonna b...</td>\n",
       "      <td>positive</td>\n",
       "      <td>14</td>\n",
       "    </tr>\n",
       "    <tr>\n",
       "      <th>3533</th>\n",
       "      <td>469e15c5a8</td>\n",
       "      <td>http://twitpic.com/4woj2 - omgssh  ang cute n...</td>\n",
       "      <td>positive</td>\n",
       "      <td>7</td>\n",
       "    </tr>\n",
       "  </tbody>\n",
       "</table>\n",
       "<p>3534 rows × 4 columns</p>\n",
       "</div>"
      ],
      "text/plain": [
       "          textID                                               text sentiment  \\\n",
       "0     f87dea47db  Last session of the day  http://twitpic.com/67ezh   neutral   \n",
       "1     96d74cb729   Shanghai is also really exciting (precisely -...  positive   \n",
       "2     eee518ae67  Recession hit Veronique Branquinho, she has to...  negative   \n",
       "3     01082688c6                                        happy bday!  positive   \n",
       "4     33987a8ee5             http://twitpic.com/4w75p - I like it!!  positive   \n",
       "...          ...                                                ...       ...   \n",
       "3529  e5f0e6ef4b  its at 3 am, im very tired but i can`t sleep  ...  negative   \n",
       "3530  416863ce47  All alone in this old house again.  Thanks for...  positive   \n",
       "3531  6332da480c   I know what you mean. My little dog is sinkin...  negative   \n",
       "3532  df1baec676  _sutra what is your next youtube video gonna b...  positive   \n",
       "3533  469e15c5a8   http://twitpic.com/4woj2 - omgssh  ang cute n...  positive   \n",
       "\n",
       "      length  \n",
       "0          6  \n",
       "1         15  \n",
       "2         13  \n",
       "3          2  \n",
       "4          5  \n",
       "...      ...  \n",
       "3529      15  \n",
       "3530      26  \n",
       "3531      18  \n",
       "3532      14  \n",
       "3533       7  \n",
       "\n",
       "[3534 rows x 4 columns]"
      ]
     },
     "execution_count": 19,
     "metadata": {},
     "output_type": "execute_result"
    }
   ],
   "source": [
    "# checking the length of test text data\n",
    "test[\"length\"] = test[\"text\"].apply(lambda x: len(x.split()))\n",
    "test"
   ]
  },
  {
   "cell_type": "code",
   "execution_count": 20,
   "id": "716b59cd",
   "metadata": {},
   "outputs": [
    {
     "name": "stdout",
     "output_type": "stream",
     "text": [
      "Max length of tweet text in training set : 33\n",
      "Min lenght of tweet text in training set. : 1\n",
      "Max length of tweet text in test set : 32\n",
      "Min lenght of tweet text in test set. : 1\n"
     ]
    }
   ],
   "source": [
    "print(f\"Max length of tweet text in training set : {train['length'].max()}\")\n",
    "print(f\"Min lenght of tweet text in training set. : {train['length'].min()}\")\n",
    "print(f\"Max length of tweet text in test set : {test['length'].max()}\")\n",
    "print(f\"Min lenght of tweet text in test set. : {test['length'].min()}\")"
   ]
  },
  {
   "cell_type": "code",
   "execution_count": 21,
   "id": "1c28b0b1",
   "metadata": {},
   "outputs": [
    {
     "name": "stdout",
     "output_type": "stream",
     "text": [
      "Shortest tweets in training set : \n",
      "           textID           text selected_text sentiment  length\n",
      "42     2e7082d1c8       MAYDAY?!      MAYDAY?!   neutral       1\n",
      "68     fa2654e730       Chilliin      Chilliin  positive       1\n",
      "127    8e1583cb08     Absolutely    Absolutely   neutral       1\n",
      "224    f3a77c2b5e       _nesmith      _nesmith   neutral       1\n",
      "238    e98226e842            Thx           Thx   neutral       1\n",
      "...           ...            ...           ...       ...     ...\n",
      "26690  e80c242d6a     Goodnight;    Goodnight;  positive       1\n",
      "26693  7dc13f50d8   yessssssir!!  yessssssir!!   neutral       1\n",
      "26726  aad244f37d          *hug*         *hug*  positive       1\n",
      "26754  b6f6bd82c0       careless      careless  negative       1\n",
      "26843  a46571fe12      congrats!     congrats!  positive       1\n",
      "\n",
      "[199 rows x 5 columns]\n"
     ]
    }
   ],
   "source": [
    "print(f\"Shortest tweets in training set : \\n{train[train['length']==min(train['length'])]}\")"
   ]
  },
  {
   "cell_type": "code",
   "execution_count": 22,
   "id": "5369276d",
   "metadata": {},
   "outputs": [
    {
     "name": "stdout",
     "output_type": "stream",
     "text": [
      "longest tweets in training set : \n",
      "           textID                                               text  \\\n",
      "19887  ede80b9f63  AK, flop comes 2K6 I bet 15 get raised to 25 I...   \n",
      "25359  be445111e7  : Lol it went okay! As far as I can tell . But...   \n",
      "\n",
      "                                           selected_text sentiment  length  \n",
      "19887  AK, flop comes 2K6 I bet 15 get raised to 25 I...   neutral      33  \n",
      "25359                               Lol it went okay! As  positive      33  \n"
     ]
    }
   ],
   "source": [
    "print(f\"longest tweets in training set : \\n{train[train['length']==max(train['length'])]}\")"
   ]
  },
  {
   "cell_type": "code",
   "execution_count": 23,
   "id": "c6b44f70",
   "metadata": {},
   "outputs": [
    {
     "data": {
      "text/plain": [
       "<Figure size 720x576 with 0 Axes>"
      ]
     },
     "metadata": {},
     "output_type": "display_data"
    },
    {
     "data": {
      "image/png": "[encoded data removed]",
      "text/plain": [
       "<Figure size 1879.75x360 with 1 Axes>"
      ]
     },
     "metadata": {
      "needs_background": "light"
     },
     "output_type": "display_data"
    }
   ],
   "source": [
    "# plot the length of tweet text across the sentiment....\n",
    "plt.figure(figsize=(10,8))\n",
    "sns.displot(data = train, x = \"length\", hue = \"sentiment\",\n",
    "           kind = \"kde\", fill = True, aspect = 5, palette = \"viridis\");"
   ]
  },
  {
   "cell_type": "code",
   "execution_count": 24,
   "id": "f18e2154",
   "metadata": {},
   "outputs": [
    {
     "data": {
      "text/plain": [
       "<Figure size 720x576 with 0 Axes>"
      ]
     },
     "metadata": {},
     "output_type": "display_data"
    },
    {
     "data": {
      "image/png": "[encoded data removed]",
      "text/plain": [
       "<Figure size 1879.75x360 with 1 Axes>"
      ]
     },
     "metadata": {
      "needs_background": "light"
     },
     "output_type": "display_data"
    }
   ],
   "source": [
    "# plot the length of test tweet text across the sentiment....\n",
    "plt.figure(figsize=(10,8))\n",
    "sns.displot(data = test, x = \"length\", hue = \"sentiment\",\n",
    "           kind = \"kde\", fill = True, aspect = 5, palette = \"viridis\");"
   ]
  },
  {
   "cell_type": "code",
   "execution_count": 25,
   "id": "29d42307",
   "metadata": {},
   "outputs": [],
   "source": [
    "# let's drop the selected_text column \n",
    "train.drop(\"selected_text\",axis=1,inplace=True)"
   ]
  },
  {
   "cell_type": "code",
   "execution_count": 26,
   "id": "eab24e17",
   "metadata": {},
   "outputs": [
    {
     "data": {
      "text/html": [
       "<div>\n",
       "<style scoped>\n",
       "    .dataframe tbody tr th:only-of-type {\n",
       "        vertical-align: middle;\n",
       "    }\n",
       "\n",
       "    .dataframe tbody tr th {\n",
       "        vertical-align: top;\n",
       "    }\n",
       "\n",
       "    .dataframe thead th {\n",
       "        text-align: right;\n",
       "    }\n",
       "</style>\n",
       "<table border=\"1\" class=\"dataframe\">\n",
       "  <thead>\n",
       "    <tr style=\"text-align: right;\">\n",
       "      <th></th>\n",
       "      <th>textID</th>\n",
       "      <th>text</th>\n",
       "      <th>sentiment</th>\n",
       "      <th>length</th>\n",
       "    </tr>\n",
       "  </thead>\n",
       "  <tbody>\n",
       "    <tr>\n",
       "      <th>0</th>\n",
       "      <td>cb774db0d1</td>\n",
       "      <td>I`d have responded, if I were going</td>\n",
       "      <td>neutral</td>\n",
       "      <td>7</td>\n",
       "    </tr>\n",
       "    <tr>\n",
       "      <th>1</th>\n",
       "      <td>549e992a42</td>\n",
       "      <td>Sooo SAD I will miss you here in San Diego!!!</td>\n",
       "      <td>negative</td>\n",
       "      <td>10</td>\n",
       "    </tr>\n",
       "    <tr>\n",
       "      <th>2</th>\n",
       "      <td>088c60f138</td>\n",
       "      <td>my boss is bullying me...</td>\n",
       "      <td>negative</td>\n",
       "      <td>5</td>\n",
       "    </tr>\n",
       "    <tr>\n",
       "      <th>3</th>\n",
       "      <td>9642c003ef</td>\n",
       "      <td>what interview! leave me alone</td>\n",
       "      <td>negative</td>\n",
       "      <td>5</td>\n",
       "    </tr>\n",
       "    <tr>\n",
       "      <th>4</th>\n",
       "      <td>358bd9e861</td>\n",
       "      <td>Sons of ****, why couldn`t they put them on t...</td>\n",
       "      <td>negative</td>\n",
       "      <td>14</td>\n",
       "    </tr>\n",
       "    <tr>\n",
       "      <th>5</th>\n",
       "      <td>28b57f3990</td>\n",
       "      <td>http://www.dothebouncy.com/smf - some shameles...</td>\n",
       "      <td>neutral</td>\n",
       "      <td>12</td>\n",
       "    </tr>\n",
       "    <tr>\n",
       "      <th>6</th>\n",
       "      <td>6e0c6d75b1</td>\n",
       "      <td>2am feedings for the baby are fun when he is a...</td>\n",
       "      <td>positive</td>\n",
       "      <td>14</td>\n",
       "    </tr>\n",
       "    <tr>\n",
       "      <th>7</th>\n",
       "      <td>50e14c0bb8</td>\n",
       "      <td>Soooo high</td>\n",
       "      <td>neutral</td>\n",
       "      <td>2</td>\n",
       "    </tr>\n",
       "    <tr>\n",
       "      <th>8</th>\n",
       "      <td>e050245fbd</td>\n",
       "      <td>Both of you</td>\n",
       "      <td>neutral</td>\n",
       "      <td>3</td>\n",
       "    </tr>\n",
       "    <tr>\n",
       "      <th>9</th>\n",
       "      <td>fc2cbefa9d</td>\n",
       "      <td>Journey!? Wow... u just became cooler.  hehe....</td>\n",
       "      <td>positive</td>\n",
       "      <td>10</td>\n",
       "    </tr>\n",
       "  </tbody>\n",
       "</table>\n",
       "</div>"
      ],
      "text/plain": [
       "       textID                                               text sentiment  \\\n",
       "0  cb774db0d1                I`d have responded, if I were going   neutral   \n",
       "1  549e992a42      Sooo SAD I will miss you here in San Diego!!!  negative   \n",
       "2  088c60f138                          my boss is bullying me...  negative   \n",
       "3  9642c003ef                     what interview! leave me alone  negative   \n",
       "4  358bd9e861   Sons of ****, why couldn`t they put them on t...  negative   \n",
       "5  28b57f3990  http://www.dothebouncy.com/smf - some shameles...   neutral   \n",
       "6  6e0c6d75b1  2am feedings for the baby are fun when he is a...  positive   \n",
       "7  50e14c0bb8                                         Soooo high   neutral   \n",
       "8  e050245fbd                                        Both of you   neutral   \n",
       "9  fc2cbefa9d   Journey!? Wow... u just became cooler.  hehe....  positive   \n",
       "\n",
       "   length  \n",
       "0       7  \n",
       "1      10  \n",
       "2       5  \n",
       "3       5  \n",
       "4      14  \n",
       "5      12  \n",
       "6      14  \n",
       "7       2  \n",
       "8       3  \n",
       "9      10  "
      ]
     },
     "execution_count": 26,
     "metadata": {},
     "output_type": "execute_result"
    }
   ],
   "source": [
    "train.head(10)"
   ]
  },
  {
   "cell_type": "code",
   "execution_count": 27,
   "id": "b07fb2d0",
   "metadata": {},
   "outputs": [
    {
     "data": {
      "image/png": "[encoded data removed]",
      "text/plain": [
       "<Figure size 720x1008 with 4 Axes>"
      ]
     },
     "metadata": {
      "needs_background": "light"
     },
     "output_type": "display_data"
    }
   ],
   "source": [
    "# plotting the number of characters in tweet per sentiment...\n",
    "\n",
    "# positive tweet lenth\n",
    "len_positive = train[train['sentiment']==\"positive\"]['text'].str.len()\n",
    "\n",
    "# negative tweet length\n",
    "len_negative = train[train[\"sentiment\"]==\"negative\"][\"text\"].str.len()\n",
    "\n",
    "# neutral tweet length\n",
    "len_neutral = train[train[\"sentiment\"]==\"neutral\"][\"text\"].str.len()\n",
    "\n",
    "fig,ax = plt.subplots(2,2,figsize=(10,14))\n",
    "\n",
    "# plotting positive tweet\n",
    "ax[0,0].hist(len_positive)\n",
    "ax[0,0].set_title(\"Positive_Tweets\")\n",
    "\n",
    "# plotting negative tweet\n",
    "ax[0,1].hist(len_negative)\n",
    "ax[0,1].set_title(\"Negative_Tweets\")\n",
    "\n",
    "# plotting positive tweet\n",
    "ax[1,0].hist(len_neutral)\n",
    "ax[1,0].set_title(\"Neutral_Tweets\")\n",
    "\n",
    "# plotting the overall length of tweets...\n",
    "ax[1,1].hist(train[\"length\"])\n",
    "ax[1,1].set_title(\"Legnth_Tweet\");"
   ]
  },
  {
   "cell_type": "code",
   "execution_count": 28,
   "id": "788f2382",
   "metadata": {},
   "outputs": [],
   "source": [
    "# now it's time to clean text, so let's make a function for it...\n",
    "def clean_text(text):\n",
    "    \n",
    "    # convert text into lower\n",
    "    text = str(text).lower()\n",
    "    \n",
    "    #     remove urls\n",
    "    text = re.sub(r\"https:\\S+\",\" \",text)\n",
    "    \n",
    "    #     remove punctuation\n",
    "    text = re.sub(r\"[^\\w\\s]\",\"\",text)\n",
    "    \n",
    "    #     remove mentions\n",
    "    text = re.sub(r'@\\w+', \" \", text)\n",
    "    \n",
    "    #     remove hashtags\n",
    "    text = re.sub(\"#\\w+\",\" \", text)\n",
    "    \n",
    "    #     remove digits\n",
    "    text = re.sub(r\"\\d+\",\" \", text)\n",
    "    \n",
    "    #     remove HTML tags\n",
    "    text = re.sub(r\"<.*?>\", \" \", text)\n",
    "        \n",
    "    return text \n"
   ]
  },
  {
   "cell_type": "code",
   "execution_count": 29,
   "id": "a8cf5889",
   "metadata": {},
   "outputs": [
    {
     "data": {
      "text/html": [
       "<div>\n",
       "<style scoped>\n",
       "    .dataframe tbody tr th:only-of-type {\n",
       "        vertical-align: middle;\n",
       "    }\n",
       "\n",
       "    .dataframe tbody tr th {\n",
       "        vertical-align: top;\n",
       "    }\n",
       "\n",
       "    .dataframe thead th {\n",
       "        text-align: right;\n",
       "    }\n",
       "</style>\n",
       "<table border=\"1\" class=\"dataframe\">\n",
       "  <thead>\n",
       "    <tr style=\"text-align: right;\">\n",
       "      <th></th>\n",
       "      <th>textID</th>\n",
       "      <th>text</th>\n",
       "      <th>sentiment</th>\n",
       "      <th>length</th>\n",
       "      <th>clean_text</th>\n",
       "    </tr>\n",
       "  </thead>\n",
       "  <tbody>\n",
       "    <tr>\n",
       "      <th>13106</th>\n",
       "      <td>4631068d01</td>\n",
       "      <td>Why do none of my thoughts make sense when I`m...</td>\n",
       "      <td>negative</td>\n",
       "      <td>11</td>\n",
       "      <td>why do none of my thoughts make sense when im ...</td>\n",
       "    </tr>\n",
       "    <tr>\n",
       "      <th>208</th>\n",
       "      <td>1b13ed8b4b</td>\n",
       "      <td>im thinking that im going to have fun tonight....</td>\n",
       "      <td>positive</td>\n",
       "      <td>14</td>\n",
       "      <td>im thinking that im going to have fun tonighta...</td>\n",
       "    </tr>\n",
       "    <tr>\n",
       "      <th>20528</th>\n",
       "      <td>9551138d41</td>\n",
       "      <td>I feel like dressing up for the heck of it.&amp; p...</td>\n",
       "      <td>positive</td>\n",
       "      <td>15</td>\n",
       "      <td>i feel like dressing up for the heck of it put...</td>\n",
       "    </tr>\n",
       "    <tr>\n",
       "      <th>11529</th>\n",
       "      <td>f8394d23bf</td>\n",
       "      <td>I feel like crying! One of my diamond earrings...</td>\n",
       "      <td>negative</td>\n",
       "      <td>26</td>\n",
       "      <td>i feel like crying one of my diamond earrings ...</td>\n",
       "    </tr>\n",
       "    <tr>\n",
       "      <th>25587</th>\n",
       "      <td>a3a1e21a62</td>\n",
       "      <td>No one`s coming in</td>\n",
       "      <td>neutral</td>\n",
       "      <td>4</td>\n",
       "      <td>no ones coming in</td>\n",
       "    </tr>\n",
       "    <tr>\n",
       "      <th>12132</th>\n",
       "      <td>514174445d</td>\n",
       "      <td>Goodnight Beautiful world  sweet dreams. olive...</td>\n",
       "      <td>positive</td>\n",
       "      <td>7</td>\n",
       "      <td>goodnight beautiful world  sweet dreams olive ...</td>\n",
       "    </tr>\n",
       "    <tr>\n",
       "      <th>26367</th>\n",
       "      <td>fed62986b9</td>\n",
       "      <td>woot, woot! super cool</td>\n",
       "      <td>positive</td>\n",
       "      <td>4</td>\n",
       "      <td>woot woot super cool</td>\n",
       "    </tr>\n",
       "    <tr>\n",
       "      <th>23275</th>\n",
       "      <td>2abf604274</td>\n",
       "      <td>Mondays best excited about the week!!</td>\n",
       "      <td>positive</td>\n",
       "      <td>6</td>\n",
       "      <td>mondays best excited about the week</td>\n",
       "    </tr>\n",
       "    <tr>\n",
       "      <th>5493</th>\n",
       "      <td>2d882d5270</td>\n",
       "      <td>womp womp woooomp!</td>\n",
       "      <td>positive</td>\n",
       "      <td>3</td>\n",
       "      <td>womp womp woooomp</td>\n",
       "    </tr>\n",
       "    <tr>\n",
       "      <th>21778</th>\n",
       "      <td>7d6013021a</td>\n",
       "      <td>pulling articles</td>\n",
       "      <td>neutral</td>\n",
       "      <td>2</td>\n",
       "      <td>pulling articles</td>\n",
       "    </tr>\n",
       "  </tbody>\n",
       "</table>\n",
       "</div>"
      ],
      "text/plain": [
       "           textID                                               text  \\\n",
       "13106  4631068d01  Why do none of my thoughts make sense when I`m...   \n",
       "208    1b13ed8b4b  im thinking that im going to have fun tonight....   \n",
       "20528  9551138d41  I feel like dressing up for the heck of it.& p...   \n",
       "11529  f8394d23bf  I feel like crying! One of my diamond earrings...   \n",
       "25587  a3a1e21a62                                 No one`s coming in   \n",
       "12132  514174445d  Goodnight Beautiful world  sweet dreams. olive...   \n",
       "26367  fed62986b9                             woot, woot! super cool   \n",
       "23275  2abf604274              Mondays best excited about the week!!   \n",
       "5493   2d882d5270                                 womp womp woooomp!   \n",
       "21778  7d6013021a                                   pulling articles   \n",
       "\n",
       "      sentiment  length                                         clean_text  \n",
       "13106  negative      11  why do none of my thoughts make sense when im ...  \n",
       "208    positive      14  im thinking that im going to have fun tonighta...  \n",
       "20528  positive      15  i feel like dressing up for the heck of it put...  \n",
       "11529  negative      26  i feel like crying one of my diamond earrings ...  \n",
       "25587   neutral       4                                  no ones coming in  \n",
       "12132  positive       7  goodnight beautiful world  sweet dreams olive ...  \n",
       "26367  positive       4                               woot woot super cool  \n",
       "23275  positive       6                mondays best excited about the week  \n",
       "5493   positive       3                                  womp womp woooomp  \n",
       "21778   neutral       2                                   pulling articles  "
      ]
     },
     "execution_count": 29,
     "metadata": {},
     "output_type": "execute_result"
    }
   ],
   "source": [
    "# apply the function to train df\n",
    "train[\"clean_text\"] = train[\"text\"].apply(lambda x : clean_text(x))\n",
    "\n",
    "train.sample(10)"
   ]
  },
  {
   "cell_type": "code",
   "execution_count": 30,
   "id": "404f5a2d",
   "metadata": {},
   "outputs": [
    {
     "data": {
      "text/html": [
       "<div>\n",
       "<style scoped>\n",
       "    .dataframe tbody tr th:only-of-type {\n",
       "        vertical-align: middle;\n",
       "    }\n",
       "\n",
       "    .dataframe tbody tr th {\n",
       "        vertical-align: top;\n",
       "    }\n",
       "\n",
       "    .dataframe thead th {\n",
       "        text-align: right;\n",
       "    }\n",
       "</style>\n",
       "<table border=\"1\" class=\"dataframe\">\n",
       "  <thead>\n",
       "    <tr style=\"text-align: right;\">\n",
       "      <th></th>\n",
       "      <th>textID</th>\n",
       "      <th>text</th>\n",
       "      <th>sentiment</th>\n",
       "      <th>length</th>\n",
       "      <th>clean_text</th>\n",
       "    </tr>\n",
       "  </thead>\n",
       "  <tbody>\n",
       "    <tr>\n",
       "      <th>1249</th>\n",
       "      <td>c3892f8e77</td>\n",
       "      <td>sadd..  last night in fl.. going back to AR to...</td>\n",
       "      <td>negative</td>\n",
       "      <td>10</td>\n",
       "      <td>sadd  last night in fl going back to ar tomorrow</td>\n",
       "    </tr>\n",
       "    <tr>\n",
       "      <th>3168</th>\n",
       "      <td>1783b5eb60</td>\n",
       "      <td>Geez I`m hating bein at work till 10 on a day ...</td>\n",
       "      <td>negative</td>\n",
       "      <td>21</td>\n",
       "      <td>geez im hating bein at work till   on a day li...</td>\n",
       "    </tr>\n",
       "    <tr>\n",
       "      <th>1744</th>\n",
       "      <td>0986073590</td>\n",
       "      <td>Actually, I think I`ll be more upset if I lost...</td>\n",
       "      <td>neutral</td>\n",
       "      <td>23</td>\n",
       "      <td>actually i think ill be more upset if i lost m...</td>\n",
       "    </tr>\n",
       "    <tr>\n",
       "      <th>791</th>\n",
       "      <td>7993d38b85</td>\n",
       "      <td>ha! lemme know what you find (tho I suspect i...</td>\n",
       "      <td>positive</td>\n",
       "      <td>22</td>\n",
       "      <td>ha lemme know what you find tho i suspect it ...</td>\n",
       "    </tr>\n",
       "    <tr>\n",
       "      <th>868</th>\n",
       "      <td>4e5d66beb2</td>\n",
       "      <td>I love how when I leave my laptop on my bed it...</td>\n",
       "      <td>positive</td>\n",
       "      <td>17</td>\n",
       "      <td>i love how when i leave my laptop on my bed it...</td>\n",
       "    </tr>\n",
       "    <tr>\n",
       "      <th>650</th>\n",
       "      <td>fe626ba958</td>\n",
       "      <td>my baby`s off on his adventure. 14.5 hours in ...</td>\n",
       "      <td>negative</td>\n",
       "      <td>28</td>\n",
       "      <td>my babys off on his adventure   hours in the c...</td>\n",
       "    </tr>\n",
       "    <tr>\n",
       "      <th>653</th>\n",
       "      <td>5efc764068</td>\n",
       "      <td>Woo - got a fast mobile broadband connection now</td>\n",
       "      <td>neutral</td>\n",
       "      <td>9</td>\n",
       "      <td>woo  got a fast mobile broadband connection now</td>\n",
       "    </tr>\n",
       "    <tr>\n",
       "      <th>2981</th>\n",
       "      <td>0690c4b873</td>\n",
       "      <td>???!  #MandarinMonday</td>\n",
       "      <td>neutral</td>\n",
       "      <td>2</td>\n",
       "      <td>mandarinmonday</td>\n",
       "    </tr>\n",
       "    <tr>\n",
       "      <th>984</th>\n",
       "      <td>507a584ae5</td>\n",
       "      <td>just signed up..so, hello twitter world, here ...</td>\n",
       "      <td>neutral</td>\n",
       "      <td>9</td>\n",
       "      <td>just signed upso hello twitter world here i am</td>\n",
       "    </tr>\n",
       "    <tr>\n",
       "      <th>361</th>\n",
       "      <td>37897b1693</td>\n",
       "      <td>Got people don`t let me skip sci pratical beco...</td>\n",
       "      <td>negative</td>\n",
       "      <td>20</td>\n",
       "      <td>got people dont let me skip sci pratical becos...</td>\n",
       "    </tr>\n",
       "  </tbody>\n",
       "</table>\n",
       "</div>"
      ],
      "text/plain": [
       "          textID                                               text sentiment  \\\n",
       "1249  c3892f8e77  sadd..  last night in fl.. going back to AR to...  negative   \n",
       "3168  1783b5eb60  Geez I`m hating bein at work till 10 on a day ...  negative   \n",
       "1744  0986073590  Actually, I think I`ll be more upset if I lost...   neutral   \n",
       "791   7993d38b85   ha! lemme know what you find (tho I suspect i...  positive   \n",
       "868   4e5d66beb2  I love how when I leave my laptop on my bed it...  positive   \n",
       "650   fe626ba958  my baby`s off on his adventure. 14.5 hours in ...  negative   \n",
       "653   5efc764068   Woo - got a fast mobile broadband connection now   neutral   \n",
       "2981  0690c4b873                              ???!  #MandarinMonday   neutral   \n",
       "984   507a584ae5  just signed up..so, hello twitter world, here ...   neutral   \n",
       "361   37897b1693  Got people don`t let me skip sci pratical beco...  negative   \n",
       "\n",
       "      length                                         clean_text  \n",
       "1249      10   sadd  last night in fl going back to ar tomorrow  \n",
       "3168      21  geez im hating bein at work till   on a day li...  \n",
       "1744      23  actually i think ill be more upset if i lost m...  \n",
       "791       22   ha lemme know what you find tho i suspect it ...  \n",
       "868       17  i love how when i leave my laptop on my bed it...  \n",
       "650       28  my babys off on his adventure   hours in the c...  \n",
       "653        9    woo  got a fast mobile broadband connection now  \n",
       "2981       2                                     mandarinmonday  \n",
       "984        9     just signed upso hello twitter world here i am  \n",
       "361       20  got people dont let me skip sci pratical becos...  "
      ]
     },
     "execution_count": 30,
     "metadata": {},
     "output_type": "execute_result"
    }
   ],
   "source": [
    "# apply it to test data as well\n",
    "test[\"clean_text\"] = test[\"text\"].apply(lambda x : clean_text(x))\n",
    "\n",
    "test.sample(10)"
   ]
  },
  {
   "cell_type": "code",
   "execution_count": 31,
   "id": "06762720",
   "metadata": {},
   "outputs": [],
   "source": [
    "# setting stopwords\n",
    "stop=set(stopwords.words('english'))"
   ]
  },
  {
   "cell_type": "code",
   "execution_count": 32,
   "id": "042afdc6",
   "metadata": {},
   "outputs": [
    {
     "data": {
      "text/plain": [
       "Text(0.5, 0.98, 'Common words in tweet text')"
      ]
     },
     "execution_count": 32,
     "metadata": {},
     "output_type": "execute_result"
    },
    {
     "data": {
      "image/png": "[encoded data removed]",
      "text/plain": [
       "<Figure size 1800x1080 with 3 Axes>"
      ]
     },
     "metadata": {
      "needs_background": "light"
     },
     "output_type": "display_data"
    }
   ],
   "source": [
    "# let's find out the most common words in the text.....\n",
    "sentiments = train[\"sentiment\"].unique()\n",
    "\n",
    "# setup the figure\n",
    "fig,ax = plt.subplots(1,3, figsize=(25,15))\n",
    "colors = [\"lightblue\",\"red\",\"green\",]\n",
    "for i in range(3):\n",
    "    new = train[train[\"sentiment\"]==sentiments[i]][\"clean_text\"]\n",
    "    counter = Counter(new)\n",
    "    most_common = counter.most_common()\n",
    "    x = []\n",
    "    y = []\n",
    "    \n",
    "    for word,count in most_common[:15]:\n",
    "        x.append(word)\n",
    "        y.append(count)\n",
    "        \n",
    "    sns.barplot(x=y,y=x,ax=ax[i], color = colors[i])\n",
    "    ax[i].set_title(sentiments[i])\n",
    "fig.suptitle(\"Common words in tweet text\")"
   ]
  },
  {
   "cell_type": "code",
   "execution_count": 33,
   "id": "5c3984d1",
   "metadata": {},
   "outputs": [],
   "source": [
    "# pick the main columns....\n",
    "train_text = train[\"clean_text\"]\n",
    "train_labels = train[\"sentiment\"]\n",
    "\n",
    "test_text = test[\"clean_text\"]\n",
    "test_labels = test[\"sentiment\"]"
   ]
  },
  {
   "cell_type": "code",
   "execution_count": 34,
   "id": "b3d5fe6d",
   "metadata": {},
   "outputs": [],
   "source": [
    "# as our label is in text so map it\n",
    "\n",
    "l = {\"neutral\" : 0, \"positive\" : 1,\"negative\" : 2}\n",
    "\n",
    "# apply it to the data....\n",
    "\n",
    "train_labels = train_labels.map(l)\n",
    "test_labels = test_labels.map(l)"
   ]
  },
  {
   "cell_type": "code",
   "execution_count": 35,
   "id": "6f2fe51d",
   "metadata": {},
   "outputs": [
    {
     "data": {
      "text/plain": [
       "0                        id have responded if i were going\n",
       "1               sooo sad i will miss you here in san diego\n",
       "2                                   my boss is bullying me\n",
       "3                            what interview leave me alone\n",
       "4         sons of  why couldnt they put them on the rel...\n",
       "                               ...                        \n",
       "27476     wish we could come see u on denver  husband l...\n",
       "27477     ive wondered about rake to  the client has ma...\n",
       "27478     yay good for both of you enjoy the break  you...\n",
       "27479                                but it was worth it  \n",
       "27480       all this flirting going on  the atg smiles ...\n",
       "Name: clean_text, Length: 27480, dtype: object"
      ]
     },
     "execution_count": 35,
     "metadata": {},
     "output_type": "execute_result"
    }
   ],
   "source": [
    "train_text"
   ]
  },
  {
   "cell_type": "markdown",
   "id": "a2216710",
   "metadata": {},
   "source": [
    "# Tokenization : \n",
    "    As we clean our text let's split the data and convert each split into integer through tokenization because our deep learning models works only with the numbers....\n",
    "\n"
   ]
  },
  {
   "cell_type": "code",
   "execution_count": 36,
   "id": "99bc761a",
   "metadata": {},
   "outputs": [
    {
     "data": {
      "text/plain": [
       "13"
      ]
     },
     "execution_count": 36,
     "metadata": {},
     "output_type": "execute_result"
    }
   ],
   "source": [
    "# find the average length of sentence...\n",
    "round(np.mean(train[\"length\"]))"
   ]
  },
  {
   "cell_type": "code",
   "execution_count": 37,
   "id": "4cee2cd1",
   "metadata": {},
   "outputs": [
    {
     "name": "stdout",
     "output_type": "stream",
     "text": [
      "Metal device set to: Apple M1\n"
     ]
    },
    {
     "name": "stderr",
     "output_type": "stream",
     "text": [
      "2022-10-16 21:11:44.681930: I tensorflow/core/common_runtime/pluggable_device/pluggable_device_factory.cc:305] Could not identify NUMA node of platform GPU ID 0, defaulting to 0. Your kernel may not have been built with NUMA support.\n",
      "2022-10-16 21:11:44.682012: I tensorflow/core/common_runtime/pluggable_device/pluggable_device_factory.cc:271] Created TensorFlow device (/job:localhost/replica:0/task:0/device:GPU:0 with 0 MB memory) -> physical PluggableDevice (device: 0, name: METAL, pci bus id: <undefined>)\n",
      "2022-10-16 21:11:44.710248: W tensorflow/core/platform/profile_utils/cpu_utils.cc:128] Failed to get CPU frequency: 0 Hz\n",
      "2022-10-16 21:11:44.746052: I tensorflow/core/grappler/optimizers/custom_graph_optimizer_registry.cc:113] Plugin optimizer for device_type GPU is enabled.\n"
     ]
    }
   ],
   "source": [
    "# setup the vocabulary length...\n",
    "max_token = 15000\n",
    "max_len = 15\n",
    "\n",
    "\n",
    "token = TextVectorization(max_tokens = max_token,\n",
    "                         standardize = \"lower_and_strip_punctuation\",\n",
    "                         output_mode = \"int\",\n",
    "                         output_sequence_length = max_len,\n",
    "                         split = \"whitespace\")\n",
    "\n",
    "# adapt to text\n",
    "token.adapt(train_text)"
   ]
  },
  {
   "cell_type": "code",
   "execution_count": 38,
   "id": "f27e5229",
   "metadata": {},
   "outputs": [
    {
     "name": "stdout",
     "output_type": "stream",
     "text": [
      "Total words in the Vocabulary : 15000\n",
      "Top five words in the Vocabulary : ['', '[UNK]', 'i', 'to', 'the']\n",
      "Bottom five words in the Vocabulary : ['rightards', 'rigby', 'rig', 'rieger', 'ridin']\n"
     ]
    }
   ],
   "source": [
    "# get some text information....\n",
    "vocab = token.get_vocabulary()\n",
    "print(f\"Total words in the Vocabulary : {len(vocab)}\")\n",
    "print(f\"Top five words in the Vocabulary : {vocab[:5]}\")\n",
    "print(f\"Bottom five words in the Vocabulary : {vocab[-5:]}\")"
   ]
  },
  {
   "cell_type": "code",
   "execution_count": 39,
   "id": "fc5ea6df",
   "metadata": {},
   "outputs": [
    {
     "name": "stdout",
     "output_type": "stream",
     "text": [
      "Original Text : check out this funny movie  httptinyurlcomd qwar\n",
      "\n",
      "Tokenize Sentence : [[ 279   33   30  359  204 2135    1    0    0    0    0    0    0    0\n",
      "     0]]\n"
     ]
    }
   ],
   "source": [
    "# let's tokenize some sentence....\n",
    "random_index = np.random.randint(0,len(train_text))\n",
    "random_sentence = train_text[random_index]\n",
    "\n",
    "print(f\"Original Text : {random_sentence}\\n\")\n",
    "print(f\"Tokenize Sentence : {token([random_sentence])}\")"
   ]
  },
  {
   "cell_type": "markdown",
   "id": "8b8f7a6e",
   "metadata": {},
   "source": [
    "# Embedding\n",
    "   \n",
    "  A word embedding is a class of approaches for representing words and documents using a dense vector representation. Word embeddings give us a way to use an efficient, dense representation in which similar words have a similar encoding. Importantly, you do not have to specify this encoding by hand. An embedding is a dense vector of floating point values (the length of the vector is a parameter you specify). Instead of specifying the values for the embedding manually, they are trainable parameters (weights learned by the model during training, in the same way a model learns weights for a dense layer). It is common to see word embeddings that are 8-dimensional (for small datasets), up to 1024-dimensions when working with large datasets. A higher dimensional embedding can capture fine-grained relationships between words, but takes more data to learn"
   ]
  },
  {
   "cell_type": "code",
   "execution_count": 40,
   "id": "dc3fdb93",
   "metadata": {},
   "outputs": [],
   "source": [
    "embedd = Embedding(input_dim = max_token,\n",
    "                  output_dim = 256,\n",
    "                   input_length = max_len,\n",
    "                   embeddings_initializer = \"uniform\",\n",
    "                  )"
   ]
  },
  {
   "cell_type": "code",
   "execution_count": 41,
   "id": "aa1e9dbf",
   "metadata": {},
   "outputs": [
    {
     "name": "stdout",
     "output_type": "stream",
     "text": [
      "Original Text : poor ds is in bed with   fever  he wont be able to walk in relay for life tonight  feel so bad for him hes so sad\n",
      "\n",
      "Tokenize Sentence : [[ 313 2670   10   11  141   22 1175  111  165   24  464    3  713   11\n",
      "  3471]]\n",
      "\n",
      "Tokenize Sentence : [[[-0.03479004  0.03959937  0.01954031 ...  0.04770727 -0.00404854\n",
      "   -0.00715316]\n",
      "  [ 0.0448926  -0.02105613  0.00854826 ... -0.03886175  0.03701044\n",
      "   -0.04289728]\n",
      "  [-0.04844604 -0.02325727  0.01449922 ...  0.02120982  0.01202836\n",
      "   -0.02886401]\n",
      "  ...\n",
      "  [ 0.00717982 -0.02242143 -0.02843162 ...  0.02930192 -0.03782576\n",
      "   -0.02822474]\n",
      "  [ 0.04578367  0.00078801  0.02961894 ... -0.03379005 -0.00052049\n",
      "   -0.00951076]\n",
      "  [ 0.04729087 -0.03736253 -0.04621473 ...  0.03138942  0.00755279\n",
      "    0.03812883]]]\n"
     ]
    }
   ],
   "source": [
    "# let's tokenize and embedd some sentence....\n",
    "random_index = np.random.randint(0,len(train_text))\n",
    "random_sentence = train_text[random_index]\n",
    "\n",
    "print(f\"Original Text : {random_sentence}\\n\")\n",
    "print(f\"Tokenize Sentence : {token([random_sentence])}\\n\")\n",
    "print(f\"Tokenize Sentence : {embedd(token([random_sentence]))}\")"
   ]
  },
  {
   "cell_type": "code",
   "execution_count": 42,
   "id": "344eac97",
   "metadata": {},
   "outputs": [],
   "source": [
    "# let's make a function to evaluate our model performance....\n",
    "def calculate_results(y_true,y_pred):\n",
    "    \"\"\"\n",
    "    This function will evaluate our model performace by measuring certain metrics....\n",
    "    Accuracy : it tells us that how accurately our model predict the label\n",
    "    Precision : this is the ability of classifier not to label a negative label as positive.\n",
    "    Recall : this is the ability of classifier to find all positive labels.\n",
    "    Fscore : this is the average of preicision and recall.\n",
    "    \"\"\"\n",
    "    accuracy = accuracy_score(y_true,y_pred)\n",
    "    precision_score,recall_score,f_score,_ = precision_recall_fscore_support(y_true,y_pred,average=\"weighted\")\n",
    "    \n",
    "    results = {\n",
    "        \"Accuracy\" : accuracy ,\n",
    "        \"Precision\" : precision_score,\n",
    "        \"Recall\" : recall_score,\n",
    "        \"F_Score\" : f_score\n",
    "    }\n",
    "    return results"
   ]
  },
  {
   "cell_type": "markdown",
   "id": "ad046551",
   "metadata": {},
   "source": [
    "# Modelling : \n",
    "     \n",
    "     We'll build a series of model and pick the one that performs better.\n",
    "    ~Naive Model\n",
    "    ~Dense Model\n",
    "    ~LSTM Model\n",
    "    ~GRU Model"
   ]
  },
  {
   "cell_type": "code",
   "execution_count": 43,
   "id": "d86f87a6",
   "metadata": {},
   "outputs": [],
   "source": [
    "# Model_0 : Naive Model"
   ]
  },
  {
   "cell_type": "code",
   "execution_count": 44,
   "id": "715e6ad4",
   "metadata": {},
   "outputs": [
    {
     "data": {
      "text/html": [
       "<style>#sk-container-id-1 {color: black;background-color: white;}#sk-container-id-1 pre{padding: 0;}#sk-container-id-1 div.sk-toggleable {background-color: white;}#sk-container-id-1 label.sk-toggleable__label {cursor: pointer;display: block;width: 100%;margin-bottom: 0;padding: 0.3em;box-sizing: border-box;text-align: center;}#sk-container-id-1 label.sk-toggleable__label-arrow:before {content: \"▸\";float: left;margin-right: 0.25em;color: #696969;}#sk-container-id-1 label.sk-toggleable__label-arrow:hover:before {color: black;}#sk-container-id-1 div.sk-estimator:hover label.sk-toggleable__label-arrow:before {color: black;}#sk-container-id-1 div.sk-toggleable__content {max-height: 0;max-width: 0;overflow: hidden;text-align: left;background-color: #f0f8ff;}#sk-container-id-1 div.sk-toggleable__content pre {margin: 0.2em;color: black;border-radius: 0.25em;background-color: #f0f8ff;}#sk-container-id-1 input.sk-toggleable__control:checked~div.sk-toggleable__content {max-height: 200px;max-width: 100%;overflow: auto;}#sk-container-id-1 input.sk-toggleable__control:checked~label.sk-toggleable__label-arrow:before {content: \"▾\";}#sk-container-id-1 div.sk-estimator input.sk-toggleable__control:checked~label.sk-toggleable__label {background-color: #d4ebff;}#sk-container-id-1 div.sk-label input.sk-toggleable__control:checked~label.sk-toggleable__label {background-color: #d4ebff;}#sk-container-id-1 input.sk-hidden--visually {border: 0;clip: rect(1px 1px 1px 1px);clip: rect(1px, 1px, 1px, 1px);height: 1px;margin: -1px;overflow: hidden;padding: 0;position: absolute;width: 1px;}#sk-container-id-1 div.sk-estimator {font-family: monospace;background-color: #f0f8ff;border: 1px dotted black;border-radius: 0.25em;box-sizing: border-box;margin-bottom: 0.5em;}#sk-container-id-1 div.sk-estimator:hover {background-color: #d4ebff;}#sk-container-id-1 div.sk-parallel-item::after {content: \"\";width: 100%;border-bottom: 1px solid gray;flex-grow: 1;}#sk-container-id-1 div.sk-label:hover label.sk-toggleable__label {background-color: #d4ebff;}#sk-container-id-1 div.sk-serial::before {content: \"\";position: absolute;border-left: 1px solid gray;box-sizing: border-box;top: 0;bottom: 0;left: 50%;z-index: 0;}#sk-container-id-1 div.sk-serial {display: flex;flex-direction: column;align-items: center;background-color: white;padding-right: 0.2em;padding-left: 0.2em;position: relative;}#sk-container-id-1 div.sk-item {position: relative;z-index: 1;}#sk-container-id-1 div.sk-parallel {display: flex;align-items: stretch;justify-content: center;background-color: white;position: relative;}#sk-container-id-1 div.sk-item::before, #sk-container-id-1 div.sk-parallel-item::before {content: \"\";position: absolute;border-left: 1px solid gray;box-sizing: border-box;top: 0;bottom: 0;left: 50%;z-index: -1;}#sk-container-id-1 div.sk-parallel-item {display: flex;flex-direction: column;z-index: 1;position: relative;background-color: white;}#sk-container-id-1 div.sk-parallel-item:first-child::after {align-self: flex-end;width: 50%;}#sk-container-id-1 div.sk-parallel-item:last-child::after {align-self: flex-start;width: 50%;}#sk-container-id-1 div.sk-parallel-item:only-child::after {width: 0;}#sk-container-id-1 div.sk-dashed-wrapped {border: 1px dashed gray;margin: 0 0.4em 0.5em 0.4em;box-sizing: border-box;padding-bottom: 0.4em;background-color: white;}#sk-container-id-1 div.sk-label label {font-family: monospace;font-weight: bold;display: inline-block;line-height: 1.2em;}#sk-container-id-1 div.sk-label-container {text-align: center;}#sk-container-id-1 div.sk-container {/* jupyter's `normalize.less` sets `[hidden] { display: none; }` but bootstrap.min.css set `[hidden] { display: none !important; }` so we also need the `!important` here to be able to override the default hidden behavior on the sphinx rendered scikit-learn.org. See: https://github.com/scikit-learn/scikit-learn/issues/21755 */display: inline-block !important;position: relative;}#sk-container-id-1 div.sk-text-repr-fallback {display: none;}</style><div id=\"sk-container-id-1\" class=\"sk-top-container\"><div class=\"sk-text-repr-fallback\"><pre>Pipeline(steps=[(&#x27;tfidf&#x27;, TfidfVectorizer()), (&#x27;naive&#x27;, MultinomialNB())])</pre><b>In a Jupyter environment, please rerun this cell to show the HTML representation or trust the notebook. <br />On GitHub, the HTML representation is unable to render, please try loading this page with nbviewer.org.</b></div><div class=\"sk-container\" hidden><div class=\"sk-item sk-dashed-wrapped\"><div class=\"sk-label-container\"><div class=\"sk-label sk-toggleable\"><input class=\"sk-toggleable__control sk-hidden--visually\" id=\"sk-estimator-id-1\" type=\"checkbox\" ><label for=\"sk-estimator-id-1\" class=\"sk-toggleable__label sk-toggleable__label-arrow\">Pipeline</label><div class=\"sk-toggleable__content\"><pre>Pipeline(steps=[(&#x27;tfidf&#x27;, TfidfVectorizer()), (&#x27;naive&#x27;, MultinomialNB())])</pre></div></div></div><div class=\"sk-serial\"><div class=\"sk-item\"><div class=\"sk-estimator sk-toggleable\"><input class=\"sk-toggleable__control sk-hidden--visually\" id=\"sk-estimator-id-2\" type=\"checkbox\" ><label for=\"sk-estimator-id-2\" class=\"sk-toggleable__label sk-toggleable__label-arrow\">TfidfVectorizer</label><div class=\"sk-toggleable__content\"><pre>TfidfVectorizer()</pre></div></div></div><div class=\"sk-item\"><div class=\"sk-estimator sk-toggleable\"><input class=\"sk-toggleable__control sk-hidden--visually\" id=\"sk-estimator-id-3\" type=\"checkbox\" ><label for=\"sk-estimator-id-3\" class=\"sk-toggleable__label sk-toggleable__label-arrow\">MultinomialNB</label><div class=\"sk-toggleable__content\"><pre>MultinomialNB()</pre></div></div></div></div></div></div></div>"
      ],
      "text/plain": [
       "Pipeline(steps=[('tfidf', TfidfVectorizer()), ('naive', MultinomialNB())])"
      ]
     },
     "execution_count": 44,
     "metadata": {},
     "output_type": "execute_result"
    }
   ],
   "source": [
    "# let's build our first sklearn naive model...\n",
    "model_0 = Pipeline([\n",
    "    ('tfidf',TfidfVectorizer()),\n",
    "    (\"naive\",MultinomialNB())\n",
    "])\n",
    "\n",
    "# fitting model to data....\n",
    "model_0.fit(train_text,train_labels)"
   ]
  },
  {
   "cell_type": "code",
   "execution_count": 45,
   "id": "25d5c3dc",
   "metadata": {},
   "outputs": [
    {
     "data": {
      "text/plain": [
       "{'Accuracy': 0.620826259196378,\n",
       " 'Precision': 0.6920038667463424,\n",
       " 'Recall': 0.620826259196378,\n",
       " 'F_Score': 0.6084458841291476}"
      ]
     },
     "execution_count": 45,
     "metadata": {},
     "output_type": "execute_result"
    }
   ],
   "source": [
    "# calculate model results....\n",
    "model_0_results = calculate_results(test_labels,model_0.predict(test_text))\n",
    "model_0_results"
   ]
  },
  {
   "cell_type": "code",
   "execution_count": 46,
   "id": "773ec3eb",
   "metadata": {},
   "outputs": [],
   "source": [
    "train_labels = to_categorical(train_labels, 3)\n",
    "test_labels = to_categorical(test_labels,3)\n"
   ]
  },
  {
   "cell_type": "markdown",
   "id": "67865aec",
   "metadata": {},
   "source": [
    "# Model 2 : Simple Dense Model"
   ]
  },
  {
   "cell_type": "code",
   "execution_count": 47,
   "id": "2f69273e",
   "metadata": {},
   "outputs": [],
   "source": [
    "# let's build our first dense model.....\n",
    "\n",
    "# set up the random seed....\n",
    "tf.random.set_seed(42)\n",
    "\n",
    "# define the inputs....\n",
    "inputs = layers.Input(shape=(),dtype=\"string\")\n",
    "\n",
    "# pass inputs to tokenization layer....\n",
    "x = token(inputs)\n",
    "\n",
    "# pass the token to embeddings....\n",
    "x = embedd(x)\n",
    "\n",
    "# hidden layers...\n",
    "x = layers.Dense(64,activation=\"relu\")(x)\n",
    "\n",
    "# adding the 2nd layers....\n",
    "x = layers.Dense(32,activation=\"relu\")(x)\n",
    "# adding the globalaverage layer...\n",
    "x = layers.GlobalAveragePooling1D()(x)\n",
    "output = layers.Dense(3,activation=\"softmax\")(x)\n",
    "\n",
    "# model building....\n",
    "model_1 = tf.keras.Model(inputs,output,name=\"Dense_Model\")\n",
    "\n",
    "# compiling the model...\n",
    "model_1.compile(loss=\"categorical_crossentropy\",\n",
    "               optimizer=\"rmsprop\",\n",
    "               metrics=[\"accuracy\"])"
   ]
  },
  {
   "cell_type": "code",
   "execution_count": 48,
   "id": "ca08c5c6",
   "metadata": {},
   "outputs": [
    {
     "name": "stdout",
     "output_type": "stream",
     "text": [
      "Model: \"Dense_Model\"\n",
      "_________________________________________________________________\n",
      " Layer (type)                Output Shape              Param #   \n",
      "=================================================================\n",
      " input_1 (InputLayer)        [(None,)]                 0         \n",
      "                                                                 \n",
      " text_vectorization (TextVec  (None, 15)               0         \n",
      " torization)                                                     \n",
      "                                                                 \n",
      " embedding (Embedding)       (None, 15, 256)           3840000   \n",
      "                                                                 \n",
      " dense (Dense)               (None, 15, 64)            16448     \n",
      "                                                                 \n",
      " dense_1 (Dense)             (None, 15, 32)            2080      \n",
      "                                                                 \n",
      " global_average_pooling1d (G  (None, 32)               0         \n",
      " lobalAveragePooling1D)                                          \n",
      "                                                                 \n",
      " dense_2 (Dense)             (None, 3)                 99        \n",
      "                                                                 \n",
      "=================================================================\n",
      "Total params: 3,858,627\n",
      "Trainable params: 3,858,627\n",
      "Non-trainable params: 0\n",
      "_________________________________________________________________\n"
     ]
    }
   ],
   "source": [
    "# model summary.....\n",
    "model_1.summary()"
   ]
  },
  {
   "cell_type": "code",
   "execution_count": 49,
   "id": "f583969b",
   "metadata": {},
   "outputs": [
    {
     "name": "stdout",
     "output_type": "stream",
     "text": [
      "Epoch 1/10\n",
      "  1/859 [..............................] - ETA: 6:39 - loss: 1.0968 - accuracy: 0.3750"
     ]
    },
    {
     "name": "stderr",
     "output_type": "stream",
     "text": [
      "2022-10-16 21:11:46.018781: I tensorflow/core/grappler/optimizers/custom_graph_optimizer_registry.cc:113] Plugin optimizer for device_type GPU is enabled.\n"
     ]
    },
    {
     "name": "stdout",
     "output_type": "stream",
     "text": [
      "859/859 [==============================] - ETA: 0s - loss: 0.8476 - accuracy: 0.6159"
     ]
    },
    {
     "name": "stderr",
     "output_type": "stream",
     "text": [
      "2022-10-16 21:12:03.008438: I tensorflow/core/grappler/optimizers/custom_graph_optimizer_registry.cc:113] Plugin optimizer for device_type GPU is enabled.\n"
     ]
    },
    {
     "name": "stdout",
     "output_type": "stream",
     "text": [
      "INFO:tensorflow:Assets written to: Dense_1.tf/assets\n",
      "859/859 [==============================] - 19s 22ms/step - loss: 0.8476 - accuracy: 0.6159 - val_loss: 0.7522 - val_accuracy: 0.6868\n",
      "Epoch 2/10\n",
      "857/859 [============================>.] - ETA: 0s - loss: 0.7023 - accuracy: 0.7144INFO:tensorflow:Assets written to: Dense_1.tf/assets\n",
      "859/859 [==============================] - 18s 21ms/step - loss: 0.7024 - accuracy: 0.7143 - val_loss: 0.7370 - val_accuracy: 0.6856\n",
      "Epoch 3/10\n",
      "857/859 [============================>.] - ETA: 0s - loss: 0.6455 - accuracy: 0.7462INFO:tensorflow:Assets written to: Dense_1.tf/assets\n",
      "859/859 [==============================] - 18s 22ms/step - loss: 0.6460 - accuracy: 0.7463 - val_loss: 0.7356 - val_accuracy: 0.6930\n",
      "Epoch 4/10\n",
      "859/859 [==============================] - 18s 21ms/step - loss: 0.6043 - accuracy: 0.7693 - val_loss: 0.7533 - val_accuracy: 0.6899\n",
      "Epoch 5/10\n",
      "859/859 [==============================] - 18s 21ms/step - loss: 0.5693 - accuracy: 0.7827 - val_loss: 0.7801 - val_accuracy: 0.6839\n",
      "Epoch 6/10\n",
      "859/859 [==============================] - 18s 20ms/step - loss: 0.5444 - accuracy: 0.7961 - val_loss: 0.7966 - val_accuracy: 0.6771\n",
      "Epoch 7/10\n",
      "859/859 [==============================] - 18s 20ms/step - loss: 0.5232 - accuracy: 0.8068 - val_loss: 0.8268 - val_accuracy: 0.6735\n",
      "Epoch 8/10\n",
      "859/859 [==============================] - 18s 21ms/step - loss: 0.5104 - accuracy: 0.8102 - val_loss: 0.8354 - val_accuracy: 0.6587\n",
      "Epoch 9/10\n",
      "859/859 [==============================] - 17s 20ms/step - loss: 0.4989 - accuracy: 0.8155 - val_loss: 0.8509 - val_accuracy: 0.6582\n",
      "Epoch 10/10\n",
      "859/859 [==============================] - 17s 20ms/step - loss: 0.4895 - accuracy: 0.8195 - val_loss: 0.8579 - val_accuracy: 0.6653\n"
     ]
    }
   ],
   "source": [
    "# fitting the model to data....\n",
    "history_1 = model_1.fit(train_text,train_labels,\n",
    "                       epochs=10,\n",
    "                       validation_data=(test_text,test_labels),\n",
    "                        validation_split = int(len(test_text) * 0.25),\n",
    "                        callbacks = [tf.keras.callbacks.ModelCheckpoint(\"Dense_1.tf\",\n",
    "                                                                               save_best_only=True)])"
   ]
  },
  {
   "cell_type": "code",
   "execution_count": 50,
   "id": "90222e89",
   "metadata": {},
   "outputs": [
    {
     "data": {
      "text/plain": [
       "['keras_metadata.pb', 'variables', 'saved_model.pb', 'assets']"
      ]
     },
     "execution_count": 50,
     "metadata": {},
     "output_type": "execute_result"
    }
   ],
   "source": [
    "os.listdir(\"Dense_1.tf\")"
   ]
  },
  {
   "cell_type": "code",
   "execution_count": 51,
   "id": "13c25ce0",
   "metadata": {},
   "outputs": [
    {
     "name": "stderr",
     "output_type": "stream",
     "text": [
      "2022-10-16 21:14:45.228606: I tensorflow/core/grappler/optimizers/custom_graph_optimizer_registry.cc:113] Plugin optimizer for device_type GPU is enabled.\n",
      "2022-10-16 21:14:45.233674: I tensorflow/core/grappler/optimizers/custom_graph_optimizer_registry.cc:113] Plugin optimizer for device_type GPU is enabled.\n"
     ]
    }
   ],
   "source": [
    "# let's load the best model...\n",
    "model_2 = tf.keras.models.load_model(\"Dense_1.tf\")"
   ]
  },
  {
   "cell_type": "code",
   "execution_count": 52,
   "id": "83bda5bb",
   "metadata": {},
   "outputs": [
    {
     "name": "stdout",
     "output_type": "stream",
     "text": [
      " 13/111 [==>...........................] - ETA: 0s"
     ]
    },
    {
     "name": "stderr",
     "output_type": "stream",
     "text": [
      "2022-10-16 21:14:45.341667: I tensorflow/core/grappler/optimizers/custom_graph_optimizer_registry.cc:113] Plugin optimizer for device_type GPU is enabled.\n"
     ]
    },
    {
     "name": "stdout",
     "output_type": "stream",
     "text": [
      "111/111 [==============================] - 1s 4ms/step\n"
     ]
    },
    {
     "data": {
      "text/plain": [
       "{'Accuracy': 0.6550650820599887,\n",
       " 'Precision': 0.7319607437801137,\n",
       " 'Recall': 0.6550650820599887,\n",
       " 'F_Score': 0.6884914562374292}"
      ]
     },
     "execution_count": 52,
     "metadata": {},
     "output_type": "execute_result"
    }
   ],
   "source": [
    "# make predictions and calculate the results...\n",
    "model_2_results = calculate_results(test_labels,tf.squeeze(tf.round(model_2.predict(test_text))))\n",
    "model_2_results"
   ]
  },
  {
   "cell_type": "code",
   "execution_count": 53,
   "id": "2b3da76c",
   "metadata": {},
   "outputs": [],
   "source": [
    "# let's make a function that will plot the model performance......\n",
    "def plot_model_performance(history):\n",
    "    \n",
    "    loss = history.history[\"loss\"]\n",
    "    \n",
    "    val_loss = history.history[\"val_loss\"]\n",
    "    \n",
    "    acc = history.history[\"accuracy\"]\n",
    "    \n",
    "    val_acc = history.history[\"val_accuracy\"]\n",
    "    \n",
    "    epochs = range(len(loss))\n",
    "    \n",
    "    \n",
    "#     plottint the model accuracy vs validation accuracy\n",
    "    plt.plot(epochs,acc,label=\"Training Accuracy\",marker = \"*\",linestyle = \"dotted\")\n",
    "    plt.plot(epochs,val_acc,label=\"Validation Accuracy\",marker = \"P\", linestyle = \"dashed\")\n",
    "    plt.title(\"Training vs Validation Accuracy\")\n",
    "    plt.xlabel(\"Epochs\")\n",
    "    plt.legend(title=\"Accuracy\")\n",
    "    \n",
    "    \n",
    "#     plotting the training vs validation loss\n",
    "    plt.figure()\n",
    "    plt.plot(epochs,loss,label=\"Training Loss\",marker=\"1\", linestyle = \"dotted\")\n",
    "    plt.plot(epochs,val_loss,label=\"Validation Loss\",marker = \"2\", linestyle = \"dashed\")\n",
    "    plt.title(\"Training vs Validation Loss\")\n",
    "    plt.xlabel(\"Epochs\")\n",
    "    plt.legend(title=\"Loss\")\n",
    "    plt.show()"
   ]
  },
  {
   "cell_type": "code",
   "execution_count": 54,
   "id": "a1cae2d2",
   "metadata": {},
   "outputs": [
    {
     "data": {
      "image/png": "[encoded data removed]",
      "text/plain": [
       "<Figure size 432x288 with 1 Axes>"
      ]
     },
     "metadata": {
      "needs_background": "light"
     },
     "output_type": "display_data"
    },
    {
     "data": {
      "image/png": "[encoded data removed]",
      "text/plain": [
       "<Figure size 432x288 with 1 Axes>"
      ]
     },
     "metadata": {
      "needs_background": "light"
     },
     "output_type": "display_data"
    }
   ],
   "source": [
    "# plot the model performance...\n",
    "plot_model_performance(history_1)"
   ]
  },
  {
   "cell_type": "markdown",
   "id": "d8d6ef3f",
   "metadata": {},
   "source": [
    "# Model 3 : LSTM"
   ]
  },
  {
   "cell_type": "code",
   "execution_count": 55,
   "id": "eaedaf8c",
   "metadata": {},
   "outputs": [],
   "source": [
    "# let's build the 3rd Model LSTM (Long-Short-Term-Memory)\n",
    "\n",
    "# set the random seed\n",
    "tf.random.set_seed(42)\n",
    "\n",
    "# define the input layer.....\n",
    "inputs = layers.Input(shape=(),dtype=\"string\")\n",
    "# pass the input layer to tokenization....\n",
    "x = token(inputs)\n",
    "# pass the token into embedd layer.....\n",
    "x = embedd(x)\n",
    "\n",
    "# hidden layer.....\n",
    "x = layers.Dense(64,activation=\"relu\")(x)\n",
    "# adding the 2nd layers....\n",
    "x = layers.Dense(32,activation=\"relu\")(x)\n",
    "# adding the lstm layer\n",
    "x = layers.LSTM(64,return_sequences=True)(x)\n",
    "\n",
    "# adding the drop-out layer...\n",
    "x = layers.Dropout(0.1)(x)\n",
    "\n",
    "# LSTM layer\n",
    "x = layers.LSTM(32,)(x)\n",
    "\n",
    "# output layer....\n",
    "output = layers.Dense(3,activation=\"softmax\")(x)\n",
    "\n",
    "# model building....\n",
    "model_3 = tf.keras.Model(inputs,output,name=\"LSTM_Model\")\n",
    "\n",
    "# compiling the model...\n",
    "model_3.compile(loss=\"categorical_crossentropy\",\n",
    "               optimizer=\"rmsprop\",\n",
    "               metrics=[\"accuracy\"])"
   ]
  },
  {
   "cell_type": "code",
   "execution_count": 56,
   "id": "6a9af1e8",
   "metadata": {},
   "outputs": [
    {
     "name": "stdout",
     "output_type": "stream",
     "text": [
      "Model: \"LSTM_Model\"\n",
      "_________________________________________________________________\n",
      " Layer (type)                Output Shape              Param #   \n",
      "=================================================================\n",
      " input_2 (InputLayer)        [(None,)]                 0         \n",
      "                                                                 \n",
      " text_vectorization (TextVec  (None, 15)               0         \n",
      " torization)                                                     \n",
      "                                                                 \n",
      " embedding (Embedding)       (None, 15, 256)           3840000   \n",
      "                                                                 \n",
      " dense_3 (Dense)             (None, 15, 64)            16448     \n",
      "                                                                 \n",
      " dense_4 (Dense)             (None, 15, 32)            2080      \n",
      "                                                                 \n",
      " lstm (LSTM)                 (None, 15, 64)            24832     \n",
      "                                                                 \n",
      " dropout (Dropout)           (None, 15, 64)            0         \n",
      "                                                                 \n",
      " lstm_1 (LSTM)               (None, 32)                12416     \n",
      "                                                                 \n",
      " dense_5 (Dense)             (None, 3)                 99        \n",
      "                                                                 \n",
      "=================================================================\n",
      "Total params: 3,895,875\n",
      "Trainable params: 3,895,875\n",
      "Non-trainable params: 0\n",
      "_________________________________________________________________\n"
     ]
    }
   ],
   "source": [
    "# model summary....\n",
    "model_3.summary()"
   ]
  },
  {
   "cell_type": "code",
   "execution_count": 57,
   "id": "cf429cf6",
   "metadata": {},
   "outputs": [
    {
     "name": "stdout",
     "output_type": "stream",
     "text": [
      "Epoch 1/10\n"
     ]
    },
    {
     "name": "stderr",
     "output_type": "stream",
     "text": [
      "2022-10-16 21:14:47.661614: I tensorflow/core/grappler/optimizers/custom_graph_optimizer_registry.cc:113] Plugin optimizer for device_type GPU is enabled.\n",
      "2022-10-16 21:14:47.918417: I tensorflow/core/grappler/optimizers/custom_graph_optimizer_registry.cc:113] Plugin optimizer for device_type GPU is enabled.\n",
      "2022-10-16 21:14:47.998728: I tensorflow/core/grappler/optimizers/custom_graph_optimizer_registry.cc:113] Plugin optimizer for device_type GPU is enabled.\n",
      "2022-10-16 21:14:48.065833: I tensorflow/core/grappler/optimizers/custom_graph_optimizer_registry.cc:113] Plugin optimizer for device_type GPU is enabled.\n"
     ]
    },
    {
     "name": "stdout",
     "output_type": "stream",
     "text": [
      "\r",
      "  1/859 [..............................] - ETA: 28:55 - loss: 1.0973 - accuracy: 0.4688"
     ]
    },
    {
     "name": "stderr",
     "output_type": "stream",
     "text": [
      "2022-10-16 21:14:48.187572: I tensorflow/core/grappler/optimizers/custom_graph_optimizer_registry.cc:113] Plugin optimizer for device_type GPU is enabled.\n"
     ]
    },
    {
     "name": "stdout",
     "output_type": "stream",
     "text": [
      "859/859 [==============================] - ETA: 0s - loss: 0.5658 - accuracy: 0.7773"
     ]
    },
    {
     "name": "stderr",
     "output_type": "stream",
     "text": [
      "2022-10-16 21:15:16.883493: I tensorflow/core/grappler/optimizers/custom_graph_optimizer_registry.cc:113] Plugin optimizer for device_type GPU is enabled.\n",
      "2022-10-16 21:15:16.984778: I tensorflow/core/grappler/optimizers/custom_graph_optimizer_registry.cc:113] Plugin optimizer for device_type GPU is enabled.\n",
      "2022-10-16 21:15:17.031886: I tensorflow/core/grappler/optimizers/custom_graph_optimizer_registry.cc:113] Plugin optimizer for device_type GPU is enabled.\n",
      "WARNING:absl:Found untraced functions such as lstm_cell_layer_call_fn, lstm_cell_layer_call_and_return_conditional_losses, lstm_cell_1_layer_call_fn, lstm_cell_1_layer_call_and_return_conditional_losses while saving (showing 4 of 4). These functions will not be directly callable after loading.\n"
     ]
    },
    {
     "name": "stdout",
     "output_type": "stream",
     "text": [
      "INFO:tensorflow:Assets written to: LSTM.tf/assets\n"
     ]
    },
    {
     "name": "stderr",
     "output_type": "stream",
     "text": [
      "INFO:tensorflow:Assets written to: LSTM.tf/assets\n"
     ]
    },
    {
     "name": "stdout",
     "output_type": "stream",
     "text": [
      "859/859 [==============================] - 40s 44ms/step - loss: 0.5658 - accuracy: 0.7773 - val_loss: 0.7975 - val_accuracy: 0.6619\n",
      "Epoch 2/10\n",
      "859/859 [==============================] - 31s 36ms/step - loss: 0.4847 - accuracy: 0.8148 - val_loss: 0.8044 - val_accuracy: 0.6636\n",
      "Epoch 3/10\n",
      "859/859 [==============================] - 29s 34ms/step - loss: 0.4534 - accuracy: 0.8301 - val_loss: 0.8451 - val_accuracy: 0.6599\n",
      "Epoch 4/10\n",
      "859/859 [==============================] - 29s 34ms/step - loss: 0.4328 - accuracy: 0.8356 - val_loss: 0.8666 - val_accuracy: 0.6621\n",
      "Epoch 5/10\n",
      "859/859 [==============================] - 29s 34ms/step - loss: 0.4197 - accuracy: 0.8441 - val_loss: 0.8618 - val_accuracy: 0.6607\n",
      "Epoch 6/10\n",
      "859/859 [==============================] - 29s 34ms/step - loss: 0.4116 - accuracy: 0.8474 - val_loss: 0.8309 - val_accuracy: 0.6686\n",
      "Epoch 7/10\n",
      "859/859 [==============================] - 30s 35ms/step - loss: 0.4021 - accuracy: 0.8487 - val_loss: 0.9011 - val_accuracy: 0.6633\n",
      "Epoch 8/10\n",
      "859/859 [==============================] - 30s 35ms/step - loss: 0.3936 - accuracy: 0.8540 - val_loss: 0.9290 - val_accuracy: 0.6763\n",
      "Epoch 9/10\n",
      "859/859 [==============================] - 29s 34ms/step - loss: 0.3824 - accuracy: 0.8573 - val_loss: 0.8725 - val_accuracy: 0.6669\n",
      "Epoch 10/10\n",
      "859/859 [==============================] - 30s 35ms/step - loss: 0.3725 - accuracy: 0.8621 - val_loss: 0.8785 - val_accuracy: 0.6562\n"
     ]
    }
   ],
   "source": [
    "# fitting the model to data....\n",
    "history_3 = model_3.fit(train_text, train_labels,\n",
    "                       epochs = 10,\n",
    "                       validation_data = (test_text,test_labels),\n",
    "                       validation_split = int(len(test_text) * 0.25),\n",
    "                        callbacks = [tf.keras.callbacks.ModelCheckpoint(\"LSTM.tf\",\n",
    "                                                                               save_best_only=True)])"
   ]
  },
  {
   "cell_type": "code",
   "execution_count": 58,
   "id": "43110af0",
   "metadata": {},
   "outputs": [
    {
     "name": "stderr",
     "output_type": "stream",
     "text": [
      "2022-10-16 21:19:53.761613: I tensorflow/core/grappler/optimizers/custom_graph_optimizer_registry.cc:113] Plugin optimizer for device_type GPU is enabled.\n",
      "2022-10-16 21:19:53.860046: I tensorflow/core/grappler/optimizers/custom_graph_optimizer_registry.cc:113] Plugin optimizer for device_type GPU is enabled.\n",
      "2022-10-16 21:19:53.908939: I tensorflow/core/grappler/optimizers/custom_graph_optimizer_registry.cc:113] Plugin optimizer for device_type GPU is enabled.\n"
     ]
    },
    {
     "name": "stdout",
     "output_type": "stream",
     "text": [
      "111/111 [==============================] - 2s 10ms/step\n"
     ]
    },
    {
     "data": {
      "text/plain": [
       "{'Accuracy': 0.620826259196378,\n",
       " 'Precision': 0.6798673323766884,\n",
       " 'Recall': 0.620826259196378,\n",
       " 'F_Score': 0.6471967657114281}"
      ]
     },
     "execution_count": 58,
     "metadata": {},
     "output_type": "execute_result"
    }
   ],
   "source": [
    "# make prediction and calculate results....\n",
    "model_3_results = calculate_results(test_labels, tf.squeeze(tf.round(model_3.predict(test_text))))\n",
    "model_3_results"
   ]
  },
  {
   "cell_type": "code",
   "execution_count": 59,
   "id": "d4fe0216",
   "metadata": {},
   "outputs": [
    {
     "data": {
      "image/png": "[encoded data removed]",
      "text/plain": [
       "<Figure size 432x288 with 1 Axes>"
      ]
     },
     "metadata": {
      "needs_background": "light"
     },
     "output_type": "display_data"
    },
    {
     "data": {
      "image/png": "[encoded data removed]",
      "text/plain": [
       "<Figure size 432x288 with 1 Axes>"
      ]
     },
     "metadata": {
      "needs_background": "light"
     },
     "output_type": "display_data"
    }
   ],
   "source": [
    "# plot model performance...\n",
    "plot_model_performance(history_3)"
   ]
  },
  {
   "cell_type": "markdown",
   "id": "b8a2d369",
   "metadata": {},
   "source": [
    "# Model 4 : GRU"
   ]
  },
  {
   "cell_type": "code",
   "execution_count": 60,
   "id": "b3c8291b",
   "metadata": {},
   "outputs": [],
   "source": [
    "# let's build the Model GRU(Gated Recurrent Units)\n",
    "\n",
    "# set the random seed\n",
    "tf.random.set_seed(42)\n",
    "\n",
    "# define the input layer.....\n",
    "inputs = layers.Input(shape=(),dtype=\"string\")\n",
    "# pass the input layer to tokenization....\n",
    "x = token(inputs)\n",
    "# pass the token into embedd layer.....\n",
    "x = embedd(x)\n",
    "\n",
    "# hidden layer.....\n",
    "x = layers.Dense(64,activation=\"relu\")(x)\n",
    "\n",
    "# adding drop-out layer....\n",
    "x = layers.Dropout(0.1)(x)\n",
    "\n",
    "# adding the 2nd layers....\n",
    "x = layers.Dense(32,activation=\"relu\")(x)\n",
    "\n",
    "# adding the lstm layer\n",
    "x = layers.GRU(64,return_sequences=True)(x)\n",
    "\n",
    "# adding the drop-out layer...\n",
    "x = layers.Dropout(0.1)(x)\n",
    "\n",
    "# LSTM layer\n",
    "x = layers.GRU(32,)(x)\n",
    "\n",
    "# output layer....\n",
    "output = layers.Dense(3,activation=\"sigmoid\")(x)\n",
    "\n",
    "# model building....\n",
    "model_4 = tf.keras.Model(inputs,output,name=\"LSTM_Model\")\n",
    "\n",
    "# compiling the model...\n",
    "model_4.compile(loss=\"categorical_crossentropy\",\n",
    "               optimizer=tf.keras.optimizers.Adam(),\n",
    "               metrics=[\"accuracy\"])"
   ]
  },
  {
   "cell_type": "code",
   "execution_count": 61,
   "id": "a6df4ebc",
   "metadata": {},
   "outputs": [
    {
     "name": "stdout",
     "output_type": "stream",
     "text": [
      "Model: \"LSTM_Model\"\n",
      "_________________________________________________________________\n",
      " Layer (type)                Output Shape              Param #   \n",
      "=================================================================\n",
      " input_3 (InputLayer)        [(None,)]                 0         \n",
      "                                                                 \n",
      " text_vectorization (TextVec  (None, 15)               0         \n",
      " torization)                                                     \n",
      "                                                                 \n",
      " embedding (Embedding)       (None, 15, 256)           3840000   \n",
      "                                                                 \n",
      " dense_6 (Dense)             (None, 15, 64)            16448     \n",
      "                                                                 \n",
      " dropout_1 (Dropout)         (None, 15, 64)            0         \n",
      "                                                                 \n",
      " dense_7 (Dense)             (None, 15, 32)            2080      \n",
      "                                                                 \n",
      " gru (GRU)                   (None, 15, 64)            18816     \n",
      "                                                                 \n",
      " dropout_2 (Dropout)         (None, 15, 64)            0         \n",
      "                                                                 \n",
      " gru_1 (GRU)                 (None, 32)                9408      \n",
      "                                                                 \n",
      " dense_8 (Dense)             (None, 3)                 99        \n",
      "                                                                 \n",
      "=================================================================\n",
      "Total params: 3,886,851\n",
      "Trainable params: 3,886,851\n",
      "Non-trainable params: 0\n",
      "_________________________________________________________________\n"
     ]
    }
   ],
   "source": [
    "# model summary...\n",
    "model_4.summary()"
   ]
  },
  {
   "cell_type": "code",
   "execution_count": 62,
   "id": "3dc0ad29",
   "metadata": {},
   "outputs": [
    {
     "name": "stdout",
     "output_type": "stream",
     "text": [
      "Epoch 1/10\n"
     ]
    },
    {
     "name": "stderr",
     "output_type": "stream",
     "text": [
      "2022-10-16 21:19:56.815291: I tensorflow/core/grappler/optimizers/custom_graph_optimizer_registry.cc:113] Plugin optimizer for device_type GPU is enabled.\n",
      "2022-10-16 21:19:57.077642: I tensorflow/core/grappler/optimizers/custom_graph_optimizer_registry.cc:113] Plugin optimizer for device_type GPU is enabled.\n",
      "2022-10-16 21:19:57.143906: I tensorflow/core/grappler/optimizers/custom_graph_optimizer_registry.cc:113] Plugin optimizer for device_type GPU is enabled.\n",
      "2022-10-16 21:19:57.230720: I tensorflow/core/grappler/optimizers/custom_graph_optimizer_registry.cc:113] Plugin optimizer for device_type GPU is enabled.\n"
     ]
    },
    {
     "name": "stdout",
     "output_type": "stream",
     "text": [
      "\r",
      "  1/859 [..............................] - ETA: 27:28 - loss: 1.0889 - accuracy: 0.2812"
     ]
    },
    {
     "name": "stderr",
     "output_type": "stream",
     "text": [
      "2022-10-16 21:19:57.336908: I tensorflow/core/grappler/optimizers/custom_graph_optimizer_registry.cc:113] Plugin optimizer for device_type GPU is enabled.\n"
     ]
    },
    {
     "name": "stdout",
     "output_type": "stream",
     "text": [
      "859/859 [==============================] - ETA: 0s - loss: 0.6485 - accuracy: 0.7386"
     ]
    },
    {
     "name": "stderr",
     "output_type": "stream",
     "text": [
      "2022-10-16 21:20:28.983825: I tensorflow/core/grappler/optimizers/custom_graph_optimizer_registry.cc:113] Plugin optimizer for device_type GPU is enabled.\n",
      "2022-10-16 21:20:29.080228: I tensorflow/core/grappler/optimizers/custom_graph_optimizer_registry.cc:113] Plugin optimizer for device_type GPU is enabled.\n",
      "2022-10-16 21:20:29.125296: I tensorflow/core/grappler/optimizers/custom_graph_optimizer_registry.cc:113] Plugin optimizer for device_type GPU is enabled.\n"
     ]
    },
    {
     "name": "stdout",
     "output_type": "stream",
     "text": [
      "859/859 [==============================] - 35s 39ms/step - loss: 0.6485 - accuracy: 0.7386 - val_loss: 0.7848 - val_accuracy: 0.6576\n",
      "Epoch 2/10\n",
      "859/859 [==============================] - 31s 36ms/step - loss: 0.5679 - accuracy: 0.7777 - val_loss: 0.8185 - val_accuracy: 0.6539\n",
      "Epoch 3/10\n",
      "859/859 [==============================] - 36s 41ms/step - loss: 0.6099 - accuracy: 0.7541 - val_loss: 0.9154 - val_accuracy: 0.6013\n",
      "Epoch 4/10\n",
      "859/859 [==============================] - 40s 46ms/step - loss: 0.6662 - accuracy: 0.7243 - val_loss: 0.9025 - val_accuracy: 0.6171\n",
      "Epoch 5/10\n",
      "859/859 [==============================] - 34s 39ms/step - loss: 0.6328 - accuracy: 0.7397 - val_loss: 0.8858 - val_accuracy: 0.6183\n",
      "Epoch 6/10\n",
      "859/859 [==============================] - 34s 39ms/step - loss: 0.5918 - accuracy: 0.7612 - val_loss: 0.8617 - val_accuracy: 0.6350\n",
      "Epoch 7/10\n",
      "859/859 [==============================] - 32s 38ms/step - loss: 0.5619 - accuracy: 0.7794 - val_loss: 0.9014 - val_accuracy: 0.6350\n",
      "Epoch 8/10\n",
      "859/859 [==============================] - 31s 36ms/step - loss: 0.5769 - accuracy: 0.7712 - val_loss: 0.9275 - val_accuracy: 0.6256\n",
      "Epoch 9/10\n",
      "859/859 [==============================] - 32s 37ms/step - loss: 0.5675 - accuracy: 0.7785 - val_loss: 0.9346 - val_accuracy: 0.6211\n",
      "Epoch 10/10\n",
      "859/859 [==============================] - 31s 36ms/step - loss: 0.5559 - accuracy: 0.7838 - val_loss: 0.9165 - val_accuracy: 0.6313\n"
     ]
    }
   ],
   "source": [
    "# fitting the model to data....\n",
    "history_4 = model_4.fit(train_text, train_labels,\n",
    "                       epochs = 10,\n",
    "                       validation_data = (test_text,test_labels),\n",
    "                       validation_split = int(len(test_text) * 0.30))"
   ]
  },
  {
   "cell_type": "code",
   "execution_count": 63,
   "id": "af87f06b",
   "metadata": {},
   "outputs": [
    {
     "name": "stderr",
     "output_type": "stream",
     "text": [
      "2022-10-16 21:25:30.004073: I tensorflow/core/grappler/optimizers/custom_graph_optimizer_registry.cc:113] Plugin optimizer for device_type GPU is enabled.\n",
      "2022-10-16 21:25:30.104444: I tensorflow/core/grappler/optimizers/custom_graph_optimizer_registry.cc:113] Plugin optimizer for device_type GPU is enabled.\n",
      "2022-10-16 21:25:30.158455: I tensorflow/core/grappler/optimizers/custom_graph_optimizer_registry.cc:113] Plugin optimizer for device_type GPU is enabled.\n"
     ]
    },
    {
     "name": "stdout",
     "output_type": "stream",
     "text": [
      "111/111 [==============================] - 1s 9ms/step\n"
     ]
    },
    {
     "data": {
      "text/plain": [
       "{'Accuracy': 0.41850594227504245,\n",
       " 'Precision': 0.55403450159156,\n",
       " 'Recall': 0.7526881720430108,\n",
       " 'F_Score': 0.6357711040047936}"
      ]
     },
     "execution_count": 63,
     "metadata": {},
     "output_type": "execute_result"
    }
   ],
   "source": [
    "# make prediction and calculate results....\n",
    "model_4_results = calculate_results(test_labels, tf.squeeze(tf.round(model_4.predict(test_text))))\n",
    "model_4_results"
   ]
  },
  {
   "cell_type": "code",
   "execution_count": 64,
   "id": "abc99400",
   "metadata": {},
   "outputs": [
    {
     "data": {
      "image/png": "[encoded data removed]",
      "text/plain": [
       "<Figure size 432x288 with 1 Axes>"
      ]
     },
     "metadata": {
      "needs_background": "light"
     },
     "output_type": "display_data"
    },
    {
     "data": {
      "image/png": "[encoded data removed]",
      "text/plain": [
       "<Figure size 432x288 with 1 Axes>"
      ]
     },
     "metadata": {
      "needs_background": "light"
     },
     "output_type": "display_data"
    }
   ],
   "source": [
    "# plot model performance....\n",
    "plot_model_performance(history_4)"
   ]
  },
  {
   "cell_type": "markdown",
   "id": "da9f8578",
   "metadata": {},
   "source": [
    "# Model 5 : BiDirectional "
   ]
  },
  {
   "cell_type": "code",
   "execution_count": 65,
   "id": "c9da50dd",
   "metadata": {},
   "outputs": [],
   "source": [
    "# let's build the BiDirectional Model....\n",
    "\n",
    "# set the random seed\n",
    "tf.random.set_seed(42)\n",
    "\n",
    "# define the input layer.....\n",
    "inputs = layers.Input(shape=(),dtype=\"string\")\n",
    "# pass the input layer to tokenization....\n",
    "x = token(inputs)\n",
    "# pass the token into embedd layer.....\n",
    "x = embedd(x)\n",
    "\n",
    "# adding the Bidirectional layer\n",
    "x = layers.Bidirectional(layers.LSTM(64,return_sequences=True))(x)\n",
    "\n",
    "# Bidirectional layer\n",
    "x = layers.Bidirectional(layers.LSTM(32,))(x)\n",
    "\n",
    "# output layer....\n",
    "output = layers.Dense(3,activation=\"sigmoid\")(x)\n",
    "\n",
    "# model building....\n",
    "model_5 = tf.keras.Model(inputs,output,name=\"LSTM_Model\")\n",
    "\n",
    "# compiling the model...\n",
    "model_5.compile(loss=\"categorical_crossentropy\",\n",
    "               optimizer=\"rmsprop\",\n",
    "               metrics=[\"accuracy\"])"
   ]
  },
  {
   "cell_type": "code",
   "execution_count": 66,
   "id": "4f650cc6",
   "metadata": {},
   "outputs": [
    {
     "name": "stdout",
     "output_type": "stream",
     "text": [
      "Model: \"LSTM_Model\"\n",
      "_________________________________________________________________\n",
      " Layer (type)                Output Shape              Param #   \n",
      "=================================================================\n",
      " input_4 (InputLayer)        [(None,)]                 0         \n",
      "                                                                 \n",
      " text_vectorization (TextVec  (None, 15)               0         \n",
      " torization)                                                     \n",
      "                                                                 \n",
      " embedding (Embedding)       (None, 15, 256)           3840000   \n",
      "                                                                 \n",
      " bidirectional (Bidirectiona  (None, 15, 128)          164352    \n",
      " l)                                                              \n",
      "                                                                 \n",
      " bidirectional_1 (Bidirectio  (None, 64)               41216     \n",
      " nal)                                                            \n",
      "                                                                 \n",
      " dense_9 (Dense)             (None, 3)                 195       \n",
      "                                                                 \n",
      "=================================================================\n",
      "Total params: 4,045,763\n",
      "Trainable params: 4,045,763\n",
      "Non-trainable params: 0\n",
      "_________________________________________________________________\n"
     ]
    }
   ],
   "source": [
    "# model summary....\n",
    "model_5.summary()"
   ]
  },
  {
   "cell_type": "code",
   "execution_count": 67,
   "id": "6775630b",
   "metadata": {},
   "outputs": [
    {
     "name": "stdout",
     "output_type": "stream",
     "text": [
      "Epoch 1/10\n"
     ]
    },
    {
     "name": "stderr",
     "output_type": "stream",
     "text": [
      "2022-10-16 21:25:34.670731: I tensorflow/core/grappler/optimizers/custom_graph_optimizer_registry.cc:113] Plugin optimizer for device_type GPU is enabled.\n",
      "2022-10-16 21:25:35.122383: I tensorflow/core/grappler/optimizers/custom_graph_optimizer_registry.cc:113] Plugin optimizer for device_type GPU is enabled.\n",
      "2022-10-16 21:25:35.132588: I tensorflow/core/grappler/optimizers/custom_graph_optimizer_registry.cc:113] Plugin optimizer for device_type GPU is enabled.\n",
      "2022-10-16 21:25:35.229943: I tensorflow/core/grappler/optimizers/custom_graph_optimizer_registry.cc:113] Plugin optimizer for device_type GPU is enabled.\n",
      "2022-10-16 21:25:35.239985: I tensorflow/core/grappler/optimizers/custom_graph_optimizer_registry.cc:113] Plugin optimizer for device_type GPU is enabled.\n",
      "2022-10-16 21:25:35.388834: I tensorflow/core/grappler/optimizers/custom_graph_optimizer_registry.cc:113] Plugin optimizer for device_type GPU is enabled.\n",
      "2022-10-16 21:25:35.405243: I tensorflow/core/grappler/optimizers/custom_graph_optimizer_registry.cc:113] Plugin optimizer for device_type GPU is enabled.\n",
      "2022-10-16 21:25:35.582587: I tensorflow/core/grappler/optimizers/custom_graph_optimizer_registry.cc:113] Plugin optimizer for device_type GPU is enabled.\n",
      "2022-10-16 21:25:35.608278: I tensorflow/core/grappler/optimizers/custom_graph_optimizer_registry.cc:113] Plugin optimizer for device_type GPU is enabled.\n"
     ]
    },
    {
     "name": "stdout",
     "output_type": "stream",
     "text": [
      "859/859 [==============================] - ETA: 0s - loss: 0.5015 - accuracy: 0.8074"
     ]
    },
    {
     "name": "stderr",
     "output_type": "stream",
     "text": [
      "2022-10-16 21:26:16.567126: I tensorflow/core/grappler/optimizers/custom_graph_optimizer_registry.cc:113] Plugin optimizer for device_type GPU is enabled.\n",
      "2022-10-16 21:26:16.699511: I tensorflow/core/grappler/optimizers/custom_graph_optimizer_registry.cc:113] Plugin optimizer for device_type GPU is enabled.\n",
      "2022-10-16 21:26:16.706794: I tensorflow/core/grappler/optimizers/custom_graph_optimizer_registry.cc:113] Plugin optimizer for device_type GPU is enabled.\n",
      "2022-10-16 21:26:16.798336: I tensorflow/core/grappler/optimizers/custom_graph_optimizer_registry.cc:113] Plugin optimizer for device_type GPU is enabled.\n",
      "2022-10-16 21:26:16.805756: I tensorflow/core/grappler/optimizers/custom_graph_optimizer_registry.cc:113] Plugin optimizer for device_type GPU is enabled.\n"
     ]
    },
    {
     "name": "stdout",
     "output_type": "stream",
     "text": [
      "859/859 [==============================] - 47s 51ms/step - loss: 0.5015 - accuracy: 0.8074 - val_loss: 0.8594 - val_accuracy: 0.6678\n",
      "Epoch 2/10\n",
      "859/859 [==============================] - 41s 48ms/step - loss: 0.4260 - accuracy: 0.8430 - val_loss: 0.8605 - val_accuracy: 0.6604\n",
      "Epoch 3/10\n",
      "859/859 [==============================] - 43s 49ms/step - loss: 0.3925 - accuracy: 0.8555 - val_loss: 0.8989 - val_accuracy: 0.6695\n",
      "Epoch 4/10\n",
      "859/859 [==============================] - 42s 49ms/step - loss: 0.3645 - accuracy: 0.8669 - val_loss: 0.8874 - val_accuracy: 0.6712\n",
      "Epoch 5/10\n",
      "859/859 [==============================] - 41s 48ms/step - loss: 0.3350 - accuracy: 0.8779 - val_loss: 0.9218 - val_accuracy: 0.6754\n",
      "Epoch 6/10\n",
      "859/859 [==============================] - 40s 47ms/step - loss: 0.3040 - accuracy: 0.8883 - val_loss: 0.9869 - val_accuracy: 0.6695\n",
      "Epoch 7/10\n",
      "859/859 [==============================] - 41s 47ms/step - loss: 0.2703 - accuracy: 0.9021 - val_loss: 1.0640 - val_accuracy: 0.6689\n",
      "Epoch 8/10\n",
      "859/859 [==============================] - 40s 47ms/step - loss: 0.2423 - accuracy: 0.9115 - val_loss: 1.0975 - val_accuracy: 0.6661\n",
      "Epoch 9/10\n",
      "859/859 [==============================] - 40s 47ms/step - loss: 0.2088 - accuracy: 0.9259 - val_loss: 1.1117 - val_accuracy: 0.6653\n",
      "Epoch 10/10\n",
      "859/859 [==============================] - 41s 48ms/step - loss: 0.1791 - accuracy: 0.9366 - val_loss: 1.2767 - val_accuracy: 0.6494\n"
     ]
    }
   ],
   "source": [
    "# fitting model to data...\n",
    "history_5 = model_5.fit(train_text, train_labels,\n",
    "                       epochs = 10,\n",
    "                       validation_data = (test_text,test_labels),\n",
    "                       validation_split = int(len(test_text) * 0.30))"
   ]
  },
  {
   "cell_type": "code",
   "execution_count": 68,
   "id": "8c6458fd",
   "metadata": {},
   "outputs": [
    {
     "name": "stderr",
     "output_type": "stream",
     "text": [
      "2022-10-16 21:32:28.650945: I tensorflow/core/grappler/optimizers/custom_graph_optimizer_registry.cc:113] Plugin optimizer for device_type GPU is enabled.\n",
      "2022-10-16 21:32:28.780058: I tensorflow/core/grappler/optimizers/custom_graph_optimizer_registry.cc:113] Plugin optimizer for device_type GPU is enabled.\n",
      "2022-10-16 21:32:28.787193: I tensorflow/core/grappler/optimizers/custom_graph_optimizer_registry.cc:113] Plugin optimizer for device_type GPU is enabled.\n"
     ]
    },
    {
     "name": "stdout",
     "output_type": "stream",
     "text": [
      "  3/111 [..............................] - ETA: 3s  "
     ]
    },
    {
     "name": "stderr",
     "output_type": "stream",
     "text": [
      "2022-10-16 21:32:28.874581: I tensorflow/core/grappler/optimizers/custom_graph_optimizer_registry.cc:113] Plugin optimizer for device_type GPU is enabled.\n",
      "2022-10-16 21:32:28.882028: I tensorflow/core/grappler/optimizers/custom_graph_optimizer_registry.cc:113] Plugin optimizer for device_type GPU is enabled.\n"
     ]
    },
    {
     "name": "stdout",
     "output_type": "stream",
     "text": [
      "111/111 [==============================] - 2s 15ms/step\n"
     ]
    },
    {
     "data": {
      "text/plain": [
       "{'Accuracy': 0.5384833050367855,\n",
       " 'Precision': 0.6003779223370576,\n",
       " 'Recall': 0.732597623089983,\n",
       " 'F_Score': 0.659756510084908}"
      ]
     },
     "execution_count": 68,
     "metadata": {},
     "output_type": "execute_result"
    }
   ],
   "source": [
    "# make predictions and calculate results....\n",
    "model_5_results = calculate_results(test_labels,tf.squeeze(tf.round(model_5.predict(test_text))))\n",
    "model_5_results"
   ]
  },
  {
   "cell_type": "code",
   "execution_count": 69,
   "id": "0314b5b1",
   "metadata": {},
   "outputs": [
    {
     "data": {
      "image/png": "[encoded data removed]",
      "text/plain": [
       "<Figure size 432x288 with 1 Axes>"
      ]
     },
     "metadata": {
      "needs_background": "light"
     },
     "output_type": "display_data"
    },
    {
     "data": {
      "image/png": "[encoded data removed]",
      "text/plain": [
       "<Figure size 432x288 with 1 Axes>"
      ]
     },
     "metadata": {
      "needs_background": "light"
     },
     "output_type": "display_data"
    }
   ],
   "source": [
    "# plot model performance....\n",
    "plot_model_performance(history_5)"
   ]
  },
  {
   "cell_type": "markdown",
   "id": "299c3499",
   "metadata": {},
   "source": [
    "# Model 6 : Conv1D"
   ]
  },
  {
   "cell_type": "code",
   "execution_count": 92,
   "id": "0af3f73c",
   "metadata": {},
   "outputs": [],
   "source": [
    "# as our previous models are overfitting to data....\n",
    "# let's build another model Conv1D\n",
    "\n",
    "# set the random seed\n",
    "tf.random.set_seed(42)\n",
    "\n",
    "# define the input layer.....\n",
    "inputs = layers.Input(shape=(),dtype=\"string\")\n",
    "# pass the input layer to tokenization....\n",
    "x = token(inputs)\n",
    "# pass the token into embedd layer.....\n",
    "x = embedd(x)\n",
    "\n",
    "# adding the Conv1D layer...\n",
    "x = layers.Conv1D(filters = 32, kernel_size = 5, activation = \"relu\")(x)\n",
    "\n",
    "# adding the MaxPool1D layer....\n",
    "x = layers.GlobalMaxPool1D()(x)\n",
    "\n",
    "# output layer....\n",
    "output = layers.Dense(3,activation=\"Softmax\")(x)\n",
    "\n",
    "# model building....\n",
    "model_6 = tf.keras.Model(inputs,output,name=\"Conv1D_Model\")\n",
    "\n",
    "# compiling the model...\n",
    "model_6.compile(loss=\"categorical_crossentropy\",\n",
    "               optimizer=\"rmsprop\",\n",
    "               metrics=[\"accuracy\"])"
   ]
  },
  {
   "cell_type": "code",
   "execution_count": 93,
   "id": "527b5f85",
   "metadata": {},
   "outputs": [
    {
     "name": "stdout",
     "output_type": "stream",
     "text": [
      "Model: \"Conv1D_Model\"\n",
      "_________________________________________________________________\n",
      " Layer (type)                Output Shape              Param #   \n",
      "=================================================================\n",
      " input_12 (InputLayer)       [(None,)]                 0         \n",
      "                                                                 \n",
      " text_vectorization (TextVec  (None, 15)               0         \n",
      " torization)                                                     \n",
      "                                                                 \n",
      " embedding (Embedding)       (None, 15, 256)           3840000   \n",
      "                                                                 \n",
      " conv1d_7 (Conv1D)           (None, 11, 32)            40992     \n",
      "                                                                 \n",
      " global_max_pooling1d_7 (Glo  (None, 32)               0         \n",
      " balMaxPooling1D)                                                \n",
      "                                                                 \n",
      " dense_17 (Dense)            (None, 3)                 99        \n",
      "                                                                 \n",
      "=================================================================\n",
      "Total params: 3,881,091\n",
      "Trainable params: 3,881,091\n",
      "Non-trainable params: 0\n",
      "_________________________________________________________________\n"
     ]
    }
   ],
   "source": [
    "# model summary...\n",
    "model_6.summary()"
   ]
  },
  {
   "cell_type": "code",
   "execution_count": 94,
   "id": "71c2cc19",
   "metadata": {},
   "outputs": [
    {
     "name": "stdout",
     "output_type": "stream",
     "text": [
      "Epoch 1/10\n"
     ]
    },
    {
     "name": "stderr",
     "output_type": "stream",
     "text": [
      "2022-10-16 22:14:48.720644: I tensorflow/core/grappler/optimizers/custom_graph_optimizer_registry.cc:113] Plugin optimizer for device_type GPU is enabled.\n"
     ]
    },
    {
     "name": "stdout",
     "output_type": "stream",
     "text": [
      "859/859 [==============================] - ETA: 0s - loss: 0.1495 - accuracy: 0.9598"
     ]
    },
    {
     "name": "stderr",
     "output_type": "stream",
     "text": [
      "2022-10-16 22:15:08.462914: I tensorflow/core/grappler/optimizers/custom_graph_optimizer_registry.cc:113] Plugin optimizer for device_type GPU is enabled.\n"
     ]
    },
    {
     "name": "stdout",
     "output_type": "stream",
     "text": [
      "859/859 [==============================] - 21s 24ms/step - loss: 0.1495 - accuracy: 0.9598 - val_loss: 1.2115 - val_accuracy: 0.6457\n",
      "Epoch 2/10\n",
      "859/859 [==============================] - 18s 22ms/step - loss: 0.0385 - accuracy: 0.9906 - val_loss: 1.5895 - val_accuracy: 0.6109\n",
      "Epoch 3/10\n",
      "859/859 [==============================] - 18s 21ms/step - loss: 0.0247 - accuracy: 0.9937 - val_loss: 1.7862 - val_accuracy: 0.6324\n",
      "Epoch 4/10\n",
      "859/859 [==============================] - 18s 21ms/step - loss: 0.0197 - accuracy: 0.9951 - val_loss: 1.9401 - val_accuracy: 0.6350\n",
      "Epoch 5/10\n",
      "859/859 [==============================] - 18s 21ms/step - loss: 0.0153 - accuracy: 0.9962 - val_loss: 2.1161 - val_accuracy: 0.6358\n",
      "Epoch 6/10\n",
      "859/859 [==============================] - 18s 21ms/step - loss: 0.0148 - accuracy: 0.9963 - val_loss: 2.2305 - val_accuracy: 0.6290\n",
      "Epoch 7/10\n",
      "859/859 [==============================] - 18s 21ms/step - loss: 0.0128 - accuracy: 0.9968 - val_loss: 2.4506 - val_accuracy: 0.6251\n",
      "Epoch 8/10\n",
      "859/859 [==============================] - 18s 21ms/step - loss: 0.0127 - accuracy: 0.9972 - val_loss: 2.4704 - val_accuracy: 0.6443\n",
      "Epoch 9/10\n",
      "859/859 [==============================] - 18s 21ms/step - loss: 0.0129 - accuracy: 0.9971 - val_loss: 2.6964 - val_accuracy: 0.6248\n",
      "Epoch 10/10\n",
      "859/859 [==============================] - 18s 21ms/step - loss: 0.0110 - accuracy: 0.9978 - val_loss: 2.7352 - val_accuracy: 0.6205\n"
     ]
    }
   ],
   "source": [
    "# fitting the model to data....\n",
    "history_6 = model_6.fit(train_text,train_labels,\n",
    "                       epochs = 10,\n",
    "                       validation_data = (test_text,test_labels),\n",
    "                       validation_split = int(len(test_text) * 0.20))"
   ]
  },
  {
   "cell_type": "code",
   "execution_count": 95,
   "id": "1bd43650",
   "metadata": {},
   "outputs": [
    {
     "name": "stdout",
     "output_type": "stream",
     "text": [
      " 72/111 [==================>...........] - ETA: 0s"
     ]
    },
    {
     "name": "stderr",
     "output_type": "stream",
     "text": [
      "2022-10-16 22:19:24.614545: I tensorflow/core/grappler/optimizers/custom_graph_optimizer_registry.cc:113] Plugin optimizer for device_type GPU is enabled.\n"
     ]
    },
    {
     "name": "stdout",
     "output_type": "stream",
     "text": [
      "111/111 [==============================] - 0s 2ms/step\n"
     ]
    },
    {
     "data": {
      "text/plain": [
       "{'Accuracy': 0.6179966044142614,\n",
       " 'Precision': 0.6256026322855465,\n",
       " 'Recall': 0.6179966044142614,\n",
       " 'F_Score': 0.621050823861122}"
      ]
     },
     "execution_count": 95,
     "metadata": {},
     "output_type": "execute_result"
    }
   ],
   "source": [
    "# make predictions and calculate results....\n",
    "model_6_results = calculate_results(test_labels,tf.squeeze(tf.round(model_6.predict(test_text))))\n",
    "model_6_results"
   ]
  },
  {
   "cell_type": "code",
   "execution_count": 96,
   "id": "1dc30d10",
   "metadata": {},
   "outputs": [
    {
     "data": {
      "image/png": "[encoded data removed]",
      "text/plain": [
       "<Figure size 432x288 with 1 Axes>"
      ]
     },
     "metadata": {
      "needs_background": "light"
     },
     "output_type": "display_data"
    },
    {
     "data": {
      "image/png": "[encoded data removed]",
      "text/plain": [
       "<Figure size 432x288 with 1 Axes>"
      ]
     },
     "metadata": {
      "needs_background": "light"
     },
     "output_type": "display_data"
    }
   ],
   "source": [
    "# plot the model performance....\n",
    "plot_model_performance(history_6)"
   ]
  },
  {
   "cell_type": "code",
   "execution_count": 97,
   "id": "c4d26900",
   "metadata": {},
   "outputs": [],
   "source": [
    "# Almost all our previous models overfitts the data. So let's try another approach."
   ]
  },
  {
   "cell_type": "markdown",
   "id": "fe8e4f1e",
   "metadata": {},
   "source": [
    "# Model 7 : Pretrained Embeddings Transfer Learning"
   ]
  },
  {
   "cell_type": "code",
   "execution_count": null,
   "id": "3439cdff",
   "metadata": {},
   "outputs": [],
   "source": [
    "# we'll build the transfer learning model by using Universal Sentence Encoder Embedding Layer...\n",
    "\n",
    "# setup the random seed\n",
    "tf.random.se"
   ]
  }
 ],
 "metadata": {
  "kernelspec": {
   "display_name": "Python 3 (ipykernel)",
   "language": "python",
   "name": "python3"
  },
  "language_info": {
   "codemirror_mode": {
    "name": "ipython",
    "version": 3
   },
   "file_extension": ".py",
   "mimetype": "text/x-python",
   "name": "python",
   "nbconvert_exporter": "python",
   "pygments_lexer": "ipython3",
   "version": "3.8.13"
  }
 },
 "nbformat": 4,
 "nbformat_minor": 5
}
