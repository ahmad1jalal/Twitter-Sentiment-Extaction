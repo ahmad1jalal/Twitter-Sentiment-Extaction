{
 "cells": [
  {
   "cell_type": "markdown",
   "id": "8c3fa27a",
   "metadata": {},
   "source": [
    "# importing libraries...."
   ]
  },
  {
   "cell_type": "code",
   "execution_count": 89,
   "id": "bc55e243",
   "metadata": {},
   "outputs": [],
   "source": [
    "import pandas  as pd\n",
    "import numpy as np\n",
    "import matplotlib.pyplot as plt\n",
    "import seaborn as sns\n",
    "from nltk.corpus import stopwords\n",
    "from collections import Counter\n",
    "import re\n",
    "import tensorflow as tf\n",
    "from tensorflow.keras.layers import TextVectorization, Embedding\n",
    "import warnings\n",
    "import random"
   ]
  },
  {
   "cell_type": "code",
   "execution_count": 86,
   "id": "ee5e73e4",
   "metadata": {},
   "outputs": [],
   "source": [
    "# filter warnings...\n",
    "warnings.filterwarnings(\"ignore\")"
   ]
  },
  {
   "cell_type": "markdown",
   "id": "be875eee",
   "metadata": {},
   "source": [
    "# EDA"
   ]
  },
  {
   "cell_type": "code",
   "execution_count": 2,
   "id": "5047c17e",
   "metadata": {},
   "outputs": [
    {
     "data": {
      "text/html": [
       "<div>\n",
       "<style scoped>\n",
       "    .dataframe tbody tr th:only-of-type {\n",
       "        vertical-align: middle;\n",
       "    }\n",
       "\n",
       "    .dataframe tbody tr th {\n",
       "        vertical-align: top;\n",
       "    }\n",
       "\n",
       "    .dataframe thead th {\n",
       "        text-align: right;\n",
       "    }\n",
       "</style>\n",
       "<table border=\"1\" class=\"dataframe\">\n",
       "  <thead>\n",
       "    <tr style=\"text-align: right;\">\n",
       "      <th></th>\n",
       "      <th>textID</th>\n",
       "      <th>text</th>\n",
       "      <th>selected_text</th>\n",
       "      <th>sentiment</th>\n",
       "    </tr>\n",
       "  </thead>\n",
       "  <tbody>\n",
       "    <tr>\n",
       "      <th>0</th>\n",
       "      <td>cb774db0d1</td>\n",
       "      <td>I`d have responded, if I were going</td>\n",
       "      <td>I`d have responded, if I were going</td>\n",
       "      <td>neutral</td>\n",
       "    </tr>\n",
       "    <tr>\n",
       "      <th>1</th>\n",
       "      <td>549e992a42</td>\n",
       "      <td>Sooo SAD I will miss you here in San Diego!!!</td>\n",
       "      <td>Sooo SAD</td>\n",
       "      <td>negative</td>\n",
       "    </tr>\n",
       "    <tr>\n",
       "      <th>2</th>\n",
       "      <td>088c60f138</td>\n",
       "      <td>my boss is bullying me...</td>\n",
       "      <td>bullying me</td>\n",
       "      <td>negative</td>\n",
       "    </tr>\n",
       "    <tr>\n",
       "      <th>3</th>\n",
       "      <td>9642c003ef</td>\n",
       "      <td>what interview! leave me alone</td>\n",
       "      <td>leave me alone</td>\n",
       "      <td>negative</td>\n",
       "    </tr>\n",
       "    <tr>\n",
       "      <th>4</th>\n",
       "      <td>358bd9e861</td>\n",
       "      <td>Sons of ****, why couldn`t they put them on t...</td>\n",
       "      <td>Sons of ****,</td>\n",
       "      <td>negative</td>\n",
       "    </tr>\n",
       "  </tbody>\n",
       "</table>\n",
       "</div>"
      ],
      "text/plain": [
       "       textID                                               text  \\\n",
       "0  cb774db0d1                I`d have responded, if I were going   \n",
       "1  549e992a42      Sooo SAD I will miss you here in San Diego!!!   \n",
       "2  088c60f138                          my boss is bullying me...   \n",
       "3  9642c003ef                     what interview! leave me alone   \n",
       "4  358bd9e861   Sons of ****, why couldn`t they put them on t...   \n",
       "\n",
       "                         selected_text sentiment  \n",
       "0  I`d have responded, if I were going   neutral  \n",
       "1                             Sooo SAD  negative  \n",
       "2                          bullying me  negative  \n",
       "3                       leave me alone  negative  \n",
       "4                        Sons of ****,  negative  "
      ]
     },
     "execution_count": 2,
     "metadata": {},
     "output_type": "execute_result"
    }
   ],
   "source": [
    "# getting the data\n",
    "train = pd.read_csv(\"tweet-sentiment-extraction/train.csv\")\n",
    "test = pd.read_csv(\"tweet-sentiment-extraction/test.csv\")\n",
    "sub = pd.read_csv(\"tweet-sentiment-extraction/sample_submission.csv\")\n",
    "# train data head....\n",
    "train.head()"
   ]
  },
  {
   "cell_type": "code",
   "execution_count": 3,
   "id": "32a0b224",
   "metadata": {},
   "outputs": [
    {
     "data": {
      "text/html": [
       "<div>\n",
       "<style scoped>\n",
       "    .dataframe tbody tr th:only-of-type {\n",
       "        vertical-align: middle;\n",
       "    }\n",
       "\n",
       "    .dataframe tbody tr th {\n",
       "        vertical-align: top;\n",
       "    }\n",
       "\n",
       "    .dataframe thead th {\n",
       "        text-align: right;\n",
       "    }\n",
       "</style>\n",
       "<table border=\"1\" class=\"dataframe\">\n",
       "  <thead>\n",
       "    <tr style=\"text-align: right;\">\n",
       "      <th></th>\n",
       "      <th>textID</th>\n",
       "      <th>text</th>\n",
       "      <th>sentiment</th>\n",
       "    </tr>\n",
       "  </thead>\n",
       "  <tbody>\n",
       "    <tr>\n",
       "      <th>0</th>\n",
       "      <td>f87dea47db</td>\n",
       "      <td>Last session of the day  http://twitpic.com/67ezh</td>\n",
       "      <td>neutral</td>\n",
       "    </tr>\n",
       "    <tr>\n",
       "      <th>1</th>\n",
       "      <td>96d74cb729</td>\n",
       "      <td>Shanghai is also really exciting (precisely -...</td>\n",
       "      <td>positive</td>\n",
       "    </tr>\n",
       "    <tr>\n",
       "      <th>2</th>\n",
       "      <td>eee518ae67</td>\n",
       "      <td>Recession hit Veronique Branquinho, she has to...</td>\n",
       "      <td>negative</td>\n",
       "    </tr>\n",
       "    <tr>\n",
       "      <th>3</th>\n",
       "      <td>01082688c6</td>\n",
       "      <td>happy bday!</td>\n",
       "      <td>positive</td>\n",
       "    </tr>\n",
       "    <tr>\n",
       "      <th>4</th>\n",
       "      <td>33987a8ee5</td>\n",
       "      <td>http://twitpic.com/4w75p - I like it!!</td>\n",
       "      <td>positive</td>\n",
       "    </tr>\n",
       "  </tbody>\n",
       "</table>\n",
       "</div>"
      ],
      "text/plain": [
       "       textID                                               text sentiment\n",
       "0  f87dea47db  Last session of the day  http://twitpic.com/67ezh   neutral\n",
       "1  96d74cb729   Shanghai is also really exciting (precisely -...  positive\n",
       "2  eee518ae67  Recession hit Veronique Branquinho, she has to...  negative\n",
       "3  01082688c6                                        happy bday!  positive\n",
       "4  33987a8ee5             http://twitpic.com/4w75p - I like it!!  positive"
      ]
     },
     "execution_count": 3,
     "metadata": {},
     "output_type": "execute_result"
    }
   ],
   "source": [
    "# test data head....\n",
    "test.head()"
   ]
  },
  {
   "cell_type": "code",
   "execution_count": 4,
   "id": "987c62c2",
   "metadata": {},
   "outputs": [
    {
     "data": {
      "text/html": [
       "<div>\n",
       "<style scoped>\n",
       "    .dataframe tbody tr th:only-of-type {\n",
       "        vertical-align: middle;\n",
       "    }\n",
       "\n",
       "    .dataframe tbody tr th {\n",
       "        vertical-align: top;\n",
       "    }\n",
       "\n",
       "    .dataframe thead th {\n",
       "        text-align: right;\n",
       "    }\n",
       "</style>\n",
       "<table border=\"1\" class=\"dataframe\">\n",
       "  <thead>\n",
       "    <tr style=\"text-align: right;\">\n",
       "      <th></th>\n",
       "      <th>textID</th>\n",
       "      <th>selected_text</th>\n",
       "    </tr>\n",
       "  </thead>\n",
       "  <tbody>\n",
       "    <tr>\n",
       "      <th>0</th>\n",
       "      <td>f87dea47db</td>\n",
       "      <td>NaN</td>\n",
       "    </tr>\n",
       "    <tr>\n",
       "      <th>1</th>\n",
       "      <td>96d74cb729</td>\n",
       "      <td>NaN</td>\n",
       "    </tr>\n",
       "    <tr>\n",
       "      <th>2</th>\n",
       "      <td>eee518ae67</td>\n",
       "      <td>NaN</td>\n",
       "    </tr>\n",
       "    <tr>\n",
       "      <th>3</th>\n",
       "      <td>01082688c6</td>\n",
       "      <td>NaN</td>\n",
       "    </tr>\n",
       "    <tr>\n",
       "      <th>4</th>\n",
       "      <td>33987a8ee5</td>\n",
       "      <td>NaN</td>\n",
       "    </tr>\n",
       "  </tbody>\n",
       "</table>\n",
       "</div>"
      ],
      "text/plain": [
       "       textID  selected_text\n",
       "0  f87dea47db            NaN\n",
       "1  96d74cb729            NaN\n",
       "2  eee518ae67            NaN\n",
       "3  01082688c6            NaN\n",
       "4  33987a8ee5            NaN"
      ]
     },
     "execution_count": 4,
     "metadata": {},
     "output_type": "execute_result"
    }
   ],
   "source": [
    "# submissive data...\n",
    "sub.head()"
   ]
  },
  {
   "cell_type": "code",
   "execution_count": 5,
   "id": "8b922c64",
   "metadata": {},
   "outputs": [
    {
     "data": {
      "text/plain": [
       "(27481, 4)"
      ]
     },
     "execution_count": 5,
     "metadata": {},
     "output_type": "execute_result"
    }
   ],
   "source": [
    "# train data shape\n",
    "train.shape"
   ]
  },
  {
   "cell_type": "code",
   "execution_count": 6,
   "id": "8c613c34",
   "metadata": {},
   "outputs": [
    {
     "name": "stdout",
     "output_type": "stream",
     "text": [
      "<class 'pandas.core.frame.DataFrame'>\n",
      "RangeIndex: 27481 entries, 0 to 27480\n",
      "Data columns (total 4 columns):\n",
      " #   Column         Non-Null Count  Dtype \n",
      "---  ------         --------------  ----- \n",
      " 0   textID         27481 non-null  object\n",
      " 1   text           27480 non-null  object\n",
      " 2   selected_text  27480 non-null  object\n",
      " 3   sentiment      27481 non-null  object\n",
      "dtypes: object(4)\n",
      "memory usage: 858.9+ KB\n"
     ]
    }
   ],
   "source": [
    "# data info....\n",
    "train.info()"
   ]
  },
  {
   "cell_type": "code",
   "execution_count": 7,
   "id": "04463151",
   "metadata": {},
   "outputs": [
    {
     "data": {
      "text/plain": [
       "textID           0\n",
       "text             1\n",
       "selected_text    1\n",
       "sentiment        0\n",
       "dtype: int64"
      ]
     },
     "execution_count": 7,
     "metadata": {},
     "output_type": "execute_result"
    }
   ],
   "source": [
    "# looking for null values...\n",
    "train.isna().sum()"
   ]
  },
  {
   "cell_type": "code",
   "execution_count": 8,
   "id": "f0e4ce44",
   "metadata": {},
   "outputs": [],
   "source": [
    "# as there is onyl single null value in training set, so it's better to drop it...\n",
    "train.dropna(inplace=True)"
   ]
  },
  {
   "cell_type": "code",
   "execution_count": 9,
   "id": "0b406f63",
   "metadata": {},
   "outputs": [
    {
     "data": {
      "text/plain": [
       "textID       0\n",
       "text         0\n",
       "sentiment    0\n",
       "dtype: int64"
      ]
     },
     "execution_count": 9,
     "metadata": {},
     "output_type": "execute_result"
    }
   ],
   "source": [
    "# looking for null value in test set..\n",
    "test.isna().sum()"
   ]
  },
  {
   "cell_type": "code",
   "execution_count": 10,
   "id": "11d5297a",
   "metadata": {},
   "outputs": [
    {
     "data": {
      "text/plain": [
       "neutral     11117\n",
       "positive     8582\n",
       "negative     7781\n",
       "Name: sentiment, dtype: int64"
      ]
     },
     "execution_count": 10,
     "metadata": {},
     "output_type": "execute_result"
    }
   ],
   "source": [
    "# target label distribution....\n",
    "sentiment = train[\"sentiment\"].value_counts()\n",
    "sentiment"
   ]
  },
  {
   "cell_type": "code",
   "execution_count": 11,
   "id": "6c7336d3",
   "metadata": {},
   "outputs": [],
   "source": [
    "# setting the plot style...\n",
    "plt.style.use(\"ggplot\")"
   ]
  },
  {
   "cell_type": "code",
   "execution_count": 12,
   "id": "f24f9b8f",
   "metadata": {},
   "outputs": [
    {
     "data": {
      "image/png": "[encoded data removed]",
      "text/plain": [
       "<Figure size 720x576 with 1 Axes>"
      ]
     },
     "metadata": {},
     "output_type": "display_data"
    }
   ],
   "source": [
    "# plot the sentiment distribution...\n",
    "plt.figure(figsize=(10,8))\n",
    "labels = sentiment.index\n",
    "colors = sns.color_palette(\"Set2\")\n",
    "explode = [0.1,0,0.3]\n",
    "plt.pie(sentiment,labels = labels, colors = colors, explode = explode,\n",
    "       autopct = \"%.2f%%\", startangle = 90, shadow = True)\n",
    "plt.legend(title = \"Sentiment : \")\n",
    "plt.show()"
   ]
  },
  {
   "cell_type": "code",
   "execution_count": 13,
   "id": "1fc83533",
   "metadata": {},
   "outputs": [
    {
     "data": {
      "text/plain": [
       "neutral     1430\n",
       "positive    1103\n",
       "negative    1001\n",
       "Name: sentiment, dtype: int64"
      ]
     },
     "execution_count": 13,
     "metadata": {},
     "output_type": "execute_result"
    }
   ],
   "source": [
    "# test data target label distribution\n",
    "test_sentiment = test.sentiment.value_counts()\n",
    "test_sentiment"
   ]
  },
  {
   "cell_type": "code",
   "execution_count": 14,
   "id": "3f573e12",
   "metadata": {},
   "outputs": [
    {
     "data": {
      "image/png": "[encoded data removed]",
      "text/plain": [
       "<Figure size 720x576 with 1 Axes>"
      ]
     },
     "metadata": {},
     "output_type": "display_data"
    }
   ],
   "source": [
    "# plot the sentiment distribution...\n",
    "plt.figure(figsize=(10,8))\n",
    "labels = test_sentiment.index\n",
    "colors = sns.color_palette(\"Set2\")\n",
    "explode = [0.1,0,0.3]\n",
    "plt.pie(test_sentiment,labels = labels, colors = colors, explode = explode,\n",
    "       autopct = \"%.2f%%\", startangle = 90, shadow = True)\n",
    "plt.legend(title = \"Test_Sentiment : \")\n",
    "plt.show()"
   ]
  },
  {
   "cell_type": "code",
   "execution_count": 15,
   "id": "c363ff91",
   "metadata": {},
   "outputs": [],
   "source": [
    "# changing the data-type...\n",
    "train[\"text\"] =  train[\"text\"].astype(\"string\")"
   ]
  },
  {
   "cell_type": "code",
   "execution_count": 16,
   "id": "3d6d7cfd",
   "metadata": {},
   "outputs": [
    {
     "data": {
      "text/html": [
       "<div>\n",
       "<style scoped>\n",
       "    .dataframe tbody tr th:only-of-type {\n",
       "        vertical-align: middle;\n",
       "    }\n",
       "\n",
       "    .dataframe tbody tr th {\n",
       "        vertical-align: top;\n",
       "    }\n",
       "\n",
       "    .dataframe thead th {\n",
       "        text-align: right;\n",
       "    }\n",
       "</style>\n",
       "<table border=\"1\" class=\"dataframe\">\n",
       "  <thead>\n",
       "    <tr style=\"text-align: right;\">\n",
       "      <th></th>\n",
       "      <th>textID</th>\n",
       "      <th>text</th>\n",
       "      <th>selected_text</th>\n",
       "      <th>sentiment</th>\n",
       "      <th>length</th>\n",
       "    </tr>\n",
       "  </thead>\n",
       "  <tbody>\n",
       "    <tr>\n",
       "      <th>0</th>\n",
       "      <td>cb774db0d1</td>\n",
       "      <td>I`d have responded, if I were going</td>\n",
       "      <td>I`d have responded, if I were going</td>\n",
       "      <td>neutral</td>\n",
       "      <td>7</td>\n",
       "    </tr>\n",
       "    <tr>\n",
       "      <th>1</th>\n",
       "      <td>549e992a42</td>\n",
       "      <td>Sooo SAD I will miss you here in San Diego!!!</td>\n",
       "      <td>Sooo SAD</td>\n",
       "      <td>negative</td>\n",
       "      <td>10</td>\n",
       "    </tr>\n",
       "    <tr>\n",
       "      <th>2</th>\n",
       "      <td>088c60f138</td>\n",
       "      <td>my boss is bullying me...</td>\n",
       "      <td>bullying me</td>\n",
       "      <td>negative</td>\n",
       "      <td>5</td>\n",
       "    </tr>\n",
       "    <tr>\n",
       "      <th>3</th>\n",
       "      <td>9642c003ef</td>\n",
       "      <td>what interview! leave me alone</td>\n",
       "      <td>leave me alone</td>\n",
       "      <td>negative</td>\n",
       "      <td>5</td>\n",
       "    </tr>\n",
       "    <tr>\n",
       "      <th>4</th>\n",
       "      <td>358bd9e861</td>\n",
       "      <td>Sons of ****, why couldn`t they put them on t...</td>\n",
       "      <td>Sons of ****,</td>\n",
       "      <td>negative</td>\n",
       "      <td>14</td>\n",
       "    </tr>\n",
       "  </tbody>\n",
       "</table>\n",
       "</div>"
      ],
      "text/plain": [
       "       textID                                               text  \\\n",
       "0  cb774db0d1                I`d have responded, if I were going   \n",
       "1  549e992a42      Sooo SAD I will miss you here in San Diego!!!   \n",
       "2  088c60f138                          my boss is bullying me...   \n",
       "3  9642c003ef                     what interview! leave me alone   \n",
       "4  358bd9e861   Sons of ****, why couldn`t they put them on t...   \n",
       "\n",
       "                         selected_text sentiment  length  \n",
       "0  I`d have responded, if I were going   neutral       7  \n",
       "1                             Sooo SAD  negative      10  \n",
       "2                          bullying me  negative       5  \n",
       "3                       leave me alone  negative       5  \n",
       "4                        Sons of ****,  negative      14  "
      ]
     },
     "execution_count": 16,
     "metadata": {},
     "output_type": "execute_result"
    }
   ],
   "source": [
    "# checking the length of the selected text...\n",
    "train[\"length\"] = train[\"text\"].apply(lambda x: len(x.split()))\n",
    "train.head()"
   ]
  },
  {
   "cell_type": "code",
   "execution_count": 17,
   "id": "8386c316",
   "metadata": {},
   "outputs": [
    {
     "data": {
      "text/html": [
       "<div>\n",
       "<style scoped>\n",
       "    .dataframe tbody tr th:only-of-type {\n",
       "        vertical-align: middle;\n",
       "    }\n",
       "\n",
       "    .dataframe tbody tr th {\n",
       "        vertical-align: top;\n",
       "    }\n",
       "\n",
       "    .dataframe thead th {\n",
       "        text-align: right;\n",
       "    }\n",
       "</style>\n",
       "<table border=\"1\" class=\"dataframe\">\n",
       "  <thead>\n",
       "    <tr style=\"text-align: right;\">\n",
       "      <th></th>\n",
       "      <th>textID</th>\n",
       "      <th>text</th>\n",
       "      <th>sentiment</th>\n",
       "      <th>length</th>\n",
       "    </tr>\n",
       "  </thead>\n",
       "  <tbody>\n",
       "    <tr>\n",
       "      <th>0</th>\n",
       "      <td>f87dea47db</td>\n",
       "      <td>Last session of the day  http://twitpic.com/67ezh</td>\n",
       "      <td>neutral</td>\n",
       "      <td>6</td>\n",
       "    </tr>\n",
       "    <tr>\n",
       "      <th>1</th>\n",
       "      <td>96d74cb729</td>\n",
       "      <td>Shanghai is also really exciting (precisely -...</td>\n",
       "      <td>positive</td>\n",
       "      <td>15</td>\n",
       "    </tr>\n",
       "    <tr>\n",
       "      <th>2</th>\n",
       "      <td>eee518ae67</td>\n",
       "      <td>Recession hit Veronique Branquinho, she has to...</td>\n",
       "      <td>negative</td>\n",
       "      <td>13</td>\n",
       "    </tr>\n",
       "    <tr>\n",
       "      <th>3</th>\n",
       "      <td>01082688c6</td>\n",
       "      <td>happy bday!</td>\n",
       "      <td>positive</td>\n",
       "      <td>2</td>\n",
       "    </tr>\n",
       "    <tr>\n",
       "      <th>4</th>\n",
       "      <td>33987a8ee5</td>\n",
       "      <td>http://twitpic.com/4w75p - I like it!!</td>\n",
       "      <td>positive</td>\n",
       "      <td>5</td>\n",
       "    </tr>\n",
       "    <tr>\n",
       "      <th>...</th>\n",
       "      <td>...</td>\n",
       "      <td>...</td>\n",
       "      <td>...</td>\n",
       "      <td>...</td>\n",
       "    </tr>\n",
       "    <tr>\n",
       "      <th>3529</th>\n",
       "      <td>e5f0e6ef4b</td>\n",
       "      <td>its at 3 am, im very tired but i can`t sleep  ...</td>\n",
       "      <td>negative</td>\n",
       "      <td>15</td>\n",
       "    </tr>\n",
       "    <tr>\n",
       "      <th>3530</th>\n",
       "      <td>416863ce47</td>\n",
       "      <td>All alone in this old house again.  Thanks for...</td>\n",
       "      <td>positive</td>\n",
       "      <td>26</td>\n",
       "    </tr>\n",
       "    <tr>\n",
       "      <th>3531</th>\n",
       "      <td>6332da480c</td>\n",
       "      <td>I know what you mean. My little dog is sinkin...</td>\n",
       "      <td>negative</td>\n",
       "      <td>18</td>\n",
       "    </tr>\n",
       "    <tr>\n",
       "      <th>3532</th>\n",
       "      <td>df1baec676</td>\n",
       "      <td>_sutra what is your next youtube video gonna b...</td>\n",
       "      <td>positive</td>\n",
       "      <td>14</td>\n",
       "    </tr>\n",
       "    <tr>\n",
       "      <th>3533</th>\n",
       "      <td>469e15c5a8</td>\n",
       "      <td>http://twitpic.com/4woj2 - omgssh  ang cute n...</td>\n",
       "      <td>positive</td>\n",
       "      <td>7</td>\n",
       "    </tr>\n",
       "  </tbody>\n",
       "</table>\n",
       "<p>3534 rows × 4 columns</p>\n",
       "</div>"
      ],
      "text/plain": [
       "          textID                                               text sentiment  \\\n",
       "0     f87dea47db  Last session of the day  http://twitpic.com/67ezh   neutral   \n",
       "1     96d74cb729   Shanghai is also really exciting (precisely -...  positive   \n",
       "2     eee518ae67  Recession hit Veronique Branquinho, she has to...  negative   \n",
       "3     01082688c6                                        happy bday!  positive   \n",
       "4     33987a8ee5             http://twitpic.com/4w75p - I like it!!  positive   \n",
       "...          ...                                                ...       ...   \n",
       "3529  e5f0e6ef4b  its at 3 am, im very tired but i can`t sleep  ...  negative   \n",
       "3530  416863ce47  All alone in this old house again.  Thanks for...  positive   \n",
       "3531  6332da480c   I know what you mean. My little dog is sinkin...  negative   \n",
       "3532  df1baec676  _sutra what is your next youtube video gonna b...  positive   \n",
       "3533  469e15c5a8   http://twitpic.com/4woj2 - omgssh  ang cute n...  positive   \n",
       "\n",
       "      length  \n",
       "0          6  \n",
       "1         15  \n",
       "2         13  \n",
       "3          2  \n",
       "4          5  \n",
       "...      ...  \n",
       "3529      15  \n",
       "3530      26  \n",
       "3531      18  \n",
       "3532      14  \n",
       "3533       7  \n",
       "\n",
       "[3534 rows x 4 columns]"
      ]
     },
     "execution_count": 17,
     "metadata": {},
     "output_type": "execute_result"
    }
   ],
   "source": [
    "# checking the length of test text data\n",
    "test[\"length\"] = test[\"text\"].apply(lambda x: len(x.split()))\n",
    "test"
   ]
  },
  {
   "cell_type": "code",
   "execution_count": 18,
   "id": "716b59cd",
   "metadata": {},
   "outputs": [
    {
     "name": "stdout",
     "output_type": "stream",
     "text": [
      "Max length of tweet text in training set : 33\n",
      "Min lenght of tweet text in training set. : 1\n",
      "Max length of tweet text in test set : 32\n",
      "Min lenght of tweet text in test set. : 1\n"
     ]
    }
   ],
   "source": [
    "print(f\"Max length of tweet text in training set : {train['length'].max()}\")\n",
    "print(f\"Min lenght of tweet text in training set. : {train['length'].min()}\")\n",
    "print(f\"Max length of tweet text in test set : {test['length'].max()}\")\n",
    "print(f\"Min lenght of tweet text in test set. : {test['length'].min()}\")"
   ]
  },
  {
   "cell_type": "code",
   "execution_count": 19,
   "id": "1c28b0b1",
   "metadata": {},
   "outputs": [
    {
     "name": "stdout",
     "output_type": "stream",
     "text": [
      "Shortest tweets in training set : \n",
      "           textID           text selected_text sentiment  length\n",
      "42     2e7082d1c8       MAYDAY?!      MAYDAY?!   neutral       1\n",
      "68     fa2654e730       Chilliin      Chilliin  positive       1\n",
      "127    8e1583cb08     Absolutely    Absolutely   neutral       1\n",
      "224    f3a77c2b5e       _nesmith      _nesmith   neutral       1\n",
      "238    e98226e842            Thx           Thx   neutral       1\n",
      "...           ...            ...           ...       ...     ...\n",
      "26690  e80c242d6a     Goodnight;    Goodnight;  positive       1\n",
      "26693  7dc13f50d8   yessssssir!!  yessssssir!!   neutral       1\n",
      "26726  aad244f37d          *hug*         *hug*  positive       1\n",
      "26754  b6f6bd82c0       careless      careless  negative       1\n",
      "26843  a46571fe12      congrats!     congrats!  positive       1\n",
      "\n",
      "[199 rows x 5 columns]\n"
     ]
    }
   ],
   "source": [
    "print(f\"Shortest tweets in training set : \\n{train[train['length']==min(train['length'])]}\")"
   ]
  },
  {
   "cell_type": "code",
   "execution_count": 20,
   "id": "5369276d",
   "metadata": {},
   "outputs": [
    {
     "name": "stdout",
     "output_type": "stream",
     "text": [
      "longest tweets in training set : \n",
      "           textID                                               text  \\\n",
      "19887  ede80b9f63  AK, flop comes 2K6 I bet 15 get raised to 25 I...   \n",
      "25359  be445111e7  : Lol it went okay! As far as I can tell . But...   \n",
      "\n",
      "                                           selected_text sentiment  length  \n",
      "19887  AK, flop comes 2K6 I bet 15 get raised to 25 I...   neutral      33  \n",
      "25359                               Lol it went okay! As  positive      33  \n"
     ]
    }
   ],
   "source": [
    "print(f\"longest tweets in training set : \\n{train[train['length']==max(train['length'])]}\")"
   ]
  },
  {
   "cell_type": "code",
   "execution_count": 21,
   "id": "c6b44f70",
   "metadata": {},
   "outputs": [
    {
     "data": {
      "text/plain": [
       "<Figure size 720x576 with 0 Axes>"
      ]
     },
     "metadata": {},
     "output_type": "display_data"
    },
    {
     "data": {
      "image/png": "[encoded data removed]",
      "text/plain": [
       "<Figure size 1879.75x360 with 1 Axes>"
      ]
     },
     "metadata": {
      "needs_background": "light"
     },
     "output_type": "display_data"
    }
   ],
   "source": [
    "# plot the length of tweet text across the sentiment....\n",
    "plt.figure(figsize=(10,8))\n",
    "sns.displot(data = train, x = \"length\", hue = \"sentiment\",\n",
    "           kind = \"kde\", fill = True, aspect = 5, palette = \"viridis\");"
   ]
  },
  {
   "cell_type": "code",
   "execution_count": 22,
   "id": "f18e2154",
   "metadata": {},
   "outputs": [
    {
     "data": {
      "text/plain": [
       "<Figure size 720x576 with 0 Axes>"
      ]
     },
     "metadata": {},
     "output_type": "display_data"
    },
    {
     "data": {
      "image/png": "[encoded data removed]",
      "text/plain": [
       "<Figure size 1879.75x360 with 1 Axes>"
      ]
     },
     "metadata": {
      "needs_background": "light"
     },
     "output_type": "display_data"
    }
   ],
   "source": [
    "# plot the length of test tweet text across the sentiment....\n",
    "plt.figure(figsize=(10,8))\n",
    "sns.displot(data = test, x = \"length\", hue = \"sentiment\",\n",
    "           kind = \"kde\", fill = True, aspect = 5, palette = \"viridis\");"
   ]
  },
  {
   "cell_type": "code",
   "execution_count": 23,
   "id": "29d42307",
   "metadata": {},
   "outputs": [],
   "source": [
    "# let's drop the selected_text column \n",
    "train.drop(\"selected_text\",axis=1,inplace=True)"
   ]
  },
  {
   "cell_type": "code",
   "execution_count": 24,
   "id": "eab24e17",
   "metadata": {},
   "outputs": [
    {
     "data": {
      "text/html": [
       "<div>\n",
       "<style scoped>\n",
       "    .dataframe tbody tr th:only-of-type {\n",
       "        vertical-align: middle;\n",
       "    }\n",
       "\n",
       "    .dataframe tbody tr th {\n",
       "        vertical-align: top;\n",
       "    }\n",
       "\n",
       "    .dataframe thead th {\n",
       "        text-align: right;\n",
       "    }\n",
       "</style>\n",
       "<table border=\"1\" class=\"dataframe\">\n",
       "  <thead>\n",
       "    <tr style=\"text-align: right;\">\n",
       "      <th></th>\n",
       "      <th>textID</th>\n",
       "      <th>text</th>\n",
       "      <th>sentiment</th>\n",
       "      <th>length</th>\n",
       "    </tr>\n",
       "  </thead>\n",
       "  <tbody>\n",
       "    <tr>\n",
       "      <th>0</th>\n",
       "      <td>cb774db0d1</td>\n",
       "      <td>I`d have responded, if I were going</td>\n",
       "      <td>neutral</td>\n",
       "      <td>7</td>\n",
       "    </tr>\n",
       "    <tr>\n",
       "      <th>1</th>\n",
       "      <td>549e992a42</td>\n",
       "      <td>Sooo SAD I will miss you here in San Diego!!!</td>\n",
       "      <td>negative</td>\n",
       "      <td>10</td>\n",
       "    </tr>\n",
       "    <tr>\n",
       "      <th>2</th>\n",
       "      <td>088c60f138</td>\n",
       "      <td>my boss is bullying me...</td>\n",
       "      <td>negative</td>\n",
       "      <td>5</td>\n",
       "    </tr>\n",
       "    <tr>\n",
       "      <th>3</th>\n",
       "      <td>9642c003ef</td>\n",
       "      <td>what interview! leave me alone</td>\n",
       "      <td>negative</td>\n",
       "      <td>5</td>\n",
       "    </tr>\n",
       "    <tr>\n",
       "      <th>4</th>\n",
       "      <td>358bd9e861</td>\n",
       "      <td>Sons of ****, why couldn`t they put them on t...</td>\n",
       "      <td>negative</td>\n",
       "      <td>14</td>\n",
       "    </tr>\n",
       "    <tr>\n",
       "      <th>5</th>\n",
       "      <td>28b57f3990</td>\n",
       "      <td>http://www.dothebouncy.com/smf - some shameles...</td>\n",
       "      <td>neutral</td>\n",
       "      <td>12</td>\n",
       "    </tr>\n",
       "    <tr>\n",
       "      <th>6</th>\n",
       "      <td>6e0c6d75b1</td>\n",
       "      <td>2am feedings for the baby are fun when he is a...</td>\n",
       "      <td>positive</td>\n",
       "      <td>14</td>\n",
       "    </tr>\n",
       "    <tr>\n",
       "      <th>7</th>\n",
       "      <td>50e14c0bb8</td>\n",
       "      <td>Soooo high</td>\n",
       "      <td>neutral</td>\n",
       "      <td>2</td>\n",
       "    </tr>\n",
       "    <tr>\n",
       "      <th>8</th>\n",
       "      <td>e050245fbd</td>\n",
       "      <td>Both of you</td>\n",
       "      <td>neutral</td>\n",
       "      <td>3</td>\n",
       "    </tr>\n",
       "    <tr>\n",
       "      <th>9</th>\n",
       "      <td>fc2cbefa9d</td>\n",
       "      <td>Journey!? Wow... u just became cooler.  hehe....</td>\n",
       "      <td>positive</td>\n",
       "      <td>10</td>\n",
       "    </tr>\n",
       "  </tbody>\n",
       "</table>\n",
       "</div>"
      ],
      "text/plain": [
       "       textID                                               text sentiment  \\\n",
       "0  cb774db0d1                I`d have responded, if I were going   neutral   \n",
       "1  549e992a42      Sooo SAD I will miss you here in San Diego!!!  negative   \n",
       "2  088c60f138                          my boss is bullying me...  negative   \n",
       "3  9642c003ef                     what interview! leave me alone  negative   \n",
       "4  358bd9e861   Sons of ****, why couldn`t they put them on t...  negative   \n",
       "5  28b57f3990  http://www.dothebouncy.com/smf - some shameles...   neutral   \n",
       "6  6e0c6d75b1  2am feedings for the baby are fun when he is a...  positive   \n",
       "7  50e14c0bb8                                         Soooo high   neutral   \n",
       "8  e050245fbd                                        Both of you   neutral   \n",
       "9  fc2cbefa9d   Journey!? Wow... u just became cooler.  hehe....  positive   \n",
       "\n",
       "   length  \n",
       "0       7  \n",
       "1      10  \n",
       "2       5  \n",
       "3       5  \n",
       "4      14  \n",
       "5      12  \n",
       "6      14  \n",
       "7       2  \n",
       "8       3  \n",
       "9      10  "
      ]
     },
     "execution_count": 24,
     "metadata": {},
     "output_type": "execute_result"
    }
   ],
   "source": [
    "train.head(10)"
   ]
  },
  {
   "cell_type": "code",
   "execution_count": 25,
   "id": "b07fb2d0",
   "metadata": {},
   "outputs": [
    {
     "data": {
      "image/png": "[encoded data removed]",
      "text/plain": [
       "<Figure size 720x1008 with 4 Axes>"
      ]
     },
     "metadata": {
      "needs_background": "light"
     },
     "output_type": "display_data"
    }
   ],
   "source": [
    "# plotting the number of characters in tweet per sentiment...\n",
    "\n",
    "# positive tweet lenth\n",
    "len_positive = train[train['sentiment']==\"positive\"]['text'].str.len()\n",
    "\n",
    "# negative tweet length\n",
    "len_negative = train[train[\"sentiment\"]==\"negative\"][\"text\"].str.len()\n",
    "\n",
    "# neutral tweet length\n",
    "len_neutral = train[train[\"sentiment\"]==\"neutral\"][\"text\"].str.len()\n",
    "\n",
    "fig,ax = plt.subplots(2,2,figsize=(10,14))\n",
    "\n",
    "# plotting positive tweet\n",
    "ax[0,0].hist(len_positive)\n",
    "ax[0,0].set_title(\"Positive_Tweets\")\n",
    "\n",
    "# plotting negative tweet\n",
    "ax[0,1].hist(len_negative)\n",
    "ax[0,1].set_title(\"Negative_Tweets\")\n",
    "\n",
    "# plotting positive tweet\n",
    "ax[1,0].hist(len_neutral)\n",
    "ax[1,0].set_title(\"Neutral_Tweets\")\n",
    "\n",
    "# plotting the overall length of tweets...\n",
    "ax[1,1].hist(train[\"length\"])\n",
    "ax[1,1].set_title(\"Legnth_Tweet\");"
   ]
  },
  {
   "cell_type": "code",
   "execution_count": 37,
   "id": "788f2382",
   "metadata": {},
   "outputs": [],
   "source": [
    "# now it's time to clean text, so let's make a function for it...\n",
    "def clean_text(text):\n",
    "    \n",
    "    # convert text into lower\n",
    "    text = str(text).lower()\n",
    "    \n",
    "    #     remove urls\n",
    "    text = re.sub(r\"https:\\S+\",\" \",text)\n",
    "    \n",
    "    #     remove punctuation\n",
    "    text = re.sub(r\"[^\\w\\s]\",\"\",text)\n",
    "    \n",
    "    #     remove mentions\n",
    "    text = re.sub(r'@\\w+', \" \", text)\n",
    "    \n",
    "    #     remove hashtags\n",
    "    text = re.sub(\"#\\w+\",\" \", text)\n",
    "    \n",
    "    #     remove digits\n",
    "    text = re.sub(r\"\\d+\",\" \", text)\n",
    "    \n",
    "    #     remove HTML tags\n",
    "    text = re.sub(r\"<.*?>\", \" \", text)\n",
    "        \n",
    "    return text \n"
   ]
  },
  {
   "cell_type": "code",
   "execution_count": 38,
   "id": "49eff217",
   "metadata": {},
   "outputs": [
    {
     "data": {
      "text/html": [
       "<div>\n",
       "<style scoped>\n",
       "    .dataframe tbody tr th:only-of-type {\n",
       "        vertical-align: middle;\n",
       "    }\n",
       "\n",
       "    .dataframe tbody tr th {\n",
       "        vertical-align: top;\n",
       "    }\n",
       "\n",
       "    .dataframe thead th {\n",
       "        text-align: right;\n",
       "    }\n",
       "</style>\n",
       "<table border=\"1\" class=\"dataframe\">\n",
       "  <thead>\n",
       "    <tr style=\"text-align: right;\">\n",
       "      <th></th>\n",
       "      <th>textID</th>\n",
       "      <th>text</th>\n",
       "      <th>sentiment</th>\n",
       "      <th>length</th>\n",
       "      <th>clean_text</th>\n",
       "    </tr>\n",
       "  </thead>\n",
       "  <tbody>\n",
       "    <tr>\n",
       "      <th>9915</th>\n",
       "      <td>233197e487</td>\n",
       "      <td>Is now crying  Omg I am fed up with this pain !!!</td>\n",
       "      <td>negative</td>\n",
       "      <td>12</td>\n",
       "      <td>is now crying  omg i am fed up with this pain</td>\n",
       "    </tr>\n",
       "    <tr>\n",
       "      <th>55</th>\n",
       "      <td>e77fd45003</td>\n",
       "      <td>I`d rather do the early run..but I am a morni...</td>\n",
       "      <td>neutral</td>\n",
       "      <td>11</td>\n",
       "      <td>id rather do the early runbut i am a morning ...</td>\n",
       "    </tr>\n",
       "    <tr>\n",
       "      <th>22533</th>\n",
       "      <td>7cf8a555d9</td>\n",
       "      <td>happppppyyyy mothersdayyyyyyyyy  mummy you are...</td>\n",
       "      <td>positive</td>\n",
       "      <td>7</td>\n",
       "      <td>happppppyyyy mothersdayyyyyyyyy  mummy you are...</td>\n",
       "    </tr>\n",
       "    <tr>\n",
       "      <th>22881</th>\n",
       "      <td>4e88d602cc</td>\n",
       "      <td>not having your lights on concerns me! Lol! S...</td>\n",
       "      <td>neutral</td>\n",
       "      <td>10</td>\n",
       "      <td>not having your lights on concerns me lol sta...</td>\n",
       "    </tr>\n",
       "    <tr>\n",
       "      <th>7991</th>\n",
       "      <td>e1d16cfff4</td>\n",
       "      <td>My Dad told me music that has the power to he...</td>\n",
       "      <td>positive</td>\n",
       "      <td>18</td>\n",
       "      <td>my dad told me music that has the power to he...</td>\n",
       "    </tr>\n",
       "    <tr>\n",
       "      <th>2730</th>\n",
       "      <td>14121b5602</td>\n",
       "      <td>I am very bummed that there are no babydoll or...</td>\n",
       "      <td>neutral</td>\n",
       "      <td>24</td>\n",
       "      <td>i am very bummed that there are no babydoll or...</td>\n",
       "    </tr>\n",
       "    <tr>\n",
       "      <th>6159</th>\n",
       "      <td>9e05410237</td>\n",
       "      <td>Stayin over at dustins tonight... my car hates...</td>\n",
       "      <td>negative</td>\n",
       "      <td>9</td>\n",
       "      <td>stayin over at dustins tonight my car hates me</td>\n",
       "    </tr>\n",
       "    <tr>\n",
       "      <th>5474</th>\n",
       "      <td>13f981fa30</td>\n",
       "      <td>ohhh beautiful place. You on hols? Go steady ...</td>\n",
       "      <td>positive</td>\n",
       "      <td>11</td>\n",
       "      <td>ohhh beautiful place you on hols go steady on...</td>\n",
       "    </tr>\n",
       "    <tr>\n",
       "      <th>12522</th>\n",
       "      <td>f3a526931d</td>\n",
       "      <td>Saying goodbye to a good trusted friend today....</td>\n",
       "      <td>positive</td>\n",
       "      <td>21</td>\n",
       "      <td>saying goodbye to a good trusted friend today ...</td>\n",
       "    </tr>\n",
       "    <tr>\n",
       "      <th>18933</th>\n",
       "      <td>c829b69a74</td>\n",
       "      <td>needs shows before wednesay!!! oh well... come...</td>\n",
       "      <td>positive</td>\n",
       "      <td>22</td>\n",
       "      <td>needs shows before wednesay oh well come one c...</td>\n",
       "    </tr>\n",
       "  </tbody>\n",
       "</table>\n",
       "</div>"
      ],
      "text/plain": [
       "           textID                                               text  \\\n",
       "9915   233197e487  Is now crying  Omg I am fed up with this pain !!!   \n",
       "55     e77fd45003   I`d rather do the early run..but I am a morni...   \n",
       "22533  7cf8a555d9  happppppyyyy mothersdayyyyyyyyy  mummy you are...   \n",
       "22881  4e88d602cc   not having your lights on concerns me! Lol! S...   \n",
       "7991   e1d16cfff4   My Dad told me music that has the power to he...   \n",
       "2730   14121b5602  I am very bummed that there are no babydoll or...   \n",
       "6159   9e05410237  Stayin over at dustins tonight... my car hates...   \n",
       "5474   13f981fa30   ohhh beautiful place. You on hols? Go steady ...   \n",
       "12522  f3a526931d  Saying goodbye to a good trusted friend today....   \n",
       "18933  c829b69a74  needs shows before wednesay!!! oh well... come...   \n",
       "\n",
       "      sentiment  length                                         clean_text  \n",
       "9915   negative      12     is now crying  omg i am fed up with this pain   \n",
       "55      neutral      11   id rather do the early runbut i am a morning ...  \n",
       "22533  positive       7  happppppyyyy mothersdayyyyyyyyy  mummy you are...  \n",
       "22881   neutral      10   not having your lights on concerns me lol sta...  \n",
       "7991   positive      18   my dad told me music that has the power to he...  \n",
       "2730    neutral      24  i am very bummed that there are no babydoll or...  \n",
       "6159   negative       9     stayin over at dustins tonight my car hates me  \n",
       "5474   positive      11   ohhh beautiful place you on hols go steady on...  \n",
       "12522  positive      21  saying goodbye to a good trusted friend today ...  \n",
       "18933  positive      22  needs shows before wednesay oh well come one c...  "
      ]
     },
     "execution_count": 38,
     "metadata": {},
     "output_type": "execute_result"
    }
   ],
   "source": [
    "# apply the function to train df\n",
    "train[\"clean_text\"] = train[\"text\"].apply(lambda x : clean_text(x))\n",
    "\n",
    "train.sample(10)"
   ]
  },
  {
   "cell_type": "code",
   "execution_count": 39,
   "id": "09f4f923",
   "metadata": {},
   "outputs": [
    {
     "data": {
      "text/html": [
       "<div>\n",
       "<style scoped>\n",
       "    .dataframe tbody tr th:only-of-type {\n",
       "        vertical-align: middle;\n",
       "    }\n",
       "\n",
       "    .dataframe tbody tr th {\n",
       "        vertical-align: top;\n",
       "    }\n",
       "\n",
       "    .dataframe thead th {\n",
       "        text-align: right;\n",
       "    }\n",
       "</style>\n",
       "<table border=\"1\" class=\"dataframe\">\n",
       "  <thead>\n",
       "    <tr style=\"text-align: right;\">\n",
       "      <th></th>\n",
       "      <th>textID</th>\n",
       "      <th>text</th>\n",
       "      <th>sentiment</th>\n",
       "      <th>length</th>\n",
       "      <th>clean_text</th>\n",
       "    </tr>\n",
       "  </thead>\n",
       "  <tbody>\n",
       "    <tr>\n",
       "      <th>246</th>\n",
       "      <td>b9ec075666</td>\n",
       "      <td>bought three books!! yipee!!  now who`s with m...</td>\n",
       "      <td>neutral</td>\n",
       "      <td>12</td>\n",
       "      <td>bought three books yipee  now whos with me on ...</td>\n",
       "    </tr>\n",
       "    <tr>\n",
       "      <th>1328</th>\n",
       "      <td>07ae045cbe</td>\n",
       "      <td>that was delicious! lets have a walk sometime...</td>\n",
       "      <td>neutral</td>\n",
       "      <td>18</td>\n",
       "      <td>that was delicious lets have a walk sometimes...</td>\n",
       "    </tr>\n",
       "    <tr>\n",
       "      <th>1905</th>\n",
       "      <td>4e38efebc2</td>\n",
       "      <td>eating my roommate`s cereal. sorry bro</td>\n",
       "      <td>negative</td>\n",
       "      <td>6</td>\n",
       "      <td>eating my roommates cereal sorry bro</td>\n",
       "    </tr>\n",
       "    <tr>\n",
       "      <th>2399</th>\n",
       "      <td>9630a8a60e</td>\n",
       "      <td>need some Pizza...can`t get out of office</td>\n",
       "      <td>neutral</td>\n",
       "      <td>7</td>\n",
       "      <td>need some pizzacant get out of office</td>\n",
       "    </tr>\n",
       "    <tr>\n",
       "      <th>2328</th>\n",
       "      <td>8e48929733</td>\n",
       "      <td>ipod died today</td>\n",
       "      <td>negative</td>\n",
       "      <td>3</td>\n",
       "      <td>ipod died today</td>\n",
       "    </tr>\n",
       "    <tr>\n",
       "      <th>3449</th>\n",
       "      <td>73fd2537e6</td>\n",
       "      <td>_g1986 a price drop would be nice  I want anot...</td>\n",
       "      <td>positive</td>\n",
       "      <td>15</td>\n",
       "      <td>_g  a price drop would be nice  i want another...</td>\n",
       "    </tr>\n",
       "    <tr>\n",
       "      <th>713</th>\n",
       "      <td>d7607b8133</td>\n",
       "      <td>i wear a lot of white  http://tinyurl.com/dlbltg</td>\n",
       "      <td>negative</td>\n",
       "      <td>7</td>\n",
       "      <td>i wear a lot of white  httptinyurlcomdlbltg</td>\n",
       "    </tr>\n",
       "    <tr>\n",
       "      <th>687</th>\n",
       "      <td>52fd9f56fb</td>\n",
       "      <td>is off to work ... still 'recovering' from an ...</td>\n",
       "      <td>positive</td>\n",
       "      <td>21</td>\n",
       "      <td>is off to work  still recovering from an amazi...</td>\n",
       "    </tr>\n",
       "    <tr>\n",
       "      <th>985</th>\n",
       "      <td>2418966865</td>\n",
       "      <td>I won`t be getting any ROTF toys `till MUCH l...</td>\n",
       "      <td>neutral</td>\n",
       "      <td>17</td>\n",
       "      <td>i wont be getting any rotf toys till much lat...</td>\n",
       "    </tr>\n",
       "    <tr>\n",
       "      <th>3078</th>\n",
       "      <td>051025ff7f</td>\n",
       "      <td>you should not be wasting the may bank holida...</td>\n",
       "      <td>negative</td>\n",
       "      <td>24</td>\n",
       "      <td>you should not be wasting the may bank holida...</td>\n",
       "    </tr>\n",
       "  </tbody>\n",
       "</table>\n",
       "</div>"
      ],
      "text/plain": [
       "          textID                                               text sentiment  \\\n",
       "246   b9ec075666  bought three books!! yipee!!  now who`s with m...   neutral   \n",
       "1328  07ae045cbe   that was delicious! lets have a walk sometime...   neutral   \n",
       "1905  4e38efebc2             eating my roommate`s cereal. sorry bro  negative   \n",
       "2399  9630a8a60e          need some Pizza...can`t get out of office   neutral   \n",
       "2328  8e48929733                                    ipod died today  negative   \n",
       "3449  73fd2537e6  _g1986 a price drop would be nice  I want anot...  positive   \n",
       "713   d7607b8133   i wear a lot of white  http://tinyurl.com/dlbltg  negative   \n",
       "687   52fd9f56fb  is off to work ... still 'recovering' from an ...  positive   \n",
       "985   2418966865   I won`t be getting any ROTF toys `till MUCH l...   neutral   \n",
       "3078  051025ff7f   you should not be wasting the may bank holida...  negative   \n",
       "\n",
       "      length                                         clean_text  \n",
       "246       12  bought three books yipee  now whos with me on ...  \n",
       "1328      18   that was delicious lets have a walk sometimes...  \n",
       "1905       6               eating my roommates cereal sorry bro  \n",
       "2399       7              need some pizzacant get out of office  \n",
       "2328       3                                    ipod died today  \n",
       "3449      15  _g  a price drop would be nice  i want another...  \n",
       "713        7        i wear a lot of white  httptinyurlcomdlbltg  \n",
       "687       21  is off to work  still recovering from an amazi...  \n",
       "985       17   i wont be getting any rotf toys till much lat...  \n",
       "3078      24   you should not be wasting the may bank holida...  "
      ]
     },
     "execution_count": 39,
     "metadata": {},
     "output_type": "execute_result"
    }
   ],
   "source": [
    "# apply it to test data as well\n",
    "test[\"clean_text\"] = test[\"text\"].apply(lambda x : clean_text(x))\n",
    "\n",
    "test.sample(10)"
   ]
  },
  {
   "cell_type": "code",
   "execution_count": 61,
   "id": "bdc75440",
   "metadata": {},
   "outputs": [],
   "source": [
    "# setting stopwords\n",
    "stop=set(stopwords.words('english'))"
   ]
  },
  {
   "cell_type": "code",
   "execution_count": 76,
   "id": "df815da2",
   "metadata": {},
   "outputs": [
    {
     "data": {
      "text/plain": [
       "Text(0.5, 0.98, 'Common words in tweet text')"
      ]
     },
     "execution_count": 76,
     "metadata": {},
     "output_type": "execute_result"
    },
    {
     "data": {
      "image/png": "[encoded data removed]",
      "text/plain": [
       "<Figure size 1800x1080 with 3 Axes>"
      ]
     },
     "metadata": {
      "needs_background": "light"
     },
     "output_type": "display_data"
    }
   ],
   "source": [
    "# let's find out the most common words in the text.....\n",
    "sentiments = train[\"sentiment\"].unique()\n",
    "\n",
    "# setup the figure\n",
    "fig,ax = plt.subplots(1,3, figsize=(25,15))\n",
    "colors = [\"lightblue\",\"red\",\"green\",]\n",
    "for i in range(3):\n",
    "    new = train[train[\"sentiment\"]==sentiments[i]][\"clean_text\"]\n",
    "    counter = Counter(new)\n",
    "    most_common = counter.most_common()\n",
    "    if (word not in stop):\n",
    "        x = []\n",
    "        y = []\n",
    "    \n",
    "    for word,count in most_common[:15]:\n",
    "        x.append(word)\n",
    "        y.append(count)\n",
    "        \n",
    "    sns.barplot(x=y,y=x,ax=ax[i], color = colors[i])\n",
    "    ax[i].set_title(sentiments[i])\n",
    "fig.suptitle(\"Common words in tweet text\")"
   ]
  },
  {
   "cell_type": "code",
   "execution_count": 77,
   "id": "9f8d5195",
   "metadata": {},
   "outputs": [],
   "source": [
    "# pick the main columns....\n",
    "train_text = train[\"clean_text\"]\n",
    "train_labels = train[\"sentiment\"]\n",
    "\n",
    "test_text = test[\"clean_text\"]\n",
    "test_labels = test[\"sentiment\"]"
   ]
  },
  {
   "cell_type": "markdown",
   "id": "3c8daae3",
   "metadata": {},
   "source": [
    "# Tokenization : \n",
    "    As we clean our text let's split the data and convert each split into integer through tokenization because our deep learning models works only with the numbers....\n",
    "\n"
   ]
  },
  {
   "cell_type": "code",
   "execution_count": 80,
   "id": "9c029ffa",
   "metadata": {},
   "outputs": [
    {
     "data": {
      "text/plain": [
       "13"
      ]
     },
     "execution_count": 80,
     "metadata": {},
     "output_type": "execute_result"
    }
   ],
   "source": [
    "# find the average length of sentence...\n",
    "round(np.mean(train[\"length\"]))"
   ]
  },
  {
   "cell_type": "code",
   "execution_count": 87,
   "id": "25ff2f40",
   "metadata": {},
   "outputs": [
    {
     "name": "stderr",
     "output_type": "stream",
     "text": [
      "2022-10-12 23:07:11.026363: I tensorflow/core/grappler/optimizers/custom_graph_optimizer_registry.cc:113] Plugin optimizer for device_type GPU is enabled.\n"
     ]
    }
   ],
   "source": [
    "# setup the vocabulary length...\n",
    "max_token = 15000\n",
    "max_len = 15\n",
    "\n",
    "\n",
    "token = TextVectorization(max_tokens = max_token,\n",
    "                         standardize = \"lower_and_strip_punctuation\",\n",
    "                         output_mode = \"int\",\n",
    "                         output_sequence_length = max_len,\n",
    "                         split = \"whitespace\")\n",
    "\n",
    "# adapt to text\n",
    "token.adapt(train_text)"
   ]
  },
  {
   "cell_type": "code",
   "execution_count": 88,
   "id": "cc76be52",
   "metadata": {},
   "outputs": [
    {
     "name": "stdout",
     "output_type": "stream",
     "text": [
      "Total words in the Vocabulary : 15000\n",
      "Top five words in the Vocabulary : ['', '[UNK]', 'i', 'to', 'the']\n",
      "Bottom five words in the Vocabulary : ['rightards', 'rigby', 'rig', 'rieger', 'ridin']\n"
     ]
    }
   ],
   "source": [
    "# get some text information....\n",
    "vocab = token.get_vocabulary()\n",
    "print(f\"Total words in the Vocabulary : {len(vocab)}\")\n",
    "print(f\"Top five words in the Vocabulary : {vocab[:5]}\")\n",
    "print(f\"Bottom five words in the Vocabulary : {vocab[-5:]}\")"
   ]
  },
  {
   "cell_type": "code",
   "execution_count": 104,
   "id": "f0f558bc",
   "metadata": {},
   "outputs": [
    {
     "name": "stdout",
     "output_type": "stream",
     "text": [
      "Original Text :  went to wingstop without me\n",
      "\n",
      "Tokenize Sentence : [[ 220    3 7012  370   16    0    0    0    0    0    0    0    0    0\n",
      "     0]]\n"
     ]
    }
   ],
   "source": [
    "# let's tokenize some sentence....\n",
    "random_index = np.random.randint(0,len(train_text))\n",
    "random_sentence = train_text[random_index]\n",
    "\n",
    "print(f\"Original Text : {random_sentence}\\n\")\n",
    "print(f\"Tokenize Sentence : {token([random_sentence])}\")"
   ]
  },
  {
   "cell_type": "markdown",
   "id": "ab431cbc",
   "metadata": {},
   "source": [
    "# Embedding\n",
    "   \n",
    "  A word embedding is a class of approaches for representing words and documents using a dense vector representation. Word embeddings give us a way to use an efficient, dense representation in which similar words have a similar encoding. Importantly, you do not have to specify this encoding by hand. An embedding is a dense vector of floating point values (the length of the vector is a parameter you specify). Instead of specifying the values for the embedding manually, they are trainable parameters (weights learned by the model during training, in the same way a model learns weights for a dense layer). It is common to see word embeddings that are 8-dimensional (for small datasets), up to 1024-dimensions when working with large datasets. A higher dimensional embedding can capture fine-grained relationships between words, but takes more data to learn"
   ]
  },
  {
   "cell_type": "code",
   "execution_count": 107,
   "id": "0b31e3c3",
   "metadata": {},
   "outputs": [],
   "source": [
    "embedd = Embedding(input_dim = max_token,\n",
    "                  output_dim = 256,\n",
    "                   input_length = max_len,\n",
    "                   embeddings_initializer = \"uniform\",\n",
    "                  )"
   ]
  },
  {
   "cell_type": "code",
   "execution_count": null,
   "id": "19d630e1",
   "metadata": {},
   "outputs": [],
   "source": []
  }
 ],
 "metadata": {
  "kernelspec": {
   "display_name": "Python 3 (ipykernel)",
   "language": "python",
   "name": "python3"
  },
  "language_info": {
   "codemirror_mode": {
    "name": "ipython",
    "version": 3
   },
   "file_extension": ".py",
   "mimetype": "text/x-python",
   "name": "python",
   "nbconvert_exporter": "python",
   "pygments_lexer": "ipython3",
   "version": "3.8.13"
  }
 },
 "nbformat": 4,
 "nbformat_minor": 5
}
